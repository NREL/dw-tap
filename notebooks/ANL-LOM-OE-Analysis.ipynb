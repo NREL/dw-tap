{
 "cells": [
  {
   "cell_type": "markdown",
   "id": "18816282-6b89-4505-a851-421dce75d408",
   "metadata": {},
   "source": [
    "## ANL LOM Analysis with One Energy Data\n",
    "Naming convention is as follows: \n",
    "1) What lab does the model come from? \n",
    "2) Model type\n",
    "3) Data Source/Site Type (One Energy (OE) or Bergey (B)\n",
    "\n",
    "In this notebook, we assess performance of the ANL LOM using the One Energy sites, currently just Marion, OH. We use the following approaches: \n",
    "1) Using timeseries data we use the provided industry power curve to convert ANL LOM windspeed to power and compare directly to the measured turbine power. \n",
    "2) Using timeseries data, we use an inverted power curve to convert the turbine power to windspeed and compare against the ANL LOM windspeed. \n",
    "3) Finally, we use a 12x24 sectorized windpseed \"cube\" to estimate the annual energy production at the site and compare that to the actual energy production. \n"
   ]
  },
  {
   "cell_type": "code",
   "execution_count": 1,
   "id": "1e6d9c1e-6434-44ad-8ce9-abab6c156fa7",
   "metadata": {},
   "outputs": [],
   "source": [
    "#Needed imports for pipeline analysis\n",
    "import numpy as np\n",
    "import pandas as pd\n",
    "import time\n",
    "import h5pyd\n",
    "import geopandas as gpd\n",
    "from dw_tap.lom import run_lom"
   ]
  },
  {
   "cell_type": "code",
   "execution_count": 3,
   "id": "f46a672a-251f-4a63-9c74-4e36d38892ba",
   "metadata": {},
   "outputs": [],
   "source": [
    "#Functions needed for Goldwind871500-specific analysis (power curve)\n",
    "def estimate_power_output(df, temp, pres, ws_column=\"ws-adjusted\"): \n",
    "    \"\"\"\n",
    "    Inputs: dataframe, temperature series and pressure series\n",
    "    Outputs: total kw predicted over time period, instances with wind speed above possible generation, instances with wind speed below possible generation, lists of wind speeds above and below those marks\n",
    "    \"\"\"\n",
    "    df_copy = df.copy()\n",
    "    \n",
    "    air_density = (pres) / (287.05 * temp)\n",
    "    df_copy[ws_column] = (df_copy[ws_column] * ((air_density/1.225)**(1/3)))\n",
    "    kw = Goldwind871500.windspeed_to_kw(df_copy, ws_column)\n",
    "    above_curve_counter = Goldwind871500.above_curve_counter\n",
    "    below_curve_counter = Goldwind871500.below_curve_counter\n",
    "    above_curve_list = Goldwind871500.above_curve_list\n",
    "    below_curve_list = Goldwind871500.below_curve_list\n",
    "    return kw, above_curve_counter, below_curve_counter, above_curve_list, below_curve_list\n",
    "\n",
    "class Goldwind871500(object):\n",
    "    \n",
    "    # Load data and minimal preprocessing\n",
    "    raw_data = pd.read_excel(\"../powercurves/Goldwind871500.xlsx\")\n",
    "    raw_data.rename(columns={\"Wind Speed (m/s)\": \"ws\", \"Turbine Output\": \"kw\"}, inplace=True)\n",
    "    \n",
    "    # Create vectors for interpolation\n",
    "    interp_x = raw_data.ws\n",
    "    interp_y = raw_data.kw\n",
    "    \n",
    "    # Counters for cases outside of the real curve\n",
    "    below_curve_counter = 0\n",
    "    above_curve_counter = 0\n",
    "    # Keeping windspeeds that are higher than what is in the curve\n",
    "    above_curve_list = []\n",
    "    below_curve_list = []\n",
    "    \n",
    "    max_ws = max(raw_data.ws)\n",
    "    \n",
    "    @classmethod\n",
    "    def windspeed_to_kw(cls, df, ws_column=\"ws-adjusted\"):\n",
    "        \"\"\" Converts wind speed to kw \"\"\"\n",
    "        kw = pd.Series(np.interp(df[ws_column], cls.interp_x, cls.interp_y))\n",
    "        ws = df[ws_column]\n",
    "        for i in range(len(kw)):\n",
    "            if kw.loc[i] <= 0: \n",
    "                cls.below_curve_counter += 1\n",
    "                cls.below_curve_list.append(tuple((df[\"timestamp\"][i], kw[i])))\n",
    "            if ws.loc[i] > cls.max_ws:\n",
    "                cls.above_curve_counter += 1\n",
    "                cls.above_curve_list.append(tuple((df[\"timestamp\"][i], ws[i])))\n",
    "                kw.loc[i] = 0\n",
    "        \n",
    "        return kw\n",
    "    \n",
    "    @classmethod\n",
    "    def reset_counters(cls):\n",
    "        \"\"\" Sets counters and lists back to 0 and empty \"\"\"\n",
    "        cls.below_curve_counter = 0\n",
    "        cls.above_curve_counter = 0\n",
    "        cls.above_curve_list = []\n",
    "        cls.below_curve_list = []"
   ]
  },
  {
   "cell_type": "markdown",
   "id": "fbac793c-fb10-4371-b82e-986755768876",
   "metadata": {},
   "source": [
    "### 1) Marion, OH - One Energy site, turbine W1\n",
    "Using timeseries data we use the provided industry power curve to convert ANL LOM windspeed to power and compare directly to the measured turbine power. Wind speed input data is from WTK-LED. "
   ]
  },
  {
   "cell_type": "code",
   "execution_count": 4,
   "id": "50d6cd97-5d3c-4da4-b69a-d678c3eb0177",
   "metadata": {},
   "outputs": [],
   "source": [
    "#Read in the coordinates and obstalcles around the W1 site and run power predictions\n",
    "z_turbine = 80\n",
    "lat, lon = 40.591555, -83.182092\n",
    "obstacle_file = \"../sites/simple_marion_obstacles.geojson\"\n",
    "obstacles_df = gpd.read_file(obstacle_file)\n",
    "obstacles_df = obstacles_df[[\"height\", \"geometry\"]]\n",
    "x1_turbine, y1_turbine = lat, lon\n",
    "xy_turbine = [np.array([x1_turbine, y1_turbine])]"
   ]
  },
  {
   "cell_type": "code",
   "execution_count": 5,
   "id": "23e3d4fb-c43c-462a-87f1-d200f5cc02fc",
   "metadata": {},
   "outputs": [
    {
     "ename": "NameError",
     "evalue": "name 'atmospheric_df' is not defined",
     "output_type": "error",
     "traceback": [
      "\u001b[0;31m---------------------------------------------------------------------------\u001b[0m",
      "\u001b[0;31mNameError\u001b[0m                                 Traceback (most recent call last)",
      "Input \u001b[0;32mIn [5]\u001b[0m, in \u001b[0;36m<cell line: 2>\u001b[0;34m()\u001b[0m\n\u001b[1;32m      1\u001b[0m predictions_df \u001b[38;5;241m=\u001b[39m \\\n\u001b[0;32m----> 2\u001b[0m     run_lom(\u001b[43matmospheric_df\u001b[49m, obstacles_df, xy_turbine, z_turbine)\u001b[38;5;241m.\u001b[39mjoin(atmospheric_df[\u001b[38;5;124m\"\u001b[39m\u001b[38;5;124mwd\u001b[39m\u001b[38;5;124m\"\u001b[39m])\n",
      "\u001b[0;31mNameError\u001b[0m: name 'atmospheric_df' is not defined"
     ]
    }
   ],
   "source": [
    "#Fixme: We need the new WTK-LED data because we have power production data from 2018 onwards\n",
    "atmospheric_df = getData(f, lat, lon, z_turbine, \"IDW\", \n",
    "                         power_estimate=True,\n",
    "                         inverse_monin_obukhov_length=True,\n",
    "                         start_time_idx=0, end_time_idx=4380, time_stride=1)\n",
    "predictions_df = \\\n",
    "    run_lom(atmospheric_df, obstacles_df, xy_turbine, z_turbine)"
   ]
  },
  {
   "cell_type": "code",
   "execution_count": null,
   "id": "28598150-997d-4bd9-af5f-323dbd730f93",
   "metadata": {},
   "outputs": [],
   "source": [
    "#Read in the first half of 2018 power output (Jan through August of 2018)\n",
    "power_output_df = pd.read_excel(\"../data/marion/turbine.oneenergy.00.20180131.000000.marion.w1.xlsx\", header=1, usecols=\"B, C, M\")\n",
    "power_output_df = power_output_df.append(pd.read_excel(\"../data/marion/turbine.oneenergy.00.20180228.000000.marion.w1.xlsx\", header=1, usecols=\"B, C, M\"))\n",
    "power_output_df = power_output_df.append(pd.read_excel(\"../data/marion/turbine.oneenergy.00.20180331.000000.marion.w1.xlsx\", header=1, usecols=\"B, C, M\"))\n",
    "power_output_df = power_output_df.append(pd.read_excel(\"../data/marion/turbine.oneenergy.00.20180430.000000.marion.w1.xlsx\", header=1, usecols=\"B, C, M\"))\n",
    "power_output_df = power_output_df.append(pd.read_excel(\"../data/marion/turbine.oneenergy.00.20180531.000000.marion.w1.xlsx\", header=1, usecols=\"B, C, M\"))\n",
    "power_output_df = power_output_df.append(pd.read_excel(\"../data/marion/turbine.oneenergy.00.20180630.000000.marion.w1.xlsx\", header=1, usecols=\"B, C, M\"))\n",
    "power_output_df = power_output_df.append(pd.read_excel(\"../data/marion/turbine.oneenergy.00.20180731.000000.marion.w1.xlsx\", header=1, usecols=\"B, C, M\"))\n",
    "power_output_df = power_output_df.append(pd.read_excel(\"../data/marion/turbine.oneenergy.00.20180831.000000.marion.w1.xlsx\", header=1, usecols=\"B, C, M\"))\n",
    "power_output_df.rename(columns={'Time':'timestamp', 'Wind Turbine Energy yield(kWh)':'measured_production', 'Avg Wind Speed(m/s)':'measured_ws'}, inplace=True)"
   ]
  },
  {
   "cell_type": "markdown",
   "id": "d5a8b299-2f50-4cca-97bc-cf7803232c7d",
   "metadata": {},
   "source": [
    "## Step 2: Read in the actual generated kw production from the same time period."
   ]
  },
  {
   "cell_type": "code",
   "execution_count": 9,
   "id": "fb74de97-137b-4c1b-a5be-731c93905008",
   "metadata": {},
   "outputs": [
    {
     "name": "stdout",
     "output_type": "stream",
     "text": [
      "LOM time : 3.52  min\n"
     ]
    },
    {
     "name": "stderr",
     "output_type": "stream",
     "text": [
      "/var/folders/25/zcvsd3xj7536pq3r46bhr2q08qxlg5/T/ipykernel_18583/3684418276.py:33: FutureWarning: The frame.append method is deprecated and will be removed from pandas in a future version. Use pandas.concat instead.\n",
      "  power_output_df = power_output_df.append(pd.read_excel(\"../data/marion/turbine.oneenergy.00.20180228.000000.marion.w1.xlsx\", header=1, usecols=\"B, C, M\"))\n",
      "/var/folders/25/zcvsd3xj7536pq3r46bhr2q08qxlg5/T/ipykernel_18583/3684418276.py:34: FutureWarning: The frame.append method is deprecated and will be removed from pandas in a future version. Use pandas.concat instead.\n",
      "  power_output_df = power_output_df.append(pd.read_excel(\"../data/marion/turbine.oneenergy.00.20180331.000000.marion.w1.xlsx\", header=1, usecols=\"B, C, M\"))\n",
      "/var/folders/25/zcvsd3xj7536pq3r46bhr2q08qxlg5/T/ipykernel_18583/3684418276.py:35: FutureWarning: The frame.append method is deprecated and will be removed from pandas in a future version. Use pandas.concat instead.\n",
      "  power_output_df = power_output_df.append(pd.read_excel(\"../data/marion/turbine.oneenergy.00.20180430.000000.marion.w1.xlsx\", header=1, usecols=\"B, C, M\"))\n",
      "/var/folders/25/zcvsd3xj7536pq3r46bhr2q08qxlg5/T/ipykernel_18583/3684418276.py:36: FutureWarning: The frame.append method is deprecated and will be removed from pandas in a future version. Use pandas.concat instead.\n",
      "  power_output_df = power_output_df.append(pd.read_excel(\"../data/marion/turbine.oneenergy.00.20180531.000000.marion.w1.xlsx\", header=1, usecols=\"B, C, M\"))\n",
      "/var/folders/25/zcvsd3xj7536pq3r46bhr2q08qxlg5/T/ipykernel_18583/3684418276.py:37: FutureWarning: The frame.append method is deprecated and will be removed from pandas in a future version. Use pandas.concat instead.\n",
      "  power_output_df = power_output_df.append(pd.read_excel(\"../data/marion/turbine.oneenergy.00.20180630.000000.marion.w1.xlsx\", header=1, usecols=\"B, C, M\"))\n",
      "/var/folders/25/zcvsd3xj7536pq3r46bhr2q08qxlg5/T/ipykernel_18583/3684418276.py:38: FutureWarning: The frame.append method is deprecated and will be removed from pandas in a future version. Use pandas.concat instead.\n",
      "  power_output_df = power_output_df.append(pd.read_excel(\"../data/marion/turbine.oneenergy.00.20180731.000000.marion.w1.xlsx\", header=1, usecols=\"B, C, M\"))\n",
      "/var/folders/25/zcvsd3xj7536pq3r46bhr2q08qxlg5/T/ipykernel_18583/3684418276.py:39: FutureWarning: The frame.append method is deprecated and will be removed from pandas in a future version. Use pandas.concat instead.\n",
      "  power_output_df = power_output_df.append(pd.read_excel(\"../data/marion/turbine.oneenergy.00.20180831.000000.marion.w1.xlsx\", header=1, usecols=\"B, C, M\"))\n"
     ]
    }
   ],
   "source": [
    "#Fixme: Potential substitution of using lidar data instead of WTK data (needs 2018 onwards), lidar has 6-month overlap\n",
    "\n",
    "#Reading in the Lidar Data\n",
    "#Using 79m wind speed and direction (hub height is 80m for turbines in this area)\n",
    "atmospheric_df = pd.read_excel(\"../data/lidar_marion_OH.xlsx\", header=3, usecols=\"A,L,M,AY,AZ\")\n",
    "atmospheric_df.rename(columns={'Date (UTC)':'datetime', 'Air Temp. Cel.':'temp', 'Pressure (mbar)':'pres', 'Wind Direction (deg) at 79m':'wd', 'Horizontal Wind Speed (m/s) at 79m':'ws'}, inplace=True)\n",
    "atmospheric_df['temp'] = atmospheric_df['temp'].apply(lambda x : x + 273.15) #convert to K from C\n",
    "atmospheric_df['pres'] = atmospheric_df['pres'].apply(lambda x : x * 100) #convert to Pascals from mbar\n",
    "\n",
    "#Turbine specs and location + obstacles\n",
    "z_turbine = 80\n",
    "lat, lon = 40.591555, -83.182092\n",
    "obstacle_file = \"../sites/simple_marion_obstacles.geojson\"\n",
    "obstacles_df = gpd.read_file(obstacle_file)\n",
    "obstacles_df = obstacles_df[[\"height\", \"geometry\"]]\n",
    "x1_turbine, y1_turbine = lat, lon\n",
    "xy_turbine = [np.array([x1_turbine, y1_turbine])]\n",
    "\n",
    "#Run the LOM prediction for wind speeds\n",
    "predictions_df = \\\n",
    "    run_lom(atmospheric_df, obstacles_df, xy_turbine, z_turbine).join(atmospheric_df[\"wd\"])\n",
    "\n",
    "temp = atmospheric_df['temp']\n",
    "predictions_df = predictions_df.join(temp)\n",
    "\n",
    "pres = atmospheric_df['pres']\n",
    "predictions_df = predictions_df.join(pres)\n",
    "\n",
    "#One issue is that the lidar data spans from mid-august of 2017 to mid-august of 2018. It looks like we only have wind production data from 2018 onwards. \n",
    "\n",
    "#Reading in actual power generation\n",
    "power_output_df = pd.read_excel(\"../data/marion/turbine.oneenergy.00.20180131.000000.marion.w1.xlsx\", header=1, usecols=\"B, C, M\")\n",
    "power_output_df = power_output_df.append(pd.read_excel(\"../data/marion/turbine.oneenergy.00.20180228.000000.marion.w1.xlsx\", header=1, usecols=\"B, C, M\"))\n",
    "power_output_df = power_output_df.append(pd.read_excel(\"../data/marion/turbine.oneenergy.00.20180331.000000.marion.w1.xlsx\", header=1, usecols=\"B, C, M\"))\n",
    "power_output_df = power_output_df.append(pd.read_excel(\"../data/marion/turbine.oneenergy.00.20180430.000000.marion.w1.xlsx\", header=1, usecols=\"B, C, M\"))\n",
    "power_output_df = power_output_df.append(pd.read_excel(\"../data/marion/turbine.oneenergy.00.20180531.000000.marion.w1.xlsx\", header=1, usecols=\"B, C, M\"))\n",
    "power_output_df = power_output_df.append(pd.read_excel(\"../data/marion/turbine.oneenergy.00.20180630.000000.marion.w1.xlsx\", header=1, usecols=\"B, C, M\"))\n",
    "power_output_df = power_output_df.append(pd.read_excel(\"../data/marion/turbine.oneenergy.00.20180731.000000.marion.w1.xlsx\", header=1, usecols=\"B, C, M\"))\n",
    "power_output_df = power_output_df.append(pd.read_excel(\"../data/marion/turbine.oneenergy.00.20180831.000000.marion.w1.xlsx\", header=1, usecols=\"B, C, M\"))\n",
    "power_output_df.rename(columns={'Time':'timestamp', 'Wind Turbine Energy yield(kWh)':'measured_production', 'Avg Wind Speed(m/s)':'measured_ws'}, inplace=True)\n",
    "\n",
    "pre_analysis = predictions_df.merge(power_output_df[['timestamp', 'measured_production', 'measured_ws']], on='timestamp', how='left')\n",
    "pre_analysis = pre_analysis.dropna()\n",
    "\n",
    "pre_analysis = pre_analysis.reset_index()\n",
    "kw, above_curve, below_curve, above_curve_list, below_curve_list = \\\n",
    "    estimate_power_output(pre_analysis, pre_analysis[\"temp\"], pre_analysis[\"pres\"])"
   ]
  },
  {
   "cell_type": "code",
   "execution_count": 10,
   "id": "ffcd093f-5045-478f-93e3-f863c1bb8f76",
   "metadata": {},
   "outputs": [
    {
     "name": "stdout",
     "output_type": "stream",
     "text": [
      "       index           timestamp  ws-adjusted     ws       wd    temp  \\\n",
      "0      19885 2018-01-01 00:00:00        2.852  2.852  302.343  259.85   \n",
      "1      19886 2018-01-01 00:10:00        2.566  2.566  305.654  259.79   \n",
      "2      19887 2018-01-01 00:20:00        1.967  1.967  303.185  259.73   \n",
      "3      19888 2018-01-01 00:30:00        1.774  1.774  301.331  259.44   \n",
      "4      19889 2018-01-01 00:40:00        2.039  2.039  296.283  259.05   \n",
      "...      ...                 ...          ...    ...      ...     ...   \n",
      "29375  52616 2018-08-16 09:30:00        6.802  6.802  182.113  293.15   \n",
      "29376  52617 2018-08-16 09:40:00        5.719  5.719  185.084  293.22   \n",
      "29377  52618 2018-08-16 09:50:00        6.585  6.585  170.531  293.35   \n",
      "29378  52619 2018-08-16 10:00:00        6.719  6.719  168.171  293.36   \n",
      "29379  52620 2018-08-16 10:10:00        7.121  7.121  163.370  293.36   \n",
      "\n",
      "          pres  measured_production  measured_ws  \n",
      "0      99780.0                 52.0         5.92  \n",
      "1      99790.0                 58.0         6.01  \n",
      "2      99790.0                 56.0         5.96  \n",
      "3      99800.0                 58.0         6.01  \n",
      "4      99820.0                 52.0         5.82  \n",
      "...        ...                  ...          ...  \n",
      "29375  98320.0                140.0         7.84  \n",
      "29376  98330.0                120.0         7.34  \n",
      "29377  98340.0                111.0         7.15  \n",
      "29378  98340.0                162.0         8.17  \n",
      "29379  98350.0                148.0         8.01  \n",
      "\n",
      "[29380 rows x 9 columns]\n"
     ]
    }
   ],
   "source": [
    "#Fixme: \n",
    "print(pre_analysis)"
   ]
  },
  {
   "cell_type": "code",
   "execution_count": null,
   "id": "a1cb08f0-238a-419a-a4ad-7261965f5664",
   "metadata": {},
   "outputs": [],
   "source": []
  }
 ],
 "metadata": {
  "kernelspec": {
   "display_name": "Python 3 (ipykernel)",
   "language": "python",
   "name": "python3"
  },
  "language_info": {
   "codemirror_mode": {
    "name": "ipython",
    "version": 3
   },
   "file_extension": ".py",
   "mimetype": "text/x-python",
   "name": "python",
   "nbconvert_exporter": "python",
   "pygments_lexer": "ipython3",
   "version": "3.8.13"
  }
 },
 "nbformat": 4,
 "nbformat_minor": 5
}
