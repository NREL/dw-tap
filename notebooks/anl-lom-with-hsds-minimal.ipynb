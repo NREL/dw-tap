{
 "cells": [
  {
   "cell_type": "markdown",
   "metadata": {
    "tags": []
   },
   "source": [
    "# Minimal notebook with fetching wind data from HSDS + spatial & vertical interpolation + ANL's obstactle model"
   ]
  },
  {
   "cell_type": "markdown",
   "metadata": {
    "tags": []
   },
   "source": [
    "### Important HSDS info:\n",
    "- accessing wind data stored in AWS using HSDS **works only from NREL networks**\n",
    "- to enable HSDS connectons, you should have a file `~/.hscfg` with the following contents:\n",
    "```\n",
    "hs_endpoint = <endpoint>\n",
    "hs_username = <user>\n",
    "hs_password = <password>\n",
    "hs_api_key = <key>\n",
    "hs_bucket = nrel-pds-hsds\n",
    "```\n",
    "- collaborators from outside of NREL should use another notebook with no HSDS operations (i.e. reading pre-saved wind data)"
   ]
  },
  {
   "cell_type": "code",
   "execution_count": 2,
   "metadata": {},
   "outputs": [
    {
     "name": "stdout",
     "output_type": "stream",
     "text": [
      "[1763  858]\n",
      "859\n",
      "[ 96.79590445 502.03465961]\n",
      "Data fetching time: 70.55 (s)\n"
     ]
    },
    {
     "name": "stderr",
     "output_type": "stream",
     "text": [
      "2022-10-11 09:34:13.037644: I tensorflow/core/platform/cpu_feature_guard.cc:193] This TensorFlow binary is optimized with oneAPI Deep Neural Network Library (oneDNN) to use the following CPU instructions in performance-critical operations:  SSE4.1 SSE4.2 AVX AVX2 FMA\n",
      "To enable them in other operations, rebuild TensorFlow with the appropriate compiler flags.\n"
     ]
    },
    {
     "name": "stdout",
     "output_type": "stream",
     "text": [
      "LOM time : 0.05  min\n",
      "Running LOM: 3.25 (s)\n",
      "Power estimation: 0.02 (s)\n",
      "Total time: 74.27 (s)\n"
     ]
    }
   ],
   "source": [
    "import numpy as np\n",
    "import pandas as pd\n",
    "import time\n",
    "import h5pyd\n",
    "from dw_tap.data_fetching import getData\n",
    "from dw_tap.process_geojson import get_candidate\n",
    "from dw_tap.process_geojson import get_obstacles\n",
    "from dw_tap.power_output import estimate_power_output\n",
    "from dw_tap.lom import run_lom\n",
    "\n",
    "z_turbine = 40 # turbine height in [m]\n",
    "lat, lon = 39.32856, -89.40238\n",
    "obstacle_file = \"../bergey/180-Manual1.geojson\"\n",
    "\n",
    "t_start = time.time()\n",
    "\n",
    "# Open the wind data \"file\"\n",
    "# server endpoint, username, password are found in ~/.hscfg\n",
    "f = h5pyd.File(\"/nrel/wtk-us.h5\", 'r', bucket=\"nrel-pds-hsds\") \n",
    "\n",
    "t_fetch_start = time.time()\n",
    "# The last three arguments limit data fetching to every 12 hours for 1 year\n",
    "ws, theta, dates, temp, pres = getData(f, lat, lon, z_turbine, \"IDW\", True,\n",
    "                                       start_time_idx=0, end_time_idx=8760, time_stride=12)\n",
    "t_fetch = time.time() - t_fetch_start\n",
    "print('Data fetching time: %.2f (s)' % t_fetch)\n",
    "\n",
    "df_places = get_obstacles(\"../bergey/180-Manual1.geojson\")\n",
    "x1_turbine,y1_turbine,minx,maxx,miny,maxy = get_candidate(lat, lon)\n",
    "xy_turbine = [np.array([x1_turbine, y1_turbine])]\n",
    "\n",
    "t_lom_start = time.time()\n",
    "predictions_df = \\\n",
    "    run_lom(dates, ws, theta, df_places, xy_turbine, z_turbine, \\\n",
    "            minx, maxx, miny, maxy)\n",
    "t_lom = time.time() - t_lom_start\n",
    "print('Running LOM: %.2f (s)' % t_lom)\n",
    "\n",
    "t_power_start = time.time()\n",
    "kw, above_curve, below_curve, above_curve_list, below_curve_list = \\\n",
    "    estimate_power_output(predictions_df, temp, pres)  \n",
    "t_power = time.time() - t_power_start\n",
    "print('Power estimation: %.2f (s)' % t_power)\n",
    "\n",
    "t_total = time.time()-t_start\n",
    "print('Total time: %.2f (s)' % t_total)"
   ]
  },
  {
   "cell_type": "code",
   "execution_count": null,
   "metadata": {},
   "outputs": [],
   "source": []
  }
 ],
 "metadata": {
  "kernelspec": {
   "display_name": "Python 3 (ipykernel)",
   "language": "python",
   "name": "python3"
  },
  "language_info": {
   "codemirror_mode": {
    "name": "ipython",
    "version": 3
   },
   "file_extension": ".py",
   "mimetype": "text/x-python",
   "name": "python",
   "nbconvert_exporter": "python",
   "pygments_lexer": "ipython3",
   "version": "3.8.13"
  }
 },
 "nbformat": 4,
 "nbformat_minor": 4
}
