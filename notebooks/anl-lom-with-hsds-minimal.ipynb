{
 "cells": [
  {
   "cell_type": "markdown",
   "metadata": {
    "tags": []
   },
   "source": [
    "# Minimal notebook with fetching wind data from HSDS + spatial & vertical interpolation + ANL's obstactle model"
   ]
  },
  {
   "cell_type": "markdown",
   "metadata": {
    "tags": []
   },
   "source": [
    "### Important HSDS info:\n",
    "- accessing wind data stored in AWS using HSDS **works only from NREL networks**\n",
    "- to enable HSDS connectons, you should have a file `~/.hscfg` with the following contents:\n",
    "```\n",
    "hs_endpoint = <endpoint>\n",
    "hs_username = <user>\n",
    "hs_password = <password>\n",
    "hs_api_key = <key>\n",
    "hs_bucket = nrel-pds-hsds\n",
    "```\n",
    "- collaborators from outside of NREL should use another notebook with no HSDS operations (i.e. reading pre-saved wind data)"
   ]
  },
  {
   "cell_type": "code",
   "execution_count": 37,
   "metadata": {},
   "outputs": [
    {
     "name": "stdout",
     "output_type": "stream",
     "text": [
      "Data fetching time: 14.50 (s)\n",
      "run_lom: starting\n",
      "run_lom: loaded model\n",
      "run_lom: after geojson_toCoordinate\n",
      "run_lom: after prepare_data\n",
      "run_lom: looping\n",
      "LOM time : 1.48  min\n",
      "Running LOM: 88.85 (s)\n",
      "Power estimation: 0.17 (s)\n",
      "Total time: 104.12 (s)\n"
     ]
    }
   ],
   "source": [
    "import numpy as np\n",
    "import pandas as pd\n",
    "import time\n",
    "import h5pyd\n",
    "import geopandas as gpd\n",
    "from dw_tap.data_fetching import getData\n",
    "from dw_tap.power_output import estimate_power_output\n",
    "from dw_tap.lom import run_lom\n",
    "\n",
    "z_turbine = 50 # turbine height in [m]\n",
    "lat, lon = 42.510051, -92.45786\n",
    "obstacle_file = \"../sites/new_site.geojson\"\n",
    "\n",
    "t_start = time.time()\n",
    "\n",
    "# Open the wind data \"file\"\n",
    "# server endpoint, username, password are found in ~/.hscfg\n",
    "f = h5pyd.File(\"/nrel/wtk-us.h5\", 'r', bucket=\"nrel-pds-hsds\") \n",
    "\n",
    "t_fetch_start = time.time()\n",
    "# The last three arguments limit data fetching to every 12 hours for 1 year\n",
    "atmospheric_df = getData(f, lat, lon, z_turbine, \"IDW\", \n",
    "                         power_estimate=True,\n",
    "                         inverse_monin_obukhov_length=True,\n",
    "                         start_time_idx=0, end_time_idx=4380, time_stride=1)\n",
    "\n",
    "#If you want to save to CSV file for ANL use\n",
    "#df.to_csv('../data/180_1year_12hourgranularity.csv')\n",
    "\n",
    "t_fetch = time.time() - t_fetch_start\n",
    "print('Data fetching time: %.2f (s)' % t_fetch)\n",
    "\n",
    "obstacles_df = gpd.read_file(obstacle_file)\n",
    "x1_turbine, y1_turbine = lat, lon\n",
    "xy_turbine = [np.array([x1_turbine, y1_turbine])]\n",
    "\n",
    "t_lom_start = time.time()\n",
    "predictions_df = \\\n",
    "    run_lom(atmospheric_df, obstacles_df, xy_turbine, z_turbine)\n",
    "\n",
    "t_lom = time.time() - t_lom_start\n",
    "print('Running LOM: %.2f (s)' % t_lom)\n",
    "\n",
    "t_power_start = time.time()\n",
    "kw, above_curve, below_curve, above_curve_list, below_curve_list = \\\n",
    "    estimate_power_output(predictions_df, atmospheric_df[\"temp\"], atmospheric_df[\"pres\"])  \n",
    "t_power = time.time() - t_power_start\n",
    "print('Power estimation: %.2f (s)' % t_power)\n",
    "\n",
    "t_total = time.time()-t_start\n",
    "print('Total time: %.2f (s)' % t_total)"
   ]
  },
  {
   "cell_type": "code",
   "execution_count": 38,
   "metadata": {},
   "outputs": [
    {
     "data": {
      "text/html": [
       "<div>\n",
       "<style scoped>\n",
       "    .dataframe tbody tr th:only-of-type {\n",
       "        vertical-align: middle;\n",
       "    }\n",
       "\n",
       "    .dataframe tbody tr th {\n",
       "        vertical-align: top;\n",
       "    }\n",
       "\n",
       "    .dataframe thead th {\n",
       "        text-align: right;\n",
       "    }\n",
       "</style>\n",
       "<table border=\"1\" class=\"dataframe\">\n",
       "  <thead>\n",
       "    <tr style=\"text-align: right;\">\n",
       "      <th></th>\n",
       "      <th>datetime</th>\n",
       "      <th>ws</th>\n",
       "      <th>wd</th>\n",
       "      <th>temp</th>\n",
       "      <th>pres</th>\n",
       "      <th>inversemoninobukhovlength_2m</th>\n",
       "    </tr>\n",
       "  </thead>\n",
       "  <tbody>\n",
       "    <tr>\n",
       "      <th>0</th>\n",
       "      <td>2007-01-01 00:00:00</td>\n",
       "      <td>10.361467</td>\n",
       "      <td>314.437509</td>\n",
       "      <td>274.469742</td>\n",
       "      <td>96441.446165</td>\n",
       "      <td>-0.001612</td>\n",
       "    </tr>\n",
       "    <tr>\n",
       "      <th>1</th>\n",
       "      <td>2007-01-01 01:00:00</td>\n",
       "      <td>10.049069</td>\n",
       "      <td>316.215910</td>\n",
       "      <td>273.477890</td>\n",
       "      <td>96508.945734</td>\n",
       "      <td>-0.002222</td>\n",
       "    </tr>\n",
       "    <tr>\n",
       "      <th>2</th>\n",
       "      <td>2007-01-01 02:00:00</td>\n",
       "      <td>9.910439</td>\n",
       "      <td>312.451156</td>\n",
       "      <td>272.585220</td>\n",
       "      <td>96581.626677</td>\n",
       "      <td>-0.002441</td>\n",
       "    </tr>\n",
       "    <tr>\n",
       "      <th>3</th>\n",
       "      <td>2007-01-01 03:00:00</td>\n",
       "      <td>10.175206</td>\n",
       "      <td>312.137807</td>\n",
       "      <td>272.341064</td>\n",
       "      <td>96653.508749</td>\n",
       "      <td>-0.001831</td>\n",
       "    </tr>\n",
       "    <tr>\n",
       "      <th>4</th>\n",
       "      <td>2007-01-01 04:00:00</td>\n",
       "      <td>10.395692</td>\n",
       "      <td>312.445915</td>\n",
       "      <td>272.054199</td>\n",
       "      <td>96703.903491</td>\n",
       "      <td>-0.001612</td>\n",
       "    </tr>\n",
       "    <tr>\n",
       "      <th>...</th>\n",
       "      <td>...</td>\n",
       "      <td>...</td>\n",
       "      <td>...</td>\n",
       "      <td>...</td>\n",
       "      <td>...</td>\n",
       "      <td>...</td>\n",
       "    </tr>\n",
       "    <tr>\n",
       "      <th>4376</th>\n",
       "      <td>2007-07-02 08:00:00</td>\n",
       "      <td>7.404545</td>\n",
       "      <td>136.035031</td>\n",
       "      <td>289.187286</td>\n",
       "      <td>98479.588049</td>\n",
       "      <td>0.053047</td>\n",
       "    </tr>\n",
       "    <tr>\n",
       "      <th>4377</th>\n",
       "      <td>2007-07-02 09:00:00</td>\n",
       "      <td>6.830597</td>\n",
       "      <td>136.037439</td>\n",
       "      <td>288.361755</td>\n",
       "      <td>98498.260771</td>\n",
       "      <td>0.091702</td>\n",
       "    </tr>\n",
       "    <tr>\n",
       "      <th>4378</th>\n",
       "      <td>2007-07-02 10:00:00</td>\n",
       "      <td>6.771773</td>\n",
       "      <td>134.570219</td>\n",
       "      <td>287.537766</td>\n",
       "      <td>98511.153621</td>\n",
       "      <td>0.078317</td>\n",
       "    </tr>\n",
       "    <tr>\n",
       "      <th>4379</th>\n",
       "      <td>2007-07-02 11:00:00</td>\n",
       "      <td>6.892769</td>\n",
       "      <td>136.178170</td>\n",
       "      <td>287.023529</td>\n",
       "      <td>98523.297660</td>\n",
       "      <td>0.058239</td>\n",
       "    </tr>\n",
       "    <tr>\n",
       "      <th>4380</th>\n",
       "      <td>2007-07-02 12:00:00</td>\n",
       "      <td>6.511398</td>\n",
       "      <td>139.724882</td>\n",
       "      <td>287.644592</td>\n",
       "      <td>98516.725419</td>\n",
       "      <td>-0.000234</td>\n",
       "    </tr>\n",
       "  </tbody>\n",
       "</table>\n",
       "<p>4381 rows × 6 columns</p>\n",
       "</div>"
      ],
      "text/plain": [
       "                datetime         ws          wd        temp          pres  \\\n",
       "0    2007-01-01 00:00:00  10.361467  314.437509  274.469742  96441.446165   \n",
       "1    2007-01-01 01:00:00  10.049069  316.215910  273.477890  96508.945734   \n",
       "2    2007-01-01 02:00:00   9.910439  312.451156  272.585220  96581.626677   \n",
       "3    2007-01-01 03:00:00  10.175206  312.137807  272.341064  96653.508749   \n",
       "4    2007-01-01 04:00:00  10.395692  312.445915  272.054199  96703.903491   \n",
       "...                  ...        ...         ...         ...           ...   \n",
       "4376 2007-07-02 08:00:00   7.404545  136.035031  289.187286  98479.588049   \n",
       "4377 2007-07-02 09:00:00   6.830597  136.037439  288.361755  98498.260771   \n",
       "4378 2007-07-02 10:00:00   6.771773  134.570219  287.537766  98511.153621   \n",
       "4379 2007-07-02 11:00:00   6.892769  136.178170  287.023529  98523.297660   \n",
       "4380 2007-07-02 12:00:00   6.511398  139.724882  287.644592  98516.725419   \n",
       "\n",
       "      inversemoninobukhovlength_2m  \n",
       "0                        -0.001612  \n",
       "1                        -0.002222  \n",
       "2                        -0.002441  \n",
       "3                        -0.001831  \n",
       "4                        -0.001612  \n",
       "...                            ...  \n",
       "4376                      0.053047  \n",
       "4377                      0.091702  \n",
       "4378                      0.078317  \n",
       "4379                      0.058239  \n",
       "4380                     -0.000234  \n",
       "\n",
       "[4381 rows x 6 columns]"
      ]
     },
     "execution_count": 38,
     "metadata": {},
     "output_type": "execute_result"
    }
   ],
   "source": [
    "atmospheric_df"
   ]
  },
  {
   "cell_type": "code",
   "execution_count": 39,
   "metadata": {
    "tags": []
   },
   "outputs": [
    {
     "data": {
      "image/png": "[encoded data removed]",
      "text/plain": [
       "<Figure size 300x300 with 1 Axes>"
      ]
     },
     "metadata": {},
     "output_type": "display_data"
    }
   ],
   "source": [
    "ax = obstacles_df.plot(figsize=(3,3));\n",
    "ax.scatter(lon, lat, color=\"green\");"
   ]
  },
  {
   "cell_type": "code",
   "execution_count": 40,
   "metadata": {},
   "outputs": [
    {
     "data": {
      "text/html": [
       "<div>\n",
       "<style scoped>\n",
       "    .dataframe tbody tr th:only-of-type {\n",
       "        vertical-align: middle;\n",
       "    }\n",
       "\n",
       "    .dataframe tbody tr th {\n",
       "        vertical-align: top;\n",
       "    }\n",
       "\n",
       "    .dataframe thead th {\n",
       "        text-align: right;\n",
       "    }\n",
       "</style>\n",
       "<table border=\"1\" class=\"dataframe\">\n",
       "  <thead>\n",
       "    <tr style=\"text-align: right;\">\n",
       "      <th></th>\n",
       "      <th>datetime</th>\n",
       "      <th>ws</th>\n",
       "      <th>wd</th>\n",
       "      <th>temp</th>\n",
       "      <th>pres</th>\n",
       "      <th>inversemoninobukhovlength_2m</th>\n",
       "    </tr>\n",
       "  </thead>\n",
       "  <tbody>\n",
       "    <tr>\n",
       "      <th>0</th>\n",
       "      <td>2007-01-01 00:00:00</td>\n",
       "      <td>10.361467</td>\n",
       "      <td>314.437509</td>\n",
       "      <td>274.469742</td>\n",
       "      <td>96441.446165</td>\n",
       "      <td>-0.001612</td>\n",
       "    </tr>\n",
       "    <tr>\n",
       "      <th>1</th>\n",
       "      <td>2007-01-01 01:00:00</td>\n",
       "      <td>10.049069</td>\n",
       "      <td>316.215910</td>\n",
       "      <td>273.477890</td>\n",
       "      <td>96508.945734</td>\n",
       "      <td>-0.002222</td>\n",
       "    </tr>\n",
       "    <tr>\n",
       "      <th>2</th>\n",
       "      <td>2007-01-01 02:00:00</td>\n",
       "      <td>9.910439</td>\n",
       "      <td>312.451156</td>\n",
       "      <td>272.585220</td>\n",
       "      <td>96581.626677</td>\n",
       "      <td>-0.002441</td>\n",
       "    </tr>\n",
       "    <tr>\n",
       "      <th>3</th>\n",
       "      <td>2007-01-01 03:00:00</td>\n",
       "      <td>10.175206</td>\n",
       "      <td>312.137807</td>\n",
       "      <td>272.341064</td>\n",
       "      <td>96653.508749</td>\n",
       "      <td>-0.001831</td>\n",
       "    </tr>\n",
       "    <tr>\n",
       "      <th>4</th>\n",
       "      <td>2007-01-01 04:00:00</td>\n",
       "      <td>10.395692</td>\n",
       "      <td>312.445915</td>\n",
       "      <td>272.054199</td>\n",
       "      <td>96703.903491</td>\n",
       "      <td>-0.001612</td>\n",
       "    </tr>\n",
       "    <tr>\n",
       "      <th>...</th>\n",
       "      <td>...</td>\n",
       "      <td>...</td>\n",
       "      <td>...</td>\n",
       "      <td>...</td>\n",
       "      <td>...</td>\n",
       "      <td>...</td>\n",
       "    </tr>\n",
       "    <tr>\n",
       "      <th>4376</th>\n",
       "      <td>2007-07-02 08:00:00</td>\n",
       "      <td>7.404545</td>\n",
       "      <td>136.035031</td>\n",
       "      <td>289.187286</td>\n",
       "      <td>98479.588049</td>\n",
       "      <td>0.053047</td>\n",
       "    </tr>\n",
       "    <tr>\n",
       "      <th>4377</th>\n",
       "      <td>2007-07-02 09:00:00</td>\n",
       "      <td>6.830597</td>\n",
       "      <td>136.037439</td>\n",
       "      <td>288.361755</td>\n",
       "      <td>98498.260771</td>\n",
       "      <td>0.091702</td>\n",
       "    </tr>\n",
       "    <tr>\n",
       "      <th>4378</th>\n",
       "      <td>2007-07-02 10:00:00</td>\n",
       "      <td>6.771773</td>\n",
       "      <td>134.570219</td>\n",
       "      <td>287.537766</td>\n",
       "      <td>98511.153621</td>\n",
       "      <td>0.078317</td>\n",
       "    </tr>\n",
       "    <tr>\n",
       "      <th>4379</th>\n",
       "      <td>2007-07-02 11:00:00</td>\n",
       "      <td>6.892769</td>\n",
       "      <td>136.178170</td>\n",
       "      <td>287.023529</td>\n",
       "      <td>98523.297660</td>\n",
       "      <td>0.058239</td>\n",
       "    </tr>\n",
       "    <tr>\n",
       "      <th>4380</th>\n",
       "      <td>2007-07-02 12:00:00</td>\n",
       "      <td>6.511398</td>\n",
       "      <td>139.724882</td>\n",
       "      <td>287.644592</td>\n",
       "      <td>98516.725419</td>\n",
       "      <td>-0.000234</td>\n",
       "    </tr>\n",
       "  </tbody>\n",
       "</table>\n",
       "<p>4381 rows × 6 columns</p>\n",
       "</div>"
      ],
      "text/plain": [
       "                datetime         ws          wd        temp          pres  \\\n",
       "0    2007-01-01 00:00:00  10.361467  314.437509  274.469742  96441.446165   \n",
       "1    2007-01-01 01:00:00  10.049069  316.215910  273.477890  96508.945734   \n",
       "2    2007-01-01 02:00:00   9.910439  312.451156  272.585220  96581.626677   \n",
       "3    2007-01-01 03:00:00  10.175206  312.137807  272.341064  96653.508749   \n",
       "4    2007-01-01 04:00:00  10.395692  312.445915  272.054199  96703.903491   \n",
       "...                  ...        ...         ...         ...           ...   \n",
       "4376 2007-07-02 08:00:00   7.404545  136.035031  289.187286  98479.588049   \n",
       "4377 2007-07-02 09:00:00   6.830597  136.037439  288.361755  98498.260771   \n",
       "4378 2007-07-02 10:00:00   6.771773  134.570219  287.537766  98511.153621   \n",
       "4379 2007-07-02 11:00:00   6.892769  136.178170  287.023529  98523.297660   \n",
       "4380 2007-07-02 12:00:00   6.511398  139.724882  287.644592  98516.725419   \n",
       "\n",
       "      inversemoninobukhovlength_2m  \n",
       "0                        -0.001612  \n",
       "1                        -0.002222  \n",
       "2                        -0.002441  \n",
       "3                        -0.001831  \n",
       "4                        -0.001612  \n",
       "...                            ...  \n",
       "4376                      0.053047  \n",
       "4377                      0.091702  \n",
       "4378                      0.078317  \n",
       "4379                      0.058239  \n",
       "4380                     -0.000234  \n",
       "\n",
       "[4381 rows x 6 columns]"
      ]
     },
     "execution_count": 40,
     "metadata": {},
     "output_type": "execute_result"
    }
   ],
   "source": [
    "atmospheric_df"
   ]
  },
  {
   "cell_type": "code",
   "execution_count": 41,
   "metadata": {},
   "outputs": [
    {
     "data": {
      "image/png": "[encoded data removed]",
      "text/plain": [
       "<Figure size 1000x300 with 1 Axes>"
      ]
     },
     "metadata": {},
     "output_type": "display_data"
    }
   ],
   "source": [
    "pd.Series(kw).plot(figsize=(10,3));"
   ]
  },
  {
   "cell_type": "code",
   "execution_count": 42,
   "metadata": {},
   "outputs": [
    {
     "data": {
      "text/plain": [
       "6.2666446275307255"
      ]
     },
     "execution_count": 42,
     "metadata": {},
     "output_type": "execute_result"
    }
   ],
   "source": [
    "atmospheric_df[\"ws\"].mean()"
   ]
  },
  {
   "cell_type": "code",
   "execution_count": 43,
   "metadata": {},
   "outputs": [
    {
     "data": {
      "text/plain": [
       "2.567495146671043"
      ]
     },
     "execution_count": 43,
     "metadata": {},
     "output_type": "execute_result"
    }
   ],
   "source": [
    "kw.mean()"
   ]
  },
  {
   "cell_type": "code",
   "execution_count": 44,
   "metadata": {},
   "outputs": [
    {
     "data": {
      "text/plain": [
       "11248.196237565848"
      ]
     },
     "execution_count": 44,
     "metadata": {},
     "output_type": "execute_result"
    }
   ],
   "source": [
    "kw.sum()"
   ]
  },
  {
   "cell_type": "code",
   "execution_count": 8,
   "metadata": {},
   "outputs": [],
   "source": [
    "# pd.DataFrame({\"lat\": [lat], \"lon\": [lon], \"hub_height_m\": z_turbine}).T[0].to_json(\"../output/site_specs_180.json\")"
   ]
  },
  {
   "cell_type": "code",
   "execution_count": null,
   "metadata": {},
   "outputs": [],
   "source": []
  }
 ],
 "metadata": {
  "kernelspec": {
   "display_name": "Python 3 (ipykernel)",
   "language": "python",
   "name": "python3"
  },
  "language_info": {
   "codemirror_mode": {
    "name": "ipython",
    "version": 3
   },
   "file_extension": ".py",
   "mimetype": "text/x-python",
   "name": "python",
   "nbconvert_exporter": "python",
   "pygments_lexer": "ipython3",
   "version": "3.8.16"
  }
 },
 "nbformat": 4,
 "nbformat_minor": 4
}
