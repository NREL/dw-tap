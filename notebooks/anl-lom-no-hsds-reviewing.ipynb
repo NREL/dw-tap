{
 "cells": [
  {
   "cell_type": "code",
   "execution_count": 1,
   "id": "d7d7a983-d008-44b6-b32a-3fa5ab0276d8",
   "metadata": {
    "tags": []
   },
   "outputs": [
    {
     "name": "stderr",
     "output_type": "stream",
     "text": [
      "/Users/dduplyak/anaconda3/envs/dw-tap/lib/python3.8/site-packages/scipy/__init__.py:146: UserWarning: A NumPy version >=1.16.5 and <1.23.0 is required for this version of SciPy (detected version 1.23.1\n",
      "  warnings.warn(f\"A NumPy version >={np_minversion} and <{np_maxversion}\"\n",
      "2023-01-19 11:53:22.536914: I tensorflow/core/platform/cpu_feature_guard.cc:193] This TensorFlow binary is optimized with oneAPI Deep Neural Network Library (oneDNN) to use the following CPU instructions in performance-critical operations:  SSE4.1 SSE4.2 AVX AVX2 FMA\n",
      "To enable them in other operations, rebuild TensorFlow with the appropriate compiler flags.\n"
     ]
    },
    {
     "name": "stdout",
     "output_type": "stream",
     "text": [
      "Done with loading ML model.\n",
      "LOM computation time : 0.29033899307250977  sec\n",
      "Running LOM: 1.77 (s)\n",
      "Power estimation: 0.04 (s)\n",
      "Total time: 1.85 (s)\n"
     ]
    }
   ],
   "source": [
    "import numpy as np\n",
    "import pandas as pd\n",
    "import time\n",
    "import h5pyd\n",
    "import geopandas as gpd\n",
    "from dw_tap.data_fetching import getData\n",
    "from dw_tap.power_output import estimate_power_output\n",
    "from dw_tap.lom import run_lom\n",
    "\n",
    "z_turbine = 40 # turbine height in [m]\n",
    "#lat, lon = 39.32856, -89.40238\n",
    "lat, lon = 39.32374225, -89.40056775\n",
    "\n",
    "# The buildings are the same as in the previous tests\n",
    "obstacle_file = \"../sites/180-5BuildingsManual.geojson\"\n",
    "#obstacle_file = \"../sites/180-Manual1.geojson\"\n",
    "\n",
    "t_start = time.time()\n",
    "\n",
    "#Read in data from CSV file instead of hsds + getData\n",
    "#atmospheric_df = pd.read_csv(\"../data/180_1year_12hourgranularity.csv\")\n",
    "\n",
    "# There seems to be a problem with the input from this file\n",
    "atmospheric_df = pd.read_csv(\"../data/180_2000rows_under_review.csv\")\n",
    "\n",
    "# Temporary (later need to resave csv without index column) \n",
    "if \"Unnamed: 0\" in atmospheric_df.columns:\n",
    "    atmospheric_df.drop(columns=[\"Unnamed: 0\"], inplace=True)\n",
    "\n",
    "obstacles_df = gpd.read_file(obstacle_file)\n",
    "# Leave in only relevant columns\n",
    "obstacles_df = obstacles_df[[\"height\", \"geometry\"]]\n",
    "\n",
    "xy_turbine = [np.array([lon, lat])]\n",
    "\n",
    "t_lom_start = time.time()\n",
    "predictions_df = \\\n",
    "    run_lom(atmospheric_df, obstacles_df, xy_turbine, z_turbine,\n",
    "            check_distance=True)\n",
    "t_lom = time.time() - t_lom_start\n",
    "print('Running LOM: %.2f (s)' % t_lom)\n",
    "\n",
    "t_power_start = time.time()\n",
    "kw, above_curve, below_curve, above_curve_list, below_curve_list = \\\n",
    "    estimate_power_output(predictions_df, atmospheric_df[\"temp\"], atmospheric_df[\"pres\"])  \n",
    "t_power = time.time() - t_power_start\n",
    "print('Power estimation: %.2f (s)' % t_power)\n",
    "\n",
    "t_total = time.time()-t_start\n",
    "print('Total time: %.2f (s)' % t_total)"
   ]
  },
  {
   "cell_type": "code",
   "execution_count": 2,
   "id": "3ffcb980-c480-4e1d-8f9a-925d61d85a4a",
   "metadata": {},
   "outputs": [
    {
     "data": {
      "text/html": [
       "<div>\n",
       "<style scoped>\n",
       "    .dataframe tbody tr th:only-of-type {\n",
       "        vertical-align: middle;\n",
       "    }\n",
       "\n",
       "    .dataframe tbody tr th {\n",
       "        vertical-align: top;\n",
       "    }\n",
       "\n",
       "    .dataframe thead th {\n",
       "        text-align: right;\n",
       "    }\n",
       "</style>\n",
       "<table border=\"1\" class=\"dataframe\">\n",
       "  <thead>\n",
       "    <tr style=\"text-align: right;\">\n",
       "      <th></th>\n",
       "      <th>datetime</th>\n",
       "      <th>ws</th>\n",
       "      <th>wd</th>\n",
       "      <th>temp</th>\n",
       "      <th>pres</th>\n",
       "    </tr>\n",
       "  </thead>\n",
       "  <tbody>\n",
       "    <tr>\n",
       "      <th>0</th>\n",
       "      <td>2007-01-01 00:00:00</td>\n",
       "      <td>7.787228</td>\n",
       "      <td>233.140734</td>\n",
       "      <td>282.541870</td>\n",
       "      <td>98487.245180</td>\n",
       "    </tr>\n",
       "    <tr>\n",
       "      <th>1</th>\n",
       "      <td>2007-01-01 01:00:00</td>\n",
       "      <td>8.213125</td>\n",
       "      <td>238.568689</td>\n",
       "      <td>281.693481</td>\n",
       "      <td>98488.453970</td>\n",
       "    </tr>\n",
       "    <tr>\n",
       "      <th>2</th>\n",
       "      <td>2007-01-01 02:00:00</td>\n",
       "      <td>7.102716</td>\n",
       "      <td>231.218874</td>\n",
       "      <td>280.445251</td>\n",
       "      <td>98531.895849</td>\n",
       "    </tr>\n",
       "    <tr>\n",
       "      <th>3</th>\n",
       "      <td>2007-01-01 03:00:00</td>\n",
       "      <td>8.614593</td>\n",
       "      <td>237.906204</td>\n",
       "      <td>279.526672</td>\n",
       "      <td>98545.118190</td>\n",
       "    </tr>\n",
       "    <tr>\n",
       "      <th>4</th>\n",
       "      <td>2007-01-01 04:00:00</td>\n",
       "      <td>8.448002</td>\n",
       "      <td>237.531201</td>\n",
       "      <td>278.693512</td>\n",
       "      <td>98548.458955</td>\n",
       "    </tr>\n",
       "    <tr>\n",
       "      <th>...</th>\n",
       "      <td>...</td>\n",
       "      <td>...</td>\n",
       "      <td>...</td>\n",
       "      <td>...</td>\n",
       "      <td>...</td>\n",
       "    </tr>\n",
       "    <tr>\n",
       "      <th>1996</th>\n",
       "      <td>2007-03-25 04:00:00</td>\n",
       "      <td>7.438345</td>\n",
       "      <td>188.216391</td>\n",
       "      <td>293.052460</td>\n",
       "      <td>99921.691173</td>\n",
       "    </tr>\n",
       "    <tr>\n",
       "      <th>1997</th>\n",
       "      <td>2007-03-25 05:00:00</td>\n",
       "      <td>7.546097</td>\n",
       "      <td>196.957800</td>\n",
       "      <td>292.841888</td>\n",
       "      <td>99925.496337</td>\n",
       "    </tr>\n",
       "    <tr>\n",
       "      <th>1998</th>\n",
       "      <td>2007-03-25 06:00:00</td>\n",
       "      <td>6.790068</td>\n",
       "      <td>192.169340</td>\n",
       "      <td>292.085022</td>\n",
       "      <td>99939.793161</td>\n",
       "    </tr>\n",
       "    <tr>\n",
       "      <th>1999</th>\n",
       "      <td>2007-03-25 07:00:00</td>\n",
       "      <td>6.690274</td>\n",
       "      <td>194.352947</td>\n",
       "      <td>291.499084</td>\n",
       "      <td>99944.097908</td>\n",
       "    </tr>\n",
       "    <tr>\n",
       "      <th>2000</th>\n",
       "      <td>2007-03-25 08:00:00</td>\n",
       "      <td>6.204334</td>\n",
       "      <td>185.942508</td>\n",
       "      <td>290.888702</td>\n",
       "      <td>99967.635016</td>\n",
       "    </tr>\n",
       "  </tbody>\n",
       "</table>\n",
       "<p>2001 rows × 5 columns</p>\n",
       "</div>"
      ],
      "text/plain": [
       "                 datetime        ws          wd        temp          pres\n",
       "0     2007-01-01 00:00:00  7.787228  233.140734  282.541870  98487.245180\n",
       "1     2007-01-01 01:00:00  8.213125  238.568689  281.693481  98488.453970\n",
       "2     2007-01-01 02:00:00  7.102716  231.218874  280.445251  98531.895849\n",
       "3     2007-01-01 03:00:00  8.614593  237.906204  279.526672  98545.118190\n",
       "4     2007-01-01 04:00:00  8.448002  237.531201  278.693512  98548.458955\n",
       "...                   ...       ...         ...         ...           ...\n",
       "1996  2007-03-25 04:00:00  7.438345  188.216391  293.052460  99921.691173\n",
       "1997  2007-03-25 05:00:00  7.546097  196.957800  292.841888  99925.496337\n",
       "1998  2007-03-25 06:00:00  6.790068  192.169340  292.085022  99939.793161\n",
       "1999  2007-03-25 07:00:00  6.690274  194.352947  291.499084  99944.097908\n",
       "2000  2007-03-25 08:00:00  6.204334  185.942508  290.888702  99967.635016\n",
       "\n",
       "[2001 rows x 5 columns]"
      ]
     },
     "execution_count": 2,
     "metadata": {},
     "output_type": "execute_result"
    }
   ],
   "source": [
    "atmospheric_df"
   ]
  },
  {
   "cell_type": "code",
   "execution_count": 3,
   "id": "0ece2b1a-f466-4068-8878-2b7def279ffe",
   "metadata": {},
   "outputs": [
    {
     "data": {
      "text/plain": [
       "[array([-89.40056775,  39.32374225])]"
      ]
     },
     "execution_count": 3,
     "metadata": {},
     "output_type": "execute_result"
    }
   ],
   "source": [
    "xy_turbine"
   ]
  },
  {
   "cell_type": "code",
   "execution_count": 4,
   "id": "11f3b931-32c0-4f30-965b-6007ce35992f",
   "metadata": {},
   "outputs": [
    {
     "data": {
      "text/html": [
       "<div>\n",
       "<style scoped>\n",
       "    .dataframe tbody tr th:only-of-type {\n",
       "        vertical-align: middle;\n",
       "    }\n",
       "\n",
       "    .dataframe tbody tr th {\n",
       "        vertical-align: top;\n",
       "    }\n",
       "\n",
       "    .dataframe thead th {\n",
       "        text-align: right;\n",
       "    }\n",
       "</style>\n",
       "<table border=\"1\" class=\"dataframe\">\n",
       "  <thead>\n",
       "    <tr style=\"text-align: right;\">\n",
       "      <th></th>\n",
       "      <th>height</th>\n",
       "      <th>geometry</th>\n",
       "    </tr>\n",
       "  </thead>\n",
       "  <tbody>\n",
       "    <tr>\n",
       "      <th>0</th>\n",
       "      <td>10</td>\n",
       "      <td>POLYGON ((-89.40211 39.32865, -89.40212 39.328...</td>\n",
       "    </tr>\n",
       "    <tr>\n",
       "      <th>1</th>\n",
       "      <td>10</td>\n",
       "      <td>POLYGON ((-89.40247 39.32839, -89.40248 39.328...</td>\n",
       "    </tr>\n",
       "    <tr>\n",
       "      <th>2</th>\n",
       "      <td>10</td>\n",
       "      <td>POLYGON ((-89.40248 39.32817, -89.40248 39.327...</td>\n",
       "    </tr>\n",
       "    <tr>\n",
       "      <th>3</th>\n",
       "      <td>10</td>\n",
       "      <td>POLYGON ((-89.40224 39.32814, -89.40225 39.327...</td>\n",
       "    </tr>\n",
       "    <tr>\n",
       "      <th>4</th>\n",
       "      <td>10</td>\n",
       "      <td>POLYGON ((-89.40175 39.32828, -89.40176 39.328...</td>\n",
       "    </tr>\n",
       "  </tbody>\n",
       "</table>\n",
       "</div>"
      ],
      "text/plain": [
       "   height                                           geometry\n",
       "0      10  POLYGON ((-89.40211 39.32865, -89.40212 39.328...\n",
       "1      10  POLYGON ((-89.40247 39.32839, -89.40248 39.328...\n",
       "2      10  POLYGON ((-89.40248 39.32817, -89.40248 39.327...\n",
       "3      10  POLYGON ((-89.40224 39.32814, -89.40225 39.327...\n",
       "4      10  POLYGON ((-89.40175 39.32828, -89.40176 39.328..."
      ]
     },
     "execution_count": 4,
     "metadata": {},
     "output_type": "execute_result"
    }
   ],
   "source": [
    "obstacles_df"
   ]
  },
  {
   "cell_type": "code",
   "execution_count": 5,
   "id": "16cc202f-80dd-4402-afd1-5ceed791e8f4",
   "metadata": {},
   "outputs": [
    {
     "data": {
      "text/html": [
       "<div>\n",
       "<style scoped>\n",
       "    .dataframe tbody tr th:only-of-type {\n",
       "        vertical-align: middle;\n",
       "    }\n",
       "\n",
       "    .dataframe tbody tr th {\n",
       "        vertical-align: top;\n",
       "    }\n",
       "\n",
       "    .dataframe thead th {\n",
       "        text-align: right;\n",
       "    }\n",
       "</style>\n",
       "<table border=\"1\" class=\"dataframe\">\n",
       "  <thead>\n",
       "    <tr style=\"text-align: right;\">\n",
       "      <th></th>\n",
       "      <th>timestamp</th>\n",
       "      <th>ws</th>\n",
       "      <th>ws-adjusted</th>\n",
       "    </tr>\n",
       "  </thead>\n",
       "  <tbody>\n",
       "    <tr>\n",
       "      <th>0</th>\n",
       "      <td>2007-01-01 00:00:00</td>\n",
       "      <td>7.787228</td>\n",
       "      <td>7.771351</td>\n",
       "    </tr>\n",
       "    <tr>\n",
       "      <th>1</th>\n",
       "      <td>2007-01-01 01:00:00</td>\n",
       "      <td>8.213125</td>\n",
       "      <td>8.204848</td>\n",
       "    </tr>\n",
       "    <tr>\n",
       "      <th>2</th>\n",
       "      <td>2007-01-01 02:00:00</td>\n",
       "      <td>7.102716</td>\n",
       "      <td>7.086055</td>\n",
       "    </tr>\n",
       "    <tr>\n",
       "      <th>3</th>\n",
       "      <td>2007-01-01 03:00:00</td>\n",
       "      <td>8.614593</td>\n",
       "      <td>8.604501</td>\n",
       "    </tr>\n",
       "    <tr>\n",
       "      <th>4</th>\n",
       "      <td>2007-01-01 04:00:00</td>\n",
       "      <td>8.448002</td>\n",
       "      <td>8.437731</td>\n",
       "    </tr>\n",
       "    <tr>\n",
       "      <th>...</th>\n",
       "      <td>...</td>\n",
       "      <td>...</td>\n",
       "      <td>...</td>\n",
       "    </tr>\n",
       "    <tr>\n",
       "      <th>1996</th>\n",
       "      <td>2007-03-25 04:00:00</td>\n",
       "      <td>7.438345</td>\n",
       "      <td>4.948853</td>\n",
       "    </tr>\n",
       "    <tr>\n",
       "      <th>1997</th>\n",
       "      <td>2007-03-25 05:00:00</td>\n",
       "      <td>7.546097</td>\n",
       "      <td>6.748090</td>\n",
       "    </tr>\n",
       "    <tr>\n",
       "      <th>1998</th>\n",
       "      <td>2007-03-25 06:00:00</td>\n",
       "      <td>6.790068</td>\n",
       "      <td>5.588149</td>\n",
       "    </tr>\n",
       "    <tr>\n",
       "      <th>1999</th>\n",
       "      <td>2007-03-25 07:00:00</td>\n",
       "      <td>6.690274</td>\n",
       "      <td>5.815836</td>\n",
       "    </tr>\n",
       "    <tr>\n",
       "      <th>2000</th>\n",
       "      <td>2007-03-25 08:00:00</td>\n",
       "      <td>6.204334</td>\n",
       "      <td>3.805768</td>\n",
       "    </tr>\n",
       "  </tbody>\n",
       "</table>\n",
       "<p>2001 rows × 3 columns</p>\n",
       "</div>"
      ],
      "text/plain": [
       "                timestamp        ws  ws-adjusted\n",
       "0     2007-01-01 00:00:00  7.787228     7.771351\n",
       "1     2007-01-01 01:00:00  8.213125     8.204848\n",
       "2     2007-01-01 02:00:00  7.102716     7.086055\n",
       "3     2007-01-01 03:00:00  8.614593     8.604501\n",
       "4     2007-01-01 04:00:00  8.448002     8.437731\n",
       "...                   ...       ...          ...\n",
       "1996  2007-03-25 04:00:00  7.438345     4.948853\n",
       "1997  2007-03-25 05:00:00  7.546097     6.748090\n",
       "1998  2007-03-25 06:00:00  6.790068     5.588149\n",
       "1999  2007-03-25 07:00:00  6.690274     5.815836\n",
       "2000  2007-03-25 08:00:00  6.204334     3.805768\n",
       "\n",
       "[2001 rows x 3 columns]"
      ]
     },
     "execution_count": 5,
     "metadata": {},
     "output_type": "execute_result"
    }
   ],
   "source": [
    "predictions_df"
   ]
  },
  {
   "cell_type": "code",
   "execution_count": 6,
   "id": "79395990-8e7a-460b-a1c4-f616933e9ca7",
   "metadata": {},
   "outputs": [
    {
     "data": {
      "text/plain": [
       "False    2001\n",
       "Name: ws-adjusted, dtype: int64"
      ]
     },
     "execution_count": 6,
     "metadata": {},
     "output_type": "execute_result"
    }
   ],
   "source": [
    "predictions_df[\"ws-adjusted\"].isna().value_counts()"
   ]
  },
  {
   "cell_type": "code",
   "execution_count": 7,
   "id": "1545cc28-62f8-481d-8075-ee72ca750c3e",
   "metadata": {},
   "outputs": [
    {
     "data": {
      "text/plain": [
       "<AxesSubplot:>"
      ]
     },
     "execution_count": 7,
     "metadata": {},
     "output_type": "execute_result"
    },
    {
     "data": {
      "image/png": "[encoded data removed]",
      "text/plain": [
       "<Figure size 640x480 with 1 Axes>"
      ]
     },
     "metadata": {},
     "output_type": "display_data"
    }
   ],
   "source": [
    "(predictions_df[\"ws\"] - predictions_df[\"ws-adjusted\"]).plot()"
   ]
  },
  {
   "cell_type": "code",
   "execution_count": 23,
   "id": "fabeea3a-09f5-416d-909c-245a4afb29a6",
   "metadata": {},
   "outputs": [
    {
     "data": {
      "text/plain": [
       "<AxesSubplot:xlabel='wd', ylabel='Count'>"
      ]
     },
     "execution_count": 23,
     "metadata": {},
     "output_type": "execute_result"
    },
    {
     "data": {
      "image/png": "[encoded data removed]",
      "text/plain": [
       "<Figure size 640x480 with 1 Axes>"
      ]
     },
     "metadata": {},
     "output_type": "display_data"
    }
   ],
   "source": [
    "import seaborn as sns\n",
    "negative_ws_adjusted = predictions_df[\"ws-adjusted\"][predictions_df[\"ws-adjusted\"] < 0]\n",
    "\n",
    "# Use the index of negative_ws_adjusted to select rows from atmospheric_df to find the corresponding wind direction values;\n",
    "# show distribution of wind direction values \n",
    "sns.histplot(atmospheric_df.loc[negative_ws_adjusted.index].wd, bins=60)"
   ]
  },
  {
   "cell_type": "code",
   "execution_count": 25,
   "id": "7020b11a-5748-4f1d-a85f-00b736a82298",
   "metadata": {},
   "outputs": [
    {
     "data": {
      "text/plain": [
       "<AxesSubplot:xlabel='ws', ylabel='Count'>"
      ]
     },
     "execution_count": 25,
     "metadata": {},
     "output_type": "execute_result"
    },
    {
     "data": {
      "image/png": "[encoded data removed]",
      "text/plain": [
       "<Figure size 640x480 with 1 Axes>"
      ]
     },
     "metadata": {},
     "output_type": "display_data"
    }
   ],
   "source": [
    "# Show wind speeds that correspond to the wind directions selected above \n",
    "sns.histplot(atmospheric_df.loc[negative_ws_adjusted.index].ws, bins=60)"
   ]
  },
  {
   "cell_type": "code",
   "execution_count": 11,
   "id": "6dd975e1-cc90-4bca-a5c3-d0d10aa83d8d",
   "metadata": {},
   "outputs": [
    {
     "data": {
      "text/plain": [
       "<AxesSubplot:>"
      ]
     },
     "execution_count": 11,
     "metadata": {},
     "output_type": "execute_result"
    },
    {
     "data": {
      "image/png": "[encoded data removed]",
      "text/plain": [
       "<Figure size 640x480 with 1 Axes>"
      ]
     },
     "metadata": {},
     "output_type": "display_data"
    }
   ],
   "source": [
    "predictions_df[[\"ws\", \"ws-adjusted\"]][:2000].plot()"
   ]
  },
  {
   "cell_type": "code",
   "execution_count": 10,
   "id": "ab407253-9f32-45c4-b27d-b05d1058eceb",
   "metadata": {},
   "outputs": [
    {
     "data": {
      "text/plain": [
       "<matplotlib.collections.PathCollection at 0x7fbadc4e7eb0>"
      ]
     },
     "execution_count": 10,
     "metadata": {},
     "output_type": "execute_result"
    },
    {
     "data": {
      "image/png": "[encoded data removed]",
      "text/plain": [
       "<Figure size 640x480 with 1 Axes>"
      ]
     },
     "metadata": {},
     "output_type": "display_data"
    }
   ],
   "source": [
    "tmp = predictions_df # [predictions_df[\"nonlinear\"] > 0]\n",
    "\n",
    "import matplotlib.pyplot as plt\n",
    "plt.scatter(tmp[\"ws\"], tmp[\"ws-adjusted\"])"
   ]
  },
  {
   "cell_type": "code",
   "execution_count": 8,
   "id": "f7652ec3-93c4-45a2-b4f1-63e708b624e0",
   "metadata": {},
   "outputs": [
    {
     "data": {
      "text/plain": [
       "13.72442114431899"
      ]
     },
     "execution_count": 8,
     "metadata": {},
     "output_type": "execute_result"
    }
   ],
   "source": [
    "tmp[\"ws\"].max()"
   ]
  },
  {
   "cell_type": "code",
   "execution_count": 9,
   "id": "6b35e04e-ffad-4188-a6b5-3ee7f9322f1f",
   "metadata": {},
   "outputs": [
    {
     "data": {
      "text/plain": [
       "13.22385572959052"
      ]
     },
     "execution_count": 9,
     "metadata": {},
     "output_type": "execute_result"
    }
   ],
   "source": [
    "predictions_df[\"ws-adjusted\"].max()"
   ]
  },
  {
   "cell_type": "code",
   "execution_count": 15,
   "id": "402b3ddb-2740-4313-8077-0639d0edc4af",
   "metadata": {},
   "outputs": [],
   "source": [
    "##### Cells below can be used for demonstration purposes"
   ]
  },
  {
   "cell_type": "code",
   "execution_count": 9,
   "id": "503cd3c7-3602-4fbc-b642-db507906d4e5",
   "metadata": {},
   "outputs": [],
   "source": [
    "# atmospheric_df"
   ]
  },
  {
   "cell_type": "code",
   "execution_count": 10,
   "id": "408534a2-ab78-491c-b6e5-36f2a691dcdc",
   "metadata": {},
   "outputs": [],
   "source": [
    "# obstacles_df #height is in meters; geometry has polygons in (lat,lon) pairs"
   ]
  },
  {
   "cell_type": "code",
   "execution_count": 11,
   "id": "a01652d7-ea98-4b38-8248-cf8af1c6d9fb",
   "metadata": {},
   "outputs": [],
   "source": [
    "# xy_turbine # location of turbine in lat,lon"
   ]
  },
  {
   "cell_type": "code",
   "execution_count": 12,
   "id": "b491d2bb-69a3-4760-b25e-da60be45ae73",
   "metadata": {},
   "outputs": [],
   "source": [
    "# z_turbine # hub height in meters "
   ]
  },
  {
   "cell_type": "code",
   "execution_count": 14,
   "id": "c987d858-9efe-44ab-aa7c-46d6532409da",
   "metadata": {},
   "outputs": [],
   "source": [
    "# predictions_df = \\\n",
    "#     run_lom(atmospheric_df, obstacles_df, xy_turbine, z_turbine)"
   ]
  },
  {
   "cell_type": "code",
   "execution_count": 13,
   "id": "620f76fd-b5a9-40f2-8071-8f66ac8adfdf",
   "metadata": {},
   "outputs": [],
   "source": [
    "# predictions_df"
   ]
  }
 ],
 "metadata": {
  "kernelspec": {
   "display_name": "Python 3 (ipykernel)",
   "language": "python",
   "name": "python3"
  },
  "language_info": {
   "codemirror_mode": {
    "name": "ipython",
    "version": 3
   },
   "file_extension": ".py",
   "mimetype": "text/x-python",
   "name": "python",
   "nbconvert_exporter": "python",
   "pygments_lexer": "ipython3",
   "version": "3.8.13"
  }
 },
 "nbformat": 4,
 "nbformat_minor": 5
}
