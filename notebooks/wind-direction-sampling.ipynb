{
 "cells": [
  {
   "cell_type": "markdown",
   "id": "a7ca841a-d992-4949-b5dc-36943bddf73e",
   "metadata": {},
   "source": [
    "## Small analysis of wind speeds at approximently 200 meters from point"
   ]
  },
  {
   "cell_type": "markdown",
   "id": "8aeebaa1-34f6-436f-a48f-5a50a220cfd8",
   "metadata": {},
   "source": [
    "Using the approximation that each degree of lat and lon are around 111,000 meters,\n",
    "select 4 bounding points to find the wind directions at such points given the buildings.\n",
    "Print wind directions to compare manually for confirmation that distribution of directions\n",
    "appears correct. "
   ]
  },
  {
   "cell_type": "markdown",
   "id": "2a77b899-eaac-4c5d-8d11-2eebe7725c9e",
   "metadata": {},
   "source": [
    "## Original Point"
   ]
  },
  {
   "cell_type": "code",
   "execution_count": 8,
   "id": "61547da7-01aa-4fb3-a3c1-0d031dc2c9ff",
   "metadata": {},
   "outputs": [
    {
     "name": "stdout",
     "output_type": "stream",
     "text": [
      "LOM time : 0.25  min\n"
     ]
    }
   ],
   "source": [
    "import numpy as np\n",
    "import pandas as pd\n",
    "import time\n",
    "import h5pyd\n",
    "import geopandas as gpd\n",
    "from dw_tap.data_fetching import getData\n",
    "from dw_tap.power_output import estimate_power_output\n",
    "from dw_tap.lom import run_lom\n",
    "\n",
    "z_turbine = 40 # turbine height in [m]\n",
    "lat, lon = 39.32856, -89.40238\n",
    "obstacle_file = \"../sites/180-Manual1.geojson\"\n",
    "\n",
    "# Open the wind data \"file\"\n",
    "# server endpoint, username, password are found in ~/.hscfg\n",
    "f = h5pyd.File(\"/nrel/wtk-us.h5\", 'r', bucket=\"nrel-pds-hsds\") \n",
    "\n",
    "df = getData(f, lat, lon, z_turbine, \"IDW\", True,\n",
    "                                       start_time_idx=0, end_time_idx=4380, time_stride=1)\n",
    "\n",
    "df_places = gpd.read_file(obstacle_file)\n",
    "x1_turbine, y1_turbine = lat, lon\n",
    "xy_turbine = [np.array([x1_turbine, y1_turbine])]\n",
    "\n",
    "predictions_df = \\\n",
    "    run_lom(df, df_places, xy_turbine, z_turbine)\n",
    "\n",
    "kw, above_curve, below_curve, above_curve_list, below_curve_list = \\\n",
    "    estimate_power_output(predictions_df, df[\"temp\"], df[\"pres\"])  "
   ]
  },
  {
   "cell_type": "code",
   "execution_count": 4,
   "id": "57304f78-678f-4624-8457-02da1dfda659",
   "metadata": {},
   "outputs": [
    {
     "name": "stdout",
     "output_type": "stream",
     "text": [
      "0       232.969856\n",
      "1       238.699807\n",
      "2       231.615181\n",
      "3       237.254853\n",
      "4       237.999669\n",
      "           ...    \n",
      "4376     91.520956\n",
      "4377     91.665113\n",
      "4378     97.891048\n",
      "4379    102.283249\n",
      "4380    119.623114\n",
      "Name: wd, Length: 4381, dtype: float64\n"
     ]
    }
   ],
   "source": [
    "print(df[\"wd\"])"
   ]
  },
  {
   "cell_type": "markdown",
   "id": "135f4a4b-8d83-4558-a674-f6146d7a52ed",
   "metadata": {},
   "source": [
    "## Point around 200 meters to the lower left\n",
    "200 meters is about .0018 degrees"
   ]
  },
  {
   "cell_type": "code",
   "execution_count": 6,
   "id": "1e62b8d2-4376-4ced-9a0c-0c9527dd5531",
   "metadata": {},
   "outputs": [
    {
     "name": "stdout",
     "output_type": "stream",
     "text": [
      "LOM time : 0.25  min\n"
     ]
    }
   ],
   "source": [
    "lat, lon = 39.32856 - .0018, -89.40238 - .0018\n",
    "df_LL = getData(f, lat, lon, z_turbine, \"IDW\", True,\n",
    "                                       start_time_idx=0, end_time_idx=4380, time_stride=1)\n",
    "\n",
    "df_places = gpd.read_file(obstacle_file)\n",
    "x1_turbine, y1_turbine = lat, lon\n",
    "xy_turbine = [np.array([x1_turbine, y1_turbine])]\n",
    "\n",
    "predictions_df_LL = \\\n",
    "    run_lom(df_LL, df_places, xy_turbine, z_turbine)\n",
    "\n",
    "kw, above_curve, below_curve, above_curve_list, below_curve_list = \\\n",
    "    estimate_power_output(predictions_df_LL, df[\"temp\"], df[\"pres\"])  "
   ]
  },
  {
   "cell_type": "code",
   "execution_count": 7,
   "id": "857c5113-5e5f-4368-aab5-123908783d36",
   "metadata": {},
   "outputs": [
    {
     "name": "stdout",
     "output_type": "stream",
     "text": [
      "0       232.010927\n",
      "1       238.392160\n",
      "2       231.915333\n",
      "3       237.659400\n",
      "4       237.705532\n",
      "           ...    \n",
      "4376     90.658656\n",
      "4377     90.899025\n",
      "4378     97.129796\n",
      "4379    101.377274\n",
      "4380    119.324749\n",
      "Name: wd, Length: 4381, dtype: float64\n"
     ]
    }
   ],
   "source": [
    "print(df_LL[\"wd\"])"
   ]
  },
  {
   "cell_type": "markdown",
   "id": "930d9b58-5daa-43c8-9237-292bc9c89d6a",
   "metadata": {},
   "source": [
    "## Point around 200 meters to the upper left"
   ]
  },
  {
   "cell_type": "code",
   "execution_count": 9,
   "id": "ded4deda-b326-4c43-b035-08242a24594e",
   "metadata": {},
   "outputs": [
    {
     "name": "stdout",
     "output_type": "stream",
     "text": [
      "LOM time : 0.26  min\n"
     ]
    }
   ],
   "source": [
    "lat, lon = 39.32856 + .0018, -89.40238 - .0018\n",
    "df_UL = getData(f, lat, lon, z_turbine, \"IDW\", True,\n",
    "                                       start_time_idx=0, end_time_idx=4380, time_stride=1)\n",
    "\n",
    "df_places = gpd.read_file(obstacle_file)\n",
    "x1_turbine, y1_turbine = lat, lon\n",
    "xy_turbine = [np.array([x1_turbine, y1_turbine])]\n",
    "\n",
    "predictions_df_UL = \\\n",
    "    run_lom(df_UL, df_places, xy_turbine, z_turbine)\n",
    "\n",
    "kw, above_curve, below_curve, above_curve_list, below_curve_list = \\\n",
    "    estimate_power_output(predictions_df_UL, df[\"temp\"], df[\"pres\"]) "
   ]
  },
  {
   "cell_type": "code",
   "execution_count": 10,
   "id": "6f4a9df3-d506-4dfe-8be5-3c64b250e637",
   "metadata": {},
   "outputs": [
    {
     "name": "stdout",
     "output_type": "stream",
     "text": [
      "0       231.512399\n",
      "1       238.185033\n",
      "2       232.416643\n",
      "3       237.595726\n",
      "4       237.915202\n",
      "           ...    \n",
      "4376     90.253011\n",
      "4377     90.623111\n",
      "4378     96.356650\n",
      "4379    100.717978\n",
      "4380    119.423963\n",
      "Name: wd, Length: 4381, dtype: float64\n"
     ]
    }
   ],
   "source": [
    "print(df_UL[\"wd\"])"
   ]
  },
  {
   "cell_type": "markdown",
   "id": "9ff43be8-433f-43db-837f-cd0552d0d3b8",
   "metadata": {},
   "source": [
    "## Point around 200 meters to the upper right"
   ]
  },
  {
   "cell_type": "code",
   "execution_count": 11,
   "id": "d16267c9-4db0-48bd-854f-f107c2803f0e",
   "metadata": {},
   "outputs": [
    {
     "name": "stdout",
     "output_type": "stream",
     "text": [
      "LOM time : 0.25  min\n"
     ]
    }
   ],
   "source": [
    "lat, lon = 39.32856 + .0018, -89.40238 + .0018\n",
    "df_UR = getData(f, lat, lon, z_turbine, \"IDW\", True,\n",
    "                                       start_time_idx=0, end_time_idx=4380, time_stride=1)\n",
    "\n",
    "df_places = gpd.read_file(obstacle_file)\n",
    "x1_turbine, y1_turbine = lat, lon\n",
    "xy_turbine = [np.array([x1_turbine, y1_turbine])]\n",
    "\n",
    "predictions_df_UR = \\\n",
    "    run_lom(df_UR, df_places, xy_turbine, z_turbine)\n",
    "\n",
    "kw, above_curve, below_curve, above_curve_list, below_curve_list = \\\n",
    "    estimate_power_output(predictions_df_UR, df[\"temp\"], df[\"pres\"]) "
   ]
  },
  {
   "cell_type": "code",
   "execution_count": 12,
   "id": "962eabe0-8962-451b-a229-67acfc5cc0fb",
   "metadata": {},
   "outputs": [
    {
     "name": "stdout",
     "output_type": "stream",
     "text": [
      "0       233.003468\n",
      "1       238.697562\n",
      "2       231.726873\n",
      "3       237.133716\n",
      "4       238.144433\n",
      "           ...    \n",
      "4376     91.551774\n",
      "4377     91.730378\n",
      "4378     97.774972\n",
      "4379    102.243356\n",
      "4380    119.728489\n",
      "Name: wd, Length: 4381, dtype: float64\n"
     ]
    }
   ],
   "source": [
    "print(df_UR[\"wd\"])"
   ]
  },
  {
   "cell_type": "markdown",
   "id": "e7d68c09-94f4-493d-a4e7-a62384750c51",
   "metadata": {},
   "source": [
    "## Point around 200 meters to the lower right"
   ]
  },
  {
   "cell_type": "code",
   "execution_count": 13,
   "id": "d5dcbbbb-eb58-496b-9fd1-a8e0883e21b8",
   "metadata": {},
   "outputs": [
    {
     "name": "stdout",
     "output_type": "stream",
     "text": [
      "LOM time : 0.24  min\n"
     ]
    }
   ],
   "source": [
    "lat, lon = 39.32856 - .0018, -89.40238 + .0018\n",
    "df_LR = getData(f, lat, lon, z_turbine, \"IDW\", True,\n",
    "                                       start_time_idx=0, end_time_idx=4380, time_stride=1)\n",
    "\n",
    "df_places = gpd.read_file(obstacle_file)\n",
    "x1_turbine, y1_turbine = lat, lon\n",
    "xy_turbine = [np.array([x1_turbine, y1_turbine])]\n",
    "\n",
    "predictions_df_LR = \\\n",
    "    run_lom(df_LR, df_places, xy_turbine, z_turbine)\n",
    "\n",
    "kw, above_curve, below_curve, above_curve_list, below_curve_list = \\\n",
    "    estimate_power_output(predictions_df_LR, df[\"temp\"], df[\"pres\"]) "
   ]
  },
  {
   "cell_type": "code",
   "execution_count": 14,
   "id": "26905524-1b33-4235-aff4-f1d59d2832fb",
   "metadata": {},
   "outputs": [
    {
     "name": "stdout",
     "output_type": "stream",
     "text": [
      "0       232.989628\n",
      "1       238.711566\n",
      "2       231.542153\n",
      "3       237.317990\n",
      "4       237.926587\n",
      "           ...    \n",
      "4376     91.556234\n",
      "4377     91.666748\n",
      "4378     98.001585\n",
      "4379    102.355337\n",
      "4380    119.571396\n",
      "Name: wd, Length: 4381, dtype: float64\n"
     ]
    }
   ],
   "source": [
    "print(df_LR[\"wd\"])"
   ]
  }
 ],
 "metadata": {
  "kernelspec": {
   "display_name": "Python 3 (ipykernel)",
   "language": "python",
   "name": "python3"
  },
  "language_info": {
   "codemirror_mode": {
    "name": "ipython",
    "version": 3
   },
   "file_extension": ".py",
   "mimetype": "text/x-python",
   "name": "python",
   "nbconvert_exporter": "python",
   "pygments_lexer": "ipython3",
   "version": "3.8.13"
  }
 },
 "nbformat": 4,
 "nbformat_minor": 5
}
