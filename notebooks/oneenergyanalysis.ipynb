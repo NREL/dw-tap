{
 "cells": [
  {
   "cell_type": "markdown",
   "id": "18816282-6b89-4505-a851-421dce75d408",
   "metadata": {},
   "source": [
    "## Step 1: Be able to read in the temperature, pressure, wind speed, wind direction, and time into a pandas dataframe. \n"
   ]
  },
  {
   "cell_type": "code",
   "execution_count": 2,
   "id": "1e6d9c1e-6434-44ad-8ce9-abab6c156fa7",
   "metadata": {},
   "outputs": [],
   "source": [
    "import numpy as np\n",
    "import pandas as pd\n",
    "import time\n",
    "import h5pyd\n",
    "import geopandas as gpd\n",
    "#from dw_tap.power_output import estimate_power_output\n",
    "from dw_tap.lom import run_lom"
   ]
  },
  {
   "cell_type": "code",
   "execution_count": 19,
   "id": "f46a672a-251f-4a63-9c74-4e36d38892ba",
   "metadata": {},
   "outputs": [],
   "source": [
    "def estimate_power_output(df, temp, pres, ws_column=\"ws-adjusted\"): \n",
    "    \"\"\"\n",
    "    Inputs: dataframe, temperature series and pressure series\n",
    "    Outputs: total kw predicted over time period, instances with wind speed above possible generation, instances with wind speed below possible generation, lists of wind speeds above and below those marks\n",
    "    \"\"\"\n",
    "    df_copy = df.copy()\n",
    "    \n",
    "    air_density = (pres) / (287.05 * temp)\n",
    "    df_copy[ws_column] = (df_copy[ws_column] * ((air_density/1.225)**(1/3)))\n",
    "    kw = Goldwind871500.windspeed_to_kw(df_copy, ws_column)\n",
    "    above_curve_counter = Goldwind871500.above_curve_counter\n",
    "    below_curve_counter = Goldwind871500.below_curve_counter\n",
    "    above_curve_list = Goldwind871500.above_curve_list\n",
    "    below_curve_list = Goldwind871500.below_curve_list\n",
    "    return kw, above_curve_counter, below_curve_counter, above_curve_list, below_curve_list\n",
    "\n",
    "class Goldwind871500(object):\n",
    "    \n",
    "    # Load data and minimal preprocessing\n",
    "    raw_data = pd.read_excel(\"../powercurves/Goldwind871500.xlsx\")\n",
    "    raw_data.rename(columns={\"Wind Speed (m/s)\": \"ws\", \"Turbine Output\": \"kw\"}, inplace=True)\n",
    "    \n",
    "    # Create vectors for interpolation\n",
    "    interp_x = raw_data.ws\n",
    "    interp_y = raw_data.kw\n",
    "    \n",
    "    # Counters for cases outside of the real curve\n",
    "    below_curve_counter = 0\n",
    "    above_curve_counter = 0\n",
    "    # Keeping windspeeds that are higher than what is in the curve\n",
    "    above_curve_list = []\n",
    "    below_curve_list = []\n",
    "    \n",
    "    max_ws = max(raw_data.ws)\n",
    "    \n",
    "    @classmethod\n",
    "    def windspeed_to_kw(cls, df, ws_column=\"ws-adjusted\"):\n",
    "        \"\"\" Converts wind speed to kw \"\"\"\n",
    "        kw = pd.Series(np.interp(df[ws_column], cls.interp_x, cls.interp_y))\n",
    "        ws = df[ws_column]\n",
    "        for i in range(len(kw)):\n",
    "            if kw.loc[i] <= 0: \n",
    "                cls.below_curve_counter += 1\n",
    "                cls.below_curve_list.append(tuple((df[\"timestamp\"][i], kw[i])))\n",
    "            if ws.loc[i] > cls.max_ws:\n",
    "                cls.above_curve_counter += 1\n",
    "                cls.above_curve_list.append(tuple((df[\"timestamp\"][i], ws[i])))\n",
    "                kw.loc[i] = 0\n",
    "        \n",
    "        return kw\n",
    "    \n",
    "    @classmethod\n",
    "    def reset_counters(cls):\n",
    "        \"\"\" Sets counters and lists back to 0 and empty \"\"\"\n",
    "        cls.below_curve_counter = 0\n",
    "        cls.above_curve_counter = 0\n",
    "        cls.above_curve_list = []\n",
    "        cls.below_curve_list = []"
   ]
  },
  {
   "cell_type": "code",
   "execution_count": 4,
   "id": "c18a8ef1-b8d6-4092-9b6e-07a17d8ef482",
   "metadata": {},
   "outputs": [
    {
     "name": "stdout",
     "output_type": "stream",
     "text": [
      "                 datetime    temp     pres       wd     ws\n",
      "0     2017-08-15 14:50:00  304.36  97990.0  272.334  2.110\n",
      "1     2017-08-15 15:00:00  304.84  97990.0  289.350  2.485\n",
      "2     2017-08-15 15:10:00  305.71  98000.0  291.621  3.112\n",
      "3     2017-08-15 15:20:00  306.42  98000.0  298.223  3.143\n",
      "4     2017-08-15 15:30:00  307.01  98010.0  278.997  4.026\n",
      "...                   ...     ...      ...      ...    ...\n",
      "52647 2018-08-16 14:40:00  295.08  98420.0  178.480  8.749\n",
      "52648 2018-08-16 14:50:00  295.03  98430.0  179.000  8.429\n",
      "52649 2018-08-16 15:00:00  295.17  98430.0  178.750  8.544\n",
      "52650 2018-08-16 15:10:00  295.24  98440.0  178.223  9.819\n",
      "52651 2018-08-16 15:20:00  295.25  98440.0  178.199  9.053\n",
      "\n",
      "[52652 rows x 5 columns]\n"
     ]
    }
   ],
   "source": [
    "#Using 79m wind speed and direction (hub height is 80m for turbines in this area)\n",
    "atmospheric_df = pd.read_excel(\"../data/lidar_marion_OH.xlsx\", header=3, usecols=\"A,L,M,AY,AZ\")\n",
    "atmospheric_df.rename(columns={'Date (UTC)':'datetime', 'Air Temp. Cel.':'temp', 'Pressure (mbar)':'pres', 'Wind Direction (deg) at 79m':'wd', 'Horizontal Wind Speed (m/s) at 79m':'ws'}, inplace=True)\n",
    "atmospheric_df['temp'] = atmospheric_df['temp'].apply(lambda x : x + 273.15) #convert to K from C\n",
    "atmospheric_df['pres'] = atmospheric_df['pres'].apply(lambda x : x * 100) #convert to Pascals from mbar\n",
    "print(atmospheric_df)"
   ]
  },
  {
   "cell_type": "code",
   "execution_count": 5,
   "id": "50d6cd97-5d3c-4da4-b69a-d678c3eb0177",
   "metadata": {},
   "outputs": [],
   "source": [
    "#W1 coordinates\n",
    "z_turbine = 80\n",
    "lat, lon = 40.591555, -83.182092\n",
    "obstacle_file = \"../sites/simple_marion_obstacles.geojson\"\n",
    "obstacles_df = gpd.read_file(obstacle_file)\n",
    "obstacles_df = obstacles_df[[\"height\", \"geometry\"]]\n",
    "x1_turbine, y1_turbine = lat, lon\n",
    "xy_turbine = [np.array([x1_turbine, y1_turbine])]"
   ]
  },
  {
   "cell_type": "code",
   "execution_count": 6,
   "id": "23e3d4fb-c43c-462a-87f1-d200f5cc02fc",
   "metadata": {},
   "outputs": [
    {
     "name": "stderr",
     "output_type": "stream",
     "text": [
      "2023-01-28 09:00:52.900865: I tensorflow/core/platform/cpu_feature_guard.cc:193] This TensorFlow binary is optimized with oneAPI Deep Neural Network Library (oneDNN) to use the following CPU instructions in performance-critical operations:  SSE4.1 SSE4.2 AVX AVX2 FMA\n",
      "To enable them in other operations, rebuild TensorFlow with the appropriate compiler flags.\n"
     ]
    },
    {
     "name": "stdout",
     "output_type": "stream",
     "text": [
      "LOM time : 3.24  min\n"
     ]
    }
   ],
   "source": [
    "predictions_df = \\\n",
    "    run_lom(atmospheric_df, obstacles_df, xy_turbine, z_turbine).join(atmospheric_df[\"wd\"])"
   ]
  },
  {
   "cell_type": "code",
   "execution_count": 7,
   "id": "af6a1325-dfc7-418a-8249-d543dcd48dba",
   "metadata": {},
   "outputs": [],
   "source": [
    "temp = atmospheric_df['temp']\n",
    "predictions_df = predictions_df.join(temp)"
   ]
  },
  {
   "cell_type": "code",
   "execution_count": 8,
   "id": "b35056a7-0138-4341-8f77-4f8ce4bb71d9",
   "metadata": {},
   "outputs": [],
   "source": [
    "pres = atmospheric_df['pres']\n",
    "predictions_df = predictions_df.join(pres)"
   ]
  },
  {
   "cell_type": "markdown",
   "id": "d5a8b299-2f50-4cca-97bc-cf7803232c7d",
   "metadata": {},
   "source": [
    "## Step 2: Read in the actual generated kw production from the same time period."
   ]
  },
  {
   "cell_type": "markdown",
   "id": "e48e3fc4-bbf5-41d9-91da-6ab03f2b3aaf",
   "metadata": {},
   "source": [
    "One issue is that the lidar data spans from mid-august of 2017 to mid-august of 2018. It looks like we only have wind production data from 2018 onwards. "
   ]
  },
  {
   "cell_type": "code",
   "execution_count": 9,
   "id": "068b4544-ada3-48d0-b486-a4adca3601c2",
   "metadata": {},
   "outputs": [
    {
     "name": "stderr",
     "output_type": "stream",
     "text": [
      "/var/folders/25/zcvsd3xj7536pq3r46bhr2q08qxlg5/T/ipykernel_54239/792601751.py:2: FutureWarning: The frame.append method is deprecated and will be removed from pandas in a future version. Use pandas.concat instead.\n",
      "  power_output_df = power_output_df.append(pd.read_excel(\"../data/marion/turbine.oneenergy.00.20180228.000000.marion.w1.xlsx\", header=1, usecols=\"B, C, M\"))\n",
      "/var/folders/25/zcvsd3xj7536pq3r46bhr2q08qxlg5/T/ipykernel_54239/792601751.py:3: FutureWarning: The frame.append method is deprecated and will be removed from pandas in a future version. Use pandas.concat instead.\n",
      "  power_output_df = power_output_df.append(pd.read_excel(\"../data/marion/turbine.oneenergy.00.20180331.000000.marion.w1.xlsx\", header=1, usecols=\"B, C, M\"))\n",
      "/var/folders/25/zcvsd3xj7536pq3r46bhr2q08qxlg5/T/ipykernel_54239/792601751.py:4: FutureWarning: The frame.append method is deprecated and will be removed from pandas in a future version. Use pandas.concat instead.\n",
      "  power_output_df = power_output_df.append(pd.read_excel(\"../data/marion/turbine.oneenergy.00.20180430.000000.marion.w1.xlsx\", header=1, usecols=\"B, C, M\"))\n",
      "/var/folders/25/zcvsd3xj7536pq3r46bhr2q08qxlg5/T/ipykernel_54239/792601751.py:5: FutureWarning: The frame.append method is deprecated and will be removed from pandas in a future version. Use pandas.concat instead.\n",
      "  power_output_df = power_output_df.append(pd.read_excel(\"../data/marion/turbine.oneenergy.00.20180531.000000.marion.w1.xlsx\", header=1, usecols=\"B, C, M\"))\n",
      "/var/folders/25/zcvsd3xj7536pq3r46bhr2q08qxlg5/T/ipykernel_54239/792601751.py:6: FutureWarning: The frame.append method is deprecated and will be removed from pandas in a future version. Use pandas.concat instead.\n",
      "  power_output_df = power_output_df.append(pd.read_excel(\"../data/marion/turbine.oneenergy.00.20180630.000000.marion.w1.xlsx\", header=1, usecols=\"B, C, M\"))\n",
      "/var/folders/25/zcvsd3xj7536pq3r46bhr2q08qxlg5/T/ipykernel_54239/792601751.py:7: FutureWarning: The frame.append method is deprecated and will be removed from pandas in a future version. Use pandas.concat instead.\n",
      "  power_output_df = power_output_df.append(pd.read_excel(\"../data/marion/turbine.oneenergy.00.20180731.000000.marion.w1.xlsx\", header=1, usecols=\"B, C, M\"))\n",
      "/var/folders/25/zcvsd3xj7536pq3r46bhr2q08qxlg5/T/ipykernel_54239/792601751.py:8: FutureWarning: The frame.append method is deprecated and will be removed from pandas in a future version. Use pandas.concat instead.\n",
      "  power_output_df = power_output_df.append(pd.read_excel(\"../data/marion/turbine.oneenergy.00.20180831.000000.marion.w1.xlsx\", header=1, usecols=\"B, C, M\"))\n"
     ]
    }
   ],
   "source": [
    "power_output_df = pd.read_excel(\"../data/marion/turbine.oneenergy.00.20180131.000000.marion.w1.xlsx\", header=1, usecols=\"B, C, M\")\n",
    "power_output_df = power_output_df.append(pd.read_excel(\"../data/marion/turbine.oneenergy.00.20180228.000000.marion.w1.xlsx\", header=1, usecols=\"B, C, M\"))\n",
    "power_output_df = power_output_df.append(pd.read_excel(\"../data/marion/turbine.oneenergy.00.20180331.000000.marion.w1.xlsx\", header=1, usecols=\"B, C, M\"))\n",
    "power_output_df = power_output_df.append(pd.read_excel(\"../data/marion/turbine.oneenergy.00.20180430.000000.marion.w1.xlsx\", header=1, usecols=\"B, C, M\"))\n",
    "power_output_df = power_output_df.append(pd.read_excel(\"../data/marion/turbine.oneenergy.00.20180531.000000.marion.w1.xlsx\", header=1, usecols=\"B, C, M\"))\n",
    "power_output_df = power_output_df.append(pd.read_excel(\"../data/marion/turbine.oneenergy.00.20180630.000000.marion.w1.xlsx\", header=1, usecols=\"B, C, M\"))\n",
    "power_output_df = power_output_df.append(pd.read_excel(\"../data/marion/turbine.oneenergy.00.20180731.000000.marion.w1.xlsx\", header=1, usecols=\"B, C, M\"))\n",
    "power_output_df = power_output_df.append(pd.read_excel(\"../data/marion/turbine.oneenergy.00.20180831.000000.marion.w1.xlsx\", header=1, usecols=\"B, C, M\"))\n",
    "power_output_df.rename(columns={'Time':'timestamp', 'Wind Turbine Energy yield(kWh)':'measured_production', 'Avg Wind Speed(m/s)':'measured_ws'}, inplace=True)"
   ]
  },
  {
   "cell_type": "code",
   "execution_count": 10,
   "id": "bb3bbbee-391c-4165-87c5-b0fed2ca30ab",
   "metadata": {},
   "outputs": [
    {
     "name": "stdout",
     "output_type": "stream",
     "text": [
      "               timestamp  measured_ws  measured_production\n",
      "0    2018-01-01 00:00:00         5.92                   52\n",
      "1    2018-01-01 00:10:00         6.01                   58\n",
      "2    2018-01-01 00:20:00         5.96                   56\n",
      "3    2018-01-01 00:30:00         6.01                   58\n",
      "4    2018-01-01 00:40:00         5.82                   52\n",
      "...                  ...          ...                  ...\n",
      "4153 2018-08-31 23:10:00         6.24                   56\n",
      "4154 2018-08-31 23:20:00         5.99                   49\n",
      "4155 2018-08-31 23:30:00         6.40                   63\n",
      "4156 2018-08-31 23:40:00         6.26                   58\n",
      "4157 2018-08-31 23:50:00         5.53                   33\n",
      "\n",
      "[34080 rows x 3 columns]\n"
     ]
    }
   ],
   "source": [
    "print(power_output_df)"
   ]
  },
  {
   "cell_type": "code",
   "execution_count": 11,
   "id": "4fd5eacf-50e5-4c58-8b14-531a6c16b12c",
   "metadata": {},
   "outputs": [
    {
     "name": "stdout",
     "output_type": "stream",
     "text": [
      "                timestamp  ws-adjusted     ws       wd    temp     pres  \\\n",
      "0     2017-08-15 14:50:00        2.110  2.110  272.334  304.36  97990.0   \n",
      "1     2017-08-15 15:00:00        2.485  2.485  289.350  304.84  97990.0   \n",
      "2     2017-08-15 15:10:00        3.112  3.112  291.621  305.71  98000.0   \n",
      "3     2017-08-15 15:20:00        3.143  3.143  298.223  306.42  98000.0   \n",
      "4     2017-08-15 15:30:00        4.026  4.026  278.997  307.01  98010.0   \n",
      "...                   ...          ...    ...      ...     ...      ...   \n",
      "52647 2018-08-16 14:40:00        8.749  8.749  178.480  295.08  98420.0   \n",
      "52648 2018-08-16 14:50:00        8.429  8.429  179.000  295.03  98430.0   \n",
      "52649 2018-08-16 15:00:00        8.544  8.544  178.750  295.17  98430.0   \n",
      "52650 2018-08-16 15:10:00        9.819  9.819  178.223  295.24  98440.0   \n",
      "52651 2018-08-16 15:20:00        9.053  9.053  178.199  295.25  98440.0   \n",
      "\n",
      "       measured_production  measured_ws  \n",
      "0                      NaN          NaN  \n",
      "1                      NaN          NaN  \n",
      "2                      NaN          NaN  \n",
      "3                      NaN          NaN  \n",
      "4                      NaN          NaN  \n",
      "...                    ...          ...  \n",
      "52647                  NaN          NaN  \n",
      "52648                  NaN          NaN  \n",
      "52649                  NaN          NaN  \n",
      "52650                  NaN          NaN  \n",
      "52651                  NaN          NaN  \n",
      "\n",
      "[52652 rows x 8 columns]\n"
     ]
    }
   ],
   "source": [
    "pre_analysis = predictions_df.merge(power_output_df[['timestamp', 'measured_production', 'measured_ws']], on='timestamp', how='left')\n",
    "print(pre_analysis)"
   ]
  },
  {
   "cell_type": "code",
   "execution_count": 12,
   "id": "ce8a7a19-2105-46d6-873c-53fdab411cad",
   "metadata": {},
   "outputs": [
    {
     "name": "stdout",
     "output_type": "stream",
     "text": [
      "                timestamp  ws-adjusted     ws       wd    temp     pres  \\\n",
      "19885 2018-01-01 00:00:00        2.852  2.852  302.343  259.85  99780.0   \n",
      "19886 2018-01-01 00:10:00        2.566  2.566  305.654  259.79  99790.0   \n",
      "19887 2018-01-01 00:20:00        1.967  1.967  303.185  259.73  99790.0   \n",
      "19888 2018-01-01 00:30:00        1.774  1.774  301.331  259.44  99800.0   \n",
      "19889 2018-01-01 00:40:00        2.039  2.039  296.283  259.05  99820.0   \n",
      "...                   ...          ...    ...      ...     ...      ...   \n",
      "52616 2018-08-16 09:30:00        6.802  6.802  182.113  293.15  98320.0   \n",
      "52617 2018-08-16 09:40:00        5.719  5.719  185.084  293.22  98330.0   \n",
      "52618 2018-08-16 09:50:00        6.585  6.585  170.531  293.35  98340.0   \n",
      "52619 2018-08-16 10:00:00        6.719  6.719  168.171  293.36  98340.0   \n",
      "52620 2018-08-16 10:10:00        7.121  7.121  163.370  293.36  98350.0   \n",
      "\n",
      "       measured_production  measured_ws  \n",
      "19885                 52.0         5.92  \n",
      "19886                 58.0         6.01  \n",
      "19887                 56.0         5.96  \n",
      "19888                 58.0         6.01  \n",
      "19889                 52.0         5.82  \n",
      "...                    ...          ...  \n",
      "52616                140.0         7.84  \n",
      "52617                120.0         7.34  \n",
      "52618                111.0         7.15  \n",
      "52619                162.0         8.17  \n",
      "52620                148.0         8.01  \n",
      "\n",
      "[29380 rows x 8 columns]\n"
     ]
    }
   ],
   "source": [
    "pre_analysis = pre_analysis.dropna()\n",
    "print(pre_analysis)"
   ]
  },
  {
   "cell_type": "code",
   "execution_count": 22,
   "id": "d14b8394-ab47-4531-a17a-2f42f0d0c0ca",
   "metadata": {},
   "outputs": [
    {
     "name": "stdout",
     "output_type": "stream",
     "text": [
      "       level_0  index           timestamp  ws-adjusted     ws       wd  \\\n",
      "0            0  19885 2018-01-01 00:00:00        2.852  2.852  302.343   \n",
      "1            1  19886 2018-01-01 00:10:00        2.566  2.566  305.654   \n",
      "2            2  19887 2018-01-01 00:20:00        1.967  1.967  303.185   \n",
      "3            3  19888 2018-01-01 00:30:00        1.774  1.774  301.331   \n",
      "4            4  19889 2018-01-01 00:40:00        2.039  2.039  296.283   \n",
      "...        ...    ...                 ...          ...    ...      ...   \n",
      "29375    29375  52616 2018-08-16 09:30:00        6.802  6.802  182.113   \n",
      "29376    29376  52617 2018-08-16 09:40:00        5.719  5.719  185.084   \n",
      "29377    29377  52618 2018-08-16 09:50:00        6.585  6.585  170.531   \n",
      "29378    29378  52619 2018-08-16 10:00:00        6.719  6.719  168.171   \n",
      "29379    29379  52620 2018-08-16 10:10:00        7.121  7.121  163.370   \n",
      "\n",
      "         temp     pres  measured_production  measured_ws  \n",
      "0      259.85  99780.0                 52.0         5.92  \n",
      "1      259.79  99790.0                 58.0         6.01  \n",
      "2      259.73  99790.0                 56.0         5.96  \n",
      "3      259.44  99800.0                 58.0         6.01  \n",
      "4      259.05  99820.0                 52.0         5.82  \n",
      "...       ...      ...                  ...          ...  \n",
      "29375  293.15  98320.0                140.0         7.84  \n",
      "29376  293.22  98330.0                120.0         7.34  \n",
      "29377  293.35  98340.0                111.0         7.15  \n",
      "29378  293.36  98340.0                162.0         8.17  \n",
      "29379  293.36  98350.0                148.0         8.01  \n",
      "\n",
      "[29380 rows x 10 columns]\n"
     ]
    }
   ],
   "source": [
    "#pre_analysis = pre_analysis.reset_index()\n",
    "kw, above_curve, below_curve, above_curve_list, below_curve_list = \\\n",
    "    estimate_power_output(pre_analysis, pre_analysis[\"temp\"], pre_analysis[\"pres\"])\n",
    "print(pre_analysis)"
   ]
  },
  {
   "cell_type": "code",
   "execution_count": 23,
   "id": "dc026b56-1b61-49da-a069-afd7150aad3f",
   "metadata": {},
   "outputs": [
    {
     "name": "stdout",
     "output_type": "stream",
     "text": [
      "0         23.593601\n",
      "1          7.705506\n",
      "2          0.000000\n",
      "3          0.000000\n",
      "4          0.000000\n",
      "            ...    \n",
      "29375    493.596463\n",
      "29376    290.202307\n",
      "29377    445.267952\n",
      "29378    474.710793\n",
      "29379    565.265831\n",
      "Length: 29380, dtype: float64\n"
     ]
    }
   ],
   "source": [
    "print(kw)"
   ]
  },
  {
   "cell_type": "code",
   "execution_count": null,
   "id": "fb74de97-137b-4c1b-a5be-731c93905008",
   "metadata": {},
   "outputs": [],
   "source": []
  }
 ],
 "metadata": {
  "kernelspec": {
   "display_name": "Python 3 (ipykernel)",
   "language": "python",
   "name": "python3"
  },
  "language_info": {
   "codemirror_mode": {
    "name": "ipython",
    "version": 3
   },
   "file_extension": ".py",
   "mimetype": "text/x-python",
   "name": "python",
   "nbconvert_exporter": "python",
   "pygments_lexer": "ipython3",
   "version": "3.8.13"
  }
 },
 "nbformat": 4,
 "nbformat_minor": 5
}
