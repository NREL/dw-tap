{
 "cells": [
  {
   "cell_type": "markdown",
   "id": "18816282-6b89-4505-a851-421dce75d408",
   "metadata": {},
   "source": [
    "## Step 1: Be able to read in the temperature, pressure, wind speed, wind direction, and time into a pandas dataframe. \n"
   ]
  },
  {
   "cell_type": "code",
   "execution_count": 1,
   "id": "1e6d9c1e-6434-44ad-8ce9-abab6c156fa7",
   "metadata": {},
   "outputs": [
    {
     "name": "stderr",
     "output_type": "stream",
     "text": [
      "2023-02-09 11:12:47.828824: I tensorflow/core/platform/cpu_feature_guard.cc:193] This TensorFlow binary is optimized with oneAPI Deep Neural Network Library (oneDNN) to use the following CPU instructions in performance-critical operations:  SSE4.1 SSE4.2\n",
      "To enable them in other operations, rebuild TensorFlow with the appropriate compiler flags.\n"
     ]
    }
   ],
   "source": [
    "import numpy as np\n",
    "import pandas as pd\n",
    "import time\n",
    "import h5pyd\n",
    "import geopandas as gpd\n",
    "#from dw_tap.power_output import estimate_power_output\n",
    "from dw_tap.lom import run_lom"
   ]
  },
  {
   "cell_type": "code",
   "execution_count": 2,
   "id": "f46a672a-251f-4a63-9c74-4e36d38892ba",
   "metadata": {},
   "outputs": [],
   "source": [
    "def estimate_power_output(df, temp, pres, ws_column=\"ws-adjusted\"): \n",
    "    \"\"\"\n",
    "    Inputs: dataframe, temperature series and pressure series\n",
    "    Outputs: total kw predicted over time period, instances with wind speed above possible generation, instances with wind speed below possible generation, lists of wind speeds above and below those marks\n",
    "    \"\"\"\n",
    "    df_copy = df.copy()\n",
    "    \n",
    "    air_density = (pres) / (287.05 * temp)\n",
    "    df_copy[ws_column] = (df_copy[ws_column] * ((air_density/1.225)**(1/3)))\n",
    "    kw = Goldwind871500.windspeed_to_kw(df_copy, ws_column)\n",
    "    above_curve_counter = Goldwind871500.above_curve_counter\n",
    "    below_curve_counter = Goldwind871500.below_curve_counter\n",
    "    above_curve_list = Goldwind871500.above_curve_list\n",
    "    below_curve_list = Goldwind871500.below_curve_list\n",
    "    return kw, above_curve_counter, below_curve_counter, above_curve_list, below_curve_list\n",
    "\n",
    "class Goldwind871500(object):\n",
    "    \n",
    "    # Load data and minimal preprocessing\n",
    "    raw_data = pd.read_excel(\"../powercurves/Goldwind871500.xlsx\")\n",
    "    raw_data.rename(columns={\"Wind Speed (m/s)\": \"ws\", \"Turbine Output\": \"kw\"}, inplace=True)\n",
    "    \n",
    "    # Create vectors for interpolation\n",
    "    interp_x = raw_data.ws\n",
    "    interp_y = raw_data.kw\n",
    "    \n",
    "    # Counters for cases outside of the real curve\n",
    "    below_curve_counter = 0\n",
    "    above_curve_counter = 0\n",
    "    # Keeping windspeeds that are higher than what is in the curve\n",
    "    above_curve_list = []\n",
    "    below_curve_list = []\n",
    "    \n",
    "    max_ws = max(raw_data.ws)\n",
    "    \n",
    "    @classmethod\n",
    "    def windspeed_to_kw(cls, df, ws_column=\"ws-adjusted\"):\n",
    "        \"\"\" Converts wind speed to kw \"\"\"\n",
    "        kw = pd.Series(np.interp(df[ws_column], cls.interp_x, cls.interp_y))\n",
    "        ws = df[ws_column]\n",
    "        for i in range(len(kw)):\n",
    "            if kw.loc[i] <= 0: \n",
    "                cls.below_curve_counter += 1\n",
    "                cls.below_curve_list.append(tuple((df[\"timestamp\"][i], kw[i])))\n",
    "            if ws.loc[i] > cls.max_ws:\n",
    "                cls.above_curve_counter += 1\n",
    "                cls.above_curve_list.append(tuple((df[\"timestamp\"][i], ws[i])))\n",
    "                kw.loc[i] = 0\n",
    "        \n",
    "        return kw\n",
    "    \n",
    "    @classmethod\n",
    "    def reset_counters(cls):\n",
    "        \"\"\" Sets counters and lists back to 0 and empty \"\"\"\n",
    "        cls.below_curve_counter = 0\n",
    "        cls.above_curve_counter = 0\n",
    "        cls.above_curve_list = []\n",
    "        cls.below_curve_list = []"
   ]
  },
  {
   "cell_type": "code",
   "execution_count": 3,
   "id": "c18a8ef1-b8d6-4092-9b6e-07a17d8ef482",
   "metadata": {},
   "outputs": [
    {
     "name": "stdout",
     "output_type": "stream",
     "text": [
      "                 datetime    temp     pres       wd     ws\n",
      "0     2017-08-15 14:50:00  304.36  97990.0  272.334  2.110\n",
      "1     2017-08-15 15:00:00  304.84  97990.0  289.350  2.485\n",
      "2     2017-08-15 15:10:00  305.71  98000.0  291.621  3.112\n",
      "3     2017-08-15 15:20:00  306.42  98000.0  298.223  3.143\n",
      "4     2017-08-15 15:30:00  307.01  98010.0  278.997  4.026\n",
      "...                   ...     ...      ...      ...    ...\n",
      "52647 2018-08-16 14:40:00  295.08  98420.0  178.480  8.749\n",
      "52648 2018-08-16 14:50:00  295.03  98430.0  179.000  8.429\n",
      "52649 2018-08-16 15:00:00  295.17  98430.0  178.750  8.544\n",
      "52650 2018-08-16 15:10:00  295.24  98440.0  178.223  9.819\n",
      "52651 2018-08-16 15:20:00  295.25  98440.0  178.199  9.053\n",
      "\n",
      "[52652 rows x 5 columns]\n"
     ]
    }
   ],
   "source": [
    "#Using 79m wind speed and direction (hub height is 80m for turbines in this area)\n",
    "atmospheric_df = pd.read_excel(\"../data/lidar_marion_OH.xlsx\", header=3, usecols=\"A,L,M,AY,AZ\")\n",
    "atmospheric_df.rename(columns={'Date (UTC)':'datetime', 'Air Temp. Cel.':'temp', 'Pressure (mbar)':'pres', 'Wind Direction (deg) at 79m':'wd', 'Horizontal Wind Speed (m/s) at 79m':'ws'}, inplace=True)\n",
    "atmospheric_df['temp'] = atmospheric_df['temp'].apply(lambda x : x + 273.15) #convert to K from C\n",
    "atmospheric_df['pres'] = atmospheric_df['pres'].apply(lambda x : x * 100) #convert to Pascals from mbar\n",
    "print(atmospheric_df)"
   ]
  },
  {
   "cell_type": "code",
   "execution_count": 4,
   "id": "50d6cd97-5d3c-4da4-b69a-d678c3eb0177",
   "metadata": {},
   "outputs": [],
   "source": [
    "#W1 coordinates\n",
    "z_turbine = 80\n",
    "lat, lon = 40.591555, -83.182092\n",
    "obstacle_file = \"../sites/simple_marion_obstacles.geojson\"\n",
    "obstacles_df = gpd.read_file(obstacle_file)\n",
    "obstacles_df = obstacles_df[[\"height\", \"geometry\"]]\n",
    "x1_turbine, y1_turbine = lat, lon\n",
    "xy_turbine = [np.array([x1_turbine, y1_turbine])]"
   ]
  },
  {
   "cell_type": "code",
   "execution_count": 5,
   "id": "23e3d4fb-c43c-462a-87f1-d200f5cc02fc",
   "metadata": {},
   "outputs": [
    {
     "name": "stderr",
     "output_type": "stream",
     "text": [
      "2023-02-09 11:13:25.989872: I tensorflow/core/platform/cpu_feature_guard.cc:193] This TensorFlow binary is optimized with oneAPI Deep Neural Network Library (oneDNN) to use the following CPU instructions in performance-critical operations:  SSE4.1 SSE4.2\n",
      "To enable them in other operations, rebuild TensorFlow with the appropriate compiler flags.\n"
     ]
    },
    {
     "name": "stdout",
     "output_type": "stream",
     "text": [
      "Done with loading ML model.\n"
     ]
    },
    {
     "name": "stderr",
     "output_type": "stream",
     "text": [
      "/Users/cphillip/opt/anaconda3/envs/dw-tap/lib/python3.8/site-packages/dw_tap-0.0.0-py3.8.egg/dw_tap/LOMvectorized.py:295: RuntimeWarning: divide by zero encountered in log\n",
      "  predictions = np.log(predictions)\n"
     ]
    }
   ],
   "source": [
    "predictions_df = \\\n",
    "    run_lom(atmospheric_df, obstacles_df, xy_turbine, z_turbine).join(atmospheric_df[\"wd\"])"
   ]
  },
  {
   "cell_type": "code",
   "execution_count": 6,
   "id": "af6a1325-dfc7-418a-8249-d543dcd48dba",
   "metadata": {},
   "outputs": [],
   "source": [
    "temp = atmospheric_df['temp']\n",
    "predictions_df = predictions_df.join(temp)"
   ]
  },
  {
   "cell_type": "code",
   "execution_count": 7,
   "id": "b35056a7-0138-4341-8f77-4f8ce4bb71d9",
   "metadata": {},
   "outputs": [],
   "source": [
    "pres = atmospheric_df['pres']\n",
    "predictions_df = predictions_df.join(pres)"
   ]
  },
  {
   "cell_type": "markdown",
   "id": "d5a8b299-2f50-4cca-97bc-cf7803232c7d",
   "metadata": {},
   "source": [
    "## Step 2: Read in the actual generated kw production from the same time period."
   ]
  },
  {
   "cell_type": "markdown",
   "id": "e48e3fc4-bbf5-41d9-91da-6ab03f2b3aaf",
   "metadata": {},
   "source": [
    "One issue is that the lidar data spans from mid-august of 2017 to mid-august of 2018. It looks like we only have wind production data from 2018 onwards. "
   ]
  },
  {
   "cell_type": "code",
   "execution_count": 8,
   "id": "068b4544-ada3-48d0-b486-a4adca3601c2",
   "metadata": {},
   "outputs": [
    {
     "name": "stderr",
     "output_type": "stream",
     "text": [
      "/var/folders/62/8jnjdp1529v2cyg5ywxgy02cr926p5/T/ipykernel_39661/792601751.py:2: FutureWarning: The frame.append method is deprecated and will be removed from pandas in a future version. Use pandas.concat instead.\n",
      "  power_output_df = power_output_df.append(pd.read_excel(\"../data/marion/turbine.oneenergy.00.20180228.000000.marion.w1.xlsx\", header=1, usecols=\"B, C, M\"))\n",
      "/var/folders/62/8jnjdp1529v2cyg5ywxgy02cr926p5/T/ipykernel_39661/792601751.py:3: FutureWarning: The frame.append method is deprecated and will be removed from pandas in a future version. Use pandas.concat instead.\n",
      "  power_output_df = power_output_df.append(pd.read_excel(\"../data/marion/turbine.oneenergy.00.20180331.000000.marion.w1.xlsx\", header=1, usecols=\"B, C, M\"))\n",
      "/var/folders/62/8jnjdp1529v2cyg5ywxgy02cr926p5/T/ipykernel_39661/792601751.py:4: FutureWarning: The frame.append method is deprecated and will be removed from pandas in a future version. Use pandas.concat instead.\n",
      "  power_output_df = power_output_df.append(pd.read_excel(\"../data/marion/turbine.oneenergy.00.20180430.000000.marion.w1.xlsx\", header=1, usecols=\"B, C, M\"))\n",
      "/var/folders/62/8jnjdp1529v2cyg5ywxgy02cr926p5/T/ipykernel_39661/792601751.py:5: FutureWarning: The frame.append method is deprecated and will be removed from pandas in a future version. Use pandas.concat instead.\n",
      "  power_output_df = power_output_df.append(pd.read_excel(\"../data/marion/turbine.oneenergy.00.20180531.000000.marion.w1.xlsx\", header=1, usecols=\"B, C, M\"))\n",
      "/var/folders/62/8jnjdp1529v2cyg5ywxgy02cr926p5/T/ipykernel_39661/792601751.py:6: FutureWarning: The frame.append method is deprecated and will be removed from pandas in a future version. Use pandas.concat instead.\n",
      "  power_output_df = power_output_df.append(pd.read_excel(\"../data/marion/turbine.oneenergy.00.20180630.000000.marion.w1.xlsx\", header=1, usecols=\"B, C, M\"))\n",
      "/var/folders/62/8jnjdp1529v2cyg5ywxgy02cr926p5/T/ipykernel_39661/792601751.py:7: FutureWarning: The frame.append method is deprecated and will be removed from pandas in a future version. Use pandas.concat instead.\n",
      "  power_output_df = power_output_df.append(pd.read_excel(\"../data/marion/turbine.oneenergy.00.20180731.000000.marion.w1.xlsx\", header=1, usecols=\"B, C, M\"))\n",
      "/var/folders/62/8jnjdp1529v2cyg5ywxgy02cr926p5/T/ipykernel_39661/792601751.py:8: FutureWarning: The frame.append method is deprecated and will be removed from pandas in a future version. Use pandas.concat instead.\n",
      "  power_output_df = power_output_df.append(pd.read_excel(\"../data/marion/turbine.oneenergy.00.20180831.000000.marion.w1.xlsx\", header=1, usecols=\"B, C, M\"))\n"
     ]
    }
   ],
   "source": [
    "power_output_df = pd.read_excel(\"../data/marion/turbine.oneenergy.00.20180131.000000.marion.w1.xlsx\", header=1, usecols=\"B, C, M\")\n",
    "power_output_df = power_output_df.append(pd.read_excel(\"../data/marion/turbine.oneenergy.00.20180228.000000.marion.w1.xlsx\", header=1, usecols=\"B, C, M\"))\n",
    "power_output_df = power_output_df.append(pd.read_excel(\"../data/marion/turbine.oneenergy.00.20180331.000000.marion.w1.xlsx\", header=1, usecols=\"B, C, M\"))\n",
    "power_output_df = power_output_df.append(pd.read_excel(\"../data/marion/turbine.oneenergy.00.20180430.000000.marion.w1.xlsx\", header=1, usecols=\"B, C, M\"))\n",
    "power_output_df = power_output_df.append(pd.read_excel(\"../data/marion/turbine.oneenergy.00.20180531.000000.marion.w1.xlsx\", header=1, usecols=\"B, C, M\"))\n",
    "power_output_df = power_output_df.append(pd.read_excel(\"../data/marion/turbine.oneenergy.00.20180630.000000.marion.w1.xlsx\", header=1, usecols=\"B, C, M\"))\n",
    "power_output_df = power_output_df.append(pd.read_excel(\"../data/marion/turbine.oneenergy.00.20180731.000000.marion.w1.xlsx\", header=1, usecols=\"B, C, M\"))\n",
    "power_output_df = power_output_df.append(pd.read_excel(\"../data/marion/turbine.oneenergy.00.20180831.000000.marion.w1.xlsx\", header=1, usecols=\"B, C, M\"))\n",
    "power_output_df.rename(columns={'Time':'timestamp', 'Wind Turbine Energy yield(kWh)':'measured_production', 'Avg Wind Speed(m/s)':'measured_ws'}, inplace=True)"
   ]
  },
  {
   "cell_type": "code",
   "execution_count": 9,
   "id": "bb3bbbee-391c-4165-87c5-b0fed2ca30ab",
   "metadata": {},
   "outputs": [
    {
     "name": "stdout",
     "output_type": "stream",
     "text": [
      "               timestamp  measured_ws  measured_production\n",
      "0    2018-01-01 00:00:00         5.92                   52\n",
      "1    2018-01-01 00:10:00         6.01                   58\n",
      "2    2018-01-01 00:20:00         5.96                   56\n",
      "3    2018-01-01 00:30:00         6.01                   58\n",
      "4    2018-01-01 00:40:00         5.82                   52\n",
      "...                  ...          ...                  ...\n",
      "4153 2018-08-31 23:10:00         6.24                   56\n",
      "4154 2018-08-31 23:20:00         5.99                   49\n",
      "4155 2018-08-31 23:30:00         6.40                   63\n",
      "4156 2018-08-31 23:40:00         6.26                   58\n",
      "4157 2018-08-31 23:50:00         5.53                   33\n",
      "\n",
      "[34080 rows x 3 columns]\n"
     ]
    }
   ],
   "source": [
    "print(power_output_df)"
   ]
  },
  {
   "cell_type": "code",
   "execution_count": 10,
   "id": "4fd5eacf-50e5-4c58-8b14-531a6c16b12c",
   "metadata": {},
   "outputs": [
    {
     "name": "stdout",
     "output_type": "stream",
     "text": [
      "                timestamp     ws  ws-adjusted       wd    temp     pres  \\\n",
      "0     2017-08-15 14:50:00  2.110        2.110  272.334  304.36  97990.0   \n",
      "1     2017-08-15 15:00:00  2.485        2.485  289.350  304.84  97990.0   \n",
      "2     2017-08-15 15:10:00  3.112        3.112  291.621  305.71  98000.0   \n",
      "3     2017-08-15 15:20:00  3.143        3.143  298.223  306.42  98000.0   \n",
      "4     2017-08-15 15:30:00  4.026        4.026  278.997  307.01  98010.0   \n",
      "...                   ...    ...          ...      ...     ...      ...   \n",
      "52647 2018-08-16 14:40:00  8.749        8.749  178.480  295.08  98420.0   \n",
      "52648 2018-08-16 14:50:00  8.429        8.429  179.000  295.03  98430.0   \n",
      "52649 2018-08-16 15:00:00  8.544        8.544  178.750  295.17  98430.0   \n",
      "52650 2018-08-16 15:10:00  9.819        9.819  178.223  295.24  98440.0   \n",
      "52651 2018-08-16 15:20:00  9.053        9.053  178.199  295.25  98440.0   \n",
      "\n",
      "       measured_production  measured_ws  \n",
      "0                      NaN          NaN  \n",
      "1                      NaN          NaN  \n",
      "2                      NaN          NaN  \n",
      "3                      NaN          NaN  \n",
      "4                      NaN          NaN  \n",
      "...                    ...          ...  \n",
      "52647                  NaN          NaN  \n",
      "52648                  NaN          NaN  \n",
      "52649                  NaN          NaN  \n",
      "52650                  NaN          NaN  \n",
      "52651                  NaN          NaN  \n",
      "\n",
      "[52652 rows x 8 columns]\n"
     ]
    }
   ],
   "source": [
    "pre_analysis = predictions_df.merge(power_output_df[['timestamp', 'measured_production', 'measured_ws']], on='timestamp', how='left')\n",
    "print(pre_analysis)"
   ]
  },
  {
   "cell_type": "code",
   "execution_count": 11,
   "id": "ce8a7a19-2105-46d6-873c-53fdab411cad",
   "metadata": {},
   "outputs": [
    {
     "name": "stdout",
     "output_type": "stream",
     "text": [
      "                timestamp     ws  ws-adjusted       wd    temp     pres  \\\n",
      "19885 2018-01-01 00:00:00  2.852        2.852  302.343  259.85  99780.0   \n",
      "19886 2018-01-01 00:10:00  2.566        2.566  305.654  259.79  99790.0   \n",
      "19887 2018-01-01 00:20:00  1.967        1.967  303.185  259.73  99790.0   \n",
      "19888 2018-01-01 00:30:00  1.774        1.774  301.331  259.44  99800.0   \n",
      "19889 2018-01-01 00:40:00  2.039        2.039  296.283  259.05  99820.0   \n",
      "...                   ...    ...          ...      ...     ...      ...   \n",
      "52616 2018-08-16 09:30:00  6.802        6.802  182.113  293.15  98320.0   \n",
      "52617 2018-08-16 09:40:00  5.719        5.719  185.084  293.22  98330.0   \n",
      "52618 2018-08-16 09:50:00  6.585        6.585  170.531  293.35  98340.0   \n",
      "52619 2018-08-16 10:00:00  6.719        6.719  168.171  293.36  98340.0   \n",
      "52620 2018-08-16 10:10:00  7.121        7.121  163.370  293.36  98350.0   \n",
      "\n",
      "       measured_production  measured_ws  \n",
      "19885                 52.0         5.92  \n",
      "19886                 58.0         6.01  \n",
      "19887                 56.0         5.96  \n",
      "19888                 58.0         6.01  \n",
      "19889                 52.0         5.82  \n",
      "...                    ...          ...  \n",
      "52616                140.0         7.84  \n",
      "52617                120.0         7.34  \n",
      "52618                111.0         7.15  \n",
      "52619                162.0         8.17  \n",
      "52620                148.0         8.01  \n",
      "\n",
      "[29380 rows x 8 columns]\n"
     ]
    }
   ],
   "source": [
    "pre_analysis = pre_analysis.dropna()\n",
    "print(pre_analysis)"
   ]
  },
  {
   "cell_type": "code",
   "execution_count": 12,
   "id": "d14b8394-ab47-4531-a17a-2f42f0d0c0ca",
   "metadata": {},
   "outputs": [
    {
     "ename": "KeyError",
     "evalue": "0",
     "output_type": "error",
     "traceback": [
      "\u001b[0;31m---------------------------------------------------------------------------\u001b[0m",
      "\u001b[0;31mKeyError\u001b[0m                                  Traceback (most recent call last)",
      "File \u001b[0;32m~/opt/anaconda3/envs/dw-tap/lib/python3.8/site-packages/pandas/core/indexes/base.py:3803\u001b[0m, in \u001b[0;36mIndex.get_loc\u001b[0;34m(self, key, method, tolerance)\u001b[0m\n\u001b[1;32m   3802\u001b[0m \u001b[38;5;28;01mtry\u001b[39;00m:\n\u001b[0;32m-> 3803\u001b[0m     \u001b[38;5;28;01mreturn\u001b[39;00m \u001b[38;5;28;43mself\u001b[39;49m\u001b[38;5;241;43m.\u001b[39;49m\u001b[43m_engine\u001b[49m\u001b[38;5;241;43m.\u001b[39;49m\u001b[43mget_loc\u001b[49m\u001b[43m(\u001b[49m\u001b[43mcasted_key\u001b[49m\u001b[43m)\u001b[49m\n\u001b[1;32m   3804\u001b[0m \u001b[38;5;28;01mexcept\u001b[39;00m \u001b[38;5;167;01mKeyError\u001b[39;00m \u001b[38;5;28;01mas\u001b[39;00m err:\n",
      "File \u001b[0;32m~/opt/anaconda3/envs/dw-tap/lib/python3.8/site-packages/pandas/_libs/index.pyx:138\u001b[0m, in \u001b[0;36mpandas._libs.index.IndexEngine.get_loc\u001b[0;34m()\u001b[0m\n",
      "File \u001b[0;32m~/opt/anaconda3/envs/dw-tap/lib/python3.8/site-packages/pandas/_libs/index.pyx:165\u001b[0m, in \u001b[0;36mpandas._libs.index.IndexEngine.get_loc\u001b[0;34m()\u001b[0m\n",
      "File \u001b[0;32mpandas/_libs/hashtable_class_helper.pxi:2263\u001b[0m, in \u001b[0;36mpandas._libs.hashtable.Int64HashTable.get_item\u001b[0;34m()\u001b[0m\n",
      "File \u001b[0;32mpandas/_libs/hashtable_class_helper.pxi:2273\u001b[0m, in \u001b[0;36mpandas._libs.hashtable.Int64HashTable.get_item\u001b[0;34m()\u001b[0m\n",
      "\u001b[0;31mKeyError\u001b[0m: 0",
      "\nThe above exception was the direct cause of the following exception:\n",
      "\u001b[0;31mKeyError\u001b[0m                                  Traceback (most recent call last)",
      "Cell \u001b[0;32mIn[12], line 3\u001b[0m\n\u001b[1;32m      1\u001b[0m \u001b[38;5;66;03m#pre_analysis = pre_analysis.reset_index()\u001b[39;00m\n\u001b[1;32m      2\u001b[0m kw, above_curve, below_curve, above_curve_list, below_curve_list \u001b[38;5;241m=\u001b[39m \\\n\u001b[0;32m----> 3\u001b[0m     \u001b[43mestimate_power_output\u001b[49m\u001b[43m(\u001b[49m\u001b[43mpre_analysis\u001b[49m\u001b[43m,\u001b[49m\u001b[43m \u001b[49m\u001b[43mpre_analysis\u001b[49m\u001b[43m[\u001b[49m\u001b[38;5;124;43m\"\u001b[39;49m\u001b[38;5;124;43mtemp\u001b[39;49m\u001b[38;5;124;43m\"\u001b[39;49m\u001b[43m]\u001b[49m\u001b[43m,\u001b[49m\u001b[43m \u001b[49m\u001b[43mpre_analysis\u001b[49m\u001b[43m[\u001b[49m\u001b[38;5;124;43m\"\u001b[39;49m\u001b[38;5;124;43mpres\u001b[39;49m\u001b[38;5;124;43m\"\u001b[39;49m\u001b[43m]\u001b[49m\u001b[43m)\u001b[49m\n\u001b[1;32m      4\u001b[0m \u001b[38;5;28mprint\u001b[39m(pre_analysis)\n",
      "Cell \u001b[0;32mIn[2], line 10\u001b[0m, in \u001b[0;36mestimate_power_output\u001b[0;34m(df, temp, pres, ws_column)\u001b[0m\n\u001b[1;32m      8\u001b[0m air_density \u001b[38;5;241m=\u001b[39m (pres) \u001b[38;5;241m/\u001b[39m (\u001b[38;5;241m287.05\u001b[39m \u001b[38;5;241m*\u001b[39m temp)\n\u001b[1;32m      9\u001b[0m df_copy[ws_column] \u001b[38;5;241m=\u001b[39m (df_copy[ws_column] \u001b[38;5;241m*\u001b[39m ((air_density\u001b[38;5;241m/\u001b[39m\u001b[38;5;241m1.225\u001b[39m)\u001b[38;5;241m*\u001b[39m\u001b[38;5;241m*\u001b[39m(\u001b[38;5;241m1\u001b[39m\u001b[38;5;241m/\u001b[39m\u001b[38;5;241m3\u001b[39m)))\n\u001b[0;32m---> 10\u001b[0m kw \u001b[38;5;241m=\u001b[39m \u001b[43mGoldwind871500\u001b[49m\u001b[38;5;241;43m.\u001b[39;49m\u001b[43mwindspeed_to_kw\u001b[49m\u001b[43m(\u001b[49m\u001b[43mdf_copy\u001b[49m\u001b[43m,\u001b[49m\u001b[43m \u001b[49m\u001b[43mws_column\u001b[49m\u001b[43m)\u001b[49m\n\u001b[1;32m     11\u001b[0m above_curve_counter \u001b[38;5;241m=\u001b[39m Goldwind871500\u001b[38;5;241m.\u001b[39mabove_curve_counter\n\u001b[1;32m     12\u001b[0m below_curve_counter \u001b[38;5;241m=\u001b[39m Goldwind871500\u001b[38;5;241m.\u001b[39mbelow_curve_counter\n",
      "Cell \u001b[0;32mIn[2], line 45\u001b[0m, in \u001b[0;36mGoldwind871500.windspeed_to_kw\u001b[0;34m(cls, df, ws_column)\u001b[0m\n\u001b[1;32m     43\u001b[0m     \u001b[38;5;28mcls\u001b[39m\u001b[38;5;241m.\u001b[39mbelow_curve_counter \u001b[38;5;241m+\u001b[39m\u001b[38;5;241m=\u001b[39m \u001b[38;5;241m1\u001b[39m\n\u001b[1;32m     44\u001b[0m     \u001b[38;5;28mcls\u001b[39m\u001b[38;5;241m.\u001b[39mbelow_curve_list\u001b[38;5;241m.\u001b[39mappend(\u001b[38;5;28mtuple\u001b[39m((df[\u001b[38;5;124m\"\u001b[39m\u001b[38;5;124mtimestamp\u001b[39m\u001b[38;5;124m\"\u001b[39m][i], kw[i])))\n\u001b[0;32m---> 45\u001b[0m \u001b[38;5;28;01mif\u001b[39;00m \u001b[43mws\u001b[49m\u001b[38;5;241;43m.\u001b[39;49m\u001b[43mloc\u001b[49m\u001b[43m[\u001b[49m\u001b[43mi\u001b[49m\u001b[43m]\u001b[49m \u001b[38;5;241m>\u001b[39m \u001b[38;5;28mcls\u001b[39m\u001b[38;5;241m.\u001b[39mmax_ws:\n\u001b[1;32m     46\u001b[0m     \u001b[38;5;28mcls\u001b[39m\u001b[38;5;241m.\u001b[39mabove_curve_counter \u001b[38;5;241m+\u001b[39m\u001b[38;5;241m=\u001b[39m \u001b[38;5;241m1\u001b[39m\n\u001b[1;32m     47\u001b[0m     \u001b[38;5;28mcls\u001b[39m\u001b[38;5;241m.\u001b[39mabove_curve_list\u001b[38;5;241m.\u001b[39mappend(\u001b[38;5;28mtuple\u001b[39m((df[\u001b[38;5;124m\"\u001b[39m\u001b[38;5;124mtimestamp\u001b[39m\u001b[38;5;124m\"\u001b[39m][i], ws[i])))\n",
      "File \u001b[0;32m~/opt/anaconda3/envs/dw-tap/lib/python3.8/site-packages/pandas/core/indexing.py:1073\u001b[0m, in \u001b[0;36m_LocationIndexer.__getitem__\u001b[0;34m(self, key)\u001b[0m\n\u001b[1;32m   1070\u001b[0m axis \u001b[38;5;241m=\u001b[39m \u001b[38;5;28mself\u001b[39m\u001b[38;5;241m.\u001b[39maxis \u001b[38;5;129;01mor\u001b[39;00m \u001b[38;5;241m0\u001b[39m\n\u001b[1;32m   1072\u001b[0m maybe_callable \u001b[38;5;241m=\u001b[39m com\u001b[38;5;241m.\u001b[39mapply_if_callable(key, \u001b[38;5;28mself\u001b[39m\u001b[38;5;241m.\u001b[39mobj)\n\u001b[0;32m-> 1073\u001b[0m \u001b[38;5;28;01mreturn\u001b[39;00m \u001b[38;5;28;43mself\u001b[39;49m\u001b[38;5;241;43m.\u001b[39;49m\u001b[43m_getitem_axis\u001b[49m\u001b[43m(\u001b[49m\u001b[43mmaybe_callable\u001b[49m\u001b[43m,\u001b[49m\u001b[43m \u001b[49m\u001b[43maxis\u001b[49m\u001b[38;5;241;43m=\u001b[39;49m\u001b[43maxis\u001b[49m\u001b[43m)\u001b[49m\n",
      "File \u001b[0;32m~/opt/anaconda3/envs/dw-tap/lib/python3.8/site-packages/pandas/core/indexing.py:1312\u001b[0m, in \u001b[0;36m_LocIndexer._getitem_axis\u001b[0;34m(self, key, axis)\u001b[0m\n\u001b[1;32m   1310\u001b[0m \u001b[38;5;66;03m# fall thru to straight lookup\u001b[39;00m\n\u001b[1;32m   1311\u001b[0m \u001b[38;5;28mself\u001b[39m\u001b[38;5;241m.\u001b[39m_validate_key(key, axis)\n\u001b[0;32m-> 1312\u001b[0m \u001b[38;5;28;01mreturn\u001b[39;00m \u001b[38;5;28;43mself\u001b[39;49m\u001b[38;5;241;43m.\u001b[39;49m\u001b[43m_get_label\u001b[49m\u001b[43m(\u001b[49m\u001b[43mkey\u001b[49m\u001b[43m,\u001b[49m\u001b[43m \u001b[49m\u001b[43maxis\u001b[49m\u001b[38;5;241;43m=\u001b[39;49m\u001b[43maxis\u001b[49m\u001b[43m)\u001b[49m\n",
      "File \u001b[0;32m~/opt/anaconda3/envs/dw-tap/lib/python3.8/site-packages/pandas/core/indexing.py:1260\u001b[0m, in \u001b[0;36m_LocIndexer._get_label\u001b[0;34m(self, label, axis)\u001b[0m\n\u001b[1;32m   1258\u001b[0m \u001b[38;5;28;01mdef\u001b[39;00m \u001b[38;5;21m_get_label\u001b[39m(\u001b[38;5;28mself\u001b[39m, label, axis: \u001b[38;5;28mint\u001b[39m):\n\u001b[1;32m   1259\u001b[0m     \u001b[38;5;66;03m# GH#5567 this will fail if the label is not present in the axis.\u001b[39;00m\n\u001b[0;32m-> 1260\u001b[0m     \u001b[38;5;28;01mreturn\u001b[39;00m \u001b[38;5;28;43mself\u001b[39;49m\u001b[38;5;241;43m.\u001b[39;49m\u001b[43mobj\u001b[49m\u001b[38;5;241;43m.\u001b[39;49m\u001b[43mxs\u001b[49m\u001b[43m(\u001b[49m\u001b[43mlabel\u001b[49m\u001b[43m,\u001b[49m\u001b[43m \u001b[49m\u001b[43maxis\u001b[49m\u001b[38;5;241;43m=\u001b[39;49m\u001b[43maxis\u001b[49m\u001b[43m)\u001b[49m\n",
      "File \u001b[0;32m~/opt/anaconda3/envs/dw-tap/lib/python3.8/site-packages/pandas/core/generic.py:4056\u001b[0m, in \u001b[0;36mNDFrame.xs\u001b[0;34m(self, key, axis, level, drop_level)\u001b[0m\n\u001b[1;32m   4054\u001b[0m             new_index \u001b[38;5;241m=\u001b[39m index[loc]\n\u001b[1;32m   4055\u001b[0m \u001b[38;5;28;01melse\u001b[39;00m:\n\u001b[0;32m-> 4056\u001b[0m     loc \u001b[38;5;241m=\u001b[39m \u001b[43mindex\u001b[49m\u001b[38;5;241;43m.\u001b[39;49m\u001b[43mget_loc\u001b[49m\u001b[43m(\u001b[49m\u001b[43mkey\u001b[49m\u001b[43m)\u001b[49m\n\u001b[1;32m   4058\u001b[0m     \u001b[38;5;28;01mif\u001b[39;00m \u001b[38;5;28misinstance\u001b[39m(loc, np\u001b[38;5;241m.\u001b[39mndarray):\n\u001b[1;32m   4059\u001b[0m         \u001b[38;5;28;01mif\u001b[39;00m loc\u001b[38;5;241m.\u001b[39mdtype \u001b[38;5;241m==\u001b[39m np\u001b[38;5;241m.\u001b[39mbool_:\n",
      "File \u001b[0;32m~/opt/anaconda3/envs/dw-tap/lib/python3.8/site-packages/pandas/core/indexes/base.py:3805\u001b[0m, in \u001b[0;36mIndex.get_loc\u001b[0;34m(self, key, method, tolerance)\u001b[0m\n\u001b[1;32m   3803\u001b[0m     \u001b[38;5;28;01mreturn\u001b[39;00m \u001b[38;5;28mself\u001b[39m\u001b[38;5;241m.\u001b[39m_engine\u001b[38;5;241m.\u001b[39mget_loc(casted_key)\n\u001b[1;32m   3804\u001b[0m \u001b[38;5;28;01mexcept\u001b[39;00m \u001b[38;5;167;01mKeyError\u001b[39;00m \u001b[38;5;28;01mas\u001b[39;00m err:\n\u001b[0;32m-> 3805\u001b[0m     \u001b[38;5;28;01mraise\u001b[39;00m \u001b[38;5;167;01mKeyError\u001b[39;00m(key) \u001b[38;5;28;01mfrom\u001b[39;00m \u001b[38;5;21;01merr\u001b[39;00m\n\u001b[1;32m   3806\u001b[0m \u001b[38;5;28;01mexcept\u001b[39;00m \u001b[38;5;167;01mTypeError\u001b[39;00m:\n\u001b[1;32m   3807\u001b[0m     \u001b[38;5;66;03m# If we have a listlike key, _check_indexing_error will raise\u001b[39;00m\n\u001b[1;32m   3808\u001b[0m     \u001b[38;5;66;03m#  InvalidIndexError. Otherwise we fall through and re-raise\u001b[39;00m\n\u001b[1;32m   3809\u001b[0m     \u001b[38;5;66;03m#  the TypeError.\u001b[39;00m\n\u001b[1;32m   3810\u001b[0m     \u001b[38;5;28mself\u001b[39m\u001b[38;5;241m.\u001b[39m_check_indexing_error(key)\n",
      "\u001b[0;31mKeyError\u001b[0m: 0"
     ]
    }
   ],
   "source": [
    "#pre_analysis = pre_analysis.reset_index()\n",
    "kw, above_curve, below_curve, above_curve_list, below_curve_list = \\\n",
    "    estimate_power_output(pre_analysis, pre_analysis[\"temp\"], pre_analysis[\"pres\"])\n",
    "print(pre_analysis)"
   ]
  },
  {
   "cell_type": "code",
   "execution_count": null,
   "id": "dc026b56-1b61-49da-a069-afd7150aad3f",
   "metadata": {},
   "outputs": [],
   "source": [
    "print(kw)"
   ]
  },
  {
   "cell_type": "code",
   "execution_count": null,
   "id": "fb74de97-137b-4c1b-a5be-731c93905008",
   "metadata": {},
   "outputs": [],
   "source": []
  }
 ],
 "metadata": {
  "kernelspec": {
   "display_name": "Python 3 (ipykernel)",
   "language": "python",
   "name": "python3"
  },
  "language_info": {
   "codemirror_mode": {
    "name": "ipython",
    "version": 3
   },
   "file_extension": ".py",
   "mimetype": "text/x-python",
   "name": "python",
   "nbconvert_exporter": "python",
   "pygments_lexer": "ipython3",
   "version": "3.8.16"
  }
 },
 "nbformat": 4,
 "nbformat_minor": 5
}
