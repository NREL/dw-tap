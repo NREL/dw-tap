{
 "cells": [
  {
   "cell_type": "markdown",
   "id": "18816282-6b89-4505-a851-421dce75d408",
   "metadata": {},
   "source": [
    "## Step 1: Be able to read in the temperature, pressure, wind speed, wind direction, and time into a pandas dataframe. \n"
   ]
  },
  {
   "cell_type": "code",
   "execution_count": 2,
   "id": "1e6d9c1e-6434-44ad-8ce9-abab6c156fa7",
   "metadata": {},
   "outputs": [],
   "source": [
    "import numpy as np\n",
    "import pandas as pd\n",
    "import time\n",
    "import h5pyd\n",
    "import geopandas as gpd\n",
    "from dw_tap.power_output import estimate_power_output\n",
    "from dw_tap.lom import run_lom"
   ]
  },
  {
   "cell_type": "code",
   "execution_count": 3,
   "id": "c18a8ef1-b8d6-4092-9b6e-07a17d8ef482",
   "metadata": {},
   "outputs": [
    {
     "name": "stdout",
     "output_type": "stream",
     "text": [
      "                 datetime    temp     pres       wd     ws\n",
      "0     2017-08-15 14:50:00  304.36  97990.0  272.334  2.110\n",
      "1     2017-08-15 15:00:00  304.84  97990.0  289.350  2.485\n",
      "2     2017-08-15 15:10:00  305.71  98000.0  291.621  3.112\n",
      "3     2017-08-15 15:20:00  306.42  98000.0  298.223  3.143\n",
      "4     2017-08-15 15:30:00  307.01  98010.0  278.997  4.026\n",
      "...                   ...     ...      ...      ...    ...\n",
      "52647 2018-08-16 14:40:00  295.08  98420.0  178.480  8.749\n",
      "52648 2018-08-16 14:50:00  295.03  98430.0  179.000  8.429\n",
      "52649 2018-08-16 15:00:00  295.17  98430.0  178.750  8.544\n",
      "52650 2018-08-16 15:10:00  295.24  98440.0  178.223  9.819\n",
      "52651 2018-08-16 15:20:00  295.25  98440.0  178.199  9.053\n",
      "\n",
      "[52652 rows x 5 columns]\n"
     ]
    }
   ],
   "source": [
    "#Using 79m wind speed and direction (hub height is 80m for turbines in this area)\n",
    "atmospheric_df = pd.read_excel(\"../data/lidar_marion_OH.xlsx\", header=3, usecols=\"A,L,M,AY,AZ\")\n",
    "atmospheric_df.rename(columns={'Date (UTC)':'datetime', 'Air Temp. Cel.':'temp', 'Pressure (mbar)':'pres', 'Wind Direction (deg) at 79m':'wd', 'Horizontal Wind Speed (m/s) at 79m':'ws'}, inplace=True)\n",
    "atmospheric_df['temp'] = atmospheric_df['temp'].apply(lambda x : x + 273.15) #convert to K from C\n",
    "atmospheric_df['pres'] = atmospheric_df['pres'].apply(lambda x : x * 100) #convert to Pascals from mbar\n",
    "print(atmospheric_df)"
   ]
  },
  {
   "cell_type": "code",
   "execution_count": 4,
   "id": "50d6cd97-5d3c-4da4-b69a-d678c3eb0177",
   "metadata": {},
   "outputs": [],
   "source": [
    "#W1 coordinates\n",
    "z_turbine = 80\n",
    "lat, lon = 40.591555, -83.182092\n",
    "obstacle_file = \"../sites/simple_marion_obstacles.geojson\"\n",
    "obstacles_df = gpd.read_file(obstacle_file)\n",
    "obstacles_df = obstacles_df[[\"height\", \"geometry\"]]\n",
    "x1_turbine, y1_turbine = lat, lon\n",
    "xy_turbine = [np.array([x1_turbine, y1_turbine])]"
   ]
  },
  {
   "cell_type": "code",
   "execution_count": 5,
   "id": "23e3d4fb-c43c-462a-87f1-d200f5cc02fc",
   "metadata": {},
   "outputs": [
    {
     "name": "stderr",
     "output_type": "stream",
     "text": [
      "2023-01-10 10:25:07.184578: I tensorflow/core/platform/cpu_feature_guard.cc:193] This TensorFlow binary is optimized with oneAPI Deep Neural Network Library (oneDNN) to use the following CPU instructions in performance-critical operations:  SSE4.1 SSE4.2 AVX AVX2 FMA\n",
      "To enable them in other operations, rebuild TensorFlow with the appropriate compiler flags.\n"
     ]
    },
    {
     "name": "stdout",
     "output_type": "stream",
     "text": [
      "LOM time : 3.27  min\n"
     ]
    }
   ],
   "source": [
    "predictions_df = \\\n",
    "    run_lom(atmospheric_df, obstacles_df, xy_turbine, z_turbine).join(atmospheric_df[\"wd\"])"
   ]
  },
  {
   "cell_type": "code",
   "execution_count": 6,
   "id": "d0cf6d7d-c78a-40ee-b90c-d5f57a7f7bd9",
   "metadata": {},
   "outputs": [
    {
     "name": "stdout",
     "output_type": "stream",
     "text": [
      "                timestamp  ws-adjusted     ws       wd\n",
      "0     2017-08-15 14:50:00        2.110  2.110  272.334\n",
      "1     2017-08-15 15:00:00        2.485  2.485  289.350\n",
      "2     2017-08-15 15:10:00        3.112  3.112  291.621\n",
      "3     2017-08-15 15:20:00        3.143  3.143  298.223\n",
      "4     2017-08-15 15:30:00        4.026  4.026  278.997\n",
      "...                   ...          ...    ...      ...\n",
      "52647 2018-08-16 14:40:00        8.749  8.749  178.480\n",
      "52648 2018-08-16 14:50:00        8.429  8.429  179.000\n",
      "52649 2018-08-16 15:00:00        8.544  8.544  178.750\n",
      "52650 2018-08-16 15:10:00        9.819  9.819  178.223\n",
      "52651 2018-08-16 15:20:00        9.053  9.053  178.199\n",
      "\n",
      "[52652 rows x 4 columns]\n"
     ]
    }
   ],
   "source": [
    "print(predictions_df)"
   ]
  },
  {
   "cell_type": "code",
   "execution_count": 7,
   "id": "a573988e-7d7b-48e6-943b-13fc00e93435",
   "metadata": {},
   "outputs": [],
   "source": [
    "kw, above_curve, below_curve, above_curve_list, below_curve_list = \\\n",
    "    estimate_power_output(predictions_df, atmospheric_df[\"temp\"], atmospheric_df[\"pres\"])"
   ]
  },
  {
   "cell_type": "code",
   "execution_count": 8,
   "id": "897a8550-0cc4-40fc-a863-d022a053ed13",
   "metadata": {},
   "outputs": [
    {
     "name": "stdout",
     "output_type": "stream",
     "text": [
      "0        0.003812\n",
      "1        0.032116\n",
      "2        0.106445\n",
      "3        0.113481\n",
      "4        0.364442\n",
      "           ...   \n",
      "52647    4.453243\n",
      "52648    3.999863\n",
      "52649    4.157101\n",
      "52650    6.222465\n",
      "52651    4.908551\n",
      "Length: 52652, dtype: float64\n"
     ]
    }
   ],
   "source": [
    "print(kw)"
   ]
  },
  {
   "cell_type": "markdown",
   "id": "d5a8b299-2f50-4cca-97bc-cf7803232c7d",
   "metadata": {},
   "source": [
    "## Step 2: Read in the actual generated kw production from the same time period."
   ]
  },
  {
   "cell_type": "markdown",
   "id": "e48e3fc4-bbf5-41d9-91da-6ab03f2b3aaf",
   "metadata": {},
   "source": [
    "One issue is that the lidar data spans from mid-august of 2017 to mid-august of 2018. It looks like we only have wind production data from 2018 onwards. "
   ]
  },
  {
   "cell_type": "code",
   "execution_count": 9,
   "id": "068b4544-ada3-48d0-b486-a4adca3601c2",
   "metadata": {},
   "outputs": [],
   "source": [
    "power_output_df = pd.read_excel(\"../data/turbine.oneenergy.marion.w1.xlsx\", header=1, usecols=\"B\")"
   ]
  },
  {
   "cell_type": "code",
   "execution_count": 10,
   "id": "bb3bbbee-391c-4165-87c5-b0fed2ca30ab",
   "metadata": {},
   "outputs": [
    {
     "name": "stdout",
     "output_type": "stream",
     "text": [
      "                     Time\n",
      "0     2018-01-01 00:00:00\n",
      "1     2018-01-01 00:10:00\n",
      "2     2018-01-01 00:20:00\n",
      "3     2018-01-01 00:30:00\n",
      "4     2018-01-01 00:40:00\n",
      "...                   ...\n",
      "32152 2018-08-18 14:40:00\n",
      "32153 2018-08-18 14:50:00\n",
      "32154 2018-08-18 15:00:00\n",
      "32155 2018-08-18 15:10:00\n",
      "32156 2018-08-18 15:20:00\n",
      "\n",
      "[32157 rows x 1 columns]\n"
     ]
    }
   ],
   "source": [
    "print(power_output_df)"
   ]
  },
  {
   "cell_type": "code",
   "execution_count": null,
   "id": "4fd5eacf-50e5-4c58-8b14-531a6c16b12c",
   "metadata": {},
   "outputs": [],
   "source": []
  }
 ],
 "metadata": {
  "kernelspec": {
   "display_name": "Python 3 (ipykernel)",
   "language": "python",
   "name": "python3"
  },
  "language_info": {
   "codemirror_mode": {
    "name": "ipython",
    "version": 3
   },
   "file_extension": ".py",
   "mimetype": "text/x-python",
   "name": "python",
   "nbconvert_exporter": "python",
   "pygments_lexer": "ipython3",
   "version": "3.8.13"
  }
 },
 "nbformat": 4,
 "nbformat_minor": 5
}
