{
 "cells": [
  {
   "cell_type": "code",
   "execution_count": 1,
   "id": "d7d7a983-d008-44b6-b32a-3fa5ab0276d8",
   "metadata": {
    "tags": []
   },
   "outputs": [
    {
     "name": "stderr",
     "output_type": "stream",
     "text": [
      "2023-02-08 12:18:47.683222: I tensorflow/core/platform/cpu_feature_guard.cc:193] This TensorFlow binary is optimized with oneAPI Deep Neural Network Library (oneDNN) to use the following CPU instructions in performance-critical operations:  SSE4.1 SSE4.2 AVX AVX2 FMA\n",
      "To enable them in other operations, rebuild TensorFlow with the appropriate compiler flags.\n",
      "2023-02-08 12:18:52.163865: I tensorflow/core/platform/cpu_feature_guard.cc:193] This TensorFlow binary is optimized with oneAPI Deep Neural Network Library (oneDNN) to use the following CPU instructions in performance-critical operations:  SSE4.1 SSE4.2 AVX AVX2 FMA\n",
      "To enable them in other operations, rebuild TensorFlow with the appropriate compiler flags.\n"
     ]
    },
    {
     "name": "stdout",
     "output_type": "stream",
     "text": [
      "Done with loading ML model.\n",
      "Running LOM: 5.30 (s)\n",
      "Power estimation: 1.16 (s)\n",
      "Total time: 6.57 (s)\n"
     ]
    }
   ],
   "source": [
    "import numpy as np\n",
    "import pandas as pd\n",
    "import time\n",
    "import h5pyd\n",
    "import geopandas as gpd\n",
    "from dw_tap.data_fetching import getData\n",
    "from dw_tap.power_output import estimate_power_output\n",
    "from dw_tap.lom import run_lom\n",
    "\n",
    "z_turbine = 27 # turbine height in [m]\n",
    "lat, lon = 39.417489, -88.387005\n",
    "\n",
    "name=\"112.csv\"\n",
    "\n",
    "# The buildings are the same as in the previous tests\n",
    "obstacle_file = \"../sites/map-112.geojson\"\n",
    "#obstacle_file = \"../sites/180-Manual1.geojson\"\n",
    "\n",
    "t_start = time.time()\n",
    "\n",
    "#Read in data from CSV file instead of hsds + getData\n",
    "#atmospheric_df = pd.read_csv(\"../data/180_1year_12hourgranularity.csv\")\n",
    "\n",
    "# There seems to be a problem with the input from this file\n",
    "atmospheric_df = pd.read_csv(\"../data/wind_data-site_112.csv\")\n",
    "\n",
    "# Temporary (later need to resave csv without index column) \n",
    "if \"Unnamed: 0\" in atmospheric_df.columns:\n",
    "    atmospheric_df.drop(columns=[\"Unnamed: 0\"], inplace=True)\n",
    "\n",
    "obstacles_df = gpd.read_file(obstacle_file)\n",
    "# Leave in only relevant columns\n",
    "obstacles_df = obstacles_df[[\"height\", \"geometry\"]]\n",
    "\n",
    "xy_turbine = [np.array([lon, lat])]\n",
    "\n",
    "t_lom_start = time.time()\n",
    "predictions_df = \\\n",
    "    run_lom(atmospheric_df, obstacles_df, xy_turbine, z_turbine,\n",
    "            check_distance=True)\n",
    "t_lom = time.time() - t_lom_start\n",
    "print('Running LOM: %.2f (s)' % t_lom)\n",
    "\n",
    "t_power_start = time.time()\n",
    "kw, above_curve, below_curve, above_curve_list, below_curve_list = \\\n",
    "    estimate_power_output(predictions_df, atmospheric_df[\"temp\"], atmospheric_df[\"pres\"])  \n",
    "t_power = time.time() - t_power_start\n",
    "print('Power estimation: %.2f (s)' % t_power)\n",
    "\n",
    "t_total = time.time()-t_start\n",
    "print('Total time: %.2f (s)' % t_total)\n",
    "\n",
    "predictions_df.to_csv(name)"
   ]
  },
  {
   "cell_type": "code",
   "execution_count": 2,
   "id": "87be8b45-8777-47b5-bab4-3011df0277c4",
   "metadata": {},
   "outputs": [
    {
     "name": "stdout",
     "output_type": "stream",
     "text": [
      "Running LOM: 18.37 (s)\n",
      "Power estimation: 1.41 (s)\n",
      "Total time: 19.88 (s)\n"
     ]
    }
   ],
   "source": [
    "import numpy as np\n",
    "import pandas as pd\n",
    "import time\n",
    "import h5pyd\n",
    "import geopandas as gpd\n",
    "from dw_tap.data_fetching import getData\n",
    "from dw_tap.power_output import estimate_power_output\n",
    "from dw_tap.lom import run_lom\n",
    "\n",
    "z_turbine = 30 # turbine height in [m]\n",
    "lat, lon = 40.851353, -75.598395\n",
    "\n",
    "name=\"44.csv\"\n",
    "\n",
    "# The buildings are the same as in the previous tests\n",
    "obstacle_file = \"../sites/map-44.geojson\"\n",
    "#obstacle_file = \"../sites/180-Manual1.geojson\"\n",
    "\n",
    "t_start = time.time()\n",
    "\n",
    "#Read in data from CSV file instead of hsds + getData\n",
    "#atmospheric_df = pd.read_csv(\"../data/180_1year_12hourgranularity.csv\")\n",
    "\n",
    "# There seems to be a problem with the input from this file\n",
    "atmospheric_df = pd.read_csv(\"../data/wind_data-site_44.csv\")\n",
    "\n",
    "# Temporary (later need to resave csv without index column) \n",
    "if \"Unnamed: 0\" in atmospheric_df.columns:\n",
    "    atmospheric_df.drop(columns=[\"Unnamed: 0\"], inplace=True)\n",
    "\n",
    "obstacles_df = gpd.read_file(obstacle_file)\n",
    "# Leave in only relevant columns\n",
    "obstacles_df = obstacles_df[[\"height\", \"geometry\"]]\n",
    "\n",
    "xy_turbine = [np.array([lon, lat])]\n",
    "\n",
    "t_lom_start = time.time()\n",
    "predictions_df = \\\n",
    "    run_lom(atmospheric_df, obstacles_df, xy_turbine, z_turbine,\n",
    "            check_distance=True)\n",
    "t_lom = time.time() - t_lom_start\n",
    "print('Running LOM: %.2f (s)' % t_lom)\n",
    "\n",
    "t_power_start = time.time()\n",
    "kw, above_curve, below_curve, above_curve_list, below_curve_list = \\\n",
    "    estimate_power_output(predictions_df, atmospheric_df[\"temp\"], atmospheric_df[\"pres\"])  \n",
    "t_power = time.time() - t_power_start\n",
    "print('Power estimation: %.2f (s)' % t_power)\n",
    "\n",
    "t_total = time.time()-t_start\n",
    "print('Total time: %.2f (s)' % t_total)\n",
    "\n",
    "predictions_df.to_csv(name)"
   ]
  },
  {
   "cell_type": "code",
   "execution_count": 3,
   "id": "1e198dbc-62a8-45fc-be98-bc2c42c6f359",
   "metadata": {},
   "outputs": [
    {
     "name": "stdout",
     "output_type": "stream",
     "text": [
      "Running LOM: 18.00 (s)\n",
      "Power estimation: 1.20 (s)\n",
      "Total time: 19.30 (s)\n"
     ]
    }
   ],
   "source": [
    "import numpy as np\n",
    "import pandas as pd\n",
    "import time\n",
    "import h5pyd\n",
    "import geopandas as gpd\n",
    "from dw_tap.data_fetching import getData\n",
    "from dw_tap.power_output import estimate_power_output\n",
    "from dw_tap.lom import run_lom\n",
    "\n",
    "z_turbine = 43 # turbine height in [m]\n",
    "lat, lon = 44.987588, -72.0722\n",
    "\n",
    "name=\"133.csv\"\n",
    "\n",
    "# The buildings are the same as in the previous tests\n",
    "obstacle_file = \"../sites/map-133.geojson\"\n",
    "#obstacle_file = \"../sites/180-Manual1.geojson\"\n",
    "\n",
    "t_start = time.time()\n",
    "\n",
    "#Read in data from CSV file instead of hsds + getData\n",
    "#atmospheric_df = pd.read_csv(\"../data/180_1year_12hourgranularity.csv\")\n",
    "\n",
    "# There seems to be a problem with the input from this file\n",
    "atmospheric_df = pd.read_csv(\"../data/wind_data-site_133.csv\")\n",
    "\n",
    "# Temporary (later need to resave csv without index column) \n",
    "if \"Unnamed: 0\" in atmospheric_df.columns:\n",
    "    atmospheric_df.drop(columns=[\"Unnamed: 0\"], inplace=True)\n",
    "\n",
    "obstacles_df = gpd.read_file(obstacle_file)\n",
    "# Leave in only relevant columns\n",
    "obstacles_df = obstacles_df[[\"height\", \"geometry\"]]\n",
    "\n",
    "xy_turbine = [np.array([lon, lat])]\n",
    "\n",
    "t_lom_start = time.time()\n",
    "predictions_df = \\\n",
    "    run_lom(atmospheric_df, obstacles_df, xy_turbine, z_turbine,\n",
    "            check_distance=True)\n",
    "t_lom = time.time() - t_lom_start\n",
    "print('Running LOM: %.2f (s)' % t_lom)\n",
    "\n",
    "t_power_start = time.time()\n",
    "kw, above_curve, below_curve, above_curve_list, below_curve_list = \\\n",
    "    estimate_power_output(predictions_df, atmospheric_df[\"temp\"], atmospheric_df[\"pres\"])  \n",
    "t_power = time.time() - t_power_start\n",
    "print('Power estimation: %.2f (s)' % t_power)\n",
    "\n",
    "t_total = time.time()-t_start\n",
    "print('Total time: %.2f (s)' % t_total)\n",
    "\n",
    "predictions_df.to_csv(name)"
   ]
  },
  {
   "cell_type": "code",
   "execution_count": 4,
   "id": "cfd8562c-102e-404a-b8f9-d2bef063691a",
   "metadata": {},
   "outputs": [
    {
     "name": "stdout",
     "output_type": "stream",
     "text": [
      "Running LOM: 25.85 (s)\n",
      "Power estimation: 1.17 (s)\n",
      "Total time: 27.14 (s)\n"
     ]
    }
   ],
   "source": [
    "import numpy as np\n",
    "import pandas as pd\n",
    "import time\n",
    "import h5pyd\n",
    "import geopandas as gpd\n",
    "from dw_tap.data_fetching import getData\n",
    "from dw_tap.power_output import estimate_power_output\n",
    "from dw_tap.lom import run_lom\n",
    "\n",
    "z_turbine = 24 # turbine height in [m]\n",
    "lat, lon = 42.166797, -84.403169\n",
    "\n",
    "name=\"80.csv\"\n",
    "\n",
    "# The buildings are the same as in the previous tests\n",
    "obstacle_file = \"../sites/map-80.geojson\"\n",
    "#obstacle_file = \"../sites/180-Manual1.geojson\"\n",
    "\n",
    "t_start = time.time()\n",
    "\n",
    "#Read in data from CSV file instead of hsds + getData\n",
    "#atmospheric_df = pd.read_csv(\"../data/180_1year_12hourgranularity.csv\")\n",
    "\n",
    "# There seems to be a problem with the input from this file\n",
    "atmospheric_df = pd.read_csv(\"../data/wind_data-site_80.csv\")\n",
    "\n",
    "# Temporary (later need to resave csv without index column) \n",
    "if \"Unnamed: 0\" in atmospheric_df.columns:\n",
    "    atmospheric_df.drop(columns=[\"Unnamed: 0\"], inplace=True)\n",
    "\n",
    "obstacles_df = gpd.read_file(obstacle_file)\n",
    "# Leave in only relevant columns\n",
    "obstacles_df = obstacles_df[[\"height\", \"geometry\"]]\n",
    "\n",
    "xy_turbine = [np.array([lon, lat])]\n",
    "\n",
    "t_lom_start = time.time()\n",
    "predictions_df = \\\n",
    "    run_lom(atmospheric_df, obstacles_df, xy_turbine, z_turbine,\n",
    "            check_distance=True)\n",
    "t_lom = time.time() - t_lom_start\n",
    "print('Running LOM: %.2f (s)' % t_lom)\n",
    "\n",
    "t_power_start = time.time()\n",
    "kw, above_curve, below_curve, above_curve_list, below_curve_list = \\\n",
    "    estimate_power_output(predictions_df, atmospheric_df[\"temp\"], atmospheric_df[\"pres\"])  \n",
    "t_power = time.time() - t_power_start\n",
    "print('Power estimation: %.2f (s)' % t_power)\n",
    "\n",
    "t_total = time.time()-t_start\n",
    "print('Total time: %.2f (s)' % t_total)\n",
    "\n",
    "predictions_df.to_csv(name)"
   ]
  },
  {
   "cell_type": "code",
   "execution_count": 5,
   "id": "60f01e53-e383-48ea-a0c6-8d3689bd5a0d",
   "metadata": {},
   "outputs": [
    {
     "name": "stdout",
     "output_type": "stream",
     "text": [
      "Running LOM: 10.85 (s)\n",
      "Power estimation: 1.23 (s)\n",
      "Total time: 12.18 (s)\n"
     ]
    }
   ],
   "source": [
    "import numpy as np\n",
    "import pandas as pd\n",
    "import time\n",
    "import h5pyd\n",
    "import geopandas as gpd\n",
    "from dw_tap.data_fetching import getData\n",
    "from dw_tap.power_output import estimate_power_output\n",
    "from dw_tap.lom import run_lom\n",
    "\n",
    "z_turbine = 43 # turbine height in [m]\n",
    "lat, lon = 37.857794, -84.712431\n",
    "\n",
    "name=\"34.csv\"\n",
    "\n",
    "# The buildings are the same as in the previous tests\n",
    "obstacle_file = \"../sites/map-34.geojson\"\n",
    "#obstacle_file = \"../sites/180-Manual1.geojson\"\n",
    "\n",
    "t_start = time.time()\n",
    "\n",
    "#Read in data from CSV file instead of hsds + getData\n",
    "#atmospheric_df = pd.read_csv(\"../data/180_1year_12hourgranularity.csv\")\n",
    "\n",
    "# There seems to be a problem with the input from this file\n",
    "atmospheric_df = pd.read_csv(\"../data/wind_data-site_34.csv\")\n",
    "\n",
    "# Temporary (later need to resave csv without index column) \n",
    "if \"Unnamed: 0\" in atmospheric_df.columns:\n",
    "    atmospheric_df.drop(columns=[\"Unnamed: 0\"], inplace=True)\n",
    "\n",
    "obstacles_df = gpd.read_file(obstacle_file)\n",
    "# Leave in only relevant columns\n",
    "obstacles_df = obstacles_df[[\"height\", \"geometry\"]]\n",
    "\n",
    "xy_turbine = [np.array([lon, lat])]\n",
    "\n",
    "t_lom_start = time.time()\n",
    "predictions_df = \\\n",
    "    run_lom(atmospheric_df, obstacles_df, xy_turbine, z_turbine,\n",
    "            check_distance=True)\n",
    "t_lom = time.time() - t_lom_start\n",
    "print('Running LOM: %.2f (s)' % t_lom)\n",
    "\n",
    "t_power_start = time.time()\n",
    "kw, above_curve, below_curve, above_curve_list, below_curve_list = \\\n",
    "    estimate_power_output(predictions_df, atmospheric_df[\"temp\"], atmospheric_df[\"pres\"])  \n",
    "t_power = time.time() - t_power_start\n",
    "print('Power estimation: %.2f (s)' % t_power)\n",
    "\n",
    "t_total = time.time()-t_start\n",
    "print('Total time: %.2f (s)' % t_total)\n",
    "\n",
    "predictions_df.to_csv(name)"
   ]
  },
  {
   "cell_type": "code",
   "execution_count": null,
   "id": "5fe7dde2-d7e4-4085-8973-47dea3e049a7",
   "metadata": {},
   "outputs": [],
   "source": []
  },
  {
   "cell_type": "code",
   "execution_count": 6,
   "id": "3ffcb980-c480-4e1d-8f9a-925d61d85a4a",
   "metadata": {},
   "outputs": [
    {
     "data": {
      "text/html": [
       "<div>\n",
       "<style scoped>\n",
       "    .dataframe tbody tr th:only-of-type {\n",
       "        vertical-align: middle;\n",
       "    }\n",
       "\n",
       "    .dataframe tbody tr th {\n",
       "        vertical-align: top;\n",
       "    }\n",
       "\n",
       "    .dataframe thead th {\n",
       "        text-align: right;\n",
       "    }\n",
       "</style>\n",
       "<table border=\"1\" class=\"dataframe\">\n",
       "  <thead>\n",
       "    <tr style=\"text-align: right;\">\n",
       "      <th></th>\n",
       "      <th>datetime</th>\n",
       "      <th>ws</th>\n",
       "      <th>wd</th>\n",
       "      <th>temp</th>\n",
       "      <th>pres</th>\n",
       "      <th>inversemoninobukhovlength_2m</th>\n",
       "    </tr>\n",
       "  </thead>\n",
       "  <tbody>\n",
       "    <tr>\n",
       "      <th>0</th>\n",
       "      <td>2007-01-01 00:00:00</td>\n",
       "      <td>7.917983</td>\n",
       "      <td>237.407141</td>\n",
       "      <td>287.944427</td>\n",
       "      <td>98057.553421</td>\n",
       "      <td>0.019473</td>\n",
       "    </tr>\n",
       "    <tr>\n",
       "      <th>1</th>\n",
       "      <td>2007-01-01 01:00:00</td>\n",
       "      <td>7.266664</td>\n",
       "      <td>227.217560</td>\n",
       "      <td>286.152222</td>\n",
       "      <td>98129.629636</td>\n",
       "      <td>0.051208</td>\n",
       "    </tr>\n",
       "    <tr>\n",
       "      <th>2</th>\n",
       "      <td>2007-01-01 02:00:00</td>\n",
       "      <td>7.697294</td>\n",
       "      <td>236.524341</td>\n",
       "      <td>285.411839</td>\n",
       "      <td>98186.430295</td>\n",
       "      <td>0.031449</td>\n",
       "    </tr>\n",
       "    <tr>\n",
       "      <th>3</th>\n",
       "      <td>2007-01-01 03:00:00</td>\n",
       "      <td>7.091217</td>\n",
       "      <td>235.600073</td>\n",
       "      <td>284.193695</td>\n",
       "      <td>98210.541729</td>\n",
       "      <td>0.046733</td>\n",
       "    </tr>\n",
       "    <tr>\n",
       "      <th>4</th>\n",
       "      <td>2007-01-01 04:00:00</td>\n",
       "      <td>6.048269</td>\n",
       "      <td>225.007432</td>\n",
       "      <td>283.044830</td>\n",
       "      <td>98215.349578</td>\n",
       "      <td>0.109984</td>\n",
       "    </tr>\n",
       "    <tr>\n",
       "      <th>...</th>\n",
       "      <td>...</td>\n",
       "      <td>...</td>\n",
       "      <td>...</td>\n",
       "      <td>...</td>\n",
       "      <td>...</td>\n",
       "      <td>...</td>\n",
       "    </tr>\n",
       "    <tr>\n",
       "      <th>61363</th>\n",
       "      <td>2013-12-31 19:00:00</td>\n",
       "      <td>4.531787</td>\n",
       "      <td>275.812418</td>\n",
       "      <td>272.872864</td>\n",
       "      <td>99724.027508</td>\n",
       "      <td>-0.043324</td>\n",
       "    </tr>\n",
       "    <tr>\n",
       "      <th>61364</th>\n",
       "      <td>2013-12-31 20:00:00</td>\n",
       "      <td>3.857724</td>\n",
       "      <td>270.410987</td>\n",
       "      <td>273.247467</td>\n",
       "      <td>99701.623914</td>\n",
       "      <td>-0.040085</td>\n",
       "    </tr>\n",
       "    <tr>\n",
       "      <th>61365</th>\n",
       "      <td>2013-12-31 21:00:00</td>\n",
       "      <td>2.995006</td>\n",
       "      <td>261.771416</td>\n",
       "      <td>273.415924</td>\n",
       "      <td>99674.910169</td>\n",
       "      <td>-0.013522</td>\n",
       "    </tr>\n",
       "    <tr>\n",
       "      <th>61366</th>\n",
       "      <td>2013-12-31 22:00:00</td>\n",
       "      <td>2.648275</td>\n",
       "      <td>225.132573</td>\n",
       "      <td>273.250671</td>\n",
       "      <td>99657.358579</td>\n",
       "      <td>0.174694</td>\n",
       "    </tr>\n",
       "    <tr>\n",
       "      <th>61367</th>\n",
       "      <td>2013-12-31 23:00:00</td>\n",
       "      <td>3.174167</td>\n",
       "      <td>208.509194</td>\n",
       "      <td>272.789398</td>\n",
       "      <td>99656.552326</td>\n",
       "      <td>0.186084</td>\n",
       "    </tr>\n",
       "  </tbody>\n",
       "</table>\n",
       "<p>61368 rows × 6 columns</p>\n",
       "</div>"
      ],
      "text/plain": [
       "                  datetime        ws          wd        temp          pres  \\\n",
       "0      2007-01-01 00:00:00  7.917983  237.407141  287.944427  98057.553421   \n",
       "1      2007-01-01 01:00:00  7.266664  227.217560  286.152222  98129.629636   \n",
       "2      2007-01-01 02:00:00  7.697294  236.524341  285.411839  98186.430295   \n",
       "3      2007-01-01 03:00:00  7.091217  235.600073  284.193695  98210.541729   \n",
       "4      2007-01-01 04:00:00  6.048269  225.007432  283.044830  98215.349578   \n",
       "...                    ...       ...         ...         ...           ...   \n",
       "61363  2013-12-31 19:00:00  4.531787  275.812418  272.872864  99724.027508   \n",
       "61364  2013-12-31 20:00:00  3.857724  270.410987  273.247467  99701.623914   \n",
       "61365  2013-12-31 21:00:00  2.995006  261.771416  273.415924  99674.910169   \n",
       "61366  2013-12-31 22:00:00  2.648275  225.132573  273.250671  99657.358579   \n",
       "61367  2013-12-31 23:00:00  3.174167  208.509194  272.789398  99656.552326   \n",
       "\n",
       "       inversemoninobukhovlength_2m  \n",
       "0                          0.019473  \n",
       "1                          0.051208  \n",
       "2                          0.031449  \n",
       "3                          0.046733  \n",
       "4                          0.109984  \n",
       "...                             ...  \n",
       "61363                     -0.043324  \n",
       "61364                     -0.040085  \n",
       "61365                     -0.013522  \n",
       "61366                      0.174694  \n",
       "61367                      0.186084  \n",
       "\n",
       "[61368 rows x 6 columns]"
      ]
     },
     "execution_count": 6,
     "metadata": {},
     "output_type": "execute_result"
    }
   ],
   "source": [
    "atmospheric_df"
   ]
  },
  {
   "cell_type": "code",
   "execution_count": 7,
   "id": "0ece2b1a-f466-4068-8878-2b7def279ffe",
   "metadata": {},
   "outputs": [
    {
     "data": {
      "text/plain": [
       "[array([-84.712431,  37.857794])]"
      ]
     },
     "execution_count": 7,
     "metadata": {},
     "output_type": "execute_result"
    }
   ],
   "source": [
    "xy_turbine"
   ]
  },
  {
   "cell_type": "code",
   "execution_count": 8,
   "id": "11f3b931-32c0-4f30-965b-6007ce35992f",
   "metadata": {},
   "outputs": [
    {
     "data": {
      "text/html": [
       "<div>\n",
       "<style scoped>\n",
       "    .dataframe tbody tr th:only-of-type {\n",
       "        vertical-align: middle;\n",
       "    }\n",
       "\n",
       "    .dataframe tbody tr th {\n",
       "        vertical-align: top;\n",
       "    }\n",
       "\n",
       "    .dataframe thead th {\n",
       "        text-align: right;\n",
       "    }\n",
       "</style>\n",
       "<table border=\"1\" class=\"dataframe\">\n",
       "  <thead>\n",
       "    <tr style=\"text-align: right;\">\n",
       "      <th></th>\n",
       "      <th>height</th>\n",
       "      <th>geometry</th>\n",
       "    </tr>\n",
       "  </thead>\n",
       "  <tbody>\n",
       "    <tr>\n",
       "      <th>0</th>\n",
       "      <td>10</td>\n",
       "      <td>POLYGON ((-84.71229 37.85793, -84.71221 37.857...</td>\n",
       "    </tr>\n",
       "    <tr>\n",
       "      <th>1</th>\n",
       "      <td>10</td>\n",
       "      <td>POLYGON ((-84.71355 37.85880, -84.71346 37.858...</td>\n",
       "    </tr>\n",
       "    <tr>\n",
       "      <th>2</th>\n",
       "      <td>10</td>\n",
       "      <td>POLYGON ((-84.71316 37.85849, -84.71312 37.858...</td>\n",
       "    </tr>\n",
       "  </tbody>\n",
       "</table>\n",
       "</div>"
      ],
      "text/plain": [
       "   height                                           geometry\n",
       "0      10  POLYGON ((-84.71229 37.85793, -84.71221 37.857...\n",
       "1      10  POLYGON ((-84.71355 37.85880, -84.71346 37.858...\n",
       "2      10  POLYGON ((-84.71316 37.85849, -84.71312 37.858..."
      ]
     },
     "execution_count": 8,
     "metadata": {},
     "output_type": "execute_result"
    }
   ],
   "source": [
    "obstacles_df"
   ]
  },
  {
   "cell_type": "code",
   "execution_count": null,
   "id": "f15ab007-1bce-49cb-8ab0-ba1ff3b614ec",
   "metadata": {},
   "outputs": [],
   "source": []
  },
  {
   "cell_type": "code",
   "execution_count": 9,
   "id": "16cc202f-80dd-4402-afd1-5ceed791e8f4",
   "metadata": {},
   "outputs": [
    {
     "data": {
      "text/html": [
       "<div>\n",
       "<style scoped>\n",
       "    .dataframe tbody tr th:only-of-type {\n",
       "        vertical-align: middle;\n",
       "    }\n",
       "\n",
       "    .dataframe tbody tr th {\n",
       "        vertical-align: top;\n",
       "    }\n",
       "\n",
       "    .dataframe thead th {\n",
       "        text-align: right;\n",
       "    }\n",
       "</style>\n",
       "<table border=\"1\" class=\"dataframe\">\n",
       "  <thead>\n",
       "    <tr style=\"text-align: right;\">\n",
       "      <th></th>\n",
       "      <th>timestamp</th>\n",
       "      <th>ws</th>\n",
       "      <th>ws-adjusted</th>\n",
       "    </tr>\n",
       "  </thead>\n",
       "  <tbody>\n",
       "    <tr>\n",
       "      <th>0</th>\n",
       "      <td>2007-01-01 00:00:00</td>\n",
       "      <td>7.917983</td>\n",
       "      <td>7.917983</td>\n",
       "    </tr>\n",
       "    <tr>\n",
       "      <th>1</th>\n",
       "      <td>2007-01-01 01:00:00</td>\n",
       "      <td>7.266664</td>\n",
       "      <td>7.266664</td>\n",
       "    </tr>\n",
       "    <tr>\n",
       "      <th>2</th>\n",
       "      <td>2007-01-01 02:00:00</td>\n",
       "      <td>7.697294</td>\n",
       "      <td>7.697294</td>\n",
       "    </tr>\n",
       "    <tr>\n",
       "      <th>3</th>\n",
       "      <td>2007-01-01 03:00:00</td>\n",
       "      <td>7.091217</td>\n",
       "      <td>7.091217</td>\n",
       "    </tr>\n",
       "    <tr>\n",
       "      <th>4</th>\n",
       "      <td>2007-01-01 04:00:00</td>\n",
       "      <td>6.048269</td>\n",
       "      <td>6.048269</td>\n",
       "    </tr>\n",
       "    <tr>\n",
       "      <th>...</th>\n",
       "      <td>...</td>\n",
       "      <td>...</td>\n",
       "      <td>...</td>\n",
       "    </tr>\n",
       "    <tr>\n",
       "      <th>61363</th>\n",
       "      <td>2013-12-31 19:00:00</td>\n",
       "      <td>4.531787</td>\n",
       "      <td>4.531787</td>\n",
       "    </tr>\n",
       "    <tr>\n",
       "      <th>61364</th>\n",
       "      <td>2013-12-31 20:00:00</td>\n",
       "      <td>3.857724</td>\n",
       "      <td>3.857724</td>\n",
       "    </tr>\n",
       "    <tr>\n",
       "      <th>61365</th>\n",
       "      <td>2013-12-31 21:00:00</td>\n",
       "      <td>2.995006</td>\n",
       "      <td>2.995006</td>\n",
       "    </tr>\n",
       "    <tr>\n",
       "      <th>61366</th>\n",
       "      <td>2013-12-31 22:00:00</td>\n",
       "      <td>2.648275</td>\n",
       "      <td>2.648275</td>\n",
       "    </tr>\n",
       "    <tr>\n",
       "      <th>61367</th>\n",
       "      <td>2013-12-31 23:00:00</td>\n",
       "      <td>3.174167</td>\n",
       "      <td>3.174167</td>\n",
       "    </tr>\n",
       "  </tbody>\n",
       "</table>\n",
       "<p>61368 rows × 3 columns</p>\n",
       "</div>"
      ],
      "text/plain": [
       "                 timestamp        ws  ws-adjusted\n",
       "0      2007-01-01 00:00:00  7.917983     7.917983\n",
       "1      2007-01-01 01:00:00  7.266664     7.266664\n",
       "2      2007-01-01 02:00:00  7.697294     7.697294\n",
       "3      2007-01-01 03:00:00  7.091217     7.091217\n",
       "4      2007-01-01 04:00:00  6.048269     6.048269\n",
       "...                    ...       ...          ...\n",
       "61363  2013-12-31 19:00:00  4.531787     4.531787\n",
       "61364  2013-12-31 20:00:00  3.857724     3.857724\n",
       "61365  2013-12-31 21:00:00  2.995006     2.995006\n",
       "61366  2013-12-31 22:00:00  2.648275     2.648275\n",
       "61367  2013-12-31 23:00:00  3.174167     3.174167\n",
       "\n",
       "[61368 rows x 3 columns]"
      ]
     },
     "execution_count": 9,
     "metadata": {},
     "output_type": "execute_result"
    }
   ],
   "source": [
    "predictions_df"
   ]
  },
  {
   "cell_type": "code",
   "execution_count": null,
   "id": "5c69d279-6f5d-4520-b4ce-301e638c2cba",
   "metadata": {},
   "outputs": [],
   "source": []
  },
  {
   "cell_type": "code",
   "execution_count": null,
   "id": "96972bb8-4d98-4f79-805d-db53221df74d",
   "metadata": {},
   "outputs": [],
   "source": []
  },
  {
   "cell_type": "code",
   "execution_count": null,
   "id": "c6bd9e4b-e768-4a70-b6ae-6df93f743cbe",
   "metadata": {},
   "outputs": [],
   "source": []
  },
  {
   "cell_type": "code",
   "execution_count": 10,
   "id": "79395990-8e7a-460b-a1c4-f616933e9ca7",
   "metadata": {},
   "outputs": [
    {
     "data": {
      "text/plain": [
       "False    61368\n",
       "Name: ws-adjusted, dtype: int64"
      ]
     },
     "execution_count": 10,
     "metadata": {},
     "output_type": "execute_result"
    }
   ],
   "source": [
    "predictions_df[\"ws-adjusted\"].isna().value_counts()"
   ]
  },
  {
   "cell_type": "code",
   "execution_count": 11,
   "id": "1545cc28-62f8-481d-8075-ee72ca750c3e",
   "metadata": {},
   "outputs": [
    {
     "data": {
      "text/plain": [
       "<AxesSubplot: >"
      ]
     },
     "execution_count": 11,
     "metadata": {},
     "output_type": "execute_result"
    },
    {
     "data": {
      "image/png": "[encoded data removed]",
      "text/plain": [
       "<Figure size 640x480 with 1 Axes>"
      ]
     },
     "metadata": {},
     "output_type": "display_data"
    }
   ],
   "source": [
    "(predictions_df[\"ws\"] - predictions_df[\"ws-adjusted\"]).plot()"
   ]
  },
  {
   "cell_type": "code",
   "execution_count": null,
   "id": "7214f687-8555-435b-a138-172f17369b0c",
   "metadata": {},
   "outputs": [],
   "source": []
  },
  {
   "cell_type": "code",
   "execution_count": null,
   "id": "16da088b-2a59-4fef-abcb-202ff2207850",
   "metadata": {},
   "outputs": [],
   "source": []
  },
  {
   "cell_type": "code",
   "execution_count": null,
   "id": "4aacd1b3-fede-4ea1-a522-e41fdd0d02bf",
   "metadata": {},
   "outputs": [],
   "source": []
  },
  {
   "cell_type": "code",
   "execution_count": null,
   "id": "851a5a4c-f164-4253-a4d6-20d094baa4f8",
   "metadata": {},
   "outputs": [],
   "source": []
  },
  {
   "cell_type": "code",
   "execution_count": 12,
   "id": "fabeea3a-09f5-416d-909c-245a4afb29a6",
   "metadata": {},
   "outputs": [
    {
     "data": {
      "text/plain": [
       "<AxesSubplot: >"
      ]
     },
     "execution_count": 12,
     "metadata": {},
     "output_type": "execute_result"
    },
    {
     "data": {
      "image/png": "[encoded data removed]",
      "text/plain": [
       "<Figure size 640x480 with 1 Axes>"
      ]
     },
     "metadata": {},
     "output_type": "display_data"
    }
   ],
   "source": [
    "import seaborn as sns\n",
    "negative_ws_adjusted = predictions_df[\"ws-adjusted\"][predictions_df[\"ws-adjusted\"] < 0]\n",
    "\n",
    "# Use the index of negative_ws_adjusted to select rows from atmospheric_df to find the corresponding wind direction values;\n",
    "# show distribution of wind direction values \n",
    "sns.histplot(atmospheric_df.loc[negative_ws_adjusted.index].wd, bins=60)"
   ]
  },
  {
   "cell_type": "code",
   "execution_count": 13,
   "id": "7020b11a-5748-4f1d-a85f-00b736a82298",
   "metadata": {},
   "outputs": [
    {
     "data": {
      "text/plain": [
       "<AxesSubplot: >"
      ]
     },
     "execution_count": 13,
     "metadata": {},
     "output_type": "execute_result"
    },
    {
     "data": {
      "image/png": "[encoded data removed]",
      "text/plain": [
       "<Figure size 640x480 with 1 Axes>"
      ]
     },
     "metadata": {},
     "output_type": "display_data"
    }
   ],
   "source": [
    "# Show wind speeds that correspond to the wind directions selected above \n",
    "sns.histplot(atmospheric_df.loc[negative_ws_adjusted.index].ws, bins=60)"
   ]
  },
  {
   "cell_type": "code",
   "execution_count": 14,
   "id": "6dd975e1-cc90-4bca-a5c3-d0d10aa83d8d",
   "metadata": {},
   "outputs": [
    {
     "data": {
      "text/plain": [
       "<AxesSubplot: >"
      ]
     },
     "execution_count": 14,
     "metadata": {},
     "output_type": "execute_result"
    },
    {
     "data": {
      "image/png": "[encoded data removed]",
      "text/plain": [
       "<Figure size 640x480 with 1 Axes>"
      ]
     },
     "metadata": {},
     "output_type": "display_data"
    }
   ],
   "source": [
    "predictions_df[[\"ws\", \"ws-adjusted\"]][:2000].plot()"
   ]
  },
  {
   "cell_type": "code",
   "execution_count": 15,
   "id": "ab407253-9f32-45c4-b27d-b05d1058eceb",
   "metadata": {},
   "outputs": [
    {
     "data": {
      "text/plain": [
       "<matplotlib.collections.PathCollection at 0x7fc659475ee0>"
      ]
     },
     "execution_count": 15,
     "metadata": {},
     "output_type": "execute_result"
    },
    {
     "data": {
      "image/png": "[encoded data removed]",
      "text/plain": [
       "<Figure size 640x480 with 1 Axes>"
      ]
     },
     "metadata": {},
     "output_type": "display_data"
    }
   ],
   "source": [
    "tmp = predictions_df # [predictions_df[\"nonlinear\"] > 0]\n",
    "\n",
    "import matplotlib.pyplot as plt\n",
    "plt.scatter(tmp[\"ws\"], tmp[\"ws-adjusted\"])"
   ]
  },
  {
   "cell_type": "code",
   "execution_count": 16,
   "id": "f7652ec3-93c4-45a2-b4f1-63e708b624e0",
   "metadata": {},
   "outputs": [
    {
     "data": {
      "text/plain": [
       "19.13793419090525"
      ]
     },
     "execution_count": 16,
     "metadata": {},
     "output_type": "execute_result"
    }
   ],
   "source": [
    "tmp[\"ws\"].max()"
   ]
  },
  {
   "cell_type": "code",
   "execution_count": 17,
   "id": "6b35e04e-ffad-4188-a6b5-3ee7f9322f1f",
   "metadata": {},
   "outputs": [
    {
     "data": {
      "text/plain": [
       "19.13793419090525"
      ]
     },
     "execution_count": 17,
     "metadata": {},
     "output_type": "execute_result"
    }
   ],
   "source": [
    "predictions_df[\"ws-adjusted\"].max()"
   ]
  },
  {
   "cell_type": "code",
   "execution_count": 18,
   "id": "402b3ddb-2740-4313-8077-0639d0edc4af",
   "metadata": {},
   "outputs": [],
   "source": [
    "##### Cells below can be used for demonstration purposes"
   ]
  },
  {
   "cell_type": "code",
   "execution_count": 19,
   "id": "503cd3c7-3602-4fbc-b642-db507906d4e5",
   "metadata": {},
   "outputs": [],
   "source": [
    "# atmospheric_df"
   ]
  },
  {
   "cell_type": "code",
   "execution_count": 20,
   "id": "408534a2-ab78-491c-b6e5-36f2a691dcdc",
   "metadata": {},
   "outputs": [],
   "source": [
    "# obstacles_df #height is in meters; geometry has polygons in (lat,lon) pairs"
   ]
  },
  {
   "cell_type": "code",
   "execution_count": 21,
   "id": "a01652d7-ea98-4b38-8248-cf8af1c6d9fb",
   "metadata": {},
   "outputs": [],
   "source": [
    "# xy_turbine # location of turbine in lat,lon"
   ]
  },
  {
   "cell_type": "code",
   "execution_count": 22,
   "id": "b491d2bb-69a3-4760-b25e-da60be45ae73",
   "metadata": {},
   "outputs": [],
   "source": [
    "# z_turbine # hub height in meters "
   ]
  },
  {
   "cell_type": "code",
   "execution_count": 23,
   "id": "c987d858-9efe-44ab-aa7c-46d6532409da",
   "metadata": {},
   "outputs": [],
   "source": [
    "# predictions_df = \\\n",
    "#     run_lom(atmospheric_df, obstacles_df, xy_turbine, z_turbine)"
   ]
  },
  {
   "cell_type": "code",
   "execution_count": 24,
   "id": "620f76fd-b5a9-40f2-8071-8f66ac8adfdf",
   "metadata": {},
   "outputs": [],
   "source": [
    "# predictions_df"
   ]
  },
  {
   "cell_type": "code",
   "execution_count": null,
   "id": "8b71cbde-b89b-4cd4-8c5a-d55901e02228",
   "metadata": {},
   "outputs": [],
   "source": []
  },
  {
   "cell_type": "code",
   "execution_count": null,
   "id": "6c52dec0-7840-47a0-b0e3-f1d84bd32a64",
   "metadata": {},
   "outputs": [],
   "source": []
  }
 ],
 "metadata": {
  "kernelspec": {
   "display_name": "Python 3 (ipykernel)",
   "language": "python",
   "name": "python3"
  },
  "language_info": {
   "codemirror_mode": {
    "name": "ipython",
    "version": 3
   },
   "file_extension": ".py",
   "mimetype": "text/x-python",
   "name": "python",
   "nbconvert_exporter": "python",
   "pygments_lexer": "ipython3",
   "version": "3.8.13"
  }
 },
 "nbformat": 4,
 "nbformat_minor": 5
}
