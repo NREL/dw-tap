{
 "cells": [
  {
   "cell_type": "code",
   "execution_count": null,
   "id": "d7d7a983-d008-44b6-b32a-3fa5ab0276d8",
   "metadata": {},
   "outputs": [],
   "source": [
    "import numpy as np\n",
    "import pandas as pd\n",
    "import time\n",
    "import h5pyd\n",
    "import geopandas as gdp\n",
    "from dw_tap.data_fetching import getData\n",
    "from dw_tap.power_output import estimate_power_output\n",
    "from dw_tap.lom import run_lom\n",
    "\n",
    "z_turbine = 40 # turbine height in [m]\n",
    "lat, lon = 39.32856, -89.40238\n",
    "obstacle_file = \"../bergey/180-Manual1.geojson\"\n",
    "\n",
    "t_start = time.time()\n",
    "\n",
    "#Read in data from CSV file instead of hsds + getData\n",
    "df = pd.read_csv(\"ANLgetData_180.csv\")\n",
    "df_places = gpd.read_file(obstacle_file)\n",
    "x1_turbine, y1_turbine = lat, lon\n",
    "xy_turbine = [np.array([x1_turbine, y1_turbine])]\n",
    "\n",
    "t_lom_start = time.time()\n",
    "predictions_df = \\\n",
    "    run_lom(df, df_places, xy_turbine, z_turbine)\n",
    "t_lom = time.time() - t_lom_start\n",
    "print('Running LOM: %.2f (s)' % t_lom)\n",
    "\n",
    "t_power_start = time.time()\n",
    "kw, above_curve, below_curve, above_curve_list, below_curve_list = \\\n",
    "    estimate_power_output(predictions_df, df[\"temp\"], df[\"pres\"])  \n",
    "t_power = time.time() - t_power_start\n",
    "print('Power estimation: %.2f (s)' % t_power)\n",
    "\n",
    "t_total = time.time()-t_start\n",
    "print('Total time: %.2f (s)' % t_total)"
   ]
  }
 ],
 "metadata": {
  "kernelspec": {
   "display_name": "Python 3 (ipykernel)",
   "language": "python",
   "name": "python3"
  },
  "language_info": {
   "codemirror_mode": {
    "name": "ipython",
    "version": 3
   },
   "file_extension": ".py",
   "mimetype": "text/x-python",
   "name": "python",
   "nbconvert_exporter": "python",
   "pygments_lexer": "ipython3",
   "version": "3.8.13"
  }
 },
 "nbformat": 4,
 "nbformat_minor": 5
}
