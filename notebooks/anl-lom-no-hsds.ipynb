{
 "cells": [
  {
   "cell_type": "code",
   "execution_count": 1,
   "id": "d7d7a983-d008-44b6-b32a-3fa5ab0276d8",
   "metadata": {},
   "outputs": [
    {
     "name": "stderr",
     "output_type": "stream",
     "text": [
      "2022-10-24 15:42:56.675141: I tensorflow/core/platform/cpu_feature_guard.cc:193] This TensorFlow binary is optimized with oneAPI Deep Neural Network Library (oneDNN) to use the following CPU instructions in performance-critical operations:  SSE4.1 SSE4.2 AVX AVX2 FMA\n",
      "To enable them in other operations, rebuild TensorFlow with the appropriate compiler flags.\n"
     ]
    },
    {
     "name": "stdout",
     "output_type": "stream",
     "text": [
      "LOM time : 0.06  min\n",
      "Running LOM: 3.55 (s)\n",
      "Power estimation: 0.02 (s)\n",
      "Total time: 3.60 (s)\n"
     ]
    }
   ],
   "source": [
    "import numpy as np\n",
    "import pandas as pd\n",
    "import time\n",
    "import h5pyd\n",
    "import geopandas as gpd\n",
    "from dw_tap.data_fetching import getData\n",
    "from dw_tap.power_output import estimate_power_output\n",
    "from dw_tap.lom import run_lom\n",
    "\n",
    "z_turbine = 40 # turbine height in [m]\n",
    "lat, lon = 39.32856, -89.40238\n",
    "obstacle_file = \"../sites/180-Manual1.geojson\"\n",
    "\n",
    "t_start = time.time()\n",
    "\n",
    "#Read in data from CSV file instead of hsds + getData\n",
    "atmospheric_df = pd.read_csv(\"../data/180_1year_12hourgranularity.csv\")\n",
    "# Temporary (later need to resave csv without index column) \n",
    "if \"Unnamed: 0\" in atmospheric_df.columns:\n",
    "    atmospheric_df.drop(columns=[\"Unnamed: 0\"], inplace=True)\n",
    "\n",
    "obstacles_df = gpd.read_file(obstacle_file)\n",
    "# Leave in only relevant columns\n",
    "obstacles_df = obstacles_df[[\"height\", \"geometry\"]]\n",
    "\n",
    "x1_turbine, y1_turbine = lat, lon\n",
    "xy_turbine = [np.array([x1_turbine, y1_turbine])]\n",
    "\n",
    "t_lom_start = time.time()\n",
    "predictions_df = \\\n",
    "    run_lom(atmospheric_df, obstacles_df, xy_turbine, z_turbine)\n",
    "t_lom = time.time() - t_lom_start\n",
    "print('Running LOM: %.2f (s)' % t_lom)\n",
    "\n",
    "t_power_start = time.time()\n",
    "kw, above_curve, below_curve, above_curve_list, below_curve_list = \\\n",
    "    estimate_power_output(predictions_df, atmospheric_df[\"temp\"], atmospheric_df[\"pres\"])  \n",
    "t_power = time.time() - t_power_start\n",
    "print('Power estimation: %.2f (s)' % t_power)\n",
    "\n",
    "t_total = time.time()-t_start\n",
    "print('Total time: %.2f (s)' % t_total)"
   ]
  },
  {
   "cell_type": "code",
   "execution_count": 15,
   "id": "402b3ddb-2740-4313-8077-0639d0edc4af",
   "metadata": {},
   "outputs": [],
   "source": [
    "##### Cells below can be used for demonstration purposes"
   ]
  },
  {
   "cell_type": "code",
   "execution_count": 9,
   "id": "503cd3c7-3602-4fbc-b642-db507906d4e5",
   "metadata": {},
   "outputs": [],
   "source": [
    "# atmospheric_df"
   ]
  },
  {
   "cell_type": "code",
   "execution_count": 10,
   "id": "408534a2-ab78-491c-b6e5-36f2a691dcdc",
   "metadata": {},
   "outputs": [],
   "source": [
    "# obstacles_df #height is in meters; geometry has polygons in (lat,lon) pairs"
   ]
  },
  {
   "cell_type": "code",
   "execution_count": 11,
   "id": "a01652d7-ea98-4b38-8248-cf8af1c6d9fb",
   "metadata": {},
   "outputs": [],
   "source": [
    "# xy_turbine # location of turbine in lat,lon"
   ]
  },
  {
   "cell_type": "code",
   "execution_count": 12,
   "id": "b491d2bb-69a3-4760-b25e-da60be45ae73",
   "metadata": {},
   "outputs": [],
   "source": [
    "# z_turbine # hub height in meters "
   ]
  },
  {
   "cell_type": "code",
   "execution_count": 14,
   "id": "c987d858-9efe-44ab-aa7c-46d6532409da",
   "metadata": {},
   "outputs": [],
   "source": [
    "# predictions_df = \\\n",
    "#     run_lom(atmospheric_df, obstacles_df, xy_turbine, z_turbine)"
   ]
  },
  {
   "cell_type": "code",
   "execution_count": 13,
   "id": "620f76fd-b5a9-40f2-8071-8f66ac8adfdf",
   "metadata": {},
   "outputs": [],
   "source": [
    "# predictions_df"
   ]
  }
 ],
 "metadata": {
  "kernelspec": {
   "display_name": "Python 3 (ipykernel)",
   "language": "python",
   "name": "python3"
  },
  "language_info": {
   "codemirror_mode": {
    "name": "ipython",
    "version": 3
   },
   "file_extension": ".py",
   "mimetype": "text/x-python",
   "name": "python",
   "nbconvert_exporter": "python",
   "pygments_lexer": "ipython3",
   "version": "3.8.13"
  }
 },
 "nbformat": 4,
 "nbformat_minor": 5
}
