{
 "cells": [
  {
   "cell_type": "markdown",
   "id": "1f59f1c2",
   "metadata": {},
   "source": [
    "## Compute Metrics\n",
    "\n",
    "Caleb Phillips (caleb.phillips@nrel.gov) and Jenna Ruzekowicz (jenna.ruzekowicz@nrel.gov)\n",
    "\n",
    "The purpose of this notebook is to read in computed predictions and compare them to actual observations, computing metrics. We will compute metrics and produce the summary files:\n",
    "\n",
    "> results_summary.csv\n",
    "  \n",
    "> provider,site,height_m,model,metric,value\n",
    "  \n",
    "And, hour, month, sector summaries:\n",
    "\n",
    "> results_hms_{metric}.csv\n",
    "  \n",
    "> provider,site,height_m,model,hour,month,sector_deg,value"
   ]
  },
  {
   "cell_type": "code",
   "execution_count": 1,
   "id": "9c63dbfe",
   "metadata": {},
   "outputs": [],
   "source": [
    "import common\n",
    "import pandas as pd\n",
    "from tqdm import tqdm"
   ]
  }
 ],
 "metadata": {
  "kernelspec": {
   "display_name": "Python 3 (ipykernel)",
   "language": "python",
   "name": "python3"
  },
  "language_info": {
   "codemirror_mode": {
    "name": "ipython",
    "version": 3
   },
   "file_extension": ".py",
   "mimetype": "text/x-python",
   "name": "python",
   "nbconvert_exporter": "python",
   "pygments_lexer": "ipython3",
   "version": "3.8.16"
  },
  "vscode": {
   "interpreter": {
    "hash": "31f2aee4e71d21fbe5cf8b01ff0e069b9275f58929596ceb00d14d90e3e16cd6"
   }
  }
 },
 "nbformat": 4,
 "nbformat_minor": 5
}
