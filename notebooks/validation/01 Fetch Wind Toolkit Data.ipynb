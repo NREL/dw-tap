{
 "cells": [
  {
   "cell_type": "markdown",
   "id": "8a171759-498a-4764-a6af-1db425889016",
   "metadata": {},
   "source": [
    "## WTK Data Preparation\n",
    "\n",
    "Caleb Phillips (caleb.phillips@nrel.gov), Dmitry Duplyakin (dmitry.duplyakin@nrel.gov) and Jenna Ruzekowicz (jenna.ruzekowicz@nrel.gov)\n",
    "\n",
    "The purpose of this notebook is to read in WTK and WTK-LED data at the turbine locations (the entire time period available, spatially and vertically interpolated)."
   ]
  },
  {
   "cell_type": "markdown",
   "id": "5e55fa66-f649-44db-af06-9dd49f941cf9",
   "metadata": {},
   "source": [
    "Notes: \n",
    "Might need to install Rex if it isn't installed already:\n",
    "conda install nrel-rex --channel=nrel\n",
    "\n",
    "More about rex: https://github.com/NREL/rex\n",
    "2018 5-min monthly h5 (the file you referenced on the 21st):\n",
    "/campaign/tap/CONUS/wtk/5min/2018/{month}/conus_2018-{month}.h5\n",
    " \n",
    "2018 5-min yearly h5 slices:\n",
    "/shared-projects/wtk-led/CONUS/wtk/2018/yearly_h5/conus_2018_{height}m.h5\n",
    " \n",
    "2019 60-min yearly h5:\n",
    "/campaign/tap/CONUS/wtk/60min/2019/conus_2019.h5"
   ]
  },
  {
   "cell_type": "code",
   "execution_count": 1,
   "id": "8eb19799-e2a7-41e5-89ef-ca1f2d546735",
   "metadata": {},
   "outputs": [],
   "source": [
    "import numpy as np\n",
    "import pandas as pd\n",
    "import geopandas as gpd\n",
    "\n",
    "import h5pyd\n",
    "from rex.resource_extraction import MultiYearWindX\n",
    "from dw_tap.data_fetching import get_data_wtk_led_on_eagle \n",
    "from dw_tap.data_fetching import getData\n",
    "\n",
    "from tqdm import tqdm\n",
    "\n",
    "from site_index import SiteIndex\n",
    "\n",
    "#Added for OneEnergy\n",
    "from site_index_oe import SiteIndexOE"
   ]
  },
  {
   "cell_type": "markdown",
   "id": "b72c2ef0",
   "metadata": {},
   "source": [
    "### Read in index of turbines\n",
    "\n",
    "If running just the windtoolkit code, you only need this not the next two sections."
   ]
  },
  {
   "cell_type": "code",
   "execution_count": 2,
   "id": "37c41f4f-fbc7-44ec-873d-0b62ec1485e0",
   "metadata": {},
   "outputs": [
    {
     "data": {
      "text/html": [
       "<div>\n",
       "<style scoped>\n",
       "    .dataframe tbody tr th:only-of-type {\n",
       "        vertical-align: middle;\n",
       "    }\n",
       "\n",
       "    .dataframe tbody tr th {\n",
       "        vertical-align: top;\n",
       "    }\n",
       "\n",
       "    .dataframe thead th {\n",
       "        text-align: right;\n",
       "    }\n",
       "</style>\n",
       "<table border=\"1\" class=\"dataframe\">\n",
       "  <thead>\n",
       "    <tr style=\"text-align: right;\">\n",
       "      <th></th>\n",
       "      <th>APRS ID</th>\n",
       "      <th>Public Site Name</th>\n",
       "      <th>State</th>\n",
       "      <th>Model</th>\n",
       "      <th>Rotor Diameter (m)</th>\n",
       "      <th>Latitude</th>\n",
       "      <th>Longitude</th>\n",
       "      <th>Hub Height (m)</th>\n",
       "      <th>Rating (kW)</th>\n",
       "    </tr>\n",
       "  </thead>\n",
       "  <tbody>\n",
       "    <tr>\n",
       "      <th>0</th>\n",
       "      <td>p1w1</td>\n",
       "      <td>Findlay</td>\n",
       "      <td>OH</td>\n",
       "      <td>GW 87/1500</td>\n",
       "      <td>87</td>\n",
       "      <td>41.101219</td>\n",
       "      <td>-83.644394</td>\n",
       "      <td>80</td>\n",
       "      <td>1500</td>\n",
       "    </tr>\n",
       "    <tr>\n",
       "      <th>1</th>\n",
       "      <td>p1w2</td>\n",
       "      <td>Findlay</td>\n",
       "      <td>OH</td>\n",
       "      <td>GW 87/1500</td>\n",
       "      <td>87</td>\n",
       "      <td>41.099750</td>\n",
       "      <td>-83.643533</td>\n",
       "      <td>80</td>\n",
       "      <td>1500</td>\n",
       "    </tr>\n",
       "    <tr>\n",
       "      <th>2</th>\n",
       "      <td>p1z1</td>\n",
       "      <td>Findlay</td>\n",
       "      <td>OH</td>\n",
       "      <td>GW 87/1500</td>\n",
       "      <td>87</td>\n",
       "      <td>41.097669</td>\n",
       "      <td>-83.642588</td>\n",
       "      <td>80</td>\n",
       "      <td>1500</td>\n",
       "    </tr>\n",
       "    <tr>\n",
       "      <th>3</th>\n",
       "      <td>p1z2</td>\n",
       "      <td>Findlay</td>\n",
       "      <td>OH</td>\n",
       "      <td>GW 87/1500</td>\n",
       "      <td>87</td>\n",
       "      <td>41.096111</td>\n",
       "      <td>-83.641380</td>\n",
       "      <td>80</td>\n",
       "      <td>1500</td>\n",
       "    </tr>\n",
       "    <tr>\n",
       "      <th>4</th>\n",
       "      <td>p1z3</td>\n",
       "      <td>Findlay</td>\n",
       "      <td>OH</td>\n",
       "      <td>GW 87/1500</td>\n",
       "      <td>87</td>\n",
       "      <td>41.094388</td>\n",
       "      <td>-83.639116</td>\n",
       "      <td>80</td>\n",
       "      <td>1500</td>\n",
       "    </tr>\n",
       "  </tbody>\n",
       "</table>\n",
       "</div>"
      ],
      "text/plain": [
       "  APRS ID Public Site Name State       Model  Rotor Diameter (m)   Latitude  \\\n",
       "0    p1w1          Findlay    OH  GW 87/1500                  87  41.101219   \n",
       "1    p1w2          Findlay    OH  GW 87/1500                  87  41.099750   \n",
       "2    p1z1          Findlay    OH  GW 87/1500                  87  41.097669   \n",
       "3    p1z2          Findlay    OH  GW 87/1500                  87  41.096111   \n",
       "4    p1z3          Findlay    OH  GW 87/1500                  87  41.094388   \n",
       "\n",
       "   Longitude  Hub Height (m)  Rating (kW)  \n",
       "0 -83.644394              80         1500  \n",
       "1 -83.643533              80         1500  \n",
       "2 -83.642588              80         1500  \n",
       "3 -83.641380              80         1500  \n",
       "4 -83.639116              80         1500  "
      ]
     },
     "execution_count": 2,
     "metadata": {},
     "output_type": "execute_result"
    }
   ],
   "source": [
    "#Bergey\n",
    "#index = SiteIndex()\n",
    "\n",
    "#One Energy\n",
    "index = SiteIndexOE()\n",
    "\n",
    "index.head()"
   ]
  },
  {
   "cell_type": "markdown",
   "id": "af4c1c0a",
   "metadata": {},
   "source": [
    "### Fetch Wind Toolkit Data"
   ]
  },
  {
   "cell_type": "code",
   "execution_count": 3,
   "id": "585a0dad",
   "metadata": {},
   "outputs": [
    {
     "name": "stderr",
     "output_type": "stream",
     "text": [
      "2it [06:27, 191.99s/it]WARNING:urllib3.connectionpool:Retrying (Retry(total=9, connect=10, read=9, redirect=None, status=None)) after connection broken by 'ProtocolError('Connection aborted.', RemoteDisconnected('Remote end closed connection without response'))': /datasets/d-d1c8b2d2-85f3-11e7-bf89-0242ac110008/value?nonstrict=1&select=%5B0%3A61368%3A1%2C980%3A982%3A1%2C1987%3A1989%3A1%5D&domain=%2Fnrel%2Fwtk-us.h5&bucket=nrel-pds-hsds\n",
      "21it [1:04:48, 185.18s/it]\n"
     ]
    }
   ],
   "source": [
    "# Open the wind data \"file\"\n",
    "# server endpoint, username, password are found in ~/.hscfg\n",
    "f = h5pyd.File(\"/nrel/wtk-us.h5\", 'r', bucket=\"nrel-pds-hsds\") \n",
    "\n",
    "def fetch_dfs(index,wtk_dfs=[]):\n",
    "    for row in tqdm(index.itertuples()):\n",
    "        tid = row[1]\n",
    "        lat = row[6]\n",
    "        lon = row[7]\n",
    "        z_turbine = row[8]\n",
    "        # avoid re-running things that have already run\n",
    "        if tid in [x['tid'][0] for x in wtk_dfs]:\n",
    "            print(\"Skipping \"+str(tid))\n",
    "            continue\n",
    "        atmospheric_df = getData(f, lat, lon, z_turbine, \"IDW\", \n",
    "                                 power_estimate=True,\n",
    "                                 inverse_monin_obukhov_length=True)\n",
    "        atmospheric_df['tid'] = tid\n",
    "        wtk_dfs.append(atmospheric_df)\n",
    "\n",
    "    return wtk_dfs\n",
    "\n",
    "# in case HSDS has a connection error we will try a second time\n",
    "try:\n",
    "    wtk_dfs = fetch_dfs(index)\n",
    "except ConnectionError:\n",
    "    print(\"Caught a connection error, trying to resume...\")\n",
    "    wtk_dfs = fetch_dfs(indx,wtk_dfs)"
   ]
  },
  {
   "cell_type": "code",
   "execution_count": 4,
   "id": "5d6c83d1",
   "metadata": {},
   "outputs": [],
   "source": [
    "wtk_df = pd.concat(wtk_dfs)"
   ]
  },
  {
   "cell_type": "code",
   "execution_count": 5,
   "id": "4980f724",
   "metadata": {},
   "outputs": [
    {
     "data": {
      "text/html": [
       "<div>\n",
       "<style scoped>\n",
       "    .dataframe tbody tr th:only-of-type {\n",
       "        vertical-align: middle;\n",
       "    }\n",
       "\n",
       "    .dataframe tbody tr th {\n",
       "        vertical-align: top;\n",
       "    }\n",
       "\n",
       "    .dataframe thead th {\n",
       "        text-align: right;\n",
       "    }\n",
       "</style>\n",
       "<table border=\"1\" class=\"dataframe\">\n",
       "  <thead>\n",
       "    <tr style=\"text-align: right;\">\n",
       "      <th></th>\n",
       "      <th>datetime</th>\n",
       "      <th>ws</th>\n",
       "      <th>wd</th>\n",
       "      <th>temp</th>\n",
       "      <th>pres</th>\n",
       "      <th>inversemoninobukhovlength_2m</th>\n",
       "      <th>tid</th>\n",
       "    </tr>\n",
       "  </thead>\n",
       "  <tbody>\n",
       "    <tr>\n",
       "      <th>0</th>\n",
       "      <td>2007-01-01 00:00:00</td>\n",
       "      <td>11.429972</td>\n",
       "      <td>160.344914</td>\n",
       "      <td>285.184784</td>\n",
       "      <td>95416.112667</td>\n",
       "      <td>0.004876</td>\n",
       "      <td>p1w1</td>\n",
       "    </tr>\n",
       "    <tr>\n",
       "      <th>1</th>\n",
       "      <td>2007-01-01 01:00:00</td>\n",
       "      <td>12.601066</td>\n",
       "      <td>170.244337</td>\n",
       "      <td>285.679199</td>\n",
       "      <td>95341.990290</td>\n",
       "      <td>0.003894</td>\n",
       "      <td>p1w1</td>\n",
       "    </tr>\n",
       "    <tr>\n",
       "      <th>2</th>\n",
       "      <td>2007-01-01 02:00:00</td>\n",
       "      <td>11.008472</td>\n",
       "      <td>222.110030</td>\n",
       "      <td>285.239716</td>\n",
       "      <td>95438.777724</td>\n",
       "      <td>0.007028</td>\n",
       "      <td>p1w1</td>\n",
       "    </tr>\n",
       "    <tr>\n",
       "      <th>3</th>\n",
       "      <td>2007-01-01 03:00:00</td>\n",
       "      <td>12.665842</td>\n",
       "      <td>219.703827</td>\n",
       "      <td>284.333313</td>\n",
       "      <td>95451.063645</td>\n",
       "      <td>0.013516</td>\n",
       "      <td>p1w1</td>\n",
       "    </tr>\n",
       "    <tr>\n",
       "      <th>4</th>\n",
       "      <td>2007-01-01 04:00:00</td>\n",
       "      <td>11.366636</td>\n",
       "      <td>213.223690</td>\n",
       "      <td>283.002716</td>\n",
       "      <td>95438.525090</td>\n",
       "      <td>0.019596</td>\n",
       "      <td>p1w1</td>\n",
       "    </tr>\n",
       "  </tbody>\n",
       "</table>\n",
       "</div>"
      ],
      "text/plain": [
       "             datetime         ws          wd        temp          pres  \\\n",
       "0 2007-01-01 00:00:00  11.429972  160.344914  285.184784  95416.112667   \n",
       "1 2007-01-01 01:00:00  12.601066  170.244337  285.679199  95341.990290   \n",
       "2 2007-01-01 02:00:00  11.008472  222.110030  285.239716  95438.777724   \n",
       "3 2007-01-01 03:00:00  12.665842  219.703827  284.333313  95451.063645   \n",
       "4 2007-01-01 04:00:00  11.366636  213.223690  283.002716  95438.525090   \n",
       "\n",
       "   inversemoninobukhovlength_2m   tid  \n",
       "0                      0.004876  p1w1  \n",
       "1                      0.003894  p1w1  \n",
       "2                      0.007028  p1w1  \n",
       "3                      0.013516  p1w1  \n",
       "4                      0.019596  p1w1  "
      ]
     },
     "execution_count": 5,
     "metadata": {},
     "output_type": "execute_result"
    }
   ],
   "source": [
    "wtk_df.head()"
   ]
  },
  {
   "cell_type": "code",
   "execution_count": 6,
   "id": "6410ab7b",
   "metadata": {},
   "outputs": [],
   "source": [
    "wtk_df['packet_date'] = pd.to_datetime(wtk_df[\"datetime\"]).dt.tz_localize('UTC')\n",
    "\n",
    "#Bergey\n",
    "#wtk_df.to_csv(\"01 Bergey Turbine Data/wtk_tp.csv.bz2\",index=False)\n",
    "\n",
    "#One Energy\n",
    "wtk_df.to_csv(\"01 One Energy Turbine Data/wtk_tp.csv.bz2\",index=False)"
   ]
  },
  {
   "cell_type": "markdown",
   "id": "f2ad657a",
   "metadata": {},
   "source": [
    "### Fetch WTK-LED Data"
   ]
  },
  {
   "cell_type": "markdown",
   "id": "279bcffa-cbe6-4c49-adeb-55af914f19c0",
   "metadata": {},
   "source": [
    "**Requirement:** The following code must run on `Eagle` to access h5 files for WTK-LED"
   ]
  },
  {
   "cell_type": "markdown",
   "id": "aa493d2e-b844-469f-985d-744e43f2e4ca",
   "metadata": {},
   "source": [
    "#### 2018 5-minute data from WTK-LED"
   ]
  },
  {
   "cell_type": "code",
   "execution_count": 3,
   "id": "a3276384-1670-4a66-8887-c7950bef29aa",
   "metadata": {},
   "outputs": [
    {
     "data": {
      "text/html": [
       "<div>\n",
       "<style scoped>\n",
       "    .dataframe tbody tr th:only-of-type {\n",
       "        vertical-align: middle;\n",
       "    }\n",
       "\n",
       "    .dataframe tbody tr th {\n",
       "        vertical-align: top;\n",
       "    }\n",
       "\n",
       "    .dataframe thead th {\n",
       "        text-align: right;\n",
       "    }\n",
       "</style>\n",
       "<table border=\"1\" class=\"dataframe\">\n",
       "  <thead>\n",
       "    <tr style=\"text-align: right;\">\n",
       "      <th></th>\n",
       "      <th>APRS ID</th>\n",
       "      <th>Public Site Name</th>\n",
       "      <th>State</th>\n",
       "      <th>Model</th>\n",
       "      <th>Rotor Diameter (m)</th>\n",
       "      <th>Latitude</th>\n",
       "      <th>Longitude</th>\n",
       "      <th>Hub Height (m)</th>\n",
       "      <th>Rating (kW)</th>\n",
       "    </tr>\n",
       "  </thead>\n",
       "  <tbody>\n",
       "    <tr>\n",
       "      <th>0</th>\n",
       "      <td>p1w1</td>\n",
       "      <td>Findlay</td>\n",
       "      <td>OH</td>\n",
       "      <td>GW 87/1500</td>\n",
       "      <td>87</td>\n",
       "      <td>41.101219</td>\n",
       "      <td>-83.644394</td>\n",
       "      <td>80</td>\n",
       "      <td>1500</td>\n",
       "    </tr>\n",
       "    <tr>\n",
       "      <th>1</th>\n",
       "      <td>p1w2</td>\n",
       "      <td>Findlay</td>\n",
       "      <td>OH</td>\n",
       "      <td>GW 87/1500</td>\n",
       "      <td>87</td>\n",
       "      <td>41.099750</td>\n",
       "      <td>-83.643533</td>\n",
       "      <td>80</td>\n",
       "      <td>1500</td>\n",
       "    </tr>\n",
       "    <tr>\n",
       "      <th>2</th>\n",
       "      <td>p1z1</td>\n",
       "      <td>Findlay</td>\n",
       "      <td>OH</td>\n",
       "      <td>GW 87/1500</td>\n",
       "      <td>87</td>\n",
       "      <td>41.097669</td>\n",
       "      <td>-83.642588</td>\n",
       "      <td>80</td>\n",
       "      <td>1500</td>\n",
       "    </tr>\n",
       "    <tr>\n",
       "      <th>3</th>\n",
       "      <td>p1z2</td>\n",
       "      <td>Findlay</td>\n",
       "      <td>OH</td>\n",
       "      <td>GW 87/1500</td>\n",
       "      <td>87</td>\n",
       "      <td>41.096111</td>\n",
       "      <td>-83.641380</td>\n",
       "      <td>80</td>\n",
       "      <td>1500</td>\n",
       "    </tr>\n",
       "    <tr>\n",
       "      <th>4</th>\n",
       "      <td>p1z3</td>\n",
       "      <td>Findlay</td>\n",
       "      <td>OH</td>\n",
       "      <td>GW 87/1500</td>\n",
       "      <td>87</td>\n",
       "      <td>41.094388</td>\n",
       "      <td>-83.639116</td>\n",
       "      <td>80</td>\n",
       "      <td>1500</td>\n",
       "    </tr>\n",
       "  </tbody>\n",
       "</table>\n",
       "</div>"
      ],
      "text/plain": [
       "  APRS ID Public Site Name State       Model  Rotor Diameter (m)   Latitude  \\\n",
       "0    p1w1          Findlay    OH  GW 87/1500                  87  41.101219   \n",
       "1    p1w2          Findlay    OH  GW 87/1500                  87  41.099750   \n",
       "2    p1z1          Findlay    OH  GW 87/1500                  87  41.097669   \n",
       "3    p1z2          Findlay    OH  GW 87/1500                  87  41.096111   \n",
       "4    p1z3          Findlay    OH  GW 87/1500                  87  41.094388   \n",
       "\n",
       "   Longitude  Hub Height (m)  Rating (kW)  \n",
       "0 -83.644394              80         1500  \n",
       "1 -83.643533              80         1500  \n",
       "2 -83.642588              80         1500  \n",
       "3 -83.641380              80         1500  \n",
       "4 -83.639116              80         1500  "
      ]
     },
     "execution_count": 3,
     "metadata": {},
     "output_type": "execute_result"
    }
   ],
   "source": [
    "#Bergy\n",
    "#index = pd.read_csv(\"01 Bergey Turbine Data/bergey_sites.csv\")\n",
    "\n",
    "#One Energy\n",
    "index = pd.read_csv(\"01 One Energy Turbine Data/OneEnergyTurbineData.csv\")\n",
    "\n",
    "index.head()"
   ]
  },
  {
   "cell_type": "code",
   "execution_count": 4,
   "id": "bbf3ef38-2710-41f8-ab30-8d6bc5af49e9",
   "metadata": {},
   "outputs": [
    {
     "name": "stderr",
     "output_type": "stream",
     "text": [
      "0it [00:00, ?it/s]\n"
     ]
    },
    {
     "ename": "FileInputError",
     "evalue": "Could not find any file paths with pattern: /campaign/tap/CONUS/wtk/5min/2018/01/conus_2018-01.h5",
     "output_type": "error",
     "traceback": [
      "\u001b[0;31m---------------------------------------------------------------------------\u001b[0m",
      "\u001b[0;31mFileInputError\u001b[0m                            Traceback (most recent call last)",
      "Cell \u001b[0;32mIn[4], line 36\u001b[0m\n\u001b[1;32m     34\u001b[0m \u001b[38;5;66;03m# in case HSDS has a connection error we will try a second time\u001b[39;00m\n\u001b[1;32m     35\u001b[0m \u001b[38;5;28;01mtry\u001b[39;00m:\n\u001b[0;32m---> 36\u001b[0m     wtk_dfs \u001b[38;5;241m=\u001b[39m \u001b[43mfetch_dfs_wtk_led_2018\u001b[49m\u001b[43m(\u001b[49m\u001b[43mindex\u001b[49m\u001b[43m)\u001b[49m\n\u001b[1;32m     37\u001b[0m \u001b[38;5;28;01mexcept\u001b[39;00m \u001b[38;5;167;01mConnectionError\u001b[39;00m:\n\u001b[1;32m     38\u001b[0m     \u001b[38;5;28mprint\u001b[39m(\u001b[38;5;124m\"\u001b[39m\u001b[38;5;124mCaught a connection error, trying to resume...\u001b[39m\u001b[38;5;124m\"\u001b[39m)\n",
      "Cell \u001b[0;32mIn[4], line 19\u001b[0m, in \u001b[0;36mfetch_dfs_wtk_led_2018\u001b[0;34m(index, wtk_dfs)\u001b[0m\n\u001b[1;32m     17\u001b[0m \u001b[38;5;66;03m# Iterate over all monthly files\u001b[39;00m\n\u001b[1;32m     18\u001b[0m \u001b[38;5;28;01mfor\u001b[39;00m file \u001b[38;5;129;01min\u001b[39;00m files:\n\u001b[0;32m---> 19\u001b[0m     myr \u001b[38;5;241m=\u001b[39m \u001b[43mMultiYearWindX\u001b[49m\u001b[43m(\u001b[49m\u001b[43mfile\u001b[49m\u001b[43m,\u001b[49m\u001b[43m \u001b[49m\u001b[43mhsds\u001b[49m\u001b[38;5;241;43m=\u001b[39;49m\u001b[38;5;28;43;01mFalse\u001b[39;49;00m\u001b[43m)\u001b[49m\n\u001b[1;32m     20\u001b[0m     d \u001b[38;5;241m=\u001b[39m get_data_wtk_led_on_eagle(myr, \n\u001b[1;32m     21\u001b[0m                                   lat, lon, z_turbine, \u001b[38;5;124m\"\u001b[39m\u001b[38;5;124mIDW\u001b[39m\u001b[38;5;124m\"\u001b[39m, \n\u001b[1;32m     22\u001b[0m                                   power_estimate\u001b[38;5;241m=\u001b[39m\u001b[38;5;28;01mFalse\u001b[39;00m,\n\u001b[1;32m     23\u001b[0m                                   start_time_idx\u001b[38;5;241m=\u001b[39m\u001b[38;5;28;01mNone\u001b[39;00m, \n\u001b[1;32m     24\u001b[0m                                   end_time_idx\u001b[38;5;241m=\u001b[39m\u001b[38;5;28;01mNone\u001b[39;00m,\n\u001b[1;32m     25\u001b[0m                                   time_stride\u001b[38;5;241m=\u001b[39m\u001b[38;5;28;01mNone\u001b[39;00m)\n\u001b[1;32m     26\u001b[0m     atmospheric_df \u001b[38;5;241m=\u001b[39m pd\u001b[38;5;241m.\u001b[39mconcat([atmospheric_df, d])\n",
      "File \u001b[0;32m~/miniconda3/envs/dw-tap/lib/python3.8/site-packages/rex/resource_extraction/resource_extraction.py:1579\u001b[0m, in \u001b[0;36mMultiYearResourceX.__init__\u001b[0;34m(self, resource_path, years, tree, unscale, str_decode, res_cls, hsds, hsds_kwargs)\u001b[0m\n\u001b[1;32m   1577\u001b[0m log_versions(logger)\n\u001b[1;32m   1578\u001b[0m res_cls \u001b[38;5;241m=\u001b[39m \u001b[38;5;28mself\u001b[39m\u001b[38;5;241m.\u001b[39mDEFAULT_RES_CLS \u001b[38;5;28;01mif\u001b[39;00m res_cls \u001b[38;5;129;01mis\u001b[39;00m \u001b[38;5;28;01mNone\u001b[39;00m \u001b[38;5;28;01melse\u001b[39;00m res_cls\n\u001b[0;32m-> 1579\u001b[0m \u001b[38;5;28mself\u001b[39m\u001b[38;5;241m.\u001b[39m_res \u001b[38;5;241m=\u001b[39m \u001b[43mMultiYearResource\u001b[49m\u001b[43m(\u001b[49m\u001b[43mresource_path\u001b[49m\u001b[43m,\u001b[49m\u001b[43m \u001b[49m\u001b[43myears\u001b[49m\u001b[38;5;241;43m=\u001b[39;49m\u001b[43myears\u001b[49m\u001b[43m,\u001b[49m\n\u001b[1;32m   1580\u001b[0m \u001b[43m                              \u001b[49m\u001b[43munscale\u001b[49m\u001b[38;5;241;43m=\u001b[39;49m\u001b[43munscale\u001b[49m\u001b[43m,\u001b[49m\u001b[43m \u001b[49m\u001b[43mstr_decode\u001b[49m\u001b[38;5;241;43m=\u001b[39;49m\u001b[43mstr_decode\u001b[49m\u001b[43m,\u001b[49m\n\u001b[1;32m   1581\u001b[0m \u001b[43m                              \u001b[49m\u001b[43mres_cls\u001b[49m\u001b[38;5;241;43m=\u001b[39;49m\u001b[43mres_cls\u001b[49m\u001b[43m,\u001b[49m\u001b[43m \u001b[49m\u001b[43mhsds\u001b[49m\u001b[38;5;241;43m=\u001b[39;49m\u001b[43mhsds\u001b[49m\u001b[43m,\u001b[49m\n\u001b[1;32m   1582\u001b[0m \u001b[43m                              \u001b[49m\u001b[43mhsds_kwargs\u001b[49m\u001b[38;5;241;43m=\u001b[39;49m\u001b[43mhsds_kwargs\u001b[49m\u001b[43m)\u001b[49m\n\u001b[1;32m   1583\u001b[0m \u001b[38;5;28mself\u001b[39m\u001b[38;5;241m.\u001b[39m_dist_thresh \u001b[38;5;241m=\u001b[39m \u001b[38;5;28;01mNone\u001b[39;00m\n\u001b[1;32m   1584\u001b[0m \u001b[38;5;28mself\u001b[39m\u001b[38;5;241m.\u001b[39m_tree \u001b[38;5;241m=\u001b[39m tree\n",
      "File \u001b[0;32m~/miniconda3/envs/dw-tap/lib/python3.8/site-packages/rex/multi_year_resource.py:402\u001b[0m, in \u001b[0;36mMultiYearResource.__init__\u001b[0;34m(self, h5_path, years, unscale, str_decode, res_cls, hsds, hsds_kwargs)\u001b[0m\n\u001b[1;32m    399\u001b[0m \u001b[38;5;66;03m# Map variables to their .h5 files\u001b[39;00m\n\u001b[1;32m    400\u001b[0m cls_kwargs \u001b[38;5;241m=\u001b[39m {\u001b[38;5;124m'\u001b[39m\u001b[38;5;124munscale\u001b[39m\u001b[38;5;124m'\u001b[39m: unscale, \u001b[38;5;124m'\u001b[39m\u001b[38;5;124mstr_decode\u001b[39m\u001b[38;5;124m'\u001b[39m: str_decode,\n\u001b[1;32m    401\u001b[0m               \u001b[38;5;124m'\u001b[39m\u001b[38;5;124mhsds\u001b[39m\u001b[38;5;124m'\u001b[39m: hsds, \u001b[38;5;124m'\u001b[39m\u001b[38;5;124mhsds_kwargs\u001b[39m\u001b[38;5;124m'\u001b[39m: hsds_kwargs}\n\u001b[0;32m--> 402\u001b[0m \u001b[38;5;28mself\u001b[39m\u001b[38;5;241m.\u001b[39m_h5 \u001b[38;5;241m=\u001b[39m \u001b[43mMultiYearH5\u001b[49m\u001b[43m(\u001b[49m\u001b[38;5;28;43mself\u001b[39;49m\u001b[38;5;241;43m.\u001b[39;49m\u001b[43mh5_path\u001b[49m\u001b[43m,\u001b[49m\u001b[43m \u001b[49m\u001b[43myears\u001b[49m\u001b[38;5;241;43m=\u001b[39;49m\u001b[43myears\u001b[49m\u001b[43m,\u001b[49m\u001b[43m \u001b[49m\u001b[43mres_cls\u001b[49m\u001b[38;5;241;43m=\u001b[39;49m\u001b[43mres_cls\u001b[49m\u001b[43m,\u001b[49m\n\u001b[1;32m    403\u001b[0m \u001b[43m                       \u001b[49m\u001b[38;5;241;43m*\u001b[39;49m\u001b[38;5;241;43m*\u001b[39;49m\u001b[43mcls_kwargs\u001b[49m\u001b[43m)\u001b[49m\n\u001b[1;32m    404\u001b[0m \u001b[38;5;28mself\u001b[39m\u001b[38;5;241m.\u001b[39mh5_files \u001b[38;5;241m=\u001b[39m \u001b[38;5;28mself\u001b[39m\u001b[38;5;241m.\u001b[39m_h5\u001b[38;5;241m.\u001b[39mh5_files\n\u001b[1;32m    405\u001b[0m \u001b[38;5;28mself\u001b[39m\u001b[38;5;241m.\u001b[39mh5_file \u001b[38;5;241m=\u001b[39m \u001b[38;5;28mself\u001b[39m\u001b[38;5;241m.\u001b[39mh5_files[\u001b[38;5;241m0\u001b[39m]\n",
      "File \u001b[0;32m~/miniconda3/envs/dw-tap/lib/python3.8/site-packages/rex/multi_year_resource.py:42\u001b[0m, in \u001b[0;36mMultiYearH5.__init__\u001b[0;34m(self, h5_path, years, res_cls, hsds, hsds_kwargs, **res_cls_kwargs)\u001b[0m\n\u001b[1;32m     23\u001b[0m \u001b[38;5;124;03m\"\"\"\u001b[39;00m\n\u001b[1;32m     24\u001b[0m \u001b[38;5;124;03mParameters\u001b[39;00m\n\u001b[1;32m     25\u001b[0m \u001b[38;5;124;03m----------\u001b[39;00m\n\u001b[0;32m   (...)\u001b[0m\n\u001b[1;32m     39\u001b[0m \u001b[38;5;124;03m    password, by default None\u001b[39;00m\n\u001b[1;32m     40\u001b[0m \u001b[38;5;124;03m\"\"\"\u001b[39;00m\n\u001b[1;32m     41\u001b[0m \u001b[38;5;28mself\u001b[39m\u001b[38;5;241m.\u001b[39mh5_path \u001b[38;5;241m=\u001b[39m h5_path\n\u001b[0;32m---> 42\u001b[0m \u001b[38;5;28mself\u001b[39m\u001b[38;5;241m.\u001b[39m_file_paths \u001b[38;5;241m=\u001b[39m \u001b[38;5;28;43mself\u001b[39;49m\u001b[38;5;241;43m.\u001b[39;49m\u001b[43m_get_file_paths\u001b[49m\u001b[43m(\u001b[49m\u001b[43mh5_path\u001b[49m\u001b[43m,\u001b[49m\u001b[43m \u001b[49m\u001b[43mhsds\u001b[49m\u001b[38;5;241;43m=\u001b[39;49m\u001b[43mhsds\u001b[49m\u001b[43m,\u001b[49m\n\u001b[1;32m     43\u001b[0m \u001b[43m                                        \u001b[49m\u001b[43mhsds_kwargs\u001b[49m\u001b[38;5;241;43m=\u001b[39;49m\u001b[43mhsds_kwargs\u001b[49m\u001b[43m)\u001b[49m\n\u001b[1;32m     44\u001b[0m \u001b[38;5;28mself\u001b[39m\u001b[38;5;241m.\u001b[39m_file_paths, \u001b[38;5;28mself\u001b[39m\u001b[38;5;241m.\u001b[39m_years \u001b[38;5;241m=\u001b[39m \u001b[38;5;28mself\u001b[39m\u001b[38;5;241m.\u001b[39m_get_years(\u001b[38;5;28mself\u001b[39m\u001b[38;5;241m.\u001b[39m_file_paths,\n\u001b[1;32m     45\u001b[0m                                                 years)\n\u001b[1;32m     46\u001b[0m res_cls_kwargs\u001b[38;5;241m.\u001b[39mupdate({\u001b[38;5;124m'\u001b[39m\u001b[38;5;124mhsds\u001b[39m\u001b[38;5;124m'\u001b[39m: hsds})\n",
      "File \u001b[0;32m~/miniconda3/envs/dw-tap/lib/python3.8/site-packages/rex/multi_time_resource.py:285\u001b[0m, in \u001b[0;36mMultiTimeH5._get_file_paths\u001b[0;34m(cls, h5_path, hsds, hsds_kwargs)\u001b[0m\n\u001b[1;32m    282\u001b[0m \u001b[38;5;28;01mif\u001b[39;00m \u001b[38;5;129;01mnot\u001b[39;00m \u001b[38;5;28many\u001b[39m(file_paths):\n\u001b[1;32m    283\u001b[0m     msg \u001b[38;5;241m=\u001b[39m (\u001b[38;5;124m'\u001b[39m\u001b[38;5;124mCould not find any file paths with pattern: \u001b[39m\u001b[38;5;132;01m{}\u001b[39;00m\u001b[38;5;124m'\u001b[39m\n\u001b[1;32m    284\u001b[0m            \u001b[38;5;241m.\u001b[39mformat(h5_path))\n\u001b[0;32m--> 285\u001b[0m     \u001b[38;5;28;01mraise\u001b[39;00m FileInputError(msg)\n\u001b[1;32m    287\u001b[0m \u001b[38;5;28;01mreturn\u001b[39;00m file_paths\n",
      "\u001b[0;31mFileInputError\u001b[0m: Could not find any file paths with pattern: /campaign/tap/CONUS/wtk/5min/2018/01/conus_2018-01.h5"
     ]
    }
   ],
   "source": [
    "def fetch_dfs_wtk_led_2018(index, wtk_dfs=[]):\n",
    "    # 12 monthly files for 2018\n",
    "    files = ['/campaign/tap/CONUS/wtk/5min/2018/%s/conus_2018-%s.h5' % \\\n",
    "             (str(i).zfill(2), str(i).zfill(2)) for i in range(1,13)]\n",
    "    \n",
    "    for row in tqdm(index.itertuples()):\n",
    "        tid = row[1]\n",
    "        lat = row[5]\n",
    "        lon = row[6]\n",
    "        z_turbine = row[7]\n",
    "        # avoid re-running things that have already run\n",
    "        if tid in [x['tid'][0] for x in wtk_dfs]:\n",
    "            print(\"Skipping \"+str(tid))\n",
    "            continue\n",
    "            \n",
    "        atmospheric_df = pd.DataFrame()\n",
    "        # Iterate over all monthly files\n",
    "        for file in files:\n",
    "            myr = MultiYearWindX(file, hsds=False)\n",
    "            d = get_data_wtk_led_on_eagle(myr, \n",
    "                                          lat, lon, z_turbine, \"IDW\", \n",
    "                                          power_estimate=False,\n",
    "                                          start_time_idx=None, \n",
    "                                          end_time_idx=None,\n",
    "                                          time_stride=None)\n",
    "            atmospheric_df = pd.concat([atmospheric_df, d])\n",
    "        \n",
    "        atmospheric_df['tid'] = tid\n",
    "        atmospheric_df.reset_index(drop=True, inplace=True)\n",
    "        wtk_dfs.append(atmospheric_df)\n",
    "\n",
    "    return wtk_dfs\n",
    "\n",
    "# in case HSDS has a connection error we will try a second time\n",
    "try:\n",
    "    wtk_dfs = fetch_dfs_wtk_led_2018(index)\n",
    "except ConnectionError:\n",
    "    print(\"Caught a connection error, trying to resume...\")\n",
    "    wtk_dfs = fetch_dfs_wtk_led_2018(indx,wtk_dfs)"
   ]
  },
  {
   "cell_type": "code",
   "execution_count": 7,
   "id": "1d0cc870-85a3-479f-9677-e265e79e0bf2",
   "metadata": {},
   "outputs": [
    {
     "data": {
      "text/html": [
       "<div>\n",
       "<style scoped>\n",
       "    .dataframe tbody tr th:only-of-type {\n",
       "        vertical-align: middle;\n",
       "    }\n",
       "\n",
       "    .dataframe tbody tr th {\n",
       "        vertical-align: top;\n",
       "    }\n",
       "\n",
       "    .dataframe thead th {\n",
       "        text-align: right;\n",
       "    }\n",
       "</style>\n",
       "<table border=\"1\" class=\"dataframe\">\n",
       "  <thead>\n",
       "    <tr style=\"text-align: right;\">\n",
       "      <th></th>\n",
       "      <th>datetime</th>\n",
       "      <th>ws</th>\n",
       "      <th>wd</th>\n",
       "      <th>tid</th>\n",
       "    </tr>\n",
       "  </thead>\n",
       "  <tbody>\n",
       "    <tr>\n",
       "      <th>0</th>\n",
       "      <td>2018-01-01 00:00:00+00:00</td>\n",
       "      <td>8.338811</td>\n",
       "      <td>296.537156</td>\n",
       "      <td>t007</td>\n",
       "    </tr>\n",
       "    <tr>\n",
       "      <th>1</th>\n",
       "      <td>2018-01-01 00:05:00+00:00</td>\n",
       "      <td>8.282000</td>\n",
       "      <td>297.003766</td>\n",
       "      <td>t007</td>\n",
       "    </tr>\n",
       "    <tr>\n",
       "      <th>2</th>\n",
       "      <td>2018-01-01 00:10:00+00:00</td>\n",
       "      <td>8.185320</td>\n",
       "      <td>297.415830</td>\n",
       "      <td>t007</td>\n",
       "    </tr>\n",
       "    <tr>\n",
       "      <th>3</th>\n",
       "      <td>2018-01-01 00:15:00+00:00</td>\n",
       "      <td>8.104860</td>\n",
       "      <td>297.803657</td>\n",
       "      <td>t007</td>\n",
       "    </tr>\n",
       "    <tr>\n",
       "      <th>4</th>\n",
       "      <td>2018-01-01 00:20:00+00:00</td>\n",
       "      <td>8.058473</td>\n",
       "      <td>298.054636</td>\n",
       "      <td>t007</td>\n",
       "    </tr>\n",
       "  </tbody>\n",
       "</table>\n",
       "</div>"
      ],
      "text/plain": [
       "                   datetime        ws          wd   tid\n",
       "0 2018-01-01 00:00:00+00:00  8.338811  296.537156  t007\n",
       "1 2018-01-01 00:05:00+00:00  8.282000  297.003766  t007\n",
       "2 2018-01-01 00:10:00+00:00  8.185320  297.415830  t007\n",
       "3 2018-01-01 00:15:00+00:00  8.104860  297.803657  t007\n",
       "4 2018-01-01 00:20:00+00:00  8.058473  298.054636  t007"
      ]
     },
     "execution_count": 7,
     "metadata": {},
     "output_type": "execute_result"
    }
   ],
   "source": [
    "wtk_df_2018 = pd.concat(wtk_dfs)\n",
    "wtk_df_2018.head()"
   ]
  },
  {
   "cell_type": "code",
   "execution_count": 8,
   "id": "9227a5ce-aad6-4c75-9cc2-945f9cc2cf1d",
   "metadata": {},
   "outputs": [
    {
     "data": {
      "text/plain": [
       "1997280"
      ]
     },
     "execution_count": 8,
     "metadata": {},
     "output_type": "execute_result"
    }
   ],
   "source": [
    "len(wtk_df_2018)"
   ]
  },
  {
   "cell_type": "code",
   "execution_count": 11,
   "id": "85168beb-7eb0-4da2-89d2-3545db53067f",
   "metadata": {},
   "outputs": [
    {
     "data": {
      "text/plain": [
       "t007    105120\n",
       "t139    105120\n",
       "t207    105120\n",
       "t192    105120\n",
       "t183    105120\n",
       "t182    105120\n",
       "t170    105120\n",
       "t169    105120\n",
       "t140    105120\n",
       "t135    105120\n",
       "t024    105120\n",
       "t133    105120\n",
       "t114    105120\n",
       "t083    105120\n",
       "t074    105120\n",
       "t041    105120\n",
       "t034    105120\n",
       "t028    105120\n",
       "t221    105120\n",
       "Name: tid, dtype: int64"
      ]
     },
     "execution_count": 11,
     "metadata": {},
     "output_type": "execute_result"
    }
   ],
   "source": [
    "wtk_df_2018.tid.value_counts()"
   ]
  },
  {
   "cell_type": "code",
   "execution_count": 10,
   "id": "14969717-23f2-4a2a-a996-f5595d1e7e70",
   "metadata": {},
   "outputs": [],
   "source": [
    "# The following causes the error: Already tz-aware, use tz_convert to convert.\n",
    "#wtk_df_2018['packet_date'] = \\\n",
    "#    pd.to_datetime(wtk_df_2018[\"datetime\"]).dt.tz_localize('UTC')\n",
    "# Skip localization: \n",
    "wtk_df_2018['packet_date'] = wtk_df_2018[\"datetime\"]\n",
    "\n",
    "#Bergey\n",
    "#wtk_df_2018[['tid','packet_date','ws','wd']].\\\n",
    "#    to_csv(\"01 Bergey Turbine Data/wtk_led_2018.csv.bz2\",index=False)\n",
    "\n",
    "#One Energy\n",
    "wtk_df_2018[['tid','packet_date','ws','wd']].\\\n",
    "    to_csv(\"01 One Energy Turbine Data/wtk_led_2018.csv.bz2\",index=False)"
   ]
  },
  {
   "cell_type": "markdown",
   "id": "a505dfc6-b05c-4db3-94e1-1d69a77fe8c5",
   "metadata": {},
   "source": [
    "#### 2019 hourly data from WTK-LED"
   ]
  },
  {
   "cell_type": "code",
   "execution_count": 5,
   "id": "e0c3d1a4-40b8-427e-bfdd-2406c525f339",
   "metadata": {},
   "outputs": [
    {
     "name": "stderr",
     "output_type": "stream",
     "text": [
      "21it [02:28,  7.09s/it]\n"
     ]
    }
   ],
   "source": [
    "def fetch_dfs_wtk_led_2019(index, wtk_dfs=[]):\n",
    "\n",
    "    # 2019 hourly file\n",
    "    myr = MultiYearWindX('/campaign/tap/CONUS/wtk/60min/2019/conus_2019.h5', hsds=False)\n",
    "    \n",
    "    for row in tqdm(index.itertuples()):\n",
    "        tid = row[1]\n",
    "        lat = row[5]\n",
    "        lon = row[6]\n",
    "        z_turbine = row[7]\n",
    "        # avoid re-running things that have already run\n",
    "        if tid in [x['tid'][0] for x in wtk_dfs]:\n",
    "            print(\"Skipping \"+str(tid))\n",
    "            continue\n",
    "            \n",
    "        atmospheric_df = pd.DataFrame()\n",
    "\n",
    "        atmospheric_df = get_data_wtk_led_on_eagle(myr, \n",
    "                                          lat, lon, z_turbine, \"IDW\", \n",
    "                                          power_estimate=False,\n",
    "                                          start_time_idx=None, \n",
    "                                          end_time_idx=None,\n",
    "                                          time_stride=None)\n",
    "        \n",
    "        atmospheric_df['tid'] = tid\n",
    "        wtk_dfs.append(atmospheric_df)\n",
    "\n",
    "    return wtk_dfs\n",
    "\n",
    "# in case HSDS has a connection error we will try a second time\n",
    "try:\n",
    "    wtk_dfs = fetch_dfs_wtk_led_2019(index)\n",
    "except ConnectionError:\n",
    "    print(\"Caught a connection error, trying to resume...\")\n",
    "    wtk_dfs = fetch_dfs_wtk_led_2019(indx,wtk_dfs)"
   ]
  },
  {
   "cell_type": "code",
   "execution_count": 6,
   "id": "9e9e6321-08b7-467b-a5c4-90f224d2df3f",
   "metadata": {},
   "outputs": [
    {
     "data": {
      "text/html": [
       "<div>\n",
       "<style scoped>\n",
       "    .dataframe tbody tr th:only-of-type {\n",
       "        vertical-align: middle;\n",
       "    }\n",
       "\n",
       "    .dataframe tbody tr th {\n",
       "        vertical-align: top;\n",
       "    }\n",
       "\n",
       "    .dataframe thead th {\n",
       "        text-align: right;\n",
       "    }\n",
       "</style>\n",
       "<table border=\"1\" class=\"dataframe\">\n",
       "  <thead>\n",
       "    <tr style=\"text-align: right;\">\n",
       "      <th></th>\n",
       "      <th>datetime</th>\n",
       "      <th>ws</th>\n",
       "      <th>wd</th>\n",
       "      <th>tid</th>\n",
       "    </tr>\n",
       "  </thead>\n",
       "  <tbody>\n",
       "    <tr>\n",
       "      <th>0</th>\n",
       "      <td>2019-01-01 00:00:00+00:00</td>\n",
       "      <td>5.801474</td>\n",
       "      <td>137.273211</td>\n",
       "      <td>p1w1</td>\n",
       "    </tr>\n",
       "    <tr>\n",
       "      <th>1</th>\n",
       "      <td>2019-01-01 01:00:00+00:00</td>\n",
       "      <td>5.540089</td>\n",
       "      <td>137.964004</td>\n",
       "      <td>p1w1</td>\n",
       "    </tr>\n",
       "    <tr>\n",
       "      <th>2</th>\n",
       "      <td>2019-01-01 02:00:00+00:00</td>\n",
       "      <td>5.250237</td>\n",
       "      <td>138.607502</td>\n",
       "      <td>p1w1</td>\n",
       "    </tr>\n",
       "    <tr>\n",
       "      <th>3</th>\n",
       "      <td>2019-01-01 03:00:00+00:00</td>\n",
       "      <td>4.937005</td>\n",
       "      <td>139.520113</td>\n",
       "      <td>p1w1</td>\n",
       "    </tr>\n",
       "    <tr>\n",
       "      <th>4</th>\n",
       "      <td>2019-01-01 04:00:00+00:00</td>\n",
       "      <td>4.881869</td>\n",
       "      <td>142.493312</td>\n",
       "      <td>p1w1</td>\n",
       "    </tr>\n",
       "  </tbody>\n",
       "</table>\n",
       "</div>"
      ],
      "text/plain": [
       "                   datetime        ws          wd   tid\n",
       "0 2019-01-01 00:00:00+00:00  5.801474  137.273211  p1w1\n",
       "1 2019-01-01 01:00:00+00:00  5.540089  137.964004  p1w1\n",
       "2 2019-01-01 02:00:00+00:00  5.250237  138.607502  p1w1\n",
       "3 2019-01-01 03:00:00+00:00  4.937005  139.520113  p1w1\n",
       "4 2019-01-01 04:00:00+00:00  4.881869  142.493312  p1w1"
      ]
     },
     "execution_count": 6,
     "metadata": {},
     "output_type": "execute_result"
    }
   ],
   "source": [
    "wtk_df_2019 = pd.concat(wtk_dfs)\n",
    "wtk_df_2019.head()"
   ]
  },
  {
   "cell_type": "code",
   "execution_count": 7,
   "id": "78fd5af1-c916-43ff-9617-4357a7caf9d4",
   "metadata": {},
   "outputs": [
    {
     "data": {
      "text/plain": [
       "183960"
      ]
     },
     "execution_count": 7,
     "metadata": {},
     "output_type": "execute_result"
    }
   ],
   "source": [
    "len(wtk_df_2019)"
   ]
  },
  {
   "cell_type": "code",
   "execution_count": 8,
   "id": "76821c80-d3e9-4dd2-a9a8-d89f505a5b01",
   "metadata": {},
   "outputs": [],
   "source": [
    "# The following causes the error: Already tz-aware, use tz_convert to convert.\n",
    "#wtk_df_2019['packet_date'] = \\\n",
    "#    pd.to_datetime(wtk_df_2019[\"datetime\"]).dt.tz_localize('UTC')\n",
    "# Skip localization: \n",
    "wtk_df_2019['packet_date'] = wtk_df_2019[\"datetime\"]\n",
    "\n",
    "#Bergey\n",
    "#wtk_df_2019[['tid','packet_date','ws','wd']].\\\n",
    "#    to_csv(\"01 Bergey Turbine Data/wtk_led_2019.csv.bz2\",index=False)\n",
    "\n",
    "#One Energy\n",
    "wtk_df_2019[['tid','packet_date','ws','wd']].\\\n",
    "    to_csv(\"01 One Energy Turbine Data/wtk_led_2019.csv.bz2\",index=False)"
   ]
  },
  {
   "cell_type": "code",
   "execution_count": 9,
   "id": "f0b7c2ed-0e94-47a9-9e79-fcb67111763f",
   "metadata": {},
   "outputs": [
    {
     "data": {
      "text/plain": [
       "p1w1      8760\n",
       "p2wg2     8760\n",
       "p6l2      8760\n",
       "p6l1      8760\n",
       "p5w1      8760\n",
       "p4w3      8760\n",
       "p4w2      8760\n",
       "p4w1      8760\n",
       "p3wtg1    8760\n",
       "p2wg3     8760\n",
       "p2wg1     8760\n",
       "p1w2      8760\n",
       "p1v2      8760\n",
       "p1v1      8760\n",
       "p1z6      8760\n",
       "p1z5      8760\n",
       "p1z4      8760\n",
       "p1z3      8760\n",
       "p1z2      8760\n",
       "p1z1      8760\n",
       "p6l3      8760\n",
       "Name: tid, dtype: int64"
      ]
     },
     "execution_count": 9,
     "metadata": {},
     "output_type": "execute_result"
    }
   ],
   "source": [
    "wtk_df_2019.tid.value_counts()"
   ]
  },
  {
   "cell_type": "code",
   "execution_count": null,
   "id": "894dfa6f-f56d-4774-9ad5-6a9ddfa9196e",
   "metadata": {},
   "outputs": [],
   "source": []
  }
 ],
 "metadata": {
  "kernelspec": {
   "display_name": "Python 3 (ipykernel)",
   "language": "python",
   "name": "python3"
  },
  "language_info": {
   "codemirror_mode": {
    "name": "ipython",
    "version": 3
   },
   "file_extension": ".py",
   "mimetype": "text/x-python",
   "name": "python",
   "nbconvert_exporter": "python",
   "pygments_lexer": "ipython3",
   "version": "3.8.16"
  }
 },
 "nbformat": 4,
 "nbformat_minor": 5
}
