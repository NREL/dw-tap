{
 "cells": [
  {
   "cell_type": "markdown",
   "id": "1f59f1c2",
   "metadata": {},
   "source": [
    "## Performance Analysis for Timeseries (where possible)\n",
    "\n",
    "Caleb Phillips (caleb.phillips@nrel.gov) and Jenna Ruzekowicz (jenna.ruzekowicz@nrel.gov)\n",
    "\n",
    "The purpose of this notebook is to read in computed predictions and compare them to actual observations, computing metrics. "
   ]
  },
  {
   "cell_type": "code",
   "execution_count": null,
   "id": "9c63dbfe",
   "metadata": {},
   "outputs": [],
   "source": [
    "from common import *\n",
    "import pandas as pd\n",
    "import numpy as np\n",
    "from tqdm import tqdm\n",
    "import glob\n",
    "import re\n",
    "from dw_tap.power_output import estimate_power_output\n",
    "import os.path\n",
    "import importlib\n",
    "import power_output\n",
    "import site_index\n",
    "import plotly.express as px"
   ]
  },
  {
   "cell_type": "markdown",
   "id": "8ec4233e",
   "metadata": {},
   "source": [
    "### Load Ground Truth (Bergey Timeseries Data)\n",
    "\n",
    "Since this data starts in 2018, we can only use WTK LED"
   ]
  },
  {
   "cell_type": "code",
   "execution_count": null,
   "id": "4b7f4368",
   "metadata": {},
   "outputs": [],
   "source": [
    "bergey_timeseries = pd.read_csv(\"01 Bergey Turbine Data/prepared_and_combined.csv.bz2\")\n",
    "bergey_timeseries.rename(columns={\"packet_date\":\"datetime\",\"windspeed_mps\":\"ws-observed\"},inplace=True)\n",
    "bergey_timeseries['datetime'] = pd.to_datetime(bergey_timeseries['datetime'],utc=True) # this is slow\n",
    "bergey_timeseries.head()"
   ]
  },
  {
   "cell_type": "code",
   "execution_count": null,
   "id": "b4e084d2",
   "metadata": {},
   "outputs": [],
   "source": [
    "index = site_index.SiteIndex()"
   ]
  },
  {
   "cell_type": "code",
   "execution_count": null,
   "id": "e1560eb8",
   "metadata": {},
   "outputs": [],
   "source": [
    "providers = [\"bergey\"]\n",
    "models = [\"perera\",\"anl\"]\n",
    "wind_sources = [\"wtk_led_2018\",\"wtk_led_2019\",\"wtk_led_bc\"]\n",
    "obs_groups = [\"all\",\"bldgsonly\"]\n",
    "\n",
    "dfs = []\n",
    "\n",
    "for provider in providers:\n",
    "    for model in models:\n",
    "        for wind_source in wind_sources:\n",
    "            for og in obs_groups:\n",
    "                for tid in index.tids(True):\n",
    "                    if og == \"bldgsonly\":\n",
    "                        fname = f\"03 Model Outputs/{provider}_{model}_{tid}_{wind_source}_bldgsonly.csv.bz2\"\n",
    "                    else:\n",
    "                        fname = f\"03 Model Outputs/{provider}_{model}_{tid}_{wind_source}.csv.bz2\"\n",
    "                        \n",
    "                    if not os.path.exists(fname):\n",
    "                        continue\n",
    "\n",
    "                    print(fname)\n",
    "\n",
    "                    d = pd.read_csv(fname)\n",
    "                    d[\"model\"] = model\n",
    "                    d[\"wind_source\"] = wind_source\n",
    "                    d[\"provider\"] = provider\n",
    "                    d[\"tid\"] = tid\n",
    "                    d[\"obsgroup\"] = og\n",
    "                    dfs.append(d[[\"model\",\"obsgroup\",\"wind_source\",\"provider\",\"tid\",\"datetime\",\"ws-adjusted\"]])\n",
    "\n",
    "                    if model == \"perera\":\n",
    "                        d2 = d.copy()\n",
    "                        d2[\"ws-adjusted\"] = d2[\"ws-adjusted-2\"]\n",
    "                        d2[\"model\"] = \"shelter\"\n",
    "                        dfs.append(d2[[\"model\",\"obsgroup\",\"wind_source\",\"provider\",\"tid\",\"datetime\",\"ws-adjusted\"]])\n",
    "\n",
    "                        d3 = d.copy()\n",
    "                        d3[\"ws-adjusted\"] = d3[\"ws-adjusted-3\"]\n",
    "                        d3[\"model\"] = \"shelter+\"\n",
    "                        dfs.append(d3[[\"model\",\"obsgroup\",\"wind_source\",\"provider\",\"tid\",\"datetime\",\"ws-adjusted\"]])"
   ]
  },
  {
   "cell_type": "code",
   "execution_count": null,
   "id": "6e64496b",
   "metadata": {},
   "outputs": [],
   "source": [
    "# No model data\n",
    "for provider in providers:\n",
    "    for wind_source in tqdm(wind_sources):\n",
    "        if wind_source == \"wtk_led_2018\":\n",
    "            d = pd.read_csv(\"01 Bergey Turbine Data/wtk_led_2018.csv.bz2\")\n",
    "            d.rename(columns={\"ws\":\"ws-adjusted\",\"packet_date\":\"datetime\"},inplace=True)\n",
    "            \n",
    "        elif wind_source == \"wtk_led_2019\":\n",
    "            d = pd.read_csv(\"01 Bergey Turbine Data/wtk_led_2019.csv.bz2\")\n",
    "            d.rename(columns={\"ws\":\"ws-adjusted\",\"packet_date\":\"datetime\"},inplace=True)\n",
    "            \n",
    "        elif wind_source == \"wtk_led_bc\":\n",
    "            d = pd.read_csv(\"02 Bias Correction/wtk_led_bc.csv.bz2\")\n",
    "            d.rename(columns={\"ws_bc\":\"ws-adjusted\"},inplace=True)\n",
    "            \n",
    "        else:\n",
    "            print(\"Unsupported wind source\")\n",
    "            \n",
    "        d[\"wind_source\"] = wind_source\n",
    "        d[\"model\"] = \"none\"\n",
    "        d[\"provider\"] = provider\n",
    "        d[\"obsgroup\"] = \"none\"\n",
    "        dfs.append(d[[\"model\",\"wind_source\",\"provider\",\"obsgroup\",\"tid\",\"datetime\",\"ws-adjusted\"]])"
   ]
  },
  {
   "cell_type": "code",
   "execution_count": null,
   "id": "66245fc8",
   "metadata": {},
   "outputs": [],
   "source": [
    "bigdf = pd.concat(dfs)\n",
    "bigdf.head()"
   ]
  },
  {
   "cell_type": "code",
   "execution_count": null,
   "id": "f0121004",
   "metadata": {},
   "outputs": [],
   "source": [
    "#bigdf[\"power_kw\"] = power_output.Bergey10.windspeed_to_kw(bigdf,'ws-adjusted')\n",
    "bigdf['datetime'] = pd.to_datetime(bigdf['datetime'],format=\"%Y-%m-%d %H:%M:%S\",utc=True) # this is slow\n",
    "#bigdf['date'] = bigdf['datetime'].dt.date\n",
    "bigdf.head()"
   ]
  },
  {
   "cell_type": "markdown",
   "id": "2a8701fc",
   "metadata": {},
   "source": [
    "### Create Merged Dataframe"
   ]
  },
  {
   "cell_type": "code",
   "execution_count": null,
   "id": "f46716a6",
   "metadata": {},
   "outputs": [],
   "source": [
    "merged_df = bigdf.merge(bergey_timeseries,on=['tid','datetime'])\n",
    "merged_df.head()"
   ]
  },
  {
   "cell_type": "code",
   "execution_count": null,
   "id": "5f105afe",
   "metadata": {},
   "outputs": [],
   "source": [
    "merged_df['error'] = merged_df['ws-adjusted'] - merged_df['ws-observed']\n",
    "merged_df.describe()"
   ]
  },
  {
   "cell_type": "markdown",
   "id": "771d9f53",
   "metadata": {},
   "source": [
    "### Performance Plots: Overall"
   ]
  },
  {
   "cell_type": "code",
   "execution_count": null,
   "id": "ead41b19",
   "metadata": {},
   "outputs": [],
   "source": [
    "fig = px.scatter(merged_df,x=\"ws-observed\",y=\"ws-adjusted\",\n",
    "                 facet_row=\"model\",facet_col=\"wind_source\",\n",
    "                 labels={\"ws-observed\":\"Obs(mps)\",\"ws-adjusted\":\"Pred(mps)\"})\n",
    "fig.update_yaxes(matches=None)\n",
    "fig.update_xaxes(matches=None)\n",
    "fig.for_each_annotation(lambda a: a.update(text=a.text.split(\"=\")[-1]))\n",
    "fig.show()"
   ]
  },
  {
   "cell_type": "code",
   "execution_count": null,
   "id": "e58443f0",
   "metadata": {},
   "outputs": [],
   "source": [
    "fig = px.density_contour(merged_df,x=\"ws-observed\",y=\"ws-adjusted\",\n",
    "                 facet_row=\"model\",facet_col=\"wind_source\",\n",
    "                 labels={\"ws-observed\":\"Obs(mps)\",\"ws-adjusted\":\"Pred(mps)\"})\n",
    "fig.update_xaxes(range=[0, 15])\n",
    "fig.update_yaxes(range=[0, 15])\n",
    "fig.update_traces(contours_coloring=\"fill\", contours_showlabels = True)\n",
    "fig.for_each_annotation(lambda a: a.update(text=a.text.split(\"=\")[-1]))\n",
    "fig.show()"
   ]
  },
  {
   "cell_type": "code",
   "execution_count": null,
   "id": "a22cc206",
   "metadata": {},
   "outputs": [],
   "source": [
    "fig = px.histogram(merged_df,x=\"error\",\n",
    "                 facet_row=\"model\",facet_col=\"wind_source\",\n",
    "                 labels={\"ws-observed\":\"Obs(mps)\",\"ws-adjusted\":\"Pred(mps)\"},\n",
    "                 nbins=200)\n",
    "fig.for_each_annotation(lambda a: a.update(text=a.text.split(\"=\")[-1]))\n",
    "fig.update_xaxes(range=[-20, 20])\n",
    "fig.update_yaxes(matches=None)\n",
    "fig.show()"
   ]
  },
  {
   "cell_type": "code",
   "execution_count": null,
   "id": "7c0d126c",
   "metadata": {},
   "outputs": [],
   "source": [
    "# Defining function for 50th Percentile\n",
    "p25 = lambda x: x.quantile(0.25)\n",
    "p75 = lambda x: x.quantile(0.75)\n",
    "rmse = lambda x: np.sqrt(np.mean(np.power(x,2)))\n",
    "mae = lambda x: np.mean(np.abs(x))\n",
    "\n",
    "perf_summary = merged_df.groupby([\"model\",\"wind_source\",\"obsgroup\"]).\\\n",
    "    agg({ \"error\": [\"mean\",\"median\",p25,p75,rmse,mae] }).\\\n",
    "    rename(columns={\"<lambda_0>\":'25%ile',\"<lambda_1>\":'75%ile',\n",
    "                    \"<lambda_2>\":'rmse',\"<lambda_3>\":'mae'})\n",
    "perf_summary.columns = ['_'.join(col) for col in perf_summary.columns.values]\n",
    "perf_summary.reset_index(inplace=True)\n",
    "perf_summary"
   ]
  },
  {
   "cell_type": "code",
   "execution_count": null,
   "id": "d439854e",
   "metadata": {},
   "outputs": [],
   "source": [
    "fig = px.bar(perf_summary,x=\"model\",y=\"error_rmse\",facet_row=\"wind_source\",color=\"model\",\n",
    "             labels={\"error_rmse\":\"RMSE (mps)\",\"model\":\"Model\"})\n",
    "fig.for_each_annotation(lambda a: a.update(text=a.text.split(\"=\")[-1]))\n",
    "fig.show()"
   ]
  },
  {
   "cell_type": "code",
   "execution_count": null,
   "id": "74bac9cf",
   "metadata": {},
   "outputs": [],
   "source": [
    "fig = px.box(merged_df,x=\"model\",y=\"error\",color=\"wind_source\",\n",
    "             labels={\"error\":\"Error (mps)\",\"model\":\"Model\"},\n",
    "             points=False)\n",
    "fig.show()"
   ]
  }
 ],
 "metadata": {
  "kernelspec": {
   "display_name": "Python 3 (ipykernel)",
   "language": "python",
   "name": "python3"
  },
  "language_info": {
   "codemirror_mode": {
    "name": "ipython",
    "version": 3
   },
   "file_extension": ".py",
   "mimetype": "text/x-python",
   "name": "python",
   "nbconvert_exporter": "python",
   "pygments_lexer": "ipython3",
   "version": "3.8.16"
  },
  "vscode": {
   "interpreter": {
    "hash": "31f2aee4e71d21fbe5cf8b01ff0e069b9275f58929596ceb00d14d90e3e16cd6"
   }
  }
 },
 "nbformat": 4,
 "nbformat_minor": 5
}
