{
 "cells": [
  {
   "cell_type": "markdown",
   "id": "900082e8",
   "metadata": {},
   "source": [
    "# Bias Correction\n",
    "\n",
    "Caleb Phillips (caleb.phillips@nrel.gov), Lindsay Sheridan (lindsay.sheridan@pnnl.gov), Dmitry Duplyakin (dmitry.duplyakin@nrel.gov), and Jenna Ruzekowicz (jenna.ruzekowicz@nrel.gov)\n",
    "\n",
    "This notebook will read resource data and reference observation data and use it to compute a bias corrected version of the resource data (by multiple linear regression) for those sites where reference data have been identified."
   ]
  },
  {
   "cell_type": "code",
   "execution_count": null,
   "id": "c9bdc4db",
   "metadata": {},
   "outputs": [],
   "source": [
    "import pandas as pd\n",
    "import h5pyd\n",
    "from dw_tap.data_fetching import getData\n",
    "from tqdm import tqdm\n",
    "import statsmodels.api as sm\n",
    "from sklearn.linear_model import LinearRegression\n",
    "from sklearn import metrics\n",
    "import plotly.express as px\n",
    "import numpy as np\n",
    "\n",
    "fetch_wtk_data = False"
   ]
  },
  {
   "cell_type": "code",
   "execution_count": null,
   "id": "6759d292",
   "metadata": {},
   "outputs": [],
   "source": [
    "from rex.resource_extraction import MultiYearWindX\n",
    "from dw_tap.data_fetching import get_data_wtk_led_on_eagle \n",
    "from dw_tap.data_fetching import getData"
   ]
  },
  {
   "cell_type": "code",
   "execution_count": null,
   "id": "36b248d5",
   "metadata": {},
   "outputs": [],
   "source": [
    "sites = pd.read_csv(\"01 Bergey Turbine Data/bergey_sites.csv\")\n",
    "sites.head()"
   ]
  },
  {
   "cell_type": "markdown",
   "id": "fcd535fb",
   "metadata": {},
   "source": [
    "### Download 2018 WTK LED Data at Each Bias Location"
   ]
  },
  {
   "cell_type": "code",
   "execution_count": null,
   "id": "7415dca0",
   "metadata": {},
   "outputs": [],
   "source": [
    "if fetch_wtk_data:\n",
    "\n",
    "    debug = True\n",
    "    wtk_dfs = []\n",
    "    files = ['/campaign/tap/CONUS/wtk/5min/2018/%s/conus_2018-%s.h5' % \\\n",
    "             (str(i).zfill(2), str(i).zfill(2)) for i in range(1,13)]\n",
    "    for row in tqdm(sites.to_dict(orient=\"records\")):\n",
    "        atmospheric_df = pd.DataFrame()\n",
    "        tid = row['APRS ID']\n",
    "        lat = row['Met Tower Latitude']\n",
    "        lon = row['Met Tower Longitude']\n",
    "        heights = str(row['Measurement Height (m)'])\n",
    "        if np.isnan(lat) or np.isnan(lon):\n",
    "            continue\n",
    "        for h in heights.split(\",\"):\n",
    "            h = int(float(h))\n",
    "            if(debug):\n",
    "                print(\"Fetching data for turbine %s (%f,%f) at height %d\" % (tid,lat,lon,h))\n",
    "            for file in files:\n",
    "                myr = MultiYearWindX(file, hsds=False)\n",
    "                d = get_data_wtk_led_on_eagle(myr, \n",
    "                                              lat, lon, h, \"IDW\", \n",
    "                                              power_estimate=False,\n",
    "                                              start_time_idx=None, \n",
    "                                              end_time_idx=None,\n",
    "                                              time_stride=None)\n",
    "                atmospheric_df = pd.concat([atmospheric_df, d])\n",
    "\n",
    "            atmospheric_df['tid'] = tid\n",
    "            atmospheric_df['h'] = h\n",
    "\n",
    "            wtk_dfs.append(atmospheric_df)\n",
    "            \n",
    "    wtk_df_2018 = pd.concat(wtk_dfs)\n",
    "    wtk_df_2018.head()\n",
    "    wtk_df_2018['datetime'] = pd.to_datetime(wtk_df_2018[\"datetime\"]).dt.tz_convert('UTC')\n",
    "    wtk_df_2018.to_csv(\"02 Bias Correction/wtk_led_2018_met.csv.bz2\",index=False)"
   ]
  },
  {
   "cell_type": "markdown",
   "id": "fe65cbe2",
   "metadata": {},
   "source": [
    "### Download 2019 WTK LED Data at Each Bias Location"
   ]
  },
  {
   "cell_type": "code",
   "execution_count": null,
   "id": "f17cfe05",
   "metadata": {},
   "outputs": [],
   "source": [
    "if fetch_wtk_data:\n",
    "    wtk_dfs = []\n",
    "\n",
    "    # 2019 hourly file\n",
    "    myr = MultiYearWindX('/campaign/tap/CONUS/wtk/60min/2019/conus_2019.h5', hsds=False)\n",
    "\n",
    "    for row in tqdm(sites.to_dict(orient=\"records\")):\n",
    "        tid = row['APRS ID']\n",
    "        lat = row['Met Tower Latitude']\n",
    "        lon = row['Met Tower Longitude']\n",
    "        heights = str(row['Measurement Height (m)'])\n",
    "        if np.isnan(lat) or np.isnan(lon):\n",
    "            continue\n",
    "        for h in heights.split(\",\"):\n",
    "            h = int(float(h))\n",
    "            if(debug):\n",
    "                print(\"Fetching data for turbine %s (%f,%f) at height %d\" % (tid,lat,lon,h))\n",
    "            atmospheric_df = pd.DataFrame()\n",
    "\n",
    "            atmospheric_df = get_data_wtk_led_on_eagle(myr, \n",
    "                                              lat, lon, h, \"IDW\", \n",
    "                                              power_estimate=False,\n",
    "                                              start_time_idx=None, \n",
    "                                              end_time_idx=None,\n",
    "                                              time_stride=None)\n",
    "\n",
    "            atmospheric_df['tid'] = tid\n",
    "            atmospheric_df['h'] = h\n",
    "            wtk_dfs.append(atmospheric_df)\n",
    "            \n",
    "    wtk_df_2019 = pd.concat(wtk_dfs)\n",
    "    wtk_df_2019.head()\n",
    "    wtk_df_2019['datetime'] = pd.to_datetime(wtk_df_2019[\"datetime\"]).dt.tz_convert('UTC')\n",
    "    wtk_df_2019.to_csv(\"02 Bias Correction/wtk_led_2019_met.csv.bz2\",index=False)"
   ]
  },
  {
   "cell_type": "markdown",
   "id": "ae368dfb",
   "metadata": {},
   "source": [
    "### Combine 2018 and 2019 WTK Data"
   ]
  },
  {
   "cell_type": "code",
   "execution_count": null,
   "id": "b45a42f1",
   "metadata": {},
   "outputs": [],
   "source": [
    "if not fetch_wtk_data:\n",
    "    wtk_df_2019 = pd.read_csv(\"02 Bias Correction/wtk_led_2019_met.csv.bz2\")\n",
    "    wtk_df_2018 = pd.read_csv(\"02 Bias Correction/wtk_led_2018_met.csv.bz2\")\n",
    "\n",
    "wtk_dfs = pd.concat([wtk_df_2018,wtk_df_2019])\n",
    "wtk_dfs['datetime'] = pd.to_datetime(wtk_dfs[\"datetime\"]).dt.tz_convert('UTC')"
   ]
  },
  {
   "cell_type": "code",
   "execution_count": null,
   "id": "56bf2d89",
   "metadata": {},
   "outputs": [],
   "source": [
    "wtk_dfs.head()"
   ]
  },
  {
   "cell_type": "code",
   "execution_count": null,
   "id": "7e63e0ef",
   "metadata": {},
   "outputs": [],
   "source": [
    "wtk_dfs.dtypes"
   ]
  },
  {
   "cell_type": "markdown",
   "id": "11ee106f",
   "metadata": {},
   "source": [
    "### Read in the met tower data, align with WTK and fit models - example of t034\n",
    "\n",
    "Note that the below is needlessly verbose, repeating code for each site and would be much cleaner in a loop. I've done it this way so we can look at the fit/plots for each site, but may clean up in the future."
   ]
  },
  {
   "cell_type": "code",
   "execution_count": null,
   "id": "11569bef",
   "metadata": {},
   "outputs": [],
   "source": [
    "bc_dfs = [] # dataframe to hold bias corrected data for each site"
   ]
  },
  {
   "cell_type": "code",
   "execution_count": null,
   "id": "4cb9e915",
   "metadata": {},
   "outputs": [],
   "source": [
    "def prepare_dataframe(tid,wtk_dfs):\n",
    "    minfo = sites[sites['APRS ID'] == tid].to_dict(orient='records').pop()\n",
    "    mfile = minfo[\"Met Tower\"]\n",
    "    mheight = int(minfo[\"Measurement Height (m)\"])\n",
    "    mdf = pd.read_csv(\"02 Bias Correction/%s\" % mfile)\n",
    "    mdf = mdf.rename(columns={'Time': 'datetime', \"Spd%dm\" % mheight: 'ws_obs', \"Dir%dm\" % mheight: 'wd_obs'})\n",
    "    mdf['datetime'] = pd.to_datetime(mdf['datetime']).dt.tz_localize('UTC')\n",
    "    print(\"Met data runs from %s to %s\" % (mdf['datetime'].min(),mdf['datetime'].max()))\n",
    "    mdf = mdf.merge(wtk_dfs[wtk_dfs['tid'] == tid],on='datetime',how='left').dropna()\n",
    "    mdf['hour'] = mdf['datetime'].dt.hour\n",
    "    mdf['month'] = mdf['datetime'].dt.month\n",
    "    return mdf"
   ]
  },
  {
   "cell_type": "code",
   "execution_count": null,
   "id": "39fdaa9f",
   "metadata": {},
   "outputs": [],
   "source": [
    "mdf = prepare_dataframe('t034',wtk_dfs)\n",
    "mdf.head()"
   ]
  },
  {
   "cell_type": "code",
   "execution_count": null,
   "id": "b63dc37a",
   "metadata": {},
   "outputs": [],
   "source": [
    "mod = sm.OLS(mdf[\"ws_obs\"],sm.add_constant(mdf[[\"ws\",\"wd\",\"hour\",\"month\"]]))\n",
    "res = mod.fit()\n",
    "print(res.summary())"
   ]
  },
  {
   "cell_type": "code",
   "execution_count": null,
   "id": "a918b732",
   "metadata": {},
   "outputs": [],
   "source": [
    "# NNLS version requires Sklearn because statsmodels doesn't have NNLS\n",
    "def regression_results(y_true, y_pred):\n",
    "\n",
    "    # Regression metrics\n",
    "    #explained_variance=metrics.explained_variance_score(y_true, y_pred)\n",
    "    mean_absolute_error=metrics.mean_absolute_error(y_true, y_pred) \n",
    "    mse=metrics.mean_squared_error(y_true, y_pred) \n",
    "    #mean_squared_log_error=metrics.mean_squared_log_error(y_true, y_pred)\n",
    "    median_absolute_error=metrics.median_absolute_error(y_true, y_pred)\n",
    "    r2=metrics.r2_score(y_true, y_pred)\n",
    "\n",
    "    #print('explained_variance: ', round(explained_variance,4))    \n",
    "    #print('mean_squared_log_error: ', round(mean_squared_log_error,4))\n",
    "    print('r2: ', round(r2,4))\n",
    "    print('MAE: ', round(mean_absolute_error,4))\n",
    "    print('MSE: ', round(mse,4))\n",
    "    print('RMSE: ', round(np.sqrt(mse),4))\n",
    "\n",
    "fit = LinearRegression().fit(mdf[[\"ws\",\"hour\",\"month\",\"wd\"]],mdf[\"ws_obs\"])\n",
    "regression_results(fit.predict(mdf[[\"ws\",\"hour\",\"month\",\"wd\"]]),mdf[\"ws_obs\"])"
   ]
  },
  {
   "cell_type": "markdown",
   "id": "d1272200",
   "metadata": {},
   "source": [
    "There may be some value in exploring nonlinear models (MARS, RF etc.)"
   ]
  },
  {
   "cell_type": "code",
   "execution_count": null,
   "id": "634e0502",
   "metadata": {},
   "outputs": [],
   "source": [
    "def plot_bc_pointcloud(mdf):\n",
    "    fig = px.scatter(mdf,x='ws', y='ws_obs',labels={\"ws\":\"WTK Windspeed (m/s)\",\"ws_obs\":\"Observed Windspeed (m/s)\"})\n",
    "    fig.update_xaxes(range=[0,25])\n",
    "    fig.update_yaxes(range=[0,25])\n",
    "    fig.update_layout(shapes = [{'type': 'line', 'yref': 'paper', 'xref': 'paper', 'y0': 0, 'y1': 1, 'x0': 0, 'x1': 1}])\n",
    "    fig.show()\n",
    "    \n",
    "plot_bc_pointcloud(mdf)"
   ]
  },
  {
   "cell_type": "markdown",
   "id": "7037f9c9",
   "metadata": {},
   "source": [
    "### Apply models to WTK data at site locations using NNLS model"
   ]
  },
  {
   "cell_type": "code",
   "execution_count": null,
   "id": "2f5099bb",
   "metadata": {},
   "outputs": [],
   "source": [
    "sitewtk = [pd.read_csv(\"01 Bergey Turbine Data/wtk_led_2019.csv.bz2\"),\\\n",
    "           pd.read_csv(\"01 Bergey Turbine Data/wtk_led_2018.csv.bz2\")]\n",
    "sitewtk = pd.concat(sitewtk)\n",
    "sitewtk.rename(columns={\"packet_date\":\"datetime\"},inplace=True)\n",
    "sitewtk.head()"
   ]
  },
  {
   "cell_type": "code",
   "execution_count": null,
   "id": "2cf80c53",
   "metadata": {},
   "outputs": [],
   "source": [
    "def do_correction(sitewtk,tid,fit):\n",
    "    chunk = sitewtk[sitewtk['tid'] == tid].reset_index()\n",
    "    chunk['datetime'] = pd.to_datetime(chunk['datetime'])\n",
    "    chunk['hour'] = chunk['datetime'].dt.hour\n",
    "    chunk['month'] = chunk['datetime'].dt.month\n",
    "    #chunk[\"ws_bc\"] = res.predict(sm.add_constant(chunk[[\"ws\",\"hour\",\"month\",\"wd\"]]))\n",
    "    chunk[\"ws_bc\"] = fit.predict(chunk[[\"ws\",\"hour\",\"month\",\"wd\"]])\n",
    "    chunk.loc[chunk[\"ws_bc\"] < 0,\"ws_bc\"] = 0\n",
    "    return chunk\n",
    "\n",
    "chunk = do_correction(sitewtk,'t034',fit)\n",
    "bc_dfs.append(chunk)\n",
    "chunk.head()"
   ]
  },
  {
   "cell_type": "code",
   "execution_count": null,
   "id": "28f067bb",
   "metadata": {},
   "outputs": [],
   "source": [
    "def plot_correction(chunk):\n",
    "    fig = px.scatter(chunk,x='ws', y='ws_bc',color=\"wd\",labels={'ws':\"WTK Windspeed (mps)\",'ws_bc':\"Bias-Corrected Winspeed\"})\n",
    "    fig.update_xaxes(range=[0,22])\n",
    "    fig.update_yaxes(range=[0,22])\n",
    "    fig.update_layout(shapes = [{'type': 'line', 'yref': 'paper', 'xref': 'paper', 'y0': 0, 'y1': 1, 'x0': 0, 'x1': 1}])\n",
    "    fig.show()\n",
    "    \n",
    "plot_correction(chunk)"
   ]
  },
  {
   "cell_type": "markdown",
   "id": "a0d9c104",
   "metadata": {},
   "source": [
    "### Site 83 (California)"
   ]
  },
  {
   "cell_type": "code",
   "execution_count": null,
   "id": "048c5375",
   "metadata": {},
   "outputs": [],
   "source": [
    "mdf = prepare_dataframe('t083',wtk_dfs)\n",
    "mdf.head()"
   ]
  },
  {
   "cell_type": "code",
   "execution_count": null,
   "id": "4c255e00",
   "metadata": {},
   "outputs": [],
   "source": [
    "fit = LinearRegression().fit(mdf[[\"ws\",\"hour\",\"month\",\"wd\"]],mdf[\"ws_obs\"])\n",
    "regression_results(fit.predict(mdf[[\"ws\",\"hour\",\"month\",\"wd\"]]),mdf[\"ws_obs\"])"
   ]
  },
  {
   "cell_type": "code",
   "execution_count": null,
   "id": "001cdbb4",
   "metadata": {},
   "outputs": [],
   "source": [
    "plot_bc_pointcloud(mdf)"
   ]
  },
  {
   "cell_type": "code",
   "execution_count": null,
   "id": "3c7344fe",
   "metadata": {},
   "outputs": [],
   "source": [
    "chunk = do_correction(sitewtk,'t133',fit)\n",
    "bc_dfs.append(chunk)\n",
    "chunk.head()"
   ]
  },
  {
   "cell_type": "code",
   "execution_count": null,
   "id": "04bbcf56",
   "metadata": {},
   "outputs": [],
   "source": [
    "plot_correction(chunk)"
   ]
  },
  {
   "cell_type": "markdown",
   "id": "09685c9b",
   "metadata": {},
   "source": [
    "### Site 133 (Illinois)\n",
    "\n",
    "No overlap with WTK-LED, skipping"
   ]
  },
  {
   "cell_type": "code",
   "execution_count": null,
   "id": "a1f1c50a",
   "metadata": {},
   "outputs": [],
   "source": [
    "mdf = prepare_dataframe('t133',wtk_dfs)\n",
    "mdf.head()"
   ]
  },
  {
   "cell_type": "markdown",
   "id": "ef5c3284",
   "metadata": {},
   "source": [
    "### Site 140 (New York)\n",
    "\n",
    "No overlap with WTK-LED, skipping"
   ]
  },
  {
   "cell_type": "code",
   "execution_count": null,
   "id": "0e88c93b",
   "metadata": {},
   "outputs": [],
   "source": [
    "mdf = prepare_dataframe('t140',wtk_dfs)\n",
    "mdf.head()"
   ]
  },
  {
   "cell_type": "markdown",
   "id": "43c62494",
   "metadata": {},
   "source": [
    "### Site 170 (Ohio)"
   ]
  },
  {
   "cell_type": "code",
   "execution_count": null,
   "id": "efc44a95",
   "metadata": {},
   "outputs": [],
   "source": [
    "mdf = prepare_dataframe('t170',wtk_dfs)\n",
    "mdf.head()"
   ]
  },
  {
   "cell_type": "code",
   "execution_count": null,
   "id": "43e8376f",
   "metadata": {},
   "outputs": [],
   "source": [
    "fit = LinearRegression().fit(mdf[[\"ws\",\"hour\",\"month\",\"wd\"]],mdf[\"ws_obs\"])\n",
    "regression_results(fit.predict(mdf[[\"ws\",\"hour\",\"month\",\"wd\"]]),mdf[\"ws_obs\"])"
   ]
  },
  {
   "cell_type": "code",
   "execution_count": null,
   "id": "6a0a1a58",
   "metadata": {},
   "outputs": [],
   "source": [
    "plot_bc_pointcloud(mdf)"
   ]
  },
  {
   "cell_type": "code",
   "execution_count": null,
   "id": "f10ef189",
   "metadata": {},
   "outputs": [],
   "source": [
    "chunk = do_correction(sitewtk,'t170',fit)\n",
    "bc_dfs.append(chunk)\n",
    "chunk.head()"
   ]
  },
  {
   "cell_type": "code",
   "execution_count": null,
   "id": "c210410f",
   "metadata": {
    "scrolled": true
   },
   "outputs": [],
   "source": [
    "plot_correction(chunk)"
   ]
  },
  {
   "cell_type": "markdown",
   "id": "a96e5b6e",
   "metadata": {},
   "source": [
    "### Site 183 (Illinois)\n",
    "\n",
    "No overlap with WTK-LED, skipping"
   ]
  },
  {
   "cell_type": "code",
   "execution_count": null,
   "id": "38dcf7b5",
   "metadata": {},
   "outputs": [],
   "source": [
    "mdf = prepare_dataframe('t183',wtk_dfs)\n",
    "mdf.head()"
   ]
  },
  {
   "cell_type": "markdown",
   "id": "0ca868ba",
   "metadata": {},
   "source": [
    "### Site 192 (Vermont)\n",
    "\n",
    "No overlap with WTK-LED, skipping"
   ]
  },
  {
   "cell_type": "code",
   "execution_count": null,
   "id": "9da80add",
   "metadata": {},
   "outputs": [],
   "source": [
    "mdf = prepare_dataframe('t192',wtk_dfs)\n",
    "mdf.head()"
   ]
  },
  {
   "cell_type": "markdown",
   "id": "77c05a91",
   "metadata": {},
   "source": [
    "### Site 207 (Illinois)\n",
    "\n",
    "No overlap with WTK-LED, skipping"
   ]
  },
  {
   "cell_type": "code",
   "execution_count": null,
   "id": "c6465149",
   "metadata": {},
   "outputs": [],
   "source": [
    "mdf = prepare_dataframe('t207',wtk_dfs)\n",
    "mdf.head()"
   ]
  },
  {
   "cell_type": "markdown",
   "id": "a053caf7",
   "metadata": {},
   "source": [
    "## Save Bias Corrected Version"
   ]
  },
  {
   "cell_type": "code",
   "execution_count": null,
   "id": "6dc6ef61",
   "metadata": {},
   "outputs": [],
   "source": [
    "bcdf = pd.concat(bc_dfs)\n",
    "bcdf.head()"
   ]
  },
  {
   "cell_type": "code",
   "execution_count": null,
   "id": "b1d0dd74",
   "metadata": {},
   "outputs": [],
   "source": [
    "bcdf.to_csv(\"02 Bias Correction/wtk_led_bc.csv.bz2\",index=False)"
   ]
  }
 ],
 "metadata": {
  "kernelspec": {
   "display_name": "Python 3 (ipykernel)",
   "language": "python",
   "name": "python3"
  },
  "language_info": {
   "codemirror_mode": {
    "name": "ipython",
    "version": 3
   },
   "file_extension": ".py",
   "mimetype": "text/x-python",
   "name": "python",
   "nbconvert_exporter": "python",
   "pygments_lexer": "ipython3",
   "version": "3.8.16"
  }
 },
 "nbformat": 4,
 "nbformat_minor": 5
}
