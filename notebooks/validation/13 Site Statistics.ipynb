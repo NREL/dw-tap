{
 "cells": [
  {
   "cell_type": "markdown",
   "id": "a42fb057",
   "metadata": {},
   "source": [
    "## Validation Site Maps and Wind Roses\n",
    "\n",
    "Caleb Phillips (caleb.phillips@nrel.gov)\n",
    "\n",
    "A small notebook to make maps and windroses for the Bergey (and eventually OneEnergy) sites."
   ]
  },
  {
   "cell_type": "code",
   "execution_count": null,
   "id": "240801c2",
   "metadata": {},
   "outputs": [],
   "source": [
    "import numpy as np\n",
    "import pandas as pd\n",
    "import geopandas as gpd\n",
    "import matplotlib.pyplot as plt\n",
    "import os\n",
    "\n",
    "import fiona\n",
    "import site_index\n",
    "from dw_tap.data_processing import filter_obstacles\n",
    "\n",
    "import plotly.express as px\n",
    "\n",
    "%matplotlib inline\n",
    "%config InlineBackend.figure_format='retina'\n",
    "\n",
    "obstacle_data_dir = \"01 Bergey Turbine Data/3dbuildings_geojson\""
   ]
  },
  {
   "cell_type": "code",
   "execution_count": null,
   "id": "5a09867f",
   "metadata": {},
   "outputs": [],
   "source": [
    "index = site_index.SiteIndex()"
   ]
  },
  {
   "cell_type": "markdown",
   "id": "1058ce4a",
   "metadata": {},
   "source": [
    "### 100m Radius Obstacle Maps"
   ]
  },
  {
   "cell_type": "code",
   "execution_count": null,
   "id": "0b457017",
   "metadata": {},
   "outputs": [],
   "source": [
    "all_obstacles_100m = []\n",
    "for tid in index.tids():\n",
    "    index_row = index.lookup_by_tid(tid)\n",
    "    z_turbine = index_row[\"Hub Height (m)\"]\n",
    "    lat = index_row[\"Latitude\"]\n",
    "    lon = index_row[\"Longitude\"]\n",
    "    \n",
    "    obstacle_data_dir = \"01 Bergey Turbine Data/3dbuildings_geojson\"\n",
    "    obstacle_data_file = \"%s/%sv2.json\" % (obstacle_data_dir, tid)\n",
    "    \n",
    "    if os.path.exists(obstacle_data_file):\n",
    "        obstacle_df = filter_obstacles(tid,gpd.read_file(obstacle_data_file), \n",
    "                                       include_trees=True, \n",
    "                                       turbine_height_for_checking=z_turbine,\n",
    "                                       limit_to_radius_in_m=100.0,\n",
    "                                       turbine_lat_lon=(lat,lon))\n",
    "        obstacle_df[\"tid\"] = tid\n",
    "        \n",
    "        print(\"%s\" % (tid,))\n",
    "        \n",
    "        colors = {'tree': \"#b2df8a\", 'building': \"#1f78b4\"} # colors from colorbrewer.org\n",
    "        ax = obstacle_df.plot(color=obstacle_df[\"feature_type\"].map(lambda x: colors[x]))\n",
    "        ax.get_xaxis().set_ticks([])\n",
    "        ax.get_yaxis().set_ticks([])\n",
    "        #ax.set_title(tid)\n",
    "        ax.set_xlim(lon-0.0015,lon+0.0015)\n",
    "        ax.set_ylim(lat-0.001, lat+0.001)\n",
    "        plt.plot(lon, lat, marker=\"*\", markersize=20, markeredgecolor=\"red\", markerfacecolor=\"red\")\n",
    "        plt.show()\n",
    "        \n",
    "        all_obstacles_100m.append(obstacle_df)\n",
    "    else:\n",
    "        print(\"Can't access: %s. Skipping\" % obstacle_data_file)\n",
    "\n",
    "all_obstacles_100m = pd.concat(all_obstacles_100m)"
   ]
  },
  {
   "cell_type": "markdown",
   "id": "ee0271d8",
   "metadata": {},
   "source": [
    "### 500m Radius Obstacle Maps (all obstacles)"
   ]
  },
  {
   "cell_type": "code",
   "execution_count": null,
   "id": "fa99e3ed",
   "metadata": {},
   "outputs": [],
   "source": [
    "all_obstacles = []\n",
    "for tid in index.tids():\n",
    "    index_row = index.lookup_by_tid(tid)\n",
    "    z_turbine = index_row[\"Hub Height (m)\"]\n",
    "    lat = index_row[\"Latitude\"]\n",
    "    lon = index_row[\"Longitude\"]\n",
    "    \n",
    "    obstacle_data_dir = \"01 Bergey Turbine Data/3dbuildings_geojson\"\n",
    "    obstacle_data_file = \"%s/%sv2.json\" % (obstacle_data_dir, tid)\n",
    "    \n",
    "    if os.path.exists(obstacle_data_file):\n",
    "        obstacle_df = filter_obstacles(tid,gpd.read_file(obstacle_data_file), \n",
    "                                       include_trees=True, \n",
    "                                       turbine_height_for_checking=z_turbine)\n",
    "        obstacle_df[\"tid\"] = tid\n",
    "        \n",
    "        print(\"%s\" % (tid,))\n",
    "        \n",
    "        colors = {'tree': \"#b2df8a\", 'building': \"#1f78b4\"} # colors from colorbrewer.org\n",
    "        ax = obstacle_df.plot(color=obstacle_df[\"feature_type\"].map(lambda x: colors[x]))\n",
    "        ax.get_xaxis().set_ticks([])\n",
    "        ax.get_yaxis().set_ticks([])\n",
    "        #ax.set_title(tid)\n",
    "        ax.set_xlim(lon-0.0015*5,lon+0.0015*5)\n",
    "        ax.set_ylim(lat-0.001*5, lat+0.001*5)\n",
    "        plt.plot(lon, lat, marker=\"*\", markersize=20, markeredgecolor=\"red\", markerfacecolor=\"red\")\n",
    "        plt.show()\n",
    "        \n",
    "        all_obstacles.append(obstacle_df)\n",
    "    else:\n",
    "        print(\"Can't access: %s. Skipping\" % obstacle_data_file)\n",
    "\n",
    "all_obstacles = pd.concat(all_obstacles)"
   ]
  },
  {
   "cell_type": "markdown",
   "id": "5d838b5b",
   "metadata": {},
   "source": [
    "### Wind Roses"
   ]
  },
  {
   "cell_type": "code",
   "execution_count": null,
   "id": "b9b370f9",
   "metadata": {},
   "outputs": [],
   "source": [
    "wtk = pd.read_csv(\"01 Bergey Turbine Data/wtk.csv.bz2\")\n",
    "wtk[\"ws_rounded\"] = wtk[\"ws\"].round()\n",
    "wtk[\"wd_rounded\"] = 10*(wtk[\"wd\"]/10).astype(int)\n",
    "dc = wtk.copy()[[\"tid\",\"wd_rounded\",\"ws_rounded\"]]\n",
    "dc[\"n\"] = 1\n",
    "dc = dc.groupby([\"tid\",\"wd_rounded\",\"ws_rounded\"]).sum()\n",
    "dc = dc.reset_index()\n",
    "dc['p'] = np.round(100*dc['n']/61368,1)"
   ]
  },
  {
   "cell_type": "code",
   "execution_count": null,
   "id": "2ff3382a",
   "metadata": {},
   "outputs": [],
   "source": [
    "for tid in index.tids():\n",
    "    fig = px.bar_polar(dc[dc[\"tid\"] == tid], r=\"p\", theta=\"wd_rounded\",\n",
    "                   color=\"ws_rounded\",\n",
    "                   color_continuous_scale= 'Jet',\n",
    "                   labels={\"ws_rounded\": \"Windspeed (m/s)\",\"p\": \"Percent (%)\"},\n",
    "                   title=tid)\n",
    "    fig.show()"
   ]
  }
 ],
 "metadata": {
  "kernelspec": {
   "display_name": "Python 3 (ipykernel)",
   "language": "python",
   "name": "python3"
  },
  "language_info": {
   "codemirror_mode": {
    "name": "ipython",
    "version": 3
   },
   "file_extension": ".py",
   "mimetype": "text/x-python",
   "name": "python",
   "nbconvert_exporter": "python",
   "pygments_lexer": "ipython3",
   "version": "3.8.16"
  }
 },
 "nbformat": 4,
 "nbformat_minor": 5
}
