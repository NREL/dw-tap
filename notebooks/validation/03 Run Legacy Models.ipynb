{
 "cells": [
  {
   "cell_type": "markdown",
   "id": "66d3dde6",
   "metadata": {
    "tags": []
   },
   "source": [
    "## Run Legacy Models (Perera)\n",
    "\n",
    "Caleb Phillips (caleb.phillips@nrel.gov) and Dmitry Duplyakin (dmitry.duplyakin@nrel.gov)\n",
    "\n",
    "The purpose of this notebook is to run the Legacy \"LOM\"s which form a baseline for more complex models. These include:\n",
    "\n",
    " - Vanilla Perera: The original Perera with infinite length obstacles\n",
    " - Perera 2: A version of Perera proposed in the WaSP paper with finite length obstacles\n",
    " - Perera 3: A version of Perera proposed in the WaSP paper with asymmetric finite length obstacles\n",
    " \n",
    "In practice, all three models are quite similar."
   ]
  },
  {
   "cell_type": "code",
   "execution_count": 2,
   "id": "532eb696",
   "metadata": {},
   "outputs": [
    {
     "name": "stderr",
     "output_type": "stream",
     "text": [
      "2023-05-30 08:46:32.936699: I tensorflow/core/platform/cpu_feature_guard.cc:193] This TensorFlow binary is optimized with oneAPI Deep Neural Network Library (oneDNN) to use the following CPU instructions in performance-critical operations:  SSE4.1 SSE4.2\n",
      "To enable them in other operations, rebuild TensorFlow with the appropriate compiler flags.\n"
     ]
    }
   ],
   "source": [
    "import numpy as np\n",
    "import pandas as pd\n",
    "import geopandas as gpd\n",
    "from tqdm import tqdm\n",
    "import matplotlib.pyplot as plt\n",
    "from dw_tap.lom import run_lom\n",
    "import os\n",
    "import seaborn as sns\n",
    "import glob\n",
    "from dw_tap.data_processing import _LatLon_To_XY, filter_obstacles\n",
    "\n",
    "from pyproj import Transformer\n",
    "from shapely.geometry import LineString, Polygon, MultiPolygon, Point, MultiPoint, shape\n",
    "from shapely.ops import split, nearest_points\n",
    "import fiona\n",
    "import perera\n",
    "import pickle\n",
    "import common\n",
    "import site_index\n",
    "\n",
    "%matplotlib inline\n",
    "%config InlineBackend.figure_format='retina'\n",
    "\n",
    "obstacle_data_dir = \"01 Bergey Turbine Data/3dbuildings_geojson\""
   ]
  },
  {
   "cell_type": "code",
   "execution_count": 3,
   "id": "2aaa688a-d76f-46e3-ba77-3106e048f657",
   "metadata": {},
   "outputs": [],
   "source": [
    "index = site_index.SiteIndex()"
   ]
  },
  {
   "cell_type": "markdown",
   "id": "2d5d8b2e-d9ea-4996-a15f-72bd5abd11cc",
   "metadata": {},
   "source": [
    "### Select which sites need to be processed and wind data source"
   ]
  },
  {
   "cell_type": "code",
   "execution_count": 10,
   "id": "e56e211c-0da0-435e-9124-63caa9107d56",
   "metadata": {},
   "outputs": [
    {
     "name": "stdout",
     "output_type": "stream",
     "text": [
      "['t024', 't028', 't034', 't041', 't083', 't114', 't133', 't135', 't139', 't140', 't169', 't170', 't182', 't183', 't192', 't207', 't221']\n"
     ]
    }
   ],
   "source": [
    "# Small test with several sites\n",
    "selected = index.tids(True)\n",
    "print(selected)\n",
    "\n",
    "# One or more of: [\"wtk_bc\", wtk\", \"wtk_led_2018\", \"wtk_led_2019\"]\n",
    "wind_sources = [\"wtk\",\"wtk_bc\",\"wtk_led_2018\",\"wtk_led_2019\",\"wtk_led_bc\"] "
   ]
  },
  {
   "cell_type": "markdown",
   "id": "6ec40ab5-38e0-49ee-a549-6c8578f5b8cc",
   "metadata": {},
   "source": [
    "### Load wind data"
   ]
  },
  {
   "cell_type": "code",
   "execution_count": 39,
   "id": "d4da36dd-aa59-43a4-9c75-38995b2d9a54",
   "metadata": {},
   "outputs": [
    {
     "name": "stderr",
     "output_type": "stream",
     "text": [
      "100%|█████████████████████████████████████████████| 5/5 [00:13<00:00,  2.80s/it]\n"
     ]
    }
   ],
   "source": [
    "atmospheric_inputs = {}\n",
    "\n",
    "for wind_source in tqdm(wind_sources):\n",
    "\n",
    "    dfs_by_tid = {}\n",
    "    \n",
    "    if wind_source == \"wtk\":\n",
    "\n",
    "        wtk_df = pd.read_csv(\"01 Bergey Turbine Data/wtk.csv.bz2\")\n",
    "        # Create dict with dataframes that correspond to selected tid's\n",
    "        for tid in selected:\n",
    "            dfs_by_tid[tid] = wtk_df[wtk_df[\"tid\"] == tid].reset_index(drop=True)\n",
    "            #display(dfs_by_tid[tid].head(3))\n",
    "\n",
    "    elif wind_source == \"wtk_led_2018\":\n",
    "\n",
    "        wtk_led_2018 = pd.read_csv(\"01 Bergey Turbine Data/wtk_led_2018.csv.bz2\")\n",
    "\n",
    "        # Create dict with dataframes that correspond to selected tid's\n",
    "        for tid in selected:\n",
    "            dfs_by_tid[tid] = wtk_led_2018[wtk_led_2018[\"tid\"] == tid].copy().reset_index(drop=True)\n",
    "            dfs_by_tid[tid][\"datetime\"] = dfs_by_tid[tid][\"packet_date\"]\n",
    "\n",
    "    elif wind_source == \"wtk_led_2019\":\n",
    "\n",
    "        wtk_led_2019 = pd.read_csv(\"01 Bergey Turbine Data/wtk_led_2019.csv.bz2\")\n",
    "\n",
    "        # Create dict with dataframes that correspond to selected tid's\n",
    "        for tid in selected:\n",
    "            dfs_by_tid[tid] = wtk_led_2019[wtk_led_2019[\"tid\"] == tid].copy().reset_index(drop=True)\n",
    "            dfs_by_tid[tid][\"datetime\"] = dfs_by_tid[tid][\"packet_date\"]\n",
    "\n",
    "    elif wind_source == \"wtk_bc\":\n",
    "        wtk_bc_df = pd.read_csv(\"02 Bias Correction/wtk_bc.csv.bz2\")\n",
    "        \n",
    "        # Create dict with dataframes that correspond to selected tid's\n",
    "        for tid in selected:\n",
    "            dfs_by_tid[tid] = wtk_bc_df[wtk_bc_df[\"tid\"] == tid].reset_index(drop=True)\n",
    "            \n",
    "            # Actually use bias corrected wind speeds for further steps (overwrite original ws)\n",
    "            dfs_by_tid[tid][\"ws\"] = dfs_by_tid[tid][\"ws_bc\"]\n",
    "        \n",
    "    elif wind_source == \"wtk_led_bc\":\n",
    "        wtk_led_bc_df = pd.read_csv(\"02 Bias Correction/wtk_led_bc.csv.bz2\")\n",
    "        \n",
    "        # Create dict with dataframes that correspond to selected tid's\n",
    "        for tid in selected:\n",
    "            dfs_by_tid[tid] = wtk_led_bc_df[wtk_led_bc_df[\"tid\"] == tid].reset_index(drop=True)\n",
    "            \n",
    "            # Actually use bias corrected wind speeds for further steps (overwrite original ws)\n",
    "            dfs_by_tid[tid][\"ws\"] = dfs_by_tid[tid][\"ws_bc\"]\n",
    "        \n",
    "    else:\n",
    "        print(\"Unsupported wind_source selected:\", wind_source)\n",
    "        continue\n",
    "        \n",
    "    atmospheric_inputs[wind_source] = dfs_by_tid"
   ]
  },
  {
   "cell_type": "markdown",
   "id": "14878556-c3d2-460d-b15d-1c68ba78b2b5",
   "metadata": {},
   "source": [
    "### Load obstacle data"
   ]
  },
  {
   "cell_type": "code",
   "execution_count": 26,
   "id": "fab492c6-2512-4efd-95bd-e038834a5ce9",
   "metadata": {},
   "outputs": [
    {
     "name": "stderr",
     "output_type": "stream",
     "text": [
      "/Users/cphillip/opt/anaconda3/envs/dw-tap/lib/python3.8/site-packages/dw_tap/data_processing.py:319: UserWarning: (tid: t034) Detected at least 1 obstacle that is as tall as the studied turbine:\n",
      "       height feature_type                                           geometry\n",
      "40  41.015999         tree  POLYGON ((-76.37180 43.52360, -76.37171 43.523...\n",
      "48  39.621994         tree  POLYGON ((-76.37276 43.52496, -76.37280 43.524...\n",
      "  warnings.warn(\"(tid: %s) Detected at least 1 obstacle that is as tall as the studied turbine:\\n%s\" % \\\n",
      "/Users/cphillip/opt/anaconda3/envs/dw-tap/lib/python3.8/site-packages/dw_tap/data_processing.py:319: UserWarning: (tid: t133) Detected at least 1 obstacle that is as tall as the studied turbine:\n",
      "       height feature_type                                           geometry\n",
      "6   55.354065         tree  POLYGON ((-89.40182 39.32820, -89.40186 39.328...\n",
      "7   47.110229         tree  POLYGON ((-89.40183 39.32799, -89.40184 39.327...\n",
      "15  52.982788         tree  POLYGON ((-89.40142 39.32820, -89.40138 39.328...\n",
      "16  60.816101         tree  POLYGON ((-89.40142 39.32804, -89.40140 39.328...\n",
      "  warnings.warn(\"(tid: %s) Detected at least 1 obstacle that is as tall as the studied turbine:\\n%s\" % \\\n",
      "/Users/cphillip/opt/anaconda3/envs/dw-tap/lib/python3.8/site-packages/dw_tap/data_processing.py:319: UserWarning: (tid: t169) Detected at least 1 obstacle that is as tall as the studied turbine:\n",
      "        height feature_type                                           geometry\n",
      "1    47.690002     building  POLYGON ((-85.12322 41.07841, -85.12321 41.078...\n",
      "4    38.265015     building  POLYGON ((-85.12048 41.07932, -85.12047 41.079...\n",
      "5    37.169983     building  POLYGON ((-85.11821 41.07941, -85.11821 41.079...\n",
      "20   40.309998     building  POLYGON ((-85.11423 41.07398, -85.11421 41.073...\n",
      "174  59.519958     building  POLYGON ((-85.11854 41.07733, -85.11854 41.077...\n",
      "176  43.849976     building  POLYGON ((-85.11506 41.07897, -85.11524 41.078...\n",
      "177  43.159973     building  POLYGON ((-85.11557 41.07895, -85.11575 41.078...\n",
      "600  40.349976     building  POLYGON ((-85.11578 41.07669, -85.11577 41.076...\n",
      "601  43.349976         tree  POLYGON ((-85.11741 41.07765, -85.11744 41.077...\n",
      "602  37.400024         tree  POLYGON ((-85.11728 41.07771, -85.11730 41.077...\n",
      "604  54.119995         tree  POLYGON ((-85.11765 41.07745, -85.11769 41.077...\n",
      "608  48.789978         tree  POLYGON ((-85.11653 41.07751, -85.11659 41.077...\n",
      "614  47.149963         tree  POLYGON ((-85.11708 41.07798, -85.11711 41.077...\n",
      "615  51.530029         tree  POLYGON ((-85.11694 41.07798, -85.11698 41.077...\n",
      "616  51.400024         tree  POLYGON ((-85.11639 41.07744, -85.11642 41.077...\n",
      "619  50.989990         tree  POLYGON ((-85.11778 41.07647, -85.11782 41.076...\n",
      "620  54.820007         tree  POLYGON ((-85.11783 41.07635, -85.11787 41.076...\n",
      "621  69.630005         tree  POLYGON ((-85.11745 41.07626, -85.11753 41.076...\n",
      "627  57.890015         tree  POLYGON ((-85.11720 41.07611, -85.11724 41.076...\n",
      "628  68.320007         tree  POLYGON ((-85.11675 41.07600, -85.11677 41.075...\n",
      "629  53.329956         tree  POLYGON ((-85.11622 41.07588, -85.11628 41.075...\n",
      "  warnings.warn(\"(tid: %s) Detected at least 1 obstacle that is as tall as the studied turbine:\\n%s\" % \\\n",
      "/Users/cphillip/opt/anaconda3/envs/dw-tap/lib/python3.8/site-packages/dw_tap/data_processing.py:319: UserWarning: (tid: t169) Detected at least 1 obstacle that is as tall as the studied turbine:\n",
      "        height feature_type                                           geometry\n",
      "1    47.690002     building  POLYGON ((-85.12322 41.07841, -85.12321 41.078...\n",
      "4    38.265015     building  POLYGON ((-85.12048 41.07932, -85.12047 41.079...\n",
      "5    37.169983     building  POLYGON ((-85.11821 41.07941, -85.11821 41.079...\n",
      "20   40.309998     building  POLYGON ((-85.11423 41.07398, -85.11421 41.073...\n",
      "174  59.519958     building  POLYGON ((-85.11854 41.07733, -85.11854 41.077...\n",
      "176  43.849976     building  POLYGON ((-85.11506 41.07897, -85.11524 41.078...\n",
      "177  43.159973     building  POLYGON ((-85.11557 41.07895, -85.11575 41.078...\n",
      "600  40.349976     building  POLYGON ((-85.11578 41.07669, -85.11577 41.076...\n",
      "  warnings.warn(\"(tid: %s) Detected at least 1 obstacle that is as tall as the studied turbine:\\n%s\" % \\\n",
      "/Users/cphillip/opt/anaconda3/envs/dw-tap/lib/python3.8/site-packages/dw_tap/data_processing.py:319: UserWarning: (tid: t170) Detected at least 1 obstacle that is as tall as the studied turbine:\n",
      "       height feature_type                                           geometry\n",
      "0   38.170044     building  POLYGON ((-84.40688 42.16345, -84.40664 42.163...\n",
      "1   27.420502     building  POLYGON ((-84.40590 42.16530, -84.40591 42.165...\n",
      "2   35.169006     building  POLYGON ((-84.40509 42.16416, -84.40509 42.163...\n",
      "3   36.310974     building  POLYGON ((-84.40508 42.16503, -84.40509 42.164...\n",
      "4   24.216980     building  POLYGON ((-84.40438 42.16503, -84.40437 42.165...\n",
      "5   26.520996     building  POLYGON ((-84.40446 42.16381, -84.40447 42.163...\n",
      "11  31.554993     building  POLYGON ((-84.40306 42.16461, -84.40306 42.164...\n",
      "14  32.375977     building  POLYGON ((-84.40287 42.16208, -84.40284 42.162...\n",
      "15  32.007996     building  POLYGON ((-84.40315 42.16226, -84.40302 42.162...\n",
      "17  28.264954     building  POLYGON ((-84.40906 42.17012, -84.40887 42.170...\n",
      "27  30.347534     building  POLYGON ((-84.39762 42.16629, -84.39750 42.166...\n",
      "30  47.511963         tree  POLYGON ((-84.40350 42.16625, -84.40356 42.166...\n",
      "32  27.704956         tree  POLYGON ((-84.40388 42.16730, -84.40392 42.167...\n",
      "33  44.616028         tree  POLYGON ((-84.40418 42.16719, -84.40432 42.167...\n",
      "34  62.831970         tree  POLYGON ((-84.40213 42.16775, -84.40211 42.167...\n",
      "35  62.583984         tree  POLYGON ((-84.40374 42.16774, -84.40380 42.167...\n",
      "36  95.881958         tree  POLYGON ((-84.40382 42.16758, -84.40400 42.167...\n",
      "37  30.705017         tree  POLYGON ((-84.40421 42.16716, -84.40422 42.167...\n",
      "  warnings.warn(\"(tid: %s) Detected at least 1 obstacle that is as tall as the studied turbine:\\n%s\" % \\\n",
      "/Users/cphillip/opt/anaconda3/envs/dw-tap/lib/python3.8/site-packages/dw_tap/data_processing.py:319: UserWarning: (tid: t170) Detected at least 1 obstacle that is as tall as the studied turbine:\n",
      "       height feature_type                                           geometry\n",
      "0   38.170044     building  POLYGON ((-84.40688 42.16345, -84.40664 42.163...\n",
      "1   27.420502     building  POLYGON ((-84.40590 42.16530, -84.40591 42.165...\n",
      "2   35.169006     building  POLYGON ((-84.40509 42.16416, -84.40509 42.163...\n",
      "3   36.310974     building  POLYGON ((-84.40508 42.16503, -84.40509 42.164...\n",
      "4   24.216980     building  POLYGON ((-84.40438 42.16503, -84.40437 42.165...\n",
      "5   26.520996     building  POLYGON ((-84.40446 42.16381, -84.40447 42.163...\n",
      "11  31.554993     building  POLYGON ((-84.40306 42.16461, -84.40306 42.164...\n",
      "14  32.375977     building  POLYGON ((-84.40287 42.16208, -84.40284 42.162...\n",
      "15  32.007996     building  POLYGON ((-84.40315 42.16226, -84.40302 42.162...\n",
      "17  28.264954     building  POLYGON ((-84.40906 42.17012, -84.40887 42.170...\n",
      "27  30.347534     building  POLYGON ((-84.39762 42.16629, -84.39750 42.166...\n",
      "  warnings.warn(\"(tid: %s) Detected at least 1 obstacle that is as tall as the studied turbine:\\n%s\" % \\\n",
      "/Users/cphillip/opt/anaconda3/envs/dw-tap/lib/python3.8/site-packages/dw_tap/data_processing.py:319: UserWarning: (tid: t183) Detected at least 1 obstacle that is as tall as the studied turbine:\n",
      "       height feature_type                                           geometry\n",
      "2   32.928497     building  POLYGON ((-88.38162 39.42123, -88.38236 39.421...\n",
      "8   27.808502     building  POLYGON ((-88.38124 39.42124, -88.38151 39.421...\n",
      "11  28.283997     building  POLYGON ((-88.38085 39.42123, -88.38109 39.421...\n",
      "20  43.803497     building  POLYGON ((-88.38676 39.41717, -88.38676 39.417...\n",
      "  warnings.warn(\"(tid: %s) Detected at least 1 obstacle that is as tall as the studied turbine:\\n%s\" % \\\n",
      "/Users/cphillip/opt/anaconda3/envs/dw-tap/lib/python3.8/site-packages/dw_tap/data_processing.py:319: UserWarning: (tid: t183) Detected at least 1 obstacle that is as tall as the studied turbine:\n",
      "       height feature_type                                           geometry\n",
      "2   32.928497     building  POLYGON ((-88.38162 39.42123, -88.38236 39.421...\n",
      "8   27.808502     building  POLYGON ((-88.38124 39.42124, -88.38151 39.421...\n",
      "11  28.283997     building  POLYGON ((-88.38085 39.42123, -88.38109 39.421...\n",
      "20  43.803497     building  POLYGON ((-88.38676 39.41717, -88.38676 39.417...\n",
      "  warnings.warn(\"(tid: %s) Detected at least 1 obstacle that is as tall as the studied turbine:\\n%s\" % \\\n",
      "/Users/cphillip/opt/anaconda3/envs/dw-tap/lib/python3.8/site-packages/dw_tap/data_processing.py:319: UserWarning: (tid: t207) Detected at least 1 obstacle that is as tall as the studied turbine:\n",
      "        height feature_type                                           geometry\n",
      "600  60.192749     building  POLYGON ((-87.71964 41.48273, -87.71967 41.482...\n",
      "601  41.273163     building  POLYGON ((-87.71890 41.48356, -87.71900 41.483...\n",
      "614  54.781128     building  POLYGON ((-87.71809 41.48179, -87.71801 41.482...\n",
      "759  47.655518         tree  POLYGON ((-87.72349 41.48257, -87.72351 41.482...\n",
      "765  38.942688         tree  POLYGON ((-87.72415 41.48270, -87.72418 41.482...\n",
      "773  50.096558         tree  POLYGON ((-87.72254 41.48327, -87.72256 41.483...\n",
      "  warnings.warn(\"(tid: %s) Detected at least 1 obstacle that is as tall as the studied turbine:\\n%s\" % \\\n",
      "/Users/cphillip/opt/anaconda3/envs/dw-tap/lib/python3.8/site-packages/dw_tap/data_processing.py:319: UserWarning: (tid: t207) Detected at least 1 obstacle that is as tall as the studied turbine:\n",
      "        height feature_type                                           geometry\n",
      "600  60.192749     building  POLYGON ((-87.71964 41.48273, -87.71967 41.482...\n",
      "601  41.273163     building  POLYGON ((-87.71890 41.48356, -87.71900 41.483...\n",
      "614  54.781128     building  POLYGON ((-87.71809 41.48179, -87.71801 41.482...\n",
      "  warnings.warn(\"(tid: %s) Detected at least 1 obstacle that is as tall as the studied turbine:\\n%s\" % \\\n"
     ]
    }
   ],
   "source": [
    "obstacle_inputs = {}\n",
    "obstacle_inputs_notrees = {}\n",
    "for tid in selected:\n",
    "    \n",
    "    index_row = index.lookup_by_tid(tid)\n",
    "    z_turbine = index_row[\"Hub Height (m)\"]\n",
    "    \n",
    "    obstacle_data_dir = \"01 Bergey Turbine Data/3dbuildings_geojson\"\n",
    "    obstacle_data_file = \"%s/%sv2.json\" % (obstacle_data_dir, tid)\n",
    "    \n",
    "    if os.path.exists(obstacle_data_file):\n",
    "        # Trees case\n",
    "        obstacle_df = filter_obstacles(tid,gpd.read_file(obstacle_data_file), \n",
    "                                       include_trees=True, \n",
    "                                       turbine_height_for_checking=z_turbine)\n",
    "        obstacle_df[\"tid\"] = tid\n",
    "        obstacle_inputs[tid] = obstacle_df\n",
    "        \n",
    "        # No trees case\n",
    "        obstacle_df = filter_obstacles(tid,gpd.read_file(obstacle_data_file), \n",
    "                                       include_trees=False, \n",
    "                                       turbine_height_for_checking=z_turbine)\n",
    "        obstacle_df[\"tid\"] = tid\n",
    "        obstacle_inputs_notrees[tid] = obstacle_df\n",
    "    else:\n",
    "        print(\"Can't access: %s. Skipping\" % obstacle_data_file)\n",
    "\n",
    "all_obstacle_inputs = pd.concat(obstacle_inputs.values())\n",
    "all_obstacle_inputs_notrees = pd.concat(obstacle_inputs_notrees.values())"
   ]
  },
  {
   "cell_type": "code",
   "execution_count": 30,
   "id": "ae11b87a-cc87-4fcb-9b18-3d1fc44d6a04",
   "metadata": {},
   "outputs": [],
   "source": [
    "dest_file = \"%s/all_obstacles_epsg3740.json\" % (obstacle_data_dir)\n",
    "all_obstacle_inputs.to_crs(3740).to_file(dest_file, driver=\"GeoJSON\", index=False)\n",
    "\n",
    "dest_file = \"%s/all_obstacles_notrees_epsg3740.json\" % (obstacle_data_dir)\n",
    "all_obstacle_inputs_notrees.to_crs(3740).to_file(dest_file, driver=\"GeoJSON\", index=False)"
   ]
  },
  {
   "cell_type": "markdown",
   "id": "ad491749-7b9b-4488-8f04-f021834fccf2",
   "metadata": {},
   "source": [
    "### Calculate and Save Perera Features"
   ]
  },
  {
   "cell_type": "code",
   "execution_count": 36,
   "id": "5481ac17",
   "metadata": {},
   "outputs": [
    {
     "name": "stderr",
     "output_type": "stream",
     "text": [
      "100%|███████████████████████████████████████████| 17/17 [03:21<00:00, 11.84s/it]\n"
     ]
    }
   ],
   "source": [
    "transformer = Transformer.from_crs(\"epsg:4326\", \"epsg:3740\")\n",
    "buildings = fiona.open(\"%s/all_obstacles_epsg3740.json\" % (obstacle_data_dir))\n",
    "buildings_notrees = fiona.open(\"%s/all_obstacles_notrees_epsg3740.json\" % (obstacle_data_dir))\n",
    "\n",
    "features = {\"bldgsonly\": {}, \"treesasbldgs\": {}, \"bldgsonly_100m\": {}, \"treesasbldgs_100m\": {}}\n",
    "for tid in tqdm(selected):\n",
    "    row = index.lookup_by_tid(tid)\n",
    "    lat = row[\"Latitude\"]\n",
    "    lon = row[\"Longitude\"]\n",
    "    lat,lon = transformer.transform(lat,lon)\n",
    "    point = Point(lat,lon)\n",
    "    features[\"treesasbldgs\"][tid] = perera.calculate_perera_features(point,buildings)\n",
    "    features[\"bldgsonly\"][tid] = perera.calculate_perera_features(point,buildings_notrees)\n",
    "    features[\"treesasbldgs_100m\"][tid] = perera.calculate_perera_features(point,buildings,100)\n",
    "    features[\"bldgsonly_100m\"][tid] = perera.calculate_perera_features(point,buildings_notrees,100)\n",
    "    \n",
    "pickle.dump( features[\"treesasbldgs\"], open( \"%s/perera_features.p\" % (obstacle_data_dir,), \"wb\" ) )\n",
    "pickle.dump( features[\"treesasbldgs_100m\"], open( \"%s/perera_features_100m.p\" % (obstacle_data_dir,), \"wb\" ) )\n",
    "pickle.dump( features[\"bldgsonly\"], open( \"%s/perera_features_notrees.p\" % (obstacle_data_dir,), \"wb\" ) )\n",
    "pickle.dump( features[\"bldgsonly_100m\"], open( \"%s/perera_features_100m_notrees.p\" % (obstacle_data_dir,), \"wb\" ) )"
   ]
  },
  {
   "cell_type": "markdown",
   "id": "1774d5ff",
   "metadata": {},
   "source": [
    "### Run Perera Model"
   ]
  },
  {
   "cell_type": "code",
   "execution_count": 37,
   "id": "9e5e38ca-2668-4df0-8bcc-c8781b696b3b",
   "metadata": {},
   "outputs": [],
   "source": [
    "# This flag allows overwriting previously saved files with results if they are found in the specified directory dest_dir \n",
    "overwrite = True\n",
    "\n",
    "# Will be used in the filenames\n",
    "site_type = \"bergey\"\n",
    "\n",
    "# Will be used in the filenames\n",
    "model_type = \"perera\"\n",
    "\n",
    "# Obstacle groups\n",
    "obs_groups = [\"bldgsonly\",\"treesasbldgs\",\"bldgsonly_100m\",\"treesasbldgs_100m\"]\n",
    "\n",
    "dest_dir = \"03 Model Outputs\"\n",
    "if not os.path.exists(dest_dir):\n",
    "    os.makedirs(dest_dir)    "
   ]
  },
  {
   "cell_type": "code",
   "execution_count": 40,
   "id": "614b7303",
   "metadata": {},
   "outputs": [
    {
     "name": "stderr",
     "output_type": "stream",
     "text": [
      "100%|███████████████████████████████████████████| 17/17 [13:57<00:00, 49.26s/it]\n"
     ]
    }
   ],
   "source": [
    "for tid in tqdm(selected):\n",
    "    \n",
    "    for wind_source in wind_sources:\n",
    "        \n",
    "        for obsgroup in obs_groups:\n",
    "\n",
    "            # skip those combinations that don't have data\n",
    "            if len(atmospheric_inputs[wind_source][tid]) == 0:\n",
    "                continue\n",
    "\n",
    "            dest_filename = \"%s/%s_%s_%s_%s_%s.csv.bz2\" % (dest_dir, site_type, model_type, tid, wind_source, obsgroup)\n",
    "            if (not overwrite) and (os.path.exists(dest_filename)):\n",
    "                print(\"Found previously saved %s); overwrite flag is off. Skipping to next config.\" % (dest_filename))\n",
    "                continue\n",
    "\n",
    "            atmospheric_inputs[wind_source][tid][\"sector\"] = common.sectorize(atmospheric_inputs[wind_source][tid][\"ws\"])\n",
    "\n",
    "            atmospheric_inputs[wind_source][tid][\"ws-adjusted\"] = \\\n",
    "                atmospheric_inputs[wind_source][tid][[\"tid\",\"sector\",\"ws\"]].\\\n",
    "                apply(perera.perera,axis=1,args=(features[obsgroup],))\n",
    "            atmospheric_inputs[wind_source][tid][\"ws-adjusted-2\"] = \\\n",
    "                atmospheric_inputs[wind_source][tid][[\"tid\",\"sector\",\"ws\"]].\\\n",
    "                apply(perera.perera2,axis=1,args=(features[obsgroup],))\n",
    "            atmospheric_inputs[wind_source][tid][\"ws-adjusted-3\"] = \\\n",
    "                atmospheric_inputs[wind_source][tid][[\"tid\",\"sector\",\"ws\"]].\\\n",
    "                apply(perera.perera3,axis=1,args=(features[obsgroup],))\n",
    "\n",
    "            atmospheric_inputs[wind_source][tid].to_csv(dest_filename, index=False)"
   ]
  },
  {
   "cell_type": "code",
   "execution_count": null,
   "id": "71835cca-b571-4e78-9515-7a3f60fad83c",
   "metadata": {},
   "outputs": [],
   "source": [
    "# Quick vis of data in produced files\n",
    "\n",
    "for f in glob.iglob(\"%s/*perera*\" % dest_dir):\n",
    "    df = pd.read_csv(f)\n",
    "    fig = plt.gcf()\n",
    "    fig.set_size_inches(2.5,2.5)\n",
    "    sns.scatterplot(x=df[\"ws\"], \\\n",
    "                    y=df[\"ws-adjusted\"], alpha=0.2).set(title=os.path.basename(f));\n",
    "    #plt.show()"
   ]
  }
 ],
 "metadata": {
  "kernelspec": {
   "display_name": "Python 3 (ipykernel)",
   "language": "python",
   "name": "python3"
  },
  "language_info": {
   "codemirror_mode": {
    "name": "ipython",
    "version": 3
   },
   "file_extension": ".py",
   "mimetype": "text/x-python",
   "name": "python",
   "nbconvert_exporter": "python",
   "pygments_lexer": "ipython3",
   "version": "3.8.16"
  }
 },
 "nbformat": 4,
 "nbformat_minor": 5
}
