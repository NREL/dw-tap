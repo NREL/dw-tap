{
 "cells": [
  {
   "cell_type": "markdown",
   "id": "900082e8",
   "metadata": {},
   "source": [
    "# Bias Correction\n",
    "\n",
    "Caleb Phillips (caleb.phillips@nrel.gov), Lindsay Sheridan (lindsay.sheridan@pnnl.gov), Jenna Ruzekowicz (jenna.ruzekowicz@nrel.gov) and Dmitry Duplyakin (dmitry.duplyakin@nrel.gov)\n",
    "\n",
    "This notebook will read resource data and reference observation data and use it to compute a bias corrected version of the resource data (by multiple linear regression) for those sites where reference data have been identified."
   ]
  },
  {
   "cell_type": "code",
   "execution_count": null,
   "id": "995e16a9",
   "metadata": {},
   "outputs": [],
   "source": [
    "import pandas as pd\n",
    "import h5pyd\n",
    "from dw_tap.data_fetching import getData\n",
    "from tqdm import tqdm\n",
    "import statsmodels.api as sm\n",
    "from sklearn.linear_model import LinearRegression\n",
    "from sklearn import metrics\n",
    "import plotly.express as px\n",
    "import numpy as np\n",
    "import site_index\n",
    "\n",
    "fetch_wtk_data = False"
   ]
  },
  {
   "cell_type": "code",
   "execution_count": null,
   "id": "64dd9acc",
   "metadata": {},
   "outputs": [],
   "source": [
    "sites = site_index.SiteIndex()"
   ]
  },
  {
   "cell_type": "markdown",
   "id": "96f1b6a5",
   "metadata": {},
   "source": [
    "### Download WTK Data at Each Bias Location (or read from cache)"
   ]
  },
  {
   "cell_type": "code",
   "execution_count": null,
   "id": "dd20f988",
   "metadata": {},
   "outputs": [],
   "source": [
    "if fetch_wtk_data:\n",
    "    # Open the wind data \"file\"\n",
    "    # server endpoint, username, password are found in ~/.hscfg\n",
    "    f = h5pyd.File(\"/nrel/wtk-us.h5\", 'r', bucket=\"nrel-pds-hsds\") \n",
    "\n",
    "    def fetch_dfs(index,wtk_dfs=[],debug=False):\n",
    "        for row in tqdm(index.to_dict(orient=\"records\")):\n",
    "            tid = row['APRS ID']\n",
    "            lat = row['Met Tower Latitude']\n",
    "            lon = row['Met Tower Longitude']\n",
    "            heights = str(row['Measurement Height (m)'])\n",
    "            if np.isnan(lat) or np.isnan(lon):\n",
    "                continue\n",
    "            for h in heights.split(\",\"):\n",
    "                h = int(float(h))\n",
    "                if(debug):\n",
    "                    print(\"Fetching data for turbine %s (%f,%f) at height %d\" % (tid,lat,lon,h))\n",
    "                atmospheric_df = getData(f, lat, lon, h, \"IDW\", \n",
    "                                         power_estimate=False,\n",
    "                                         inverse_monin_obukhov_length=True)\n",
    "                atmospheric_df['tid'] = tid\n",
    "                atmospheric_df['h'] = h\n",
    "                wtk_dfs.append(atmospheric_df)\n",
    "\n",
    "        return wtk_dfs\n",
    "\n",
    "    # in case HSDS has a connection error we will try a second time\n",
    "    wtk_dfs = fetch_dfs(sites.index)\n",
    "    wtk_dfs = pd.concat(wtk_dfs)\n",
    "    wtk_dfs.to_csv(\"02 Bias Correction/wtk_met.csv.bz2\")\n",
    "    wtk_dfs.head()\n",
    "\n",
    "else:\n",
    "    wtk_dfs = pd.read_csv(\"02 Bias Correction/wtk_met.csv.bz2\")\n",
    "    wtk_dfs[\"datetime\"] = pd.to_datetime(wtk_dfs[\"datetime\"])"
   ]
  },
  {
   "cell_type": "markdown",
   "id": "7e4875ed",
   "metadata": {},
   "source": [
    "### Read in the met tower data, align with WTK and fit models - example of t034\n",
    "\n",
    "Note that the below is needlessly verbose, repeating code for each site and would be much cleaner in a loop. I've done it this way so we can look at the fit/plots for each site, but may clean up in the future."
   ]
  },
  {
   "cell_type": "code",
   "execution_count": null,
   "id": "ffa6c2c5",
   "metadata": {},
   "outputs": [],
   "source": [
    "bc_dfs = [] # dataframe to hold bias corrected data for each site"
   ]
  },
  {
   "cell_type": "code",
   "execution_count": null,
   "id": "9bbfc3d1",
   "metadata": {},
   "outputs": [],
   "source": [
    "def prepare_dataframe(tid,wtk_dfs,sites):\n",
    "    minfo = sites.lookup_by_tid(tid)\n",
    "    mfile = minfo[\"Met Tower\"]\n",
    "    mheight = int(minfo[\"Measurement Height (m)\"])\n",
    "    mdf = pd.read_csv(\"02 Bias Correction/%s\" % mfile)\n",
    "    mdf = mdf.rename(columns={'Time': 'datetime', \"Spd%dm\" % mheight: 'ws_obs', \"Dir%dm\" % mheight: 'wd_obs'})\n",
    "    mdf['datetime'] = pd.to_datetime(mdf['datetime'])\n",
    "    print(\"Met data runs from %s to %s\" % (mdf['datetime'].min(),mdf['datetime'].max()))\n",
    "    mdf = mdf.merge(wtk_dfs[wtk_dfs['tid'] == tid],on='datetime',how='left').dropna()\n",
    "    mdf['hour'] = mdf['datetime'].dt.hour\n",
    "    mdf['month'] = mdf['datetime'].dt.month\n",
    "    return mdf"
   ]
  },
  {
   "cell_type": "code",
   "execution_count": null,
   "id": "d4aec328",
   "metadata": {},
   "outputs": [],
   "source": [
    "mdf = prepare_dataframe('t034',wtk_dfs,sites)\n",
    "mdf.head()"
   ]
  },
  {
   "cell_type": "code",
   "execution_count": null,
   "id": "a109134e",
   "metadata": {},
   "outputs": [],
   "source": [
    "mod = sm.OLS(mdf[\"ws_obs\"],sm.add_constant(mdf[[\"ws\",\"wd\",\"hour\",\"month\"]]))\n",
    "res = mod.fit()\n",
    "print(res.summary())"
   ]
  },
  {
   "cell_type": "code",
   "execution_count": null,
   "id": "65dbe1ad",
   "metadata": {},
   "outputs": [],
   "source": [
    "# NNLS version requires Sklearn because statsmodels doesn't have NNLS\n",
    "def regression_results(y_true, y_pred):\n",
    "\n",
    "    # Regression metrics\n",
    "    #explained_variance=metrics.explained_variance_score(y_true, y_pred)\n",
    "    mean_absolute_error=metrics.mean_absolute_error(y_true, y_pred) \n",
    "    mse=metrics.mean_squared_error(y_true, y_pred) \n",
    "    #mean_squared_log_error=metrics.mean_squared_log_error(y_true, y_pred)\n",
    "    median_absolute_error=metrics.median_absolute_error(y_true, y_pred)\n",
    "    r2=metrics.r2_score(y_true, y_pred)\n",
    "\n",
    "    #print('explained_variance: ', round(explained_variance,4))    \n",
    "    #print('mean_squared_log_error: ', round(mean_squared_log_error,4))\n",
    "    print('r2: ', round(r2,4))\n",
    "    print('MAE: ', round(mean_absolute_error,4))\n",
    "    print('MSE: ', round(mse,4))\n",
    "    print('RMSE: ', round(np.sqrt(mse),4))\n",
    "\n",
    "fit = LinearRegression().fit(mdf[[\"ws\",\"hour\",\"month\",\"wd\"]],mdf[\"ws_obs\"])\n",
    "regression_results(fit.predict(mdf[[\"ws\",\"hour\",\"month\",\"wd\"]]),mdf[\"ws_obs\"])"
   ]
  },
  {
   "cell_type": "markdown",
   "id": "f2431687",
   "metadata": {},
   "source": [
    "There may be some value in exploring nonlinear models (MARS, RF etc.)"
   ]
  },
  {
   "cell_type": "code",
   "execution_count": null,
   "id": "8c3c2dbb",
   "metadata": {},
   "outputs": [],
   "source": [
    "#from pyearth import Earth\n",
    "#mars = Earth()\n",
    "#mars.fit(mdf[[\"ws\",\"hour\",\"month\",\"wd\"]],mdf[\"ws_obs\"])"
   ]
  },
  {
   "cell_type": "code",
   "execution_count": null,
   "id": "47b2517d",
   "metadata": {},
   "outputs": [],
   "source": [
    "def plot_bc_pointcloud(mdf):\n",
    "    fig = px.scatter(mdf,x='ws', y='ws_obs',labels={\"ws\":\"WTK Windspeed (m/s)\",\"ws_obs\":\"Observed Windspeed (m/s)\"})\n",
    "    fig.update_xaxes(range=[-5,25])\n",
    "    fig.update_yaxes(range=[-5,25])\n",
    "    fig.update_layout(shapes = [{'type': 'line', 'yref': 'paper', 'xref': 'paper', 'y0': 0, 'y1': 1, 'x0': 0, 'x1': 1}])\n",
    "    fig.show()\n",
    "    \n",
    "plot_bc_pointcloud(mdf)"
   ]
  },
  {
   "cell_type": "markdown",
   "id": "c7d67adb",
   "metadata": {},
   "source": [
    "Apply models to WTK data at site locations using NNLS model"
   ]
  },
  {
   "cell_type": "code",
   "execution_count": null,
   "id": "fec61de9",
   "metadata": {},
   "outputs": [],
   "source": [
    "sitewtk = pd.read_csv(\"01 Bergey Turbine Data/wtk.csv.bz2\")\n",
    "sitewtk.head()"
   ]
  },
  {
   "cell_type": "code",
   "execution_count": null,
   "id": "1de016dc",
   "metadata": {},
   "outputs": [],
   "source": [
    "def do_correction(sitewtk,tid,fit):\n",
    "    chunk = sitewtk[sitewtk['tid'] == tid].reset_index()\n",
    "    chunk['datetime'] = pd.to_datetime(chunk['datetime'])\n",
    "    chunk['hour'] = chunk['datetime'].dt.hour\n",
    "    chunk['month'] = chunk['datetime'].dt.month\n",
    "    #chunk[\"ws_bc\"] = res.predict(sm.add_constant(chunk[[\"ws\",\"hour\",\"month\",\"wd\"]]))\n",
    "    chunk[\"ws_bc\"] = fit.predict(chunk[[\"ws\",\"hour\",\"month\",\"wd\"]])\n",
    "    chunk.loc[chunk[\"ws_bc\"] < 0,\"ws_bc\"] = 0\n",
    "    return chunk\n",
    "\n",
    "chunk = do_correction(sitewtk,'t034',fit)\n",
    "bc_dfs.append(chunk)\n",
    "chunk.head()"
   ]
  },
  {
   "cell_type": "code",
   "execution_count": null,
   "id": "8e9412f2",
   "metadata": {},
   "outputs": [],
   "source": [
    "chunk[chunk['ws_bc'] < 0].describe()"
   ]
  },
  {
   "cell_type": "code",
   "execution_count": null,
   "id": "5cb32a92",
   "metadata": {},
   "outputs": [],
   "source": [
    "chunk[chunk['ws_bc'] < 0]"
   ]
  },
  {
   "cell_type": "code",
   "execution_count": null,
   "id": "a99af7af",
   "metadata": {},
   "outputs": [],
   "source": [
    "def plot_correction(chunk):\n",
    "    fig = px.scatter(chunk,x='ws', y='ws_bc',color=\"wd\",labels={'ws':\"WTK Windspeed (mps)\",'ws_bc':\"Bias-Corrected Winspeed\"})\n",
    "    fig.update_xaxes(range=[-5,22])\n",
    "    fig.update_yaxes(range=[-5,22])\n",
    "    fig.update_layout(shapes = [{'type': 'line', 'yref': 'paper', 'xref': 'paper', 'y0': 0, 'y1': 1, 'x0': 0, 'x1': 1}])\n",
    "    fig.show()\n",
    "    \n",
    "plot_correction(chunk)"
   ]
  },
  {
   "cell_type": "code",
   "execution_count": null,
   "id": "72f6368c",
   "metadata": {},
   "outputs": [],
   "source": [
    "chunk['ws_bc'].min()"
   ]
  },
  {
   "cell_type": "markdown",
   "id": "58f546ac",
   "metadata": {},
   "source": [
    "### Site 83 (California)\n",
    "\n",
    "No overlap with wind toolkit, need wind toolkit LED"
   ]
  },
  {
   "cell_type": "code",
   "execution_count": null,
   "id": "a1164f91",
   "metadata": {},
   "outputs": [],
   "source": [
    "mdf = prepare_dataframe('t083',wtk_dfs,sites)\n",
    "mdf.head()"
   ]
  },
  {
   "cell_type": "markdown",
   "id": "55878ea4",
   "metadata": {},
   "source": [
    "### Site 133 (Illinois)"
   ]
  },
  {
   "cell_type": "code",
   "execution_count": null,
   "id": "cbee12cc",
   "metadata": {},
   "outputs": [],
   "source": [
    "mdf = prepare_dataframe('t133',wtk_dfs,sites)\n",
    "mdf.head()"
   ]
  },
  {
   "cell_type": "code",
   "execution_count": null,
   "id": "440fb768",
   "metadata": {},
   "outputs": [],
   "source": [
    "fit = LinearRegression().fit(mdf[[\"ws\",\"hour\",\"month\",\"wd\"]],mdf[\"ws_obs\"])\n",
    "regression_results(fit.predict(mdf[[\"ws\",\"hour\",\"month\",\"wd\"]]),mdf[\"ws_obs\"])"
   ]
  },
  {
   "cell_type": "code",
   "execution_count": null,
   "id": "74a18365",
   "metadata": {},
   "outputs": [],
   "source": [
    "plot_bc_pointcloud(mdf)"
   ]
  },
  {
   "cell_type": "code",
   "execution_count": null,
   "id": "f632e9a1",
   "metadata": {},
   "outputs": [],
   "source": [
    "chunk = do_correction(sitewtk,'t133',fit)\n",
    "bc_dfs.append(chunk)\n",
    "chunk.head()"
   ]
  },
  {
   "cell_type": "code",
   "execution_count": null,
   "id": "b2f702cf",
   "metadata": {
    "scrolled": true
   },
   "outputs": [],
   "source": [
    "plot_correction(chunk)"
   ]
  },
  {
   "cell_type": "markdown",
   "id": "ee392646",
   "metadata": {},
   "source": [
    "### Site 140 (New York)"
   ]
  },
  {
   "cell_type": "code",
   "execution_count": null,
   "id": "9f2e603b",
   "metadata": {},
   "outputs": [],
   "source": [
    "mdf = prepare_dataframe('t140',wtk_dfs,sites)\n",
    "mdf.head()"
   ]
  },
  {
   "cell_type": "code",
   "execution_count": null,
   "id": "0ea99ab7",
   "metadata": {},
   "outputs": [],
   "source": [
    "fit = LinearRegression().fit(mdf[[\"ws\",\"hour\",\"month\",\"wd\"]],mdf[\"ws_obs\"])\n",
    "regression_results(fit.predict(mdf[[\"ws\",\"hour\",\"month\",\"wd\"]]),mdf[\"ws_obs\"])"
   ]
  },
  {
   "cell_type": "code",
   "execution_count": null,
   "id": "839f0d0d",
   "metadata": {},
   "outputs": [],
   "source": [
    "plot_bc_pointcloud(mdf)"
   ]
  },
  {
   "cell_type": "code",
   "execution_count": null,
   "id": "ef1173c7",
   "metadata": {},
   "outputs": [],
   "source": [
    "chunk = do_correction(sitewtk,'t140',fit)\n",
    "bc_dfs.append(chunk)\n",
    "chunk.head()"
   ]
  },
  {
   "cell_type": "code",
   "execution_count": null,
   "id": "7d258e66",
   "metadata": {
    "scrolled": true
   },
   "outputs": [],
   "source": [
    "plot_correction(chunk)"
   ]
  },
  {
   "cell_type": "markdown",
   "id": "b99ca6cb",
   "metadata": {},
   "source": [
    "### Site 170 (Ohio)"
   ]
  },
  {
   "cell_type": "code",
   "execution_count": null,
   "id": "d3890591",
   "metadata": {},
   "outputs": [],
   "source": [
    "mdf = prepare_dataframe('t170',wtk_dfs,sites)\n",
    "mdf.head()"
   ]
  },
  {
   "cell_type": "code",
   "execution_count": null,
   "id": "e01d786c",
   "metadata": {},
   "outputs": [],
   "source": [
    "fit = LinearRegression().fit(mdf[[\"ws\",\"hour\",\"month\",\"wd\"]],mdf[\"ws_obs\"])\n",
    "regression_results(fit.predict(mdf[[\"ws\",\"hour\",\"month\",\"wd\"]]),mdf[\"ws_obs\"])"
   ]
  },
  {
   "cell_type": "code",
   "execution_count": null,
   "id": "2597d643",
   "metadata": {},
   "outputs": [],
   "source": [
    "plot_bc_pointcloud(mdf)"
   ]
  },
  {
   "cell_type": "code",
   "execution_count": null,
   "id": "96b9fe1b",
   "metadata": {},
   "outputs": [],
   "source": [
    "chunk = do_correction(sitewtk,'t170',fit)\n",
    "bc_dfs.append(chunk)\n",
    "chunk.head()"
   ]
  },
  {
   "cell_type": "code",
   "execution_count": null,
   "id": "a09bf808",
   "metadata": {
    "scrolled": true
   },
   "outputs": [],
   "source": [
    "plot_correction(chunk)"
   ]
  },
  {
   "cell_type": "markdown",
   "id": "95d361f0",
   "metadata": {},
   "source": [
    "### Site 183 (Illinois)"
   ]
  },
  {
   "cell_type": "code",
   "execution_count": null,
   "id": "c078dac7",
   "metadata": {},
   "outputs": [],
   "source": [
    "mdf = prepare_dataframe('t183',wtk_dfs,sites)\n",
    "mdf.head()"
   ]
  },
  {
   "cell_type": "code",
   "execution_count": null,
   "id": "47249ca5",
   "metadata": {},
   "outputs": [],
   "source": [
    "fit = LinearRegression().fit(mdf[[\"ws\",\"hour\",\"month\",\"wd\"]],mdf[\"ws_obs\"])\n",
    "regression_results(fit.predict(mdf[[\"ws\",\"hour\",\"month\",\"wd\"]]),mdf[\"ws_obs\"])"
   ]
  },
  {
   "cell_type": "code",
   "execution_count": null,
   "id": "6f347efe",
   "metadata": {},
   "outputs": [],
   "source": [
    "plot_bc_pointcloud(mdf)"
   ]
  },
  {
   "cell_type": "code",
   "execution_count": null,
   "id": "0a6e2b9d",
   "metadata": {},
   "outputs": [],
   "source": [
    "chunk = do_correction(sitewtk,'t183',fit)\n",
    "bc_dfs.append(chunk)\n",
    "chunk.head()"
   ]
  },
  {
   "cell_type": "code",
   "execution_count": null,
   "id": "d66ae96a",
   "metadata": {
    "scrolled": true
   },
   "outputs": [],
   "source": [
    "plot_correction(chunk)"
   ]
  },
  {
   "cell_type": "markdown",
   "id": "205bb326",
   "metadata": {},
   "source": [
    "### Site 192 (Vermont)"
   ]
  },
  {
   "cell_type": "code",
   "execution_count": null,
   "id": "ae7bf764",
   "metadata": {},
   "outputs": [],
   "source": [
    "mdf = prepare_dataframe('t192',wtk_dfs,sites)\n",
    "mdf.head()"
   ]
  },
  {
   "cell_type": "code",
   "execution_count": null,
   "id": "af28f06f",
   "metadata": {},
   "outputs": [],
   "source": [
    "fit = LinearRegression().fit(mdf[[\"ws\",\"hour\",\"month\",\"wd\"]],mdf[\"ws_obs\"])\n",
    "regression_results(fit.predict(mdf[[\"ws\",\"hour\",\"month\",\"wd\"]]),mdf[\"ws_obs\"])"
   ]
  },
  {
   "cell_type": "code",
   "execution_count": null,
   "id": "447b8681",
   "metadata": {},
   "outputs": [],
   "source": [
    "plot_bc_pointcloud(mdf)"
   ]
  },
  {
   "cell_type": "code",
   "execution_count": null,
   "id": "a641cdc0",
   "metadata": {},
   "outputs": [],
   "source": [
    "chunk = do_correction(sitewtk,'t192',fit)\n",
    "bc_dfs.append(chunk)\n",
    "chunk.head()"
   ]
  },
  {
   "cell_type": "code",
   "execution_count": null,
   "id": "6a54797e",
   "metadata": {
    "scrolled": true
   },
   "outputs": [],
   "source": [
    "plot_correction(chunk)"
   ]
  },
  {
   "cell_type": "markdown",
   "id": "cfac8a91",
   "metadata": {},
   "source": [
    "### Site 207 (Illinois)"
   ]
  },
  {
   "cell_type": "code",
   "execution_count": null,
   "id": "5164bf79",
   "metadata": {},
   "outputs": [],
   "source": [
    "mdf = prepare_dataframe('t207',wtk_dfs,sites)\n",
    "mdf.head()"
   ]
  },
  {
   "cell_type": "code",
   "execution_count": null,
   "id": "31553a10",
   "metadata": {},
   "outputs": [],
   "source": [
    "fit = LinearRegression().fit(mdf[[\"ws\",\"hour\",\"month\",\"wd\"]],mdf[\"ws_obs\"])\n",
    "regression_results(fit.predict(mdf[[\"ws\",\"hour\",\"month\",\"wd\"]]),mdf[\"ws_obs\"])"
   ]
  },
  {
   "cell_type": "code",
   "execution_count": null,
   "id": "320ec7ec",
   "metadata": {},
   "outputs": [],
   "source": [
    "plot_bc_pointcloud(mdf)"
   ]
  },
  {
   "cell_type": "code",
   "execution_count": null,
   "id": "f9246051",
   "metadata": {},
   "outputs": [],
   "source": [
    "chunk = do_correction(sitewtk,'t207',fit)\n",
    "bc_dfs.append(chunk)\n",
    "chunk.head()"
   ]
  },
  {
   "cell_type": "code",
   "execution_count": null,
   "id": "a59d69b0",
   "metadata": {
    "scrolled": false
   },
   "outputs": [],
   "source": [
    "plot_correction(chunk)"
   ]
  },
  {
   "cell_type": "markdown",
   "id": "51f86a2a",
   "metadata": {},
   "source": [
    "## Save Bias Corrected Version"
   ]
  },
  {
   "cell_type": "code",
   "execution_count": null,
   "id": "df29b3d5",
   "metadata": {},
   "outputs": [],
   "source": [
    "bcdf = pd.concat(bc_dfs)\n",
    "del bcdf['packet_date']\n",
    "bcdf.head()"
   ]
  },
  {
   "cell_type": "code",
   "execution_count": null,
   "id": "23a7a389",
   "metadata": {},
   "outputs": [],
   "source": [
    "bcdf.to_csv(\"02 Bias Correction/wtk_bc.csv.bz2\")"
   ]
  }
 ],
 "metadata": {
  "kernelspec": {
   "display_name": "Python 3 (ipykernel)",
   "language": "python",
   "name": "python3"
  },
  "language_info": {
   "codemirror_mode": {
    "name": "ipython",
    "version": 3
   },
   "file_extension": ".py",
   "mimetype": "text/x-python",
   "name": "python",
   "nbconvert_exporter": "python",
   "pygments_lexer": "ipython3",
   "version": "3.8.16"
  }
 },
 "nbformat": 4,
 "nbformat_minor": 5
}
