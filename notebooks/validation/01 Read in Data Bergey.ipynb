{
 "cells": [
  {
   "cell_type": "markdown",
   "id": "8a171759-498a-4764-a6af-1db425889016",
   "metadata": {},
   "source": [
    "Jenna Ruzekowicz (jenna.ruzekowicz@nrel.gov) and Caleb Phillips (caleb.phillips@nrel.gov)\n",
    "\n",
    "The purpose of this notebook is to read in two sets of data over the same time period for comparison:\n",
    "1) WTK-LED data\n",
    "2) Either: \n",
    "    a) power output and/or wind speed data from turbine(s) \n",
    "    b) wind speed measurements from met tower(s)\n",
    "\n",
    "Data sets are matched on location and time stamp.\n",
    "\n",
    "A combined and labeled dataframe will be exported to a csv file in the \"01Data\" folder. The naming convention for the csv file will be as follows: source_lat_lon_startdate_enddate.csv\n",
    "where source is either \"bergey\", \"oneenergy\"..."
   ]
  },
  {
   "cell_type": "markdown",
   "id": "5e55fa66-f649-44db-af06-9dd49f941cf9",
   "metadata": {},
   "source": [
    "Notes: \n",
    "Might need to install Rex if it isn't installed already:\n",
    "conda install nrel-rex --channel=nrel\n",
    "\n",
    "More about rex: https://github.com/NREL/rex\n",
    "2018 5-min monthly h5 (the file you referenced on the 21st):\n",
    "/campaign/tap/CONUS/wtk/5min/2018/{month}/conus_2018-{month}.h5\n",
    " \n",
    "2018 5-min yearly h5 slices:\n",
    "/shared-projects/wtk-led/CONUS/wtk/2018/yearly_h5/conus_2018_{height}m.h5\n",
    " \n",
    "2019 60-min yearly h5:\n",
    "/campaign/tap/CONUS/wtk/60min/2019/conus_2019.h5"
   ]
  },
  {
   "cell_type": "code",
   "execution_count": 18,
   "id": "8eb19799-e2a7-41e5-89ef-ca1f2d546735",
   "metadata": {},
   "outputs": [],
   "source": [
    "import numpy as np\n",
    "import pandas as pd\n",
    "import geopandas as gpd\n",
    "from rex.resource_extraction import MultiYearWindX\n",
    "#from dw_tap.data_fetching import get_data_wtk_led_on_eagle # does not seem to exist in the current package version\n",
    "from tqdm import tqdm\n",
    "import plotly.express as px\n",
    "from scipy.interpolate import interp1d\n",
    "import plotly.graph_objects as go"
   ]
  },
  {
   "cell_type": "markdown",
   "id": "b72c2ef0",
   "metadata": {},
   "source": [
    "### Read in per-turbine data, merge and resample to 5 minutes"
   ]
  },
  {
   "cell_type": "code",
   "execution_count": 6,
   "id": "37c41f4f-fbc7-44ec-873d-0b62ec1485e0",
   "metadata": {},
   "outputs": [
    {
     "data": {
      "text/html": [
       "<div>\n",
       "<style scoped>\n",
       "    .dataframe tbody tr th:only-of-type {\n",
       "        vertical-align: middle;\n",
       "    }\n",
       "\n",
       "    .dataframe tbody tr th {\n",
       "        vertical-align: top;\n",
       "    }\n",
       "\n",
       "    .dataframe thead th {\n",
       "        text-align: right;\n",
       "    }\n",
       "</style>\n",
       "<table border=\"1\" class=\"dataframe\">\n",
       "  <thead>\n",
       "    <tr style=\"text-align: right;\">\n",
       "      <th></th>\n",
       "      <th>APRS ID</th>\n",
       "      <th>Public Site Name</th>\n",
       "      <th>Internal Site Name</th>\n",
       "      <th>State</th>\n",
       "      <th>Latitude</th>\n",
       "      <th>Longitude</th>\n",
       "      <th>Hub Height (m)</th>\n",
       "      <th>Turbine</th>\n",
       "      <th>Periods with Consistent Generation Data</th>\n",
       "      <th>Met Tower</th>\n",
       "      <th>Met Tower Latitude</th>\n",
       "      <th>Met Tower Longitude</th>\n",
       "      <th>Measurement Height (m)</th>\n",
       "    </tr>\n",
       "  </thead>\n",
       "  <tbody>\n",
       "    <tr>\n",
       "      <th>0</th>\n",
       "      <td>t007</td>\n",
       "      <td>Fremont</td>\n",
       "      <td>Fremont</td>\n",
       "      <td>MN</td>\n",
       "      <td>43.918622</td>\n",
       "      <td>-91.899498</td>\n",
       "      <td>41</td>\n",
       "      <td>Bergey Excel 10</td>\n",
       "      <td>2012/01 - 2013/12 (outage starting mid-2013/11...</td>\n",
       "      <td>NaN</td>\n",
       "      <td>NaN</td>\n",
       "      <td>NaN</td>\n",
       "      <td>NaN</td>\n",
       "    </tr>\n",
       "    <tr>\n",
       "      <th>1</th>\n",
       "      <td>t024</td>\n",
       "      <td>Washoe</td>\n",
       "      <td>Thomas Danzinger</td>\n",
       "      <td>NV</td>\n",
       "      <td>39.331088</td>\n",
       "      <td>-119.820234</td>\n",
       "      <td>30</td>\n",
       "      <td>Bergey Excel 10</td>\n",
       "      <td>2011/01 - 2022/12</td>\n",
       "      <td>NaN</td>\n",
       "      <td>NaN</td>\n",
       "      <td>NaN</td>\n",
       "      <td>NaN</td>\n",
       "    </tr>\n",
       "    <tr>\n",
       "      <th>2</th>\n",
       "      <td>t028</td>\n",
       "      <td>Towamensing</td>\n",
       "      <td>Derr</td>\n",
       "      <td>PA</td>\n",
       "      <td>40.851353</td>\n",
       "      <td>-75.598395</td>\n",
       "      <td>30</td>\n",
       "      <td>Bergey Excel 10</td>\n",
       "      <td>2011/01 - 2022/12</td>\n",
       "      <td>NaN</td>\n",
       "      <td>NaN</td>\n",
       "      <td>NaN</td>\n",
       "      <td>NaN</td>\n",
       "    </tr>\n",
       "    <tr>\n",
       "      <th>3</th>\n",
       "      <td>t034</td>\n",
       "      <td>Lycoming</td>\n",
       "      <td>Dan Poor</td>\n",
       "      <td>NY</td>\n",
       "      <td>43.524158</td>\n",
       "      <td>-76.372290</td>\n",
       "      <td>31</td>\n",
       "      <td>Bergey Excel 10</td>\n",
       "      <td>2013/01 - 2017/12, 2019/01 - 2021/12</td>\n",
       "      <td>Oswego</td>\n",
       "      <td>43.464</td>\n",
       "      <td>-76.511</td>\n",
       "      <td>15.0</td>\n",
       "    </tr>\n",
       "    <tr>\n",
       "      <th>4</th>\n",
       "      <td>t041</td>\n",
       "      <td>Rockford</td>\n",
       "      <td>Fossil Park</td>\n",
       "      <td>IA</td>\n",
       "      <td>43.047418</td>\n",
       "      <td>-92.981674</td>\n",
       "      <td>37</td>\n",
       "      <td>Bergey Excel 10</td>\n",
       "      <td>2013/01 - 2013/12, 2015/01 - 2022/12</td>\n",
       "      <td>NaN</td>\n",
       "      <td>NaN</td>\n",
       "      <td>NaN</td>\n",
       "      <td>NaN</td>\n",
       "    </tr>\n",
       "  </tbody>\n",
       "</table>\n",
       "</div>"
      ],
      "text/plain": [
       "  APRS ID Public Site Name Internal Site Name State   Latitude   Longitude  \\\n",
       "0    t007          Fremont            Fremont    MN  43.918622  -91.899498   \n",
       "1    t024           Washoe   Thomas Danzinger    NV  39.331088 -119.820234   \n",
       "2    t028      Towamensing               Derr    PA  40.851353  -75.598395   \n",
       "3    t034         Lycoming           Dan Poor    NY  43.524158  -76.372290   \n",
       "4    t041         Rockford        Fossil Park    IA  43.047418  -92.981674   \n",
       "\n",
       "   Hub Height (m)          Turbine  \\\n",
       "0              41  Bergey Excel 10   \n",
       "1              30  Bergey Excel 10   \n",
       "2              30  Bergey Excel 10   \n",
       "3              31  Bergey Excel 10   \n",
       "4              37  Bergey Excel 10   \n",
       "\n",
       "             Periods with Consistent Generation Data Met Tower  \\\n",
       "0  2012/01 - 2013/12 (outage starting mid-2013/11...       NaN   \n",
       "1                                  2011/01 - 2022/12       NaN   \n",
       "2                                  2011/01 - 2022/12       NaN   \n",
       "3               2013/01 - 2017/12, 2019/01 - 2021/12    Oswego   \n",
       "4               2013/01 - 2013/12, 2015/01 - 2022/12       NaN   \n",
       "\n",
       "   Met Tower Latitude  Met Tower Longitude  Measurement Height (m)  \n",
       "0                 NaN                  NaN                     NaN  \n",
       "1                 NaN                  NaN                     NaN  \n",
       "2                 NaN                  NaN                     NaN  \n",
       "3              43.464              -76.511                    15.0  \n",
       "4                 NaN                  NaN                     NaN  "
      ]
     },
     "execution_count": 6,
     "metadata": {},
     "output_type": "execute_result"
    }
   ],
   "source": [
    "index = pd.read_csv(\"01 Bergey Turbine Data/bergey_sites.csv\")\n",
    "index.head()"
   ]
  },
  {
   "cell_type": "code",
   "execution_count": null,
   "id": "cb62567f",
   "metadata": {},
   "outputs": [],
   "source": [
    "# Guessing what system state means...\n",
    "# 9 = online, generating\n",
    "# 7,5,6,4,14,12,8,11 = curtailed or offline"
   ]
  },
  {
   "cell_type": "code",
   "execution_count": 61,
   "id": "f2d257c6",
   "metadata": {},
   "outputs": [
    {
     "name": "stderr",
     "output_type": "stream",
     "text": [
      "100%|███████████████████████████████████████████| 19/19 [03:50<00:00, 12.11s/it]\n"
     ]
    }
   ],
   "source": [
    "dfs = []\n",
    "for i in tqdm(index[\"APRS ID\"]):\n",
    "    dc = pd.read_csv(\"01 Bergey Turbine Data/%s.txt\" % i,usecols=[\"packet_date\",\"system_state\",\"output_power\"])\n",
    "    # FIXME: keeping only data where system state == 9, is this okay?\n",
    "    dc = dc[dc.system_state == 9]\n",
    "    # FIXME: I'm not sure what timezone packet_date is in or whether we need this line\n",
    "    dc[\"packet_date\"] = pd.to_datetime(dc[\"packet_date\"]).dt.tz_localize('UTC')\n",
    "    # Resample to 5 minutes to align with wind toolkit data\n",
    "    dc = dc.resample(\"5T\",on=\"packet_date\").agg({ 'output_power': ['mean',list] }).reset_index()\n",
    "    # Simplify column names\n",
    "    dc.columns = [\"packet_date\",\"output_power_mean\",\"output_power_list\"]\n",
    "    dc[\"tid\"] = i\n",
    "    dfs.append(dc)"
   ]
  },
  {
   "cell_type": "code",
   "execution_count": 62,
   "id": "511c87da",
   "metadata": {},
   "outputs": [
    {
     "data": {
      "text/html": [
       "<div>\n",
       "<style scoped>\n",
       "    .dataframe tbody tr th:only-of-type {\n",
       "        vertical-align: middle;\n",
       "    }\n",
       "\n",
       "    .dataframe tbody tr th {\n",
       "        vertical-align: top;\n",
       "    }\n",
       "\n",
       "    .dataframe thead th {\n",
       "        text-align: right;\n",
       "    }\n",
       "</style>\n",
       "<table border=\"1\" class=\"dataframe\">\n",
       "  <thead>\n",
       "    <tr style=\"text-align: right;\">\n",
       "      <th></th>\n",
       "      <th>packet_date</th>\n",
       "      <th>output_power_mean</th>\n",
       "      <th>output_power_list</th>\n",
       "      <th>tid</th>\n",
       "    </tr>\n",
       "  </thead>\n",
       "  <tbody>\n",
       "    <tr>\n",
       "      <th>0</th>\n",
       "      <td>2018-06-30 00:00:00+00:00</td>\n",
       "      <td>1841.533333</td>\n",
       "      <td>[4549, 3890, 1974, 1506, 1017, 1521, 1772, 102...</td>\n",
       "      <td>t007</td>\n",
       "    </tr>\n",
       "    <tr>\n",
       "      <th>1</th>\n",
       "      <td>2018-06-30 00:05:00+00:00</td>\n",
       "      <td>1855.800000</td>\n",
       "      <td>[957, 1124, 2295, 3253, 3073, 2366, 1592, 2020...</td>\n",
       "      <td>t007</td>\n",
       "    </tr>\n",
       "    <tr>\n",
       "      <th>2</th>\n",
       "      <td>2018-06-30 00:10:00+00:00</td>\n",
       "      <td>1355.800000</td>\n",
       "      <td>[1095, 286, 400, 271, 462, 275, 291, 153, 2397...</td>\n",
       "      <td>t007</td>\n",
       "    </tr>\n",
       "    <tr>\n",
       "      <th>3</th>\n",
       "      <td>2018-06-30 00:15:00+00:00</td>\n",
       "      <td>1495.933333</td>\n",
       "      <td>[966, 856, 882, 535, 539, 3131, 1868, 1318, 17...</td>\n",
       "      <td>t007</td>\n",
       "    </tr>\n",
       "    <tr>\n",
       "      <th>4</th>\n",
       "      <td>2018-06-30 00:20:00+00:00</td>\n",
       "      <td>1740.300000</td>\n",
       "      <td>[2543, 2119, 880, 1731, 2749, 1717, 921, 818, ...</td>\n",
       "      <td>t007</td>\n",
       "    </tr>\n",
       "  </tbody>\n",
       "</table>\n",
       "</div>"
      ],
      "text/plain": [
       "                packet_date  output_power_mean  \\\n",
       "0 2018-06-30 00:00:00+00:00        1841.533333   \n",
       "1 2018-06-30 00:05:00+00:00        1855.800000   \n",
       "2 2018-06-30 00:10:00+00:00        1355.800000   \n",
       "3 2018-06-30 00:15:00+00:00        1495.933333   \n",
       "4 2018-06-30 00:20:00+00:00        1740.300000   \n",
       "\n",
       "                                   output_power_list   tid  \n",
       "0  [4549, 3890, 1974, 1506, 1017, 1521, 1772, 102...  t007  \n",
       "1  [957, 1124, 2295, 3253, 3073, 2366, 1592, 2020...  t007  \n",
       "2  [1095, 286, 400, 271, 462, 275, 291, 153, 2397...  t007  \n",
       "3  [966, 856, 882, 535, 539, 3131, 1868, 1318, 17...  t007  \n",
       "4  [2543, 2119, 880, 1731, 2749, 1717, 921, 818, ...  t007  "
      ]
     },
     "execution_count": 62,
     "metadata": {},
     "output_type": "execute_result"
    }
   ],
   "source": [
    "bergey_data = pd.concat(dfs)\n",
    "bergey_data.head()"
   ]
  },
  {
   "cell_type": "markdown",
   "id": "77bde0c1",
   "metadata": {},
   "source": [
    "### Use Power-curve to try to reverse out windspeed"
   ]
  },
  {
   "cell_type": "code",
   "execution_count": 95,
   "id": "025c1412",
   "metadata": {},
   "outputs": [
    {
     "data": {
      "text/html": [
       "<div>\n",
       "<style scoped>\n",
       "    .dataframe tbody tr th:only-of-type {\n",
       "        vertical-align: middle;\n",
       "    }\n",
       "\n",
       "    .dataframe tbody tr th {\n",
       "        vertical-align: top;\n",
       "    }\n",
       "\n",
       "    .dataframe thead th {\n",
       "        text-align: right;\n",
       "    }\n",
       "</style>\n",
       "<table border=\"1\" class=\"dataframe\">\n",
       "  <thead>\n",
       "    <tr style=\"text-align: right;\">\n",
       "      <th></th>\n",
       "      <th>windspeed</th>\n",
       "      <th>power_kwh</th>\n",
       "    </tr>\n",
       "  </thead>\n",
       "  <tbody>\n",
       "    <tr>\n",
       "      <th>0</th>\n",
       "      <td>0.0</td>\n",
       "      <td>-0.012</td>\n",
       "    </tr>\n",
       "    <tr>\n",
       "      <th>1</th>\n",
       "      <td>0.5</td>\n",
       "      <td>-0.012</td>\n",
       "    </tr>\n",
       "    <tr>\n",
       "      <th>2</th>\n",
       "      <td>1.0</td>\n",
       "      <td>-0.012</td>\n",
       "    </tr>\n",
       "    <tr>\n",
       "      <th>3</th>\n",
       "      <td>1.5</td>\n",
       "      <td>-0.011</td>\n",
       "    </tr>\n",
       "    <tr>\n",
       "      <th>4</th>\n",
       "      <td>2.0</td>\n",
       "      <td>0.000</td>\n",
       "    </tr>\n",
       "    <tr>\n",
       "      <th>5</th>\n",
       "      <td>2.5</td>\n",
       "      <td>0.039</td>\n",
       "    </tr>\n",
       "    <tr>\n",
       "      <th>6</th>\n",
       "      <td>3.0</td>\n",
       "      <td>0.102</td>\n",
       "    </tr>\n",
       "    <tr>\n",
       "      <th>7</th>\n",
       "      <td>3.5</td>\n",
       "      <td>0.229</td>\n",
       "    </tr>\n",
       "    <tr>\n",
       "      <th>8</th>\n",
       "      <td>4.0</td>\n",
       "      <td>0.399</td>\n",
       "    </tr>\n",
       "    <tr>\n",
       "      <th>9</th>\n",
       "      <td>4.5</td>\n",
       "      <td>0.596</td>\n",
       "    </tr>\n",
       "    <tr>\n",
       "      <th>10</th>\n",
       "      <td>5.0</td>\n",
       "      <td>0.848</td>\n",
       "    </tr>\n",
       "    <tr>\n",
       "      <th>11</th>\n",
       "      <td>5.5</td>\n",
       "      <td>1.151</td>\n",
       "    </tr>\n",
       "    <tr>\n",
       "      <th>12</th>\n",
       "      <td>6.0</td>\n",
       "      <td>1.510</td>\n",
       "    </tr>\n",
       "    <tr>\n",
       "      <th>13</th>\n",
       "      <td>6.5</td>\n",
       "      <td>1.938</td>\n",
       "    </tr>\n",
       "    <tr>\n",
       "      <th>14</th>\n",
       "      <td>7.0</td>\n",
       "      <td>2.403</td>\n",
       "    </tr>\n",
       "    <tr>\n",
       "      <th>15</th>\n",
       "      <td>7.5</td>\n",
       "      <td>2.949</td>\n",
       "    </tr>\n",
       "    <tr>\n",
       "      <th>16</th>\n",
       "      <td>8.0</td>\n",
       "      <td>3.602</td>\n",
       "    </tr>\n",
       "    <tr>\n",
       "      <th>17</th>\n",
       "      <td>8.5</td>\n",
       "      <td>4.306</td>\n",
       "    </tr>\n",
       "    <tr>\n",
       "      <th>18</th>\n",
       "      <td>9.0</td>\n",
       "      <td>5.071</td>\n",
       "    </tr>\n",
       "    <tr>\n",
       "      <th>19</th>\n",
       "      <td>9.5</td>\n",
       "      <td>5.960</td>\n",
       "    </tr>\n",
       "    <tr>\n",
       "      <th>20</th>\n",
       "      <td>10.0</td>\n",
       "      <td>6.856</td>\n",
       "    </tr>\n",
       "    <tr>\n",
       "      <th>21</th>\n",
       "      <td>10.5</td>\n",
       "      <td>7.849</td>\n",
       "    </tr>\n",
       "    <tr>\n",
       "      <th>22</th>\n",
       "      <td>11.0</td>\n",
       "      <td>8.863</td>\n",
       "    </tr>\n",
       "    <tr>\n",
       "      <th>23</th>\n",
       "      <td>11.5</td>\n",
       "      <td>9.928</td>\n",
       "    </tr>\n",
       "    <tr>\n",
       "      <th>24</th>\n",
       "      <td>12.0</td>\n",
       "      <td>10.885</td>\n",
       "    </tr>\n",
       "    <tr>\n",
       "      <th>25</th>\n",
       "      <td>12.5</td>\n",
       "      <td>11.619</td>\n",
       "    </tr>\n",
       "    <tr>\n",
       "      <th>26</th>\n",
       "      <td>13.0</td>\n",
       "      <td>12.019</td>\n",
       "    </tr>\n",
       "    <tr>\n",
       "      <th>27</th>\n",
       "      <td>13.5</td>\n",
       "      <td>12.276</td>\n",
       "    </tr>\n",
       "    <tr>\n",
       "      <th>28</th>\n",
       "      <td>14.0</td>\n",
       "      <td>12.395</td>\n",
       "    </tr>\n",
       "    <tr>\n",
       "      <th>29</th>\n",
       "      <td>14.5</td>\n",
       "      <td>12.449</td>\n",
       "    </tr>\n",
       "    <tr>\n",
       "      <th>30</th>\n",
       "      <td>15.0</td>\n",
       "      <td>12.495</td>\n",
       "    </tr>\n",
       "    <tr>\n",
       "      <th>31</th>\n",
       "      <td>15.5</td>\n",
       "      <td>12.508</td>\n",
       "    </tr>\n",
       "    <tr>\n",
       "      <th>32</th>\n",
       "      <td>16.0</td>\n",
       "      <td>12.546</td>\n",
       "    </tr>\n",
       "    <tr>\n",
       "      <th>33</th>\n",
       "      <td>16.5</td>\n",
       "      <td>12.555</td>\n",
       "    </tr>\n",
       "    <tr>\n",
       "      <th>34</th>\n",
       "      <td>17.0</td>\n",
       "      <td>12.503</td>\n",
       "    </tr>\n",
       "    <tr>\n",
       "      <th>35</th>\n",
       "      <td>17.5</td>\n",
       "      <td>12.528</td>\n",
       "    </tr>\n",
       "    <tr>\n",
       "      <th>36</th>\n",
       "      <td>18.0</td>\n",
       "      <td>12.442</td>\n",
       "    </tr>\n",
       "    <tr>\n",
       "      <th>37</th>\n",
       "      <td>18.5</td>\n",
       "      <td>12.396</td>\n",
       "    </tr>\n",
       "    <tr>\n",
       "      <th>38</th>\n",
       "      <td>19.0</td>\n",
       "      <td>12.208</td>\n",
       "    </tr>\n",
       "    <tr>\n",
       "      <th>39</th>\n",
       "      <td>19.5</td>\n",
       "      <td>11.878</td>\n",
       "    </tr>\n",
       "    <tr>\n",
       "      <th>40</th>\n",
       "      <td>20.0</td>\n",
       "      <td>11.989</td>\n",
       "    </tr>\n",
       "    <tr>\n",
       "      <th>41</th>\n",
       "      <td>20.5</td>\n",
       "      <td>11.495</td>\n",
       "    </tr>\n",
       "  </tbody>\n",
       "</table>\n",
       "</div>"
      ],
      "text/plain": [
       "    windspeed  power_kwh\n",
       "0         0.0     -0.012\n",
       "1         0.5     -0.012\n",
       "2         1.0     -0.012\n",
       "3         1.5     -0.011\n",
       "4         2.0      0.000\n",
       "5         2.5      0.039\n",
       "6         3.0      0.102\n",
       "7         3.5      0.229\n",
       "8         4.0      0.399\n",
       "9         4.5      0.596\n",
       "10        5.0      0.848\n",
       "11        5.5      1.151\n",
       "12        6.0      1.510\n",
       "13        6.5      1.938\n",
       "14        7.0      2.403\n",
       "15        7.5      2.949\n",
       "16        8.0      3.602\n",
       "17        8.5      4.306\n",
       "18        9.0      5.071\n",
       "19        9.5      5.960\n",
       "20       10.0      6.856\n",
       "21       10.5      7.849\n",
       "22       11.0      8.863\n",
       "23       11.5      9.928\n",
       "24       12.0     10.885\n",
       "25       12.5     11.619\n",
       "26       13.0     12.019\n",
       "27       13.5     12.276\n",
       "28       14.0     12.395\n",
       "29       14.5     12.449\n",
       "30       15.0     12.495\n",
       "31       15.5     12.508\n",
       "32       16.0     12.546\n",
       "33       16.5     12.555\n",
       "34       17.0     12.503\n",
       "35       17.5     12.528\n",
       "36       18.0     12.442\n",
       "37       18.5     12.396\n",
       "38       19.0     12.208\n",
       "39       19.5     11.878\n",
       "40       20.0     11.989\n",
       "41       20.5     11.495"
      ]
     },
     "execution_count": 95,
     "metadata": {},
     "output_type": "execute_result"
    }
   ],
   "source": [
    "powercurve = pd.read_csv(\"../../bergey/bergey_excel10_powercurve.csv\")\n",
    "powercurve.columns = [\"windspeed\",\"power_kwh\"]\n",
    "powercurve_intrp = interp1d(powercurve[\"windspeed\"], powercurve[\"windspeed\"], kind='cubic')\n",
    "powercurve"
   ]
  },
  {
   "cell_type": "code",
   "execution_count": 96,
   "id": "bb3e6620",
   "metadata": {},
   "outputs": [
    {
     "data": {
      "application/vnd.plotly.v1+json": {
       "config": {
        "plotlyServerURL": "https://plot.ly"
       },
       "data": [
        {
         "hovertemplate": "Windspeed (m/s)=%{x}<br>Power (W)=%{y}<extra></extra>",
         "legendgroup": "",
         "line": {
          "color": "#636efa",
          "dash": "solid"
         },
         "marker": {
          "symbol": "circle"
         },
         "mode": "lines",
         "name": "",
         "orientation": "v",
         "showlegend": false,
         "type": "scatter",
         "x": [
          0,
          0.5,
          1,
          1.5,
          2,
          2.5,
          3,
          3.5,
          4,
          4.5,
          5,
          5.5,
          6,
          6.5,
          7,
          7.5,
          8,
          8.5,
          9,
          9.5,
          10,
          10.5,
          11,
          11.5,
          12,
          12.5,
          13,
          13.5,
          14,
          14.5,
          15,
          15.5,
          16,
          16.5,
          17,
          17.5,
          18,
          18.5,
          19,
          19.5,
          20,
          20.5
         ],
         "xaxis": "x",
         "y": [
          0,
          0.5,
          1,
          1.5000000000000002,
          1.9999999999999998,
          2.5,
          3.0000000000000004,
          3.5,
          4,
          4.5,
          5.000000000000001,
          5.5,
          6,
          6.5,
          7,
          7.5,
          8.000000000000002,
          8.5,
          9.000000000000002,
          9.5,
          10.000000000000002,
          10.500000000000002,
          11,
          11.500000000000002,
          12.000000000000002,
          12.5,
          13.000000000000002,
          13.500000000000002,
          14.000000000000004,
          14.500000000000002,
          15,
          15.5,
          16,
          16.5,
          17,
          17.5,
          18,
          18.500000000000004,
          19,
          19.5,
          20.000000000000004,
          20.5
         ],
         "yaxis": "y"
        },
        {
         "mode": "markers",
         "name": "Data",
         "type": "scatter",
         "x": [
          0,
          0.5,
          1,
          1.5,
          2,
          2.5,
          3,
          3.5,
          4,
          4.5,
          5,
          5.5,
          6,
          6.5,
          7,
          7.5,
          8,
          8.5,
          9,
          9.5,
          10,
          10.5,
          11,
          11.5,
          12,
          12.5,
          13,
          13.5,
          14,
          14.5,
          15,
          15.5,
          16,
          16.5,
          17,
          17.5,
          18,
          18.5,
          19,
          19.5,
          20,
          20.5
         ],
         "y": [
          0,
          0.5,
          1,
          1.5,
          2,
          2.5,
          3,
          3.5,
          4,
          4.5,
          5,
          5.5,
          6,
          6.5,
          7,
          7.5,
          8,
          8.5,
          9,
          9.5,
          10,
          10.5,
          11,
          11.5,
          12,
          12.5,
          13,
          13.5,
          14,
          14.5,
          15,
          15.5,
          16,
          16.5,
          17,
          17.5,
          18,
          18.5,
          19,
          19.5,
          20,
          20.5
         ]
        }
       ],
       "layout": {
        "legend": {
         "tracegroupgap": 0
        },
        "margin": {
         "t": 60
        },
        "template": {
         "data": {
          "bar": [
           {
            "error_x": {
             "color": "#2a3f5f"
            },
            "error_y": {
             "color": "#2a3f5f"
            },
            "marker": {
             "line": {
              "color": "#E5ECF6",
              "width": 0.5
             },
             "pattern": {
              "fillmode": "overlay",
              "size": 10,
              "solidity": 0.2
             }
            },
            "type": "bar"
           }
          ],
          "barpolar": [
           {
            "marker": {
             "line": {
              "color": "#E5ECF6",
              "width": 0.5
             },
             "pattern": {
              "fillmode": "overlay",
              "size": 10,
              "solidity": 0.2
             }
            },
            "type": "barpolar"
           }
          ],
          "carpet": [
           {
            "aaxis": {
             "endlinecolor": "#2a3f5f",
             "gridcolor": "white",
             "linecolor": "white",
             "minorgridcolor": "white",
             "startlinecolor": "#2a3f5f"
            },
            "baxis": {
             "endlinecolor": "#2a3f5f",
             "gridcolor": "white",
             "linecolor": "white",
             "minorgridcolor": "white",
             "startlinecolor": "#2a3f5f"
            },
            "type": "carpet"
           }
          ],
          "choropleth": [
           {
            "colorbar": {
             "outlinewidth": 0,
             "ticks": ""
            },
            "type": "choropleth"
           }
          ],
          "contour": [
           {
            "colorbar": {
             "outlinewidth": 0,
             "ticks": ""
            },
            "colorscale": [
             [
              0,
              "#0d0887"
             ],
             [
              0.1111111111111111,
              "#46039f"
             ],
             [
              0.2222222222222222,
              "#7201a8"
             ],
             [
              0.3333333333333333,
              "#9c179e"
             ],
             [
              0.4444444444444444,
              "#bd3786"
             ],
             [
              0.5555555555555556,
              "#d8576b"
             ],
             [
              0.6666666666666666,
              "#ed7953"
             ],
             [
              0.7777777777777778,
              "#fb9f3a"
             ],
             [
              0.8888888888888888,
              "#fdca26"
             ],
             [
              1,
              "#f0f921"
             ]
            ],
            "type": "contour"
           }
          ],
          "contourcarpet": [
           {
            "colorbar": {
             "outlinewidth": 0,
             "ticks": ""
            },
            "type": "contourcarpet"
           }
          ],
          "heatmap": [
           {
            "colorbar": {
             "outlinewidth": 0,
             "ticks": ""
            },
            "colorscale": [
             [
              0,
              "#0d0887"
             ],
             [
              0.1111111111111111,
              "#46039f"
             ],
             [
              0.2222222222222222,
              "#7201a8"
             ],
             [
              0.3333333333333333,
              "#9c179e"
             ],
             [
              0.4444444444444444,
              "#bd3786"
             ],
             [
              0.5555555555555556,
              "#d8576b"
             ],
             [
              0.6666666666666666,
              "#ed7953"
             ],
             [
              0.7777777777777778,
              "#fb9f3a"
             ],
             [
              0.8888888888888888,
              "#fdca26"
             ],
             [
              1,
              "#f0f921"
             ]
            ],
            "type": "heatmap"
           }
          ],
          "heatmapgl": [
           {
            "colorbar": {
             "outlinewidth": 0,
             "ticks": ""
            },
            "colorscale": [
             [
              0,
              "#0d0887"
             ],
             [
              0.1111111111111111,
              "#46039f"
             ],
             [
              0.2222222222222222,
              "#7201a8"
             ],
             [
              0.3333333333333333,
              "#9c179e"
             ],
             [
              0.4444444444444444,
              "#bd3786"
             ],
             [
              0.5555555555555556,
              "#d8576b"
             ],
             [
              0.6666666666666666,
              "#ed7953"
             ],
             [
              0.7777777777777778,
              "#fb9f3a"
             ],
             [
              0.8888888888888888,
              "#fdca26"
             ],
             [
              1,
              "#f0f921"
             ]
            ],
            "type": "heatmapgl"
           }
          ],
          "histogram": [
           {
            "marker": {
             "pattern": {
              "fillmode": "overlay",
              "size": 10,
              "solidity": 0.2
             }
            },
            "type": "histogram"
           }
          ],
          "histogram2d": [
           {
            "colorbar": {
             "outlinewidth": 0,
             "ticks": ""
            },
            "colorscale": [
             [
              0,
              "#0d0887"
             ],
             [
              0.1111111111111111,
              "#46039f"
             ],
             [
              0.2222222222222222,
              "#7201a8"
             ],
             [
              0.3333333333333333,
              "#9c179e"
             ],
             [
              0.4444444444444444,
              "#bd3786"
             ],
             [
              0.5555555555555556,
              "#d8576b"
             ],
             [
              0.6666666666666666,
              "#ed7953"
             ],
             [
              0.7777777777777778,
              "#fb9f3a"
             ],
             [
              0.8888888888888888,
              "#fdca26"
             ],
             [
              1,
              "#f0f921"
             ]
            ],
            "type": "histogram2d"
           }
          ],
          "histogram2dcontour": [
           {
            "colorbar": {
             "outlinewidth": 0,
             "ticks": ""
            },
            "colorscale": [
             [
              0,
              "#0d0887"
             ],
             [
              0.1111111111111111,
              "#46039f"
             ],
             [
              0.2222222222222222,
              "#7201a8"
             ],
             [
              0.3333333333333333,
              "#9c179e"
             ],
             [
              0.4444444444444444,
              "#bd3786"
             ],
             [
              0.5555555555555556,
              "#d8576b"
             ],
             [
              0.6666666666666666,
              "#ed7953"
             ],
             [
              0.7777777777777778,
              "#fb9f3a"
             ],
             [
              0.8888888888888888,
              "#fdca26"
             ],
             [
              1,
              "#f0f921"
             ]
            ],
            "type": "histogram2dcontour"
           }
          ],
          "mesh3d": [
           {
            "colorbar": {
             "outlinewidth": 0,
             "ticks": ""
            },
            "type": "mesh3d"
           }
          ],
          "parcoords": [
           {
            "line": {
             "colorbar": {
              "outlinewidth": 0,
              "ticks": ""
             }
            },
            "type": "parcoords"
           }
          ],
          "pie": [
           {
            "automargin": true,
            "type": "pie"
           }
          ],
          "scatter": [
           {
            "fillpattern": {
             "fillmode": "overlay",
             "size": 10,
             "solidity": 0.2
            },
            "type": "scatter"
           }
          ],
          "scatter3d": [
           {
            "line": {
             "colorbar": {
              "outlinewidth": 0,
              "ticks": ""
             }
            },
            "marker": {
             "colorbar": {
              "outlinewidth": 0,
              "ticks": ""
             }
            },
            "type": "scatter3d"
           }
          ],
          "scattercarpet": [
           {
            "marker": {
             "colorbar": {
              "outlinewidth": 0,
              "ticks": ""
             }
            },
            "type": "scattercarpet"
           }
          ],
          "scattergeo": [
           {
            "marker": {
             "colorbar": {
              "outlinewidth": 0,
              "ticks": ""
             }
            },
            "type": "scattergeo"
           }
          ],
          "scattergl": [
           {
            "marker": {
             "colorbar": {
              "outlinewidth": 0,
              "ticks": ""
             }
            },
            "type": "scattergl"
           }
          ],
          "scattermapbox": [
           {
            "marker": {
             "colorbar": {
              "outlinewidth": 0,
              "ticks": ""
             }
            },
            "type": "scattermapbox"
           }
          ],
          "scatterpolar": [
           {
            "marker": {
             "colorbar": {
              "outlinewidth": 0,
              "ticks": ""
             }
            },
            "type": "scatterpolar"
           }
          ],
          "scatterpolargl": [
           {
            "marker": {
             "colorbar": {
              "outlinewidth": 0,
              "ticks": ""
             }
            },
            "type": "scatterpolargl"
           }
          ],
          "scatterternary": [
           {
            "marker": {
             "colorbar": {
              "outlinewidth": 0,
              "ticks": ""
             }
            },
            "type": "scatterternary"
           }
          ],
          "surface": [
           {
            "colorbar": {
             "outlinewidth": 0,
             "ticks": ""
            },
            "colorscale": [
             [
              0,
              "#0d0887"
             ],
             [
              0.1111111111111111,
              "#46039f"
             ],
             [
              0.2222222222222222,
              "#7201a8"
             ],
             [
              0.3333333333333333,
              "#9c179e"
             ],
             [
              0.4444444444444444,
              "#bd3786"
             ],
             [
              0.5555555555555556,
              "#d8576b"
             ],
             [
              0.6666666666666666,
              "#ed7953"
             ],
             [
              0.7777777777777778,
              "#fb9f3a"
             ],
             [
              0.8888888888888888,
              "#fdca26"
             ],
             [
              1,
              "#f0f921"
             ]
            ],
            "type": "surface"
           }
          ],
          "table": [
           {
            "cells": {
             "fill": {
              "color": "#EBF0F8"
             },
             "line": {
              "color": "white"
             }
            },
            "header": {
             "fill": {
              "color": "#C8D4E3"
             },
             "line": {
              "color": "white"
             }
            },
            "type": "table"
           }
          ]
         },
         "layout": {
          "annotationdefaults": {
           "arrowcolor": "#2a3f5f",
           "arrowhead": 0,
           "arrowwidth": 1
          },
          "autotypenumbers": "strict",
          "coloraxis": {
           "colorbar": {
            "outlinewidth": 0,
            "ticks": ""
           }
          },
          "colorscale": {
           "diverging": [
            [
             0,
             "#8e0152"
            ],
            [
             0.1,
             "#c51b7d"
            ],
            [
             0.2,
             "#de77ae"
            ],
            [
             0.3,
             "#f1b6da"
            ],
            [
             0.4,
             "#fde0ef"
            ],
            [
             0.5,
             "#f7f7f7"
            ],
            [
             0.6,
             "#e6f5d0"
            ],
            [
             0.7,
             "#b8e186"
            ],
            [
             0.8,
             "#7fbc41"
            ],
            [
             0.9,
             "#4d9221"
            ],
            [
             1,
             "#276419"
            ]
           ],
           "sequential": [
            [
             0,
             "#0d0887"
            ],
            [
             0.1111111111111111,
             "#46039f"
            ],
            [
             0.2222222222222222,
             "#7201a8"
            ],
            [
             0.3333333333333333,
             "#9c179e"
            ],
            [
             0.4444444444444444,
             "#bd3786"
            ],
            [
             0.5555555555555556,
             "#d8576b"
            ],
            [
             0.6666666666666666,
             "#ed7953"
            ],
            [
             0.7777777777777778,
             "#fb9f3a"
            ],
            [
             0.8888888888888888,
             "#fdca26"
            ],
            [
             1,
             "#f0f921"
            ]
           ],
           "sequentialminus": [
            [
             0,
             "#0d0887"
            ],
            [
             0.1111111111111111,
             "#46039f"
            ],
            [
             0.2222222222222222,
             "#7201a8"
            ],
            [
             0.3333333333333333,
             "#9c179e"
            ],
            [
             0.4444444444444444,
             "#bd3786"
            ],
            [
             0.5555555555555556,
             "#d8576b"
            ],
            [
             0.6666666666666666,
             "#ed7953"
            ],
            [
             0.7777777777777778,
             "#fb9f3a"
            ],
            [
             0.8888888888888888,
             "#fdca26"
            ],
            [
             1,
             "#f0f921"
            ]
           ]
          },
          "colorway": [
           "#636efa",
           "#EF553B",
           "#00cc96",
           "#ab63fa",
           "#FFA15A",
           "#19d3f3",
           "#FF6692",
           "#B6E880",
           "#FF97FF",
           "#FECB52"
          ],
          "font": {
           "color": "#2a3f5f"
          },
          "geo": {
           "bgcolor": "white",
           "lakecolor": "white",
           "landcolor": "#E5ECF6",
           "showlakes": true,
           "showland": true,
           "subunitcolor": "white"
          },
          "hoverlabel": {
           "align": "left"
          },
          "hovermode": "closest",
          "mapbox": {
           "style": "light"
          },
          "paper_bgcolor": "white",
          "plot_bgcolor": "#E5ECF6",
          "polar": {
           "angularaxis": {
            "gridcolor": "white",
            "linecolor": "white",
            "ticks": ""
           },
           "bgcolor": "#E5ECF6",
           "radialaxis": {
            "gridcolor": "white",
            "linecolor": "white",
            "ticks": ""
           }
          },
          "scene": {
           "xaxis": {
            "backgroundcolor": "#E5ECF6",
            "gridcolor": "white",
            "gridwidth": 2,
            "linecolor": "white",
            "showbackground": true,
            "ticks": "",
            "zerolinecolor": "white"
           },
           "yaxis": {
            "backgroundcolor": "#E5ECF6",
            "gridcolor": "white",
            "gridwidth": 2,
            "linecolor": "white",
            "showbackground": true,
            "ticks": "",
            "zerolinecolor": "white"
           },
           "zaxis": {
            "backgroundcolor": "#E5ECF6",
            "gridcolor": "white",
            "gridwidth": 2,
            "linecolor": "white",
            "showbackground": true,
            "ticks": "",
            "zerolinecolor": "white"
           }
          },
          "shapedefaults": {
           "line": {
            "color": "#2a3f5f"
           }
          },
          "ternary": {
           "aaxis": {
            "gridcolor": "white",
            "linecolor": "white",
            "ticks": ""
           },
           "baxis": {
            "gridcolor": "white",
            "linecolor": "white",
            "ticks": ""
           },
           "bgcolor": "#E5ECF6",
           "caxis": {
            "gridcolor": "white",
            "linecolor": "white",
            "ticks": ""
           }
          },
          "title": {
           "x": 0.05
          },
          "xaxis": {
           "automargin": true,
           "gridcolor": "white",
           "linecolor": "white",
           "ticks": "",
           "title": {
            "standoff": 15
           },
           "zerolinecolor": "white",
           "zerolinewidth": 2
          },
          "yaxis": {
           "automargin": true,
           "gridcolor": "white",
           "linecolor": "white",
           "ticks": "",
           "title": {
            "standoff": 15
           },
           "zerolinecolor": "white",
           "zerolinewidth": 2
          }
         }
        },
        "xaxis": {
         "anchor": "y",
         "domain": [
          0,
          1
         ],
         "title": {
          "text": "Windspeed (m/s)"
         }
        },
        "yaxis": {
         "anchor": "x",
         "domain": [
          0,
          1
         ],
         "title": {
          "text": "Power (W)"
         }
        }
       }
      },
      "text/html": [
       "<div>                            <div id=\"0d360d50-aed1-4d02-98a6-08aa3e33ddc0\" class=\"plotly-graph-div\" style=\"height:525px; width:100%;\"></div>            <script type=\"text/javascript\">                require([\"plotly\"], function(Plotly) {                    window.PLOTLYENV=window.PLOTLYENV || {};                                    if (document.getElementById(\"0d360d50-aed1-4d02-98a6-08aa3e33ddc0\")) {                    Plotly.newPlot(                        \"0d360d50-aed1-4d02-98a6-08aa3e33ddc0\",                        [{\"hovertemplate\":\"Windspeed (m/s)=%{x}<br>Power (W)=%{y}<extra></extra>\",\"legendgroup\":\"\",\"line\":{\"color\":\"#636efa\",\"dash\":\"solid\"},\"marker\":{\"symbol\":\"circle\"},\"mode\":\"lines\",\"name\":\"\",\"orientation\":\"v\",\"showlegend\":false,\"x\":[0.0,0.5,1.0,1.5,2.0,2.5,3.0,3.5,4.0,4.5,5.0,5.5,6.0,6.5,7.0,7.5,8.0,8.5,9.0,9.5,10.0,10.5,11.0,11.5,12.0,12.5,13.0,13.5,14.0,14.5,15.0,15.5,16.0,16.5,17.0,17.5,18.0,18.5,19.0,19.5,20.0,20.5],\"xaxis\":\"x\",\"y\":[0.0,0.5,1.0,1.5000000000000002,1.9999999999999998,2.5,3.0000000000000004,3.5,4.0,4.5,5.000000000000001,5.5,6.0,6.5,7.0,7.5,8.000000000000002,8.5,9.000000000000002,9.5,10.000000000000002,10.500000000000002,11.0,11.500000000000002,12.000000000000002,12.5,13.000000000000002,13.500000000000002,14.000000000000004,14.500000000000002,15.0,15.5,16.0,16.5,17.0,17.5,18.0,18.500000000000004,19.0,19.5,20.000000000000004,20.5],\"yaxis\":\"y\",\"type\":\"scatter\"},{\"mode\":\"markers\",\"name\":\"Data\",\"x\":[0.0,0.5,1.0,1.5,2.0,2.5,3.0,3.5,4.0,4.5,5.0,5.5,6.0,6.5,7.0,7.5,8.0,8.5,9.0,9.5,10.0,10.5,11.0,11.5,12.0,12.5,13.0,13.5,14.0,14.5,15.0,15.5,16.0,16.5,17.0,17.5,18.0,18.5,19.0,19.5,20.0,20.5],\"y\":[0.0,0.5,1.0,1.5,2.0,2.5,3.0,3.5,4.0,4.5,5.0,5.5,6.0,6.5,7.0,7.5,8.0,8.5,9.0,9.5,10.0,10.5,11.0,11.5,12.0,12.5,13.0,13.5,14.0,14.5,15.0,15.5,16.0,16.5,17.0,17.5,18.0,18.5,19.0,19.5,20.0,20.5],\"type\":\"scatter\"}],                        {\"template\":{\"data\":{\"histogram2dcontour\":[{\"type\":\"histogram2dcontour\",\"colorbar\":{\"outlinewidth\":0,\"ticks\":\"\"},\"colorscale\":[[0.0,\"#0d0887\"],[0.1111111111111111,\"#46039f\"],[0.2222222222222222,\"#7201a8\"],[0.3333333333333333,\"#9c179e\"],[0.4444444444444444,\"#bd3786\"],[0.5555555555555556,\"#d8576b\"],[0.6666666666666666,\"#ed7953\"],[0.7777777777777778,\"#fb9f3a\"],[0.8888888888888888,\"#fdca26\"],[1.0,\"#f0f921\"]]}],\"choropleth\":[{\"type\":\"choropleth\",\"colorbar\":{\"outlinewidth\":0,\"ticks\":\"\"}}],\"histogram2d\":[{\"type\":\"histogram2d\",\"colorbar\":{\"outlinewidth\":0,\"ticks\":\"\"},\"colorscale\":[[0.0,\"#0d0887\"],[0.1111111111111111,\"#46039f\"],[0.2222222222222222,\"#7201a8\"],[0.3333333333333333,\"#9c179e\"],[0.4444444444444444,\"#bd3786\"],[0.5555555555555556,\"#d8576b\"],[0.6666666666666666,\"#ed7953\"],[0.7777777777777778,\"#fb9f3a\"],[0.8888888888888888,\"#fdca26\"],[1.0,\"#f0f921\"]]}],\"heatmap\":[{\"type\":\"heatmap\",\"colorbar\":{\"outlinewidth\":0,\"ticks\":\"\"},\"colorscale\":[[0.0,\"#0d0887\"],[0.1111111111111111,\"#46039f\"],[0.2222222222222222,\"#7201a8\"],[0.3333333333333333,\"#9c179e\"],[0.4444444444444444,\"#bd3786\"],[0.5555555555555556,\"#d8576b\"],[0.6666666666666666,\"#ed7953\"],[0.7777777777777778,\"#fb9f3a\"],[0.8888888888888888,\"#fdca26\"],[1.0,\"#f0f921\"]]}],\"heatmapgl\":[{\"type\":\"heatmapgl\",\"colorbar\":{\"outlinewidth\":0,\"ticks\":\"\"},\"colorscale\":[[0.0,\"#0d0887\"],[0.1111111111111111,\"#46039f\"],[0.2222222222222222,\"#7201a8\"],[0.3333333333333333,\"#9c179e\"],[0.4444444444444444,\"#bd3786\"],[0.5555555555555556,\"#d8576b\"],[0.6666666666666666,\"#ed7953\"],[0.7777777777777778,\"#fb9f3a\"],[0.8888888888888888,\"#fdca26\"],[1.0,\"#f0f921\"]]}],\"contourcarpet\":[{\"type\":\"contourcarpet\",\"colorbar\":{\"outlinewidth\":0,\"ticks\":\"\"}}],\"contour\":[{\"type\":\"contour\",\"colorbar\":{\"outlinewidth\":0,\"ticks\":\"\"},\"colorscale\":[[0.0,\"#0d0887\"],[0.1111111111111111,\"#46039f\"],[0.2222222222222222,\"#7201a8\"],[0.3333333333333333,\"#9c179e\"],[0.4444444444444444,\"#bd3786\"],[0.5555555555555556,\"#d8576b\"],[0.6666666666666666,\"#ed7953\"],[0.7777777777777778,\"#fb9f3a\"],[0.8888888888888888,\"#fdca26\"],[1.0,\"#f0f921\"]]}],\"surface\":[{\"type\":\"surface\",\"colorbar\":{\"outlinewidth\":0,\"ticks\":\"\"},\"colorscale\":[[0.0,\"#0d0887\"],[0.1111111111111111,\"#46039f\"],[0.2222222222222222,\"#7201a8\"],[0.3333333333333333,\"#9c179e\"],[0.4444444444444444,\"#bd3786\"],[0.5555555555555556,\"#d8576b\"],[0.6666666666666666,\"#ed7953\"],[0.7777777777777778,\"#fb9f3a\"],[0.8888888888888888,\"#fdca26\"],[1.0,\"#f0f921\"]]}],\"mesh3d\":[{\"type\":\"mesh3d\",\"colorbar\":{\"outlinewidth\":0,\"ticks\":\"\"}}],\"scatter\":[{\"fillpattern\":{\"fillmode\":\"overlay\",\"size\":10,\"solidity\":0.2},\"type\":\"scatter\"}],\"parcoords\":[{\"type\":\"parcoords\",\"line\":{\"colorbar\":{\"outlinewidth\":0,\"ticks\":\"\"}}}],\"scatterpolargl\":[{\"type\":\"scatterpolargl\",\"marker\":{\"colorbar\":{\"outlinewidth\":0,\"ticks\":\"\"}}}],\"bar\":[{\"error_x\":{\"color\":\"#2a3f5f\"},\"error_y\":{\"color\":\"#2a3f5f\"},\"marker\":{\"line\":{\"color\":\"#E5ECF6\",\"width\":0.5},\"pattern\":{\"fillmode\":\"overlay\",\"size\":10,\"solidity\":0.2}},\"type\":\"bar\"}],\"scattergeo\":[{\"type\":\"scattergeo\",\"marker\":{\"colorbar\":{\"outlinewidth\":0,\"ticks\":\"\"}}}],\"scatterpolar\":[{\"type\":\"scatterpolar\",\"marker\":{\"colorbar\":{\"outlinewidth\":0,\"ticks\":\"\"}}}],\"histogram\":[{\"marker\":{\"pattern\":{\"fillmode\":\"overlay\",\"size\":10,\"solidity\":0.2}},\"type\":\"histogram\"}],\"scattergl\":[{\"type\":\"scattergl\",\"marker\":{\"colorbar\":{\"outlinewidth\":0,\"ticks\":\"\"}}}],\"scatter3d\":[{\"type\":\"scatter3d\",\"line\":{\"colorbar\":{\"outlinewidth\":0,\"ticks\":\"\"}},\"marker\":{\"colorbar\":{\"outlinewidth\":0,\"ticks\":\"\"}}}],\"scattermapbox\":[{\"type\":\"scattermapbox\",\"marker\":{\"colorbar\":{\"outlinewidth\":0,\"ticks\":\"\"}}}],\"scatterternary\":[{\"type\":\"scatterternary\",\"marker\":{\"colorbar\":{\"outlinewidth\":0,\"ticks\":\"\"}}}],\"scattercarpet\":[{\"type\":\"scattercarpet\",\"marker\":{\"colorbar\":{\"outlinewidth\":0,\"ticks\":\"\"}}}],\"carpet\":[{\"aaxis\":{\"endlinecolor\":\"#2a3f5f\",\"gridcolor\":\"white\",\"linecolor\":\"white\",\"minorgridcolor\":\"white\",\"startlinecolor\":\"#2a3f5f\"},\"baxis\":{\"endlinecolor\":\"#2a3f5f\",\"gridcolor\":\"white\",\"linecolor\":\"white\",\"minorgridcolor\":\"white\",\"startlinecolor\":\"#2a3f5f\"},\"type\":\"carpet\"}],\"table\":[{\"cells\":{\"fill\":{\"color\":\"#EBF0F8\"},\"line\":{\"color\":\"white\"}},\"header\":{\"fill\":{\"color\":\"#C8D4E3\"},\"line\":{\"color\":\"white\"}},\"type\":\"table\"}],\"barpolar\":[{\"marker\":{\"line\":{\"color\":\"#E5ECF6\",\"width\":0.5},\"pattern\":{\"fillmode\":\"overlay\",\"size\":10,\"solidity\":0.2}},\"type\":\"barpolar\"}],\"pie\":[{\"automargin\":true,\"type\":\"pie\"}]},\"layout\":{\"autotypenumbers\":\"strict\",\"colorway\":[\"#636efa\",\"#EF553B\",\"#00cc96\",\"#ab63fa\",\"#FFA15A\",\"#19d3f3\",\"#FF6692\",\"#B6E880\",\"#FF97FF\",\"#FECB52\"],\"font\":{\"color\":\"#2a3f5f\"},\"hovermode\":\"closest\",\"hoverlabel\":{\"align\":\"left\"},\"paper_bgcolor\":\"white\",\"plot_bgcolor\":\"#E5ECF6\",\"polar\":{\"bgcolor\":\"#E5ECF6\",\"angularaxis\":{\"gridcolor\":\"white\",\"linecolor\":\"white\",\"ticks\":\"\"},\"radialaxis\":{\"gridcolor\":\"white\",\"linecolor\":\"white\",\"ticks\":\"\"}},\"ternary\":{\"bgcolor\":\"#E5ECF6\",\"aaxis\":{\"gridcolor\":\"white\",\"linecolor\":\"white\",\"ticks\":\"\"},\"baxis\":{\"gridcolor\":\"white\",\"linecolor\":\"white\",\"ticks\":\"\"},\"caxis\":{\"gridcolor\":\"white\",\"linecolor\":\"white\",\"ticks\":\"\"}},\"coloraxis\":{\"colorbar\":{\"outlinewidth\":0,\"ticks\":\"\"}},\"colorscale\":{\"sequential\":[[0.0,\"#0d0887\"],[0.1111111111111111,\"#46039f\"],[0.2222222222222222,\"#7201a8\"],[0.3333333333333333,\"#9c179e\"],[0.4444444444444444,\"#bd3786\"],[0.5555555555555556,\"#d8576b\"],[0.6666666666666666,\"#ed7953\"],[0.7777777777777778,\"#fb9f3a\"],[0.8888888888888888,\"#fdca26\"],[1.0,\"#f0f921\"]],\"sequentialminus\":[[0.0,\"#0d0887\"],[0.1111111111111111,\"#46039f\"],[0.2222222222222222,\"#7201a8\"],[0.3333333333333333,\"#9c179e\"],[0.4444444444444444,\"#bd3786\"],[0.5555555555555556,\"#d8576b\"],[0.6666666666666666,\"#ed7953\"],[0.7777777777777778,\"#fb9f3a\"],[0.8888888888888888,\"#fdca26\"],[1.0,\"#f0f921\"]],\"diverging\":[[0,\"#8e0152\"],[0.1,\"#c51b7d\"],[0.2,\"#de77ae\"],[0.3,\"#f1b6da\"],[0.4,\"#fde0ef\"],[0.5,\"#f7f7f7\"],[0.6,\"#e6f5d0\"],[0.7,\"#b8e186\"],[0.8,\"#7fbc41\"],[0.9,\"#4d9221\"],[1,\"#276419\"]]},\"xaxis\":{\"gridcolor\":\"white\",\"linecolor\":\"white\",\"ticks\":\"\",\"title\":{\"standoff\":15},\"zerolinecolor\":\"white\",\"automargin\":true,\"zerolinewidth\":2},\"yaxis\":{\"gridcolor\":\"white\",\"linecolor\":\"white\",\"ticks\":\"\",\"title\":{\"standoff\":15},\"zerolinecolor\":\"white\",\"automargin\":true,\"zerolinewidth\":2},\"scene\":{\"xaxis\":{\"backgroundcolor\":\"#E5ECF6\",\"gridcolor\":\"white\",\"linecolor\":\"white\",\"showbackground\":true,\"ticks\":\"\",\"zerolinecolor\":\"white\",\"gridwidth\":2},\"yaxis\":{\"backgroundcolor\":\"#E5ECF6\",\"gridcolor\":\"white\",\"linecolor\":\"white\",\"showbackground\":true,\"ticks\":\"\",\"zerolinecolor\":\"white\",\"gridwidth\":2},\"zaxis\":{\"backgroundcolor\":\"#E5ECF6\",\"gridcolor\":\"white\",\"linecolor\":\"white\",\"showbackground\":true,\"ticks\":\"\",\"zerolinecolor\":\"white\",\"gridwidth\":2}},\"shapedefaults\":{\"line\":{\"color\":\"#2a3f5f\"}},\"annotationdefaults\":{\"arrowcolor\":\"#2a3f5f\",\"arrowhead\":0,\"arrowwidth\":1},\"geo\":{\"bgcolor\":\"white\",\"landcolor\":\"#E5ECF6\",\"subunitcolor\":\"white\",\"showland\":true,\"showlakes\":true,\"lakecolor\":\"white\"},\"title\":{\"x\":0.05},\"mapbox\":{\"style\":\"light\"}}},\"xaxis\":{\"anchor\":\"y\",\"domain\":[0.0,1.0],\"title\":{\"text\":\"Windspeed (m/s)\"}},\"yaxis\":{\"anchor\":\"x\",\"domain\":[0.0,1.0],\"title\":{\"text\":\"Power (W)\"}},\"legend\":{\"tracegroupgap\":0},\"margin\":{\"t\":60}},                        {\"responsive\": true}                    ).then(function(){\n",
       "                            \n",
       "var gd = document.getElementById('0d360d50-aed1-4d02-98a6-08aa3e33ddc0');\n",
       "var x = new MutationObserver(function (mutations, observer) {{\n",
       "        var display = window.getComputedStyle(gd).display;\n",
       "        if (!display || display === 'none') {{\n",
       "            console.log([gd, 'removed!']);\n",
       "            Plotly.purge(gd);\n",
       "            observer.disconnect();\n",
       "        }}\n",
       "}});\n",
       "\n",
       "// Listen for the removal of the full notebook cells\n",
       "var notebookContainer = gd.closest('#notebook-container');\n",
       "if (notebookContainer) {{\n",
       "    x.observe(notebookContainer, {childList: true});\n",
       "}}\n",
       "\n",
       "// Listen for the clearing of the current output cell\n",
       "var outputEl = gd.closest('.output');\n",
       "if (outputEl) {{\n",
       "    x.observe(outputEl, {childList: true});\n",
       "}}\n",
       "\n",
       "                        })                };                });            </script>        </div>"
      ]
     },
     "metadata": {},
     "output_type": "display_data"
    }
   ],
   "source": [
    "# Apparantly the Bergey's have a linear response (seems unlikely!)\n",
    "fig = px.line(y=powercurve_intrp_limited(powercurve[\"windspeed\"]), x=powercurve[\"windspeed\"],\n",
    "              labels={\"x\":\"Windspeed (m/s)\",\"y\":\"Power (W)\"})\n",
    "fig.add_trace(go.Scatter(x=powercurve[\"windspeed\"], y=powercurve[\"windspeed\"],\n",
    "                    mode='markers',\n",
    "                    name='Data'))\n",
    "fig.show()"
   ]
  },
  {
   "cell_type": "markdown",
   "id": "17e6d195",
   "metadata": {},
   "source": [
    "Inspect data to make sure it seems compatible"
   ]
  },
  {
   "cell_type": "code",
   "execution_count": 80,
   "id": "70a009f2",
   "metadata": {},
   "outputs": [],
   "source": [
    "flat_power = [item for sublist in bergey_data[\"output_power_list\"] for item in sublist]\n",
    "flat_power = pd.DataFrame(flat_power)\n",
    "flat_power.columns = [\"output_power\"]"
   ]
  },
  {
   "cell_type": "code",
   "execution_count": 81,
   "id": "89d75bb7",
   "metadata": {},
   "outputs": [
    {
     "data": {
      "application/vnd.plotly.v1+json": {
       "config": {
        "plotlyServerURL": "https://plot.ly"
       },
       "data": [
        {
         "alignmentgroup": "True",
         "bingroup": "x",
         "hovertemplate": "output_power=%{x}<br>count=%{y}<extra></extra>",
         "legendgroup": "",
         "marker": {
          "color": "#636efa",
          "pattern": {
           "shape": ""
          }
         },
         "name": "",
         "offsetgroup": "",
         "orientation": "v",
         "showlegend": false,
         "type": "histogram",
         "x": [
          1939,
          157,
          127,
          251,
          1089,
          3855,
          28,
          29,
          2486,
          71,
          -43,
          822,
          281,
          364,
          12483,
          1115,
          3095,
          311,
          1234,
          1356,
          1325,
          69,
          2365,
          65,
          793,
          2189,
          2148,
          56,
          1987,
          1010,
          27,
          40,
          134,
          352,
          465,
          832,
          1520,
          1836,
          1414,
          2659,
          167,
          5257,
          374,
          -34,
          91,
          5,
          379,
          92,
          42,
          411,
          2251,
          305,
          497,
          728,
          16,
          1225,
          482,
          75,
          672,
          453,
          1011,
          92,
          107,
          487,
          822,
          322,
          43,
          730,
          4450,
          -795,
          6017,
          485,
          399,
          5042,
          6035,
          3725,
          103,
          2100,
          3397,
          32,
          651,
          1309,
          240,
          377,
          1535,
          397,
          3387,
          230,
          395,
          1013,
          2837,
          3689,
          797,
          1223,
          2630,
          118,
          172,
          374,
          6197,
          238,
          34,
          226,
          2203,
          888,
          1148,
          69,
          695,
          1293,
          2322,
          1957,
          622,
          2447,
          2826,
          2026,
          130,
          544,
          1525,
          37,
          1543,
          6413,
          781,
          1366,
          1142,
          431,
          2301,
          74,
          106,
          9,
          984,
          9600,
          -783,
          12162,
          1745,
          931,
          3352,
          4664,
          1160,
          2808,
          2426,
          95,
          1729,
          311,
          1074,
          53,
          203,
          1592,
          4110,
          14,
          2588,
          1565,
          978,
          70,
          401,
          5680,
          3351,
          64,
          2144,
          114,
          38,
          7243,
          6862,
          443,
          1305,
          644,
          459,
          8330,
          188,
          1422,
          982,
          117,
          5051,
          192,
          -41,
          149,
          28,
          541,
          566,
          6485,
          227,
          10813,
          298,
          112,
          459,
          396,
          261,
          468,
          2490,
          984,
          226,
          713,
          28,
          163,
          125,
          1710,
          77,
          206,
          189,
          77,
          76,
          -8,
          41,
          775,
          563,
          60,
          374,
          412,
          212,
          3342,
          466,
          115,
          5830,
          1080,
          10782,
          2057,
          571,
          1623,
          110,
          12027,
          268,
          101,
          3270,
          3639,
          206,
          3620,
          198,
          994,
          1814,
          151,
          487,
          5770,
          12014,
          844,
          1909,
          1313,
          1876,
          2438,
          247,
          9652,
          87,
          2298,
          2062,
          2577,
          -27,
          5960,
          8463,
          8433,
          486,
          138,
          596,
          480,
          893,
          2706,
          13,
          7,
          52,
          822,
          4796,
          67,
          182,
          5240,
          311,
          4118,
          90,
          1525,
          66,
          660,
          5712,
          720,
          75,
          945,
          1421,
          147,
          90,
          532,
          997,
          2099,
          441,
          474,
          150,
          144,
          448,
          237,
          2646,
          243,
          6978,
          731,
          1937,
          300,
          3501,
          1812,
          635,
          6974,
          70,
          210,
          340,
          92,
          1055,
          58,
          1173,
          2943,
          6,
          506,
          304,
          652,
          361,
          95,
          656,
          2914,
          2003,
          2131,
          240,
          -754,
          4180,
          4394,
          946,
          4420,
          128,
          169,
          12345,
          55,
          1623,
          3274,
          3245,
          651,
          5468,
          247,
          161,
          1104,
          467,
          10139,
          4459,
          3489,
          287,
          2524,
          102,
          1602,
          639,
          227,
          414,
          73,
          334,
          346,
          121,
          4,
          4416,
          -22,
          267,
          568,
          57,
          839,
          11675,
          4825,
          148,
          2885,
          520,
          2097,
          91,
          879,
          8090,
          672,
          293,
          8912,
          481,
          7034,
          7119,
          11344,
          3369,
          2754,
          5369,
          1220,
          2879,
          472,
          402,
          1648,
          91,
          6896,
          840,
          1497,
          371,
          -25,
          735,
          130,
          8211,
          73,
          241,
          513,
          2058,
          284,
          2404,
          3917,
          34,
          756,
          2662,
          16,
          900,
          887,
          9003,
          1233,
          69,
          712,
          92,
          255,
          2411,
          2397,
          11007,
          8352,
          2624,
          41,
          106,
          1865,
          933,
          3644,
          26,
          535,
          78,
          784,
          1331,
          2655,
          254,
          1664,
          5402,
          482,
          94,
          8421,
          47,
          361,
          3815,
          203,
          1366,
          3090,
          240,
          568,
          1632,
          830,
          10737,
          1067,
          2881,
          495,
          908,
          870,
          708,
          1294,
          6952,
          1203,
          5729,
          3960,
          136,
          463,
          522,
          1891,
          674,
          -786,
          8147,
          2839,
          201,
          648,
          2638,
          1273,
          1154,
          2475,
          875,
          757,
          994,
          2557,
          442,
          104,
          -782,
          120,
          878,
          287,
          2828,
          21,
          -8,
          -8,
          510,
          406,
          2869,
          157,
          249,
          1611,
          3356,
          2787,
          4919,
          183,
          993,
          1306,
          47,
          1017,
          1533,
          54,
          267,
          182,
          -53,
          537,
          548,
          1095,
          202,
          37,
          4333,
          4580,
          6603,
          3022,
          18,
          495,
          -6,
          877,
          1251,
          12334,
          165,
          4539,
          826,
          -10,
          577,
          1446,
          3020,
          145,
          12303,
          193,
          1274,
          8,
          25,
          -18,
          295,
          7978,
          3672,
          83,
          205,
          6535,
          17,
          1234,
          -826,
          1057,
          2770,
          139,
          12231,
          1523,
          91,
          736,
          467,
          266,
          117,
          139,
          5052,
          103,
          1382,
          917,
          34,
          237,
          169,
          9753,
          3029,
          386,
          213,
          317,
          5962,
          -4,
          525,
          1071,
          4040,
          1387,
          41,
          10795,
          1611,
          781,
          11525,
          6663,
          1595,
          168,
          606,
          142,
          290,
          4418,
          869,
          800,
          42,
          200,
          898,
          2791,
          10392,
          10496,
          49,
          777,
          157,
          637,
          1821,
          254,
          1857,
          -3,
          425,
          1132,
          43,
          -3,
          1622,
          4193,
          4825,
          942,
          3213,
          930,
          96,
          1207,
          1371,
          1292,
          22,
          50,
          1079,
          12227,
          9234,
          897,
          596,
          29,
          712,
          1018,
          9737,
          163,
          80,
          9,
          100,
          2835,
          326,
          1905,
          6548,
          6145,
          850,
          2830,
          454,
          3122,
          215,
          1603,
          1464,
          1582,
          11021,
          6148,
          564,
          390,
          528,
          296,
          198,
          1474,
          93,
          1708,
          315,
          12241,
          4318,
          279,
          6801,
          357,
          1015,
          253,
          -62,
          1248,
          190,
          907,
          2223,
          290,
          1,
          4752,
          701,
          2180,
          6901,
          3080,
          1,
          31,
          11082,
          502,
          401,
          513,
          19,
          672,
          630,
          127,
          319,
          433,
          328,
          2109,
          3723,
          2028,
          497,
          -11,
          260,
          245,
          109,
          1826,
          -19,
          7,
          53,
          12146,
          498,
          1442,
          7124,
          1281,
          231,
          922,
          341,
          23,
          1705,
          107,
          5273,
          2106,
          107,
          15,
          1087,
          468,
          11331,
          18,
          318,
          1413,
          707,
          40,
          12257,
          555,
          4999,
          -2,
          1293,
          1622,
          112,
          10754,
          960,
          -15,
          532,
          17,
          4244,
          1760,
          167,
          3754,
          1247,
          72,
          3768,
          1061,
          198,
          147,
          2549,
          2532,
          408,
          41,
          275,
          468,
          1299,
          132,
          645,
          5909,
          675,
          859,
          728,
          3210,
          645,
          658,
          2664,
          204,
          659,
          480,
          -18,
          55,
          675,
          1421,
          910,
          944,
          189,
          832,
          40,
          8500,
          57,
          9,
          1018,
          2323,
          339,
          -3,
          873,
          708,
          42,
          53,
          509,
          150,
          697,
          1259,
          79,
          102,
          467,
          1160,
          3762,
          39,
          74,
          278,
          1466,
          718,
          686,
          55,
          159,
          299,
          -10,
          841,
          900,
          32,
          694,
          99,
          985,
          4525,
          1830,
          153,
          10882,
          1261,
          686,
          650,
          1469,
          1473,
          1995,
          78,
          3189,
          4360,
          -30,
          8194,
          1545,
          797,
          615,
          1185,
          3752,
          1711,
          831,
          23,
          55,
          131,
          342,
          3547,
          50,
          90,
          4,
          1272,
          10863,
          1204,
          12290,
          472,
          113,
          481,
          -24,
          0,
          136,
          246,
          1666,
          3773,
          294,
          14,
          539,
          297,
          293,
          11813,
          -42,
          1719,
          65,
          87,
          3628,
          737,
          11492,
          234,
          543,
          206,
          646,
          523,
          284,
          -20,
          431,
          640,
          472,
          2476,
          6109,
          3658,
          3160,
          484,
          8807,
          581,
          9790,
          3355,
          358,
          356,
          56,
          1547,
          1632,
          368,
          631,
          5076,
          12473,
          163,
          1485,
          0,
          3304,
          2718,
          987,
          1797,
          119,
          1558,
          46,
          -42,
          1452,
          1314,
          2563,
          32,
          10405,
          8620,
          498,
          783,
          1519,
          1431,
          2894,
          949,
          4158,
          4348,
          1337,
          -2,
          3873,
          10958,
          507,
          336,
          735,
          349,
          1264,
          1580,
          3001,
          5529,
          6826,
          8469,
          3971,
          900,
          2034,
          8197,
          3817,
          1015,
          1630,
          8214,
          448,
          589,
          561,
          3765,
          126,
          363,
          7972,
          9335,
          278,
          397,
          1360,
          21,
          69,
          4,
          518,
          936,
          740,
          1937,
          355,
          -773,
          2131,
          994,
          157,
          757,
          660,
          455,
          39,
          68,
          121,
          1187,
          2181,
          2819,
          380,
          823,
          4022,
          2103,
          131,
          5786,
          953,
          139,
          146,
          820,
          10843,
          695,
          7484,
          106,
          3285,
          675,
          42,
          4965,
          31,
          1352,
          1027,
          3939,
          6057,
          65,
          1424,
          49,
          173,
          10809,
          12493,
          17,
          382,
          1201,
          5122,
          509,
          -87,
          9806,
          268,
          66,
          11,
          2933,
          316,
          10410
         ],
         "xaxis": "x",
         "yaxis": "y"
        }
       ],
       "layout": {
        "barmode": "relative",
        "legend": {
         "tracegroupgap": 0
        },
        "margin": {
         "t": 60
        },
        "template": {
         "data": {
          "bar": [
           {
            "error_x": {
             "color": "#2a3f5f"
            },
            "error_y": {
             "color": "#2a3f5f"
            },
            "marker": {
             "line": {
              "color": "#E5ECF6",
              "width": 0.5
             },
             "pattern": {
              "fillmode": "overlay",
              "size": 10,
              "solidity": 0.2
             }
            },
            "type": "bar"
           }
          ],
          "barpolar": [
           {
            "marker": {
             "line": {
              "color": "#E5ECF6",
              "width": 0.5
             },
             "pattern": {
              "fillmode": "overlay",
              "size": 10,
              "solidity": 0.2
             }
            },
            "type": "barpolar"
           }
          ],
          "carpet": [
           {
            "aaxis": {
             "endlinecolor": "#2a3f5f",
             "gridcolor": "white",
             "linecolor": "white",
             "minorgridcolor": "white",
             "startlinecolor": "#2a3f5f"
            },
            "baxis": {
             "endlinecolor": "#2a3f5f",
             "gridcolor": "white",
             "linecolor": "white",
             "minorgridcolor": "white",
             "startlinecolor": "#2a3f5f"
            },
            "type": "carpet"
           }
          ],
          "choropleth": [
           {
            "colorbar": {
             "outlinewidth": 0,
             "ticks": ""
            },
            "type": "choropleth"
           }
          ],
          "contour": [
           {
            "colorbar": {
             "outlinewidth": 0,
             "ticks": ""
            },
            "colorscale": [
             [
              0,
              "#0d0887"
             ],
             [
              0.1111111111111111,
              "#46039f"
             ],
             [
              0.2222222222222222,
              "#7201a8"
             ],
             [
              0.3333333333333333,
              "#9c179e"
             ],
             [
              0.4444444444444444,
              "#bd3786"
             ],
             [
              0.5555555555555556,
              "#d8576b"
             ],
             [
              0.6666666666666666,
              "#ed7953"
             ],
             [
              0.7777777777777778,
              "#fb9f3a"
             ],
             [
              0.8888888888888888,
              "#fdca26"
             ],
             [
              1,
              "#f0f921"
             ]
            ],
            "type": "contour"
           }
          ],
          "contourcarpet": [
           {
            "colorbar": {
             "outlinewidth": 0,
             "ticks": ""
            },
            "type": "contourcarpet"
           }
          ],
          "heatmap": [
           {
            "colorbar": {
             "outlinewidth": 0,
             "ticks": ""
            },
            "colorscale": [
             [
              0,
              "#0d0887"
             ],
             [
              0.1111111111111111,
              "#46039f"
             ],
             [
              0.2222222222222222,
              "#7201a8"
             ],
             [
              0.3333333333333333,
              "#9c179e"
             ],
             [
              0.4444444444444444,
              "#bd3786"
             ],
             [
              0.5555555555555556,
              "#d8576b"
             ],
             [
              0.6666666666666666,
              "#ed7953"
             ],
             [
              0.7777777777777778,
              "#fb9f3a"
             ],
             [
              0.8888888888888888,
              "#fdca26"
             ],
             [
              1,
              "#f0f921"
             ]
            ],
            "type": "heatmap"
           }
          ],
          "heatmapgl": [
           {
            "colorbar": {
             "outlinewidth": 0,
             "ticks": ""
            },
            "colorscale": [
             [
              0,
              "#0d0887"
             ],
             [
              0.1111111111111111,
              "#46039f"
             ],
             [
              0.2222222222222222,
              "#7201a8"
             ],
             [
              0.3333333333333333,
              "#9c179e"
             ],
             [
              0.4444444444444444,
              "#bd3786"
             ],
             [
              0.5555555555555556,
              "#d8576b"
             ],
             [
              0.6666666666666666,
              "#ed7953"
             ],
             [
              0.7777777777777778,
              "#fb9f3a"
             ],
             [
              0.8888888888888888,
              "#fdca26"
             ],
             [
              1,
              "#f0f921"
             ]
            ],
            "type": "heatmapgl"
           }
          ],
          "histogram": [
           {
            "marker": {
             "pattern": {
              "fillmode": "overlay",
              "size": 10,
              "solidity": 0.2
             }
            },
            "type": "histogram"
           }
          ],
          "histogram2d": [
           {
            "colorbar": {
             "outlinewidth": 0,
             "ticks": ""
            },
            "colorscale": [
             [
              0,
              "#0d0887"
             ],
             [
              0.1111111111111111,
              "#46039f"
             ],
             [
              0.2222222222222222,
              "#7201a8"
             ],
             [
              0.3333333333333333,
              "#9c179e"
             ],
             [
              0.4444444444444444,
              "#bd3786"
             ],
             [
              0.5555555555555556,
              "#d8576b"
             ],
             [
              0.6666666666666666,
              "#ed7953"
             ],
             [
              0.7777777777777778,
              "#fb9f3a"
             ],
             [
              0.8888888888888888,
              "#fdca26"
             ],
             [
              1,
              "#f0f921"
             ]
            ],
            "type": "histogram2d"
           }
          ],
          "histogram2dcontour": [
           {
            "colorbar": {
             "outlinewidth": 0,
             "ticks": ""
            },
            "colorscale": [
             [
              0,
              "#0d0887"
             ],
             [
              0.1111111111111111,
              "#46039f"
             ],
             [
              0.2222222222222222,
              "#7201a8"
             ],
             [
              0.3333333333333333,
              "#9c179e"
             ],
             [
              0.4444444444444444,
              "#bd3786"
             ],
             [
              0.5555555555555556,
              "#d8576b"
             ],
             [
              0.6666666666666666,
              "#ed7953"
             ],
             [
              0.7777777777777778,
              "#fb9f3a"
             ],
             [
              0.8888888888888888,
              "#fdca26"
             ],
             [
              1,
              "#f0f921"
             ]
            ],
            "type": "histogram2dcontour"
           }
          ],
          "mesh3d": [
           {
            "colorbar": {
             "outlinewidth": 0,
             "ticks": ""
            },
            "type": "mesh3d"
           }
          ],
          "parcoords": [
           {
            "line": {
             "colorbar": {
              "outlinewidth": 0,
              "ticks": ""
             }
            },
            "type": "parcoords"
           }
          ],
          "pie": [
           {
            "automargin": true,
            "type": "pie"
           }
          ],
          "scatter": [
           {
            "fillpattern": {
             "fillmode": "overlay",
             "size": 10,
             "solidity": 0.2
            },
            "type": "scatter"
           }
          ],
          "scatter3d": [
           {
            "line": {
             "colorbar": {
              "outlinewidth": 0,
              "ticks": ""
             }
            },
            "marker": {
             "colorbar": {
              "outlinewidth": 0,
              "ticks": ""
             }
            },
            "type": "scatter3d"
           }
          ],
          "scattercarpet": [
           {
            "marker": {
             "colorbar": {
              "outlinewidth": 0,
              "ticks": ""
             }
            },
            "type": "scattercarpet"
           }
          ],
          "scattergeo": [
           {
            "marker": {
             "colorbar": {
              "outlinewidth": 0,
              "ticks": ""
             }
            },
            "type": "scattergeo"
           }
          ],
          "scattergl": [
           {
            "marker": {
             "colorbar": {
              "outlinewidth": 0,
              "ticks": ""
             }
            },
            "type": "scattergl"
           }
          ],
          "scattermapbox": [
           {
            "marker": {
             "colorbar": {
              "outlinewidth": 0,
              "ticks": ""
             }
            },
            "type": "scattermapbox"
           }
          ],
          "scatterpolar": [
           {
            "marker": {
             "colorbar": {
              "outlinewidth": 0,
              "ticks": ""
             }
            },
            "type": "scatterpolar"
           }
          ],
          "scatterpolargl": [
           {
            "marker": {
             "colorbar": {
              "outlinewidth": 0,
              "ticks": ""
             }
            },
            "type": "scatterpolargl"
           }
          ],
          "scatterternary": [
           {
            "marker": {
             "colorbar": {
              "outlinewidth": 0,
              "ticks": ""
             }
            },
            "type": "scatterternary"
           }
          ],
          "surface": [
           {
            "colorbar": {
             "outlinewidth": 0,
             "ticks": ""
            },
            "colorscale": [
             [
              0,
              "#0d0887"
             ],
             [
              0.1111111111111111,
              "#46039f"
             ],
             [
              0.2222222222222222,
              "#7201a8"
             ],
             [
              0.3333333333333333,
              "#9c179e"
             ],
             [
              0.4444444444444444,
              "#bd3786"
             ],
             [
              0.5555555555555556,
              "#d8576b"
             ],
             [
              0.6666666666666666,
              "#ed7953"
             ],
             [
              0.7777777777777778,
              "#fb9f3a"
             ],
             [
              0.8888888888888888,
              "#fdca26"
             ],
             [
              1,
              "#f0f921"
             ]
            ],
            "type": "surface"
           }
          ],
          "table": [
           {
            "cells": {
             "fill": {
              "color": "#EBF0F8"
             },
             "line": {
              "color": "white"
             }
            },
            "header": {
             "fill": {
              "color": "#C8D4E3"
             },
             "line": {
              "color": "white"
             }
            },
            "type": "table"
           }
          ]
         },
         "layout": {
          "annotationdefaults": {
           "arrowcolor": "#2a3f5f",
           "arrowhead": 0,
           "arrowwidth": 1
          },
          "autotypenumbers": "strict",
          "coloraxis": {
           "colorbar": {
            "outlinewidth": 0,
            "ticks": ""
           }
          },
          "colorscale": {
           "diverging": [
            [
             0,
             "#8e0152"
            ],
            [
             0.1,
             "#c51b7d"
            ],
            [
             0.2,
             "#de77ae"
            ],
            [
             0.3,
             "#f1b6da"
            ],
            [
             0.4,
             "#fde0ef"
            ],
            [
             0.5,
             "#f7f7f7"
            ],
            [
             0.6,
             "#e6f5d0"
            ],
            [
             0.7,
             "#b8e186"
            ],
            [
             0.8,
             "#7fbc41"
            ],
            [
             0.9,
             "#4d9221"
            ],
            [
             1,
             "#276419"
            ]
           ],
           "sequential": [
            [
             0,
             "#0d0887"
            ],
            [
             0.1111111111111111,
             "#46039f"
            ],
            [
             0.2222222222222222,
             "#7201a8"
            ],
            [
             0.3333333333333333,
             "#9c179e"
            ],
            [
             0.4444444444444444,
             "#bd3786"
            ],
            [
             0.5555555555555556,
             "#d8576b"
            ],
            [
             0.6666666666666666,
             "#ed7953"
            ],
            [
             0.7777777777777778,
             "#fb9f3a"
            ],
            [
             0.8888888888888888,
             "#fdca26"
            ],
            [
             1,
             "#f0f921"
            ]
           ],
           "sequentialminus": [
            [
             0,
             "#0d0887"
            ],
            [
             0.1111111111111111,
             "#46039f"
            ],
            [
             0.2222222222222222,
             "#7201a8"
            ],
            [
             0.3333333333333333,
             "#9c179e"
            ],
            [
             0.4444444444444444,
             "#bd3786"
            ],
            [
             0.5555555555555556,
             "#d8576b"
            ],
            [
             0.6666666666666666,
             "#ed7953"
            ],
            [
             0.7777777777777778,
             "#fb9f3a"
            ],
            [
             0.8888888888888888,
             "#fdca26"
            ],
            [
             1,
             "#f0f921"
            ]
           ]
          },
          "colorway": [
           "#636efa",
           "#EF553B",
           "#00cc96",
           "#ab63fa",
           "#FFA15A",
           "#19d3f3",
           "#FF6692",
           "#B6E880",
           "#FF97FF",
           "#FECB52"
          ],
          "font": {
           "color": "#2a3f5f"
          },
          "geo": {
           "bgcolor": "white",
           "lakecolor": "white",
           "landcolor": "#E5ECF6",
           "showlakes": true,
           "showland": true,
           "subunitcolor": "white"
          },
          "hoverlabel": {
           "align": "left"
          },
          "hovermode": "closest",
          "mapbox": {
           "style": "light"
          },
          "paper_bgcolor": "white",
          "plot_bgcolor": "#E5ECF6",
          "polar": {
           "angularaxis": {
            "gridcolor": "white",
            "linecolor": "white",
            "ticks": ""
           },
           "bgcolor": "#E5ECF6",
           "radialaxis": {
            "gridcolor": "white",
            "linecolor": "white",
            "ticks": ""
           }
          },
          "scene": {
           "xaxis": {
            "backgroundcolor": "#E5ECF6",
            "gridcolor": "white",
            "gridwidth": 2,
            "linecolor": "white",
            "showbackground": true,
            "ticks": "",
            "zerolinecolor": "white"
           },
           "yaxis": {
            "backgroundcolor": "#E5ECF6",
            "gridcolor": "white",
            "gridwidth": 2,
            "linecolor": "white",
            "showbackground": true,
            "ticks": "",
            "zerolinecolor": "white"
           },
           "zaxis": {
            "backgroundcolor": "#E5ECF6",
            "gridcolor": "white",
            "gridwidth": 2,
            "linecolor": "white",
            "showbackground": true,
            "ticks": "",
            "zerolinecolor": "white"
           }
          },
          "shapedefaults": {
           "line": {
            "color": "#2a3f5f"
           }
          },
          "ternary": {
           "aaxis": {
            "gridcolor": "white",
            "linecolor": "white",
            "ticks": ""
           },
           "baxis": {
            "gridcolor": "white",
            "linecolor": "white",
            "ticks": ""
           },
           "bgcolor": "#E5ECF6",
           "caxis": {
            "gridcolor": "white",
            "linecolor": "white",
            "ticks": ""
           }
          },
          "title": {
           "x": 0.05
          },
          "xaxis": {
           "automargin": true,
           "gridcolor": "white",
           "linecolor": "white",
           "ticks": "",
           "title": {
            "standoff": 15
           },
           "zerolinecolor": "white",
           "zerolinewidth": 2
          },
          "yaxis": {
           "automargin": true,
           "gridcolor": "white",
           "linecolor": "white",
           "ticks": "",
           "title": {
            "standoff": 15
           },
           "zerolinecolor": "white",
           "zerolinewidth": 2
          }
         }
        },
        "xaxis": {
         "anchor": "y",
         "domain": [
          0,
          1
         ],
         "title": {
          "text": "output_power"
         }
        },
        "yaxis": {
         "anchor": "x",
         "domain": [
          0,
          1
         ],
         "title": {
          "text": "count"
         }
        }
       }
      },
      "text/html": [
       "<div>                            <div id=\"36cc44b5-5925-438e-98e4-76fa48f08ecf\" class=\"plotly-graph-div\" style=\"height:525px; width:100%;\"></div>            <script type=\"text/javascript\">                require([\"plotly\"], function(Plotly) {                    window.PLOTLYENV=window.PLOTLYENV || {};                                    if (document.getElementById(\"36cc44b5-5925-438e-98e4-76fa48f08ecf\")) {                    Plotly.newPlot(                        \"36cc44b5-5925-438e-98e4-76fa48f08ecf\",                        [{\"alignmentgroup\":\"True\",\"bingroup\":\"x\",\"hovertemplate\":\"output_power=%{x}<br>count=%{y}<extra></extra>\",\"legendgroup\":\"\",\"marker\":{\"color\":\"#636efa\",\"pattern\":{\"shape\":\"\"}},\"name\":\"\",\"offsetgroup\":\"\",\"orientation\":\"v\",\"showlegend\":false,\"x\":[1939,157,127,251,1089,3855,28,29,2486,71,-43,822,281,364,12483,1115,3095,311,1234,1356,1325,69,2365,65,793,2189,2148,56,1987,1010,27,40,134,352,465,832,1520,1836,1414,2659,167,5257,374,-34,91,5,379,92,42,411,2251,305,497,728,16,1225,482,75,672,453,1011,92,107,487,822,322,43,730,4450,-795,6017,485,399,5042,6035,3725,103,2100,3397,32,651,1309,240,377,1535,397,3387,230,395,1013,2837,3689,797,1223,2630,118,172,374,6197,238,34,226,2203,888,1148,69,695,1293,2322,1957,622,2447,2826,2026,130,544,1525,37,1543,6413,781,1366,1142,431,2301,74,106,9,984,9600,-783,12162,1745,931,3352,4664,1160,2808,2426,95,1729,311,1074,53,203,1592,4110,14,2588,1565,978,70,401,5680,3351,64,2144,114,38,7243,6862,443,1305,644,459,8330,188,1422,982,117,5051,192,-41,149,28,541,566,6485,227,10813,298,112,459,396,261,468,2490,984,226,713,28,163,125,1710,77,206,189,77,76,-8,41,775,563,60,374,412,212,3342,466,115,5830,1080,10782,2057,571,1623,110,12027,268,101,3270,3639,206,3620,198,994,1814,151,487,5770,12014,844,1909,1313,1876,2438,247,9652,87,2298,2062,2577,-27,5960,8463,8433,486,138,596,480,893,2706,13,7,52,822,4796,67,182,5240,311,4118,90,1525,66,660,5712,720,75,945,1421,147,90,532,997,2099,441,474,150,144,448,237,2646,243,6978,731,1937,300,3501,1812,635,6974,70,210,340,92,1055,58,1173,2943,6,506,304,652,361,95,656,2914,2003,2131,240,-754,4180,4394,946,4420,128,169,12345,55,1623,3274,3245,651,5468,247,161,1104,467,10139,4459,3489,287,2524,102,1602,639,227,414,73,334,346,121,4,4416,-22,267,568,57,839,11675,4825,148,2885,520,2097,91,879,8090,672,293,8912,481,7034,7119,11344,3369,2754,5369,1220,2879,472,402,1648,91,6896,840,1497,371,-25,735,130,8211,73,241,513,2058,284,2404,3917,34,756,2662,16,900,887,9003,1233,69,712,92,255,2411,2397,11007,8352,2624,41,106,1865,933,3644,26,535,78,784,1331,2655,254,1664,5402,482,94,8421,47,361,3815,203,1366,3090,240,568,1632,830,10737,1067,2881,495,908,870,708,1294,6952,1203,5729,3960,136,463,522,1891,674,-786,8147,2839,201,648,2638,1273,1154,2475,875,757,994,2557,442,104,-782,120,878,287,2828,21,-8,-8,510,406,2869,157,249,1611,3356,2787,4919,183,993,1306,47,1017,1533,54,267,182,-53,537,548,1095,202,37,4333,4580,6603,3022,18,495,-6,877,1251,12334,165,4539,826,-10,577,1446,3020,145,12303,193,1274,8,25,-18,295,7978,3672,83,205,6535,17,1234,-826,1057,2770,139,12231,1523,91,736,467,266,117,139,5052,103,1382,917,34,237,169,9753,3029,386,213,317,5962,-4,525,1071,4040,1387,41,10795,1611,781,11525,6663,1595,168,606,142,290,4418,869,800,42,200,898,2791,10392,10496,49,777,157,637,1821,254,1857,-3,425,1132,43,-3,1622,4193,4825,942,3213,930,96,1207,1371,1292,22,50,1079,12227,9234,897,596,29,712,1018,9737,163,80,9,100,2835,326,1905,6548,6145,850,2830,454,3122,215,1603,1464,1582,11021,6148,564,390,528,296,198,1474,93,1708,315,12241,4318,279,6801,357,1015,253,-62,1248,190,907,2223,290,1,4752,701,2180,6901,3080,1,31,11082,502,401,513,19,672,630,127,319,433,328,2109,3723,2028,497,-11,260,245,109,1826,-19,7,53,12146,498,1442,7124,1281,231,922,341,23,1705,107,5273,2106,107,15,1087,468,11331,18,318,1413,707,40,12257,555,4999,-2,1293,1622,112,10754,960,-15,532,17,4244,1760,167,3754,1247,72,3768,1061,198,147,2549,2532,408,41,275,468,1299,132,645,5909,675,859,728,3210,645,658,2664,204,659,480,-18,55,675,1421,910,944,189,832,40,8500,57,9,1018,2323,339,-3,873,708,42,53,509,150,697,1259,79,102,467,1160,3762,39,74,278,1466,718,686,55,159,299,-10,841,900,32,694,99,985,4525,1830,153,10882,1261,686,650,1469,1473,1995,78,3189,4360,-30,8194,1545,797,615,1185,3752,1711,831,23,55,131,342,3547,50,90,4,1272,10863,1204,12290,472,113,481,-24,0,136,246,1666,3773,294,14,539,297,293,11813,-42,1719,65,87,3628,737,11492,234,543,206,646,523,284,-20,431,640,472,2476,6109,3658,3160,484,8807,581,9790,3355,358,356,56,1547,1632,368,631,5076,12473,163,1485,0,3304,2718,987,1797,119,1558,46,-42,1452,1314,2563,32,10405,8620,498,783,1519,1431,2894,949,4158,4348,1337,-2,3873,10958,507,336,735,349,1264,1580,3001,5529,6826,8469,3971,900,2034,8197,3817,1015,1630,8214,448,589,561,3765,126,363,7972,9335,278,397,1360,21,69,4,518,936,740,1937,355,-773,2131,994,157,757,660,455,39,68,121,1187,2181,2819,380,823,4022,2103,131,5786,953,139,146,820,10843,695,7484,106,3285,675,42,4965,31,1352,1027,3939,6057,65,1424,49,173,10809,12493,17,382,1201,5122,509,-87,9806,268,66,11,2933,316,10410],\"xaxis\":\"x\",\"yaxis\":\"y\",\"type\":\"histogram\"}],                        {\"template\":{\"data\":{\"histogram2dcontour\":[{\"type\":\"histogram2dcontour\",\"colorbar\":{\"outlinewidth\":0,\"ticks\":\"\"},\"colorscale\":[[0.0,\"#0d0887\"],[0.1111111111111111,\"#46039f\"],[0.2222222222222222,\"#7201a8\"],[0.3333333333333333,\"#9c179e\"],[0.4444444444444444,\"#bd3786\"],[0.5555555555555556,\"#d8576b\"],[0.6666666666666666,\"#ed7953\"],[0.7777777777777778,\"#fb9f3a\"],[0.8888888888888888,\"#fdca26\"],[1.0,\"#f0f921\"]]}],\"choropleth\":[{\"type\":\"choropleth\",\"colorbar\":{\"outlinewidth\":0,\"ticks\":\"\"}}],\"histogram2d\":[{\"type\":\"histogram2d\",\"colorbar\":{\"outlinewidth\":0,\"ticks\":\"\"},\"colorscale\":[[0.0,\"#0d0887\"],[0.1111111111111111,\"#46039f\"],[0.2222222222222222,\"#7201a8\"],[0.3333333333333333,\"#9c179e\"],[0.4444444444444444,\"#bd3786\"],[0.5555555555555556,\"#d8576b\"],[0.6666666666666666,\"#ed7953\"],[0.7777777777777778,\"#fb9f3a\"],[0.8888888888888888,\"#fdca26\"],[1.0,\"#f0f921\"]]}],\"heatmap\":[{\"type\":\"heatmap\",\"colorbar\":{\"outlinewidth\":0,\"ticks\":\"\"},\"colorscale\":[[0.0,\"#0d0887\"],[0.1111111111111111,\"#46039f\"],[0.2222222222222222,\"#7201a8\"],[0.3333333333333333,\"#9c179e\"],[0.4444444444444444,\"#bd3786\"],[0.5555555555555556,\"#d8576b\"],[0.6666666666666666,\"#ed7953\"],[0.7777777777777778,\"#fb9f3a\"],[0.8888888888888888,\"#fdca26\"],[1.0,\"#f0f921\"]]}],\"heatmapgl\":[{\"type\":\"heatmapgl\",\"colorbar\":{\"outlinewidth\":0,\"ticks\":\"\"},\"colorscale\":[[0.0,\"#0d0887\"],[0.1111111111111111,\"#46039f\"],[0.2222222222222222,\"#7201a8\"],[0.3333333333333333,\"#9c179e\"],[0.4444444444444444,\"#bd3786\"],[0.5555555555555556,\"#d8576b\"],[0.6666666666666666,\"#ed7953\"],[0.7777777777777778,\"#fb9f3a\"],[0.8888888888888888,\"#fdca26\"],[1.0,\"#f0f921\"]]}],\"contourcarpet\":[{\"type\":\"contourcarpet\",\"colorbar\":{\"outlinewidth\":0,\"ticks\":\"\"}}],\"contour\":[{\"type\":\"contour\",\"colorbar\":{\"outlinewidth\":0,\"ticks\":\"\"},\"colorscale\":[[0.0,\"#0d0887\"],[0.1111111111111111,\"#46039f\"],[0.2222222222222222,\"#7201a8\"],[0.3333333333333333,\"#9c179e\"],[0.4444444444444444,\"#bd3786\"],[0.5555555555555556,\"#d8576b\"],[0.6666666666666666,\"#ed7953\"],[0.7777777777777778,\"#fb9f3a\"],[0.8888888888888888,\"#fdca26\"],[1.0,\"#f0f921\"]]}],\"surface\":[{\"type\":\"surface\",\"colorbar\":{\"outlinewidth\":0,\"ticks\":\"\"},\"colorscale\":[[0.0,\"#0d0887\"],[0.1111111111111111,\"#46039f\"],[0.2222222222222222,\"#7201a8\"],[0.3333333333333333,\"#9c179e\"],[0.4444444444444444,\"#bd3786\"],[0.5555555555555556,\"#d8576b\"],[0.6666666666666666,\"#ed7953\"],[0.7777777777777778,\"#fb9f3a\"],[0.8888888888888888,\"#fdca26\"],[1.0,\"#f0f921\"]]}],\"mesh3d\":[{\"type\":\"mesh3d\",\"colorbar\":{\"outlinewidth\":0,\"ticks\":\"\"}}],\"scatter\":[{\"fillpattern\":{\"fillmode\":\"overlay\",\"size\":10,\"solidity\":0.2},\"type\":\"scatter\"}],\"parcoords\":[{\"type\":\"parcoords\",\"line\":{\"colorbar\":{\"outlinewidth\":0,\"ticks\":\"\"}}}],\"scatterpolargl\":[{\"type\":\"scatterpolargl\",\"marker\":{\"colorbar\":{\"outlinewidth\":0,\"ticks\":\"\"}}}],\"bar\":[{\"error_x\":{\"color\":\"#2a3f5f\"},\"error_y\":{\"color\":\"#2a3f5f\"},\"marker\":{\"line\":{\"color\":\"#E5ECF6\",\"width\":0.5},\"pattern\":{\"fillmode\":\"overlay\",\"size\":10,\"solidity\":0.2}},\"type\":\"bar\"}],\"scattergeo\":[{\"type\":\"scattergeo\",\"marker\":{\"colorbar\":{\"outlinewidth\":0,\"ticks\":\"\"}}}],\"scatterpolar\":[{\"type\":\"scatterpolar\",\"marker\":{\"colorbar\":{\"outlinewidth\":0,\"ticks\":\"\"}}}],\"histogram\":[{\"marker\":{\"pattern\":{\"fillmode\":\"overlay\",\"size\":10,\"solidity\":0.2}},\"type\":\"histogram\"}],\"scattergl\":[{\"type\":\"scattergl\",\"marker\":{\"colorbar\":{\"outlinewidth\":0,\"ticks\":\"\"}}}],\"scatter3d\":[{\"type\":\"scatter3d\",\"line\":{\"colorbar\":{\"outlinewidth\":0,\"ticks\":\"\"}},\"marker\":{\"colorbar\":{\"outlinewidth\":0,\"ticks\":\"\"}}}],\"scattermapbox\":[{\"type\":\"scattermapbox\",\"marker\":{\"colorbar\":{\"outlinewidth\":0,\"ticks\":\"\"}}}],\"scatterternary\":[{\"type\":\"scatterternary\",\"marker\":{\"colorbar\":{\"outlinewidth\":0,\"ticks\":\"\"}}}],\"scattercarpet\":[{\"type\":\"scattercarpet\",\"marker\":{\"colorbar\":{\"outlinewidth\":0,\"ticks\":\"\"}}}],\"carpet\":[{\"aaxis\":{\"endlinecolor\":\"#2a3f5f\",\"gridcolor\":\"white\",\"linecolor\":\"white\",\"minorgridcolor\":\"white\",\"startlinecolor\":\"#2a3f5f\"},\"baxis\":{\"endlinecolor\":\"#2a3f5f\",\"gridcolor\":\"white\",\"linecolor\":\"white\",\"minorgridcolor\":\"white\",\"startlinecolor\":\"#2a3f5f\"},\"type\":\"carpet\"}],\"table\":[{\"cells\":{\"fill\":{\"color\":\"#EBF0F8\"},\"line\":{\"color\":\"white\"}},\"header\":{\"fill\":{\"color\":\"#C8D4E3\"},\"line\":{\"color\":\"white\"}},\"type\":\"table\"}],\"barpolar\":[{\"marker\":{\"line\":{\"color\":\"#E5ECF6\",\"width\":0.5},\"pattern\":{\"fillmode\":\"overlay\",\"size\":10,\"solidity\":0.2}},\"type\":\"barpolar\"}],\"pie\":[{\"automargin\":true,\"type\":\"pie\"}]},\"layout\":{\"autotypenumbers\":\"strict\",\"colorway\":[\"#636efa\",\"#EF553B\",\"#00cc96\",\"#ab63fa\",\"#FFA15A\",\"#19d3f3\",\"#FF6692\",\"#B6E880\",\"#FF97FF\",\"#FECB52\"],\"font\":{\"color\":\"#2a3f5f\"},\"hovermode\":\"closest\",\"hoverlabel\":{\"align\":\"left\"},\"paper_bgcolor\":\"white\",\"plot_bgcolor\":\"#E5ECF6\",\"polar\":{\"bgcolor\":\"#E5ECF6\",\"angularaxis\":{\"gridcolor\":\"white\",\"linecolor\":\"white\",\"ticks\":\"\"},\"radialaxis\":{\"gridcolor\":\"white\",\"linecolor\":\"white\",\"ticks\":\"\"}},\"ternary\":{\"bgcolor\":\"#E5ECF6\",\"aaxis\":{\"gridcolor\":\"white\",\"linecolor\":\"white\",\"ticks\":\"\"},\"baxis\":{\"gridcolor\":\"white\",\"linecolor\":\"white\",\"ticks\":\"\"},\"caxis\":{\"gridcolor\":\"white\",\"linecolor\":\"white\",\"ticks\":\"\"}},\"coloraxis\":{\"colorbar\":{\"outlinewidth\":0,\"ticks\":\"\"}},\"colorscale\":{\"sequential\":[[0.0,\"#0d0887\"],[0.1111111111111111,\"#46039f\"],[0.2222222222222222,\"#7201a8\"],[0.3333333333333333,\"#9c179e\"],[0.4444444444444444,\"#bd3786\"],[0.5555555555555556,\"#d8576b\"],[0.6666666666666666,\"#ed7953\"],[0.7777777777777778,\"#fb9f3a\"],[0.8888888888888888,\"#fdca26\"],[1.0,\"#f0f921\"]],\"sequentialminus\":[[0.0,\"#0d0887\"],[0.1111111111111111,\"#46039f\"],[0.2222222222222222,\"#7201a8\"],[0.3333333333333333,\"#9c179e\"],[0.4444444444444444,\"#bd3786\"],[0.5555555555555556,\"#d8576b\"],[0.6666666666666666,\"#ed7953\"],[0.7777777777777778,\"#fb9f3a\"],[0.8888888888888888,\"#fdca26\"],[1.0,\"#f0f921\"]],\"diverging\":[[0,\"#8e0152\"],[0.1,\"#c51b7d\"],[0.2,\"#de77ae\"],[0.3,\"#f1b6da\"],[0.4,\"#fde0ef\"],[0.5,\"#f7f7f7\"],[0.6,\"#e6f5d0\"],[0.7,\"#b8e186\"],[0.8,\"#7fbc41\"],[0.9,\"#4d9221\"],[1,\"#276419\"]]},\"xaxis\":{\"gridcolor\":\"white\",\"linecolor\":\"white\",\"ticks\":\"\",\"title\":{\"standoff\":15},\"zerolinecolor\":\"white\",\"automargin\":true,\"zerolinewidth\":2},\"yaxis\":{\"gridcolor\":\"white\",\"linecolor\":\"white\",\"ticks\":\"\",\"title\":{\"standoff\":15},\"zerolinecolor\":\"white\",\"automargin\":true,\"zerolinewidth\":2},\"scene\":{\"xaxis\":{\"backgroundcolor\":\"#E5ECF6\",\"gridcolor\":\"white\",\"linecolor\":\"white\",\"showbackground\":true,\"ticks\":\"\",\"zerolinecolor\":\"white\",\"gridwidth\":2},\"yaxis\":{\"backgroundcolor\":\"#E5ECF6\",\"gridcolor\":\"white\",\"linecolor\":\"white\",\"showbackground\":true,\"ticks\":\"\",\"zerolinecolor\":\"white\",\"gridwidth\":2},\"zaxis\":{\"backgroundcolor\":\"#E5ECF6\",\"gridcolor\":\"white\",\"linecolor\":\"white\",\"showbackground\":true,\"ticks\":\"\",\"zerolinecolor\":\"white\",\"gridwidth\":2}},\"shapedefaults\":{\"line\":{\"color\":\"#2a3f5f\"}},\"annotationdefaults\":{\"arrowcolor\":\"#2a3f5f\",\"arrowhead\":0,\"arrowwidth\":1},\"geo\":{\"bgcolor\":\"white\",\"landcolor\":\"#E5ECF6\",\"subunitcolor\":\"white\",\"showland\":true,\"showlakes\":true,\"lakecolor\":\"white\"},\"title\":{\"x\":0.05},\"mapbox\":{\"style\":\"light\"}}},\"xaxis\":{\"anchor\":\"y\",\"domain\":[0.0,1.0],\"title\":{\"text\":\"output_power\"}},\"yaxis\":{\"anchor\":\"x\",\"domain\":[0.0,1.0],\"title\":{\"text\":\"count\"}},\"legend\":{\"tracegroupgap\":0},\"margin\":{\"t\":60},\"barmode\":\"relative\"},                        {\"responsive\": true}                    ).then(function(){\n",
       "                            \n",
       "var gd = document.getElementById('36cc44b5-5925-438e-98e4-76fa48f08ecf');\n",
       "var x = new MutationObserver(function (mutations, observer) {{\n",
       "        var display = window.getComputedStyle(gd).display;\n",
       "        if (!display || display === 'none') {{\n",
       "            console.log([gd, 'removed!']);\n",
       "            Plotly.purge(gd);\n",
       "            observer.disconnect();\n",
       "        }}\n",
       "}});\n",
       "\n",
       "// Listen for the removal of the full notebook cells\n",
       "var notebookContainer = gd.closest('#notebook-container');\n",
       "if (notebookContainer) {{\n",
       "    x.observe(notebookContainer, {childList: true});\n",
       "}}\n",
       "\n",
       "// Listen for the clearing of the current output cell\n",
       "var outputEl = gd.closest('.output');\n",
       "if (outputEl) {{\n",
       "    x.observe(outputEl, {childList: true});\n",
       "}}\n",
       "\n",
       "                        })                };                });            </script>        </div>"
      ]
     },
     "metadata": {},
     "output_type": "display_data"
    }
   ],
   "source": [
    "fig = px.histogram(flat_power.sample(n=1000, random_state=1),x=\"output_power\")\n",
    "fig.show()"
   ]
  },
  {
   "cell_type": "code",
   "execution_count": 106,
   "id": "59c63ca4",
   "metadata": {},
   "outputs": [],
   "source": [
    "#fig = px.histogram(bergey_data,x=\"output_power_mean\",facet_col=\"tid\",facet_col_wrap=6)\n",
    "#fig.show()"
   ]
  },
  {
   "cell_type": "code",
   "execution_count": 101,
   "id": "c4a4ef51",
   "metadata": {},
   "outputs": [
    {
     "data": {
      "text/html": [
       "<div>\n",
       "<style scoped>\n",
       "    .dataframe tbody tr th:only-of-type {\n",
       "        vertical-align: middle;\n",
       "    }\n",
       "\n",
       "    .dataframe tbody tr th {\n",
       "        vertical-align: top;\n",
       "    }\n",
       "\n",
       "    .dataframe thead th {\n",
       "        text-align: right;\n",
       "    }\n",
       "</style>\n",
       "<table border=\"1\" class=\"dataframe\">\n",
       "  <thead>\n",
       "    <tr style=\"text-align: right;\">\n",
       "      <th></th>\n",
       "      <th>packet_date</th>\n",
       "      <th>output_power_mean</th>\n",
       "      <th>output_power_list</th>\n",
       "      <th>tid</th>\n",
       "      <th>windspeed_mps</th>\n",
       "    </tr>\n",
       "  </thead>\n",
       "  <tbody>\n",
       "    <tr>\n",
       "      <th>0</th>\n",
       "      <td>2018-06-30 00:00:00+00:00</td>\n",
       "      <td>1841.533333</td>\n",
       "      <td>[4549, 3890, 1974, 1506, 1017, 1521, 1772, 102...</td>\n",
       "      <td>t007</td>\n",
       "      <td>1.863636</td>\n",
       "    </tr>\n",
       "    <tr>\n",
       "      <th>1</th>\n",
       "      <td>2018-06-30 00:05:00+00:00</td>\n",
       "      <td>1855.800000</td>\n",
       "      <td>[957, 1124, 2295, 3253, 3073, 2366, 1592, 2020...</td>\n",
       "      <td>t007</td>\n",
       "      <td>1.863636</td>\n",
       "    </tr>\n",
       "    <tr>\n",
       "      <th>2</th>\n",
       "      <td>2018-06-30 00:10:00+00:00</td>\n",
       "      <td>1355.800000</td>\n",
       "      <td>[1095, 286, 400, 271, 462, 275, 291, 153, 2397...</td>\n",
       "      <td>t007</td>\n",
       "      <td>1.449495</td>\n",
       "    </tr>\n",
       "    <tr>\n",
       "      <th>3</th>\n",
       "      <td>2018-06-30 00:15:00+00:00</td>\n",
       "      <td>1495.933333</td>\n",
       "      <td>[966, 856, 882, 535, 539, 3131, 1868, 1318, 17...</td>\n",
       "      <td>t007</td>\n",
       "      <td>1.449495</td>\n",
       "    </tr>\n",
       "    <tr>\n",
       "      <th>4</th>\n",
       "      <td>2018-06-30 00:20:00+00:00</td>\n",
       "      <td>1740.300000</td>\n",
       "      <td>[2543, 2119, 880, 1731, 2749, 1717, 921, 818, ...</td>\n",
       "      <td>t007</td>\n",
       "      <td>1.656566</td>\n",
       "    </tr>\n",
       "  </tbody>\n",
       "</table>\n",
       "</div>"
      ],
      "text/plain": [
       "                packet_date  output_power_mean  \\\n",
       "0 2018-06-30 00:00:00+00:00        1841.533333   \n",
       "1 2018-06-30 00:05:00+00:00        1855.800000   \n",
       "2 2018-06-30 00:10:00+00:00        1355.800000   \n",
       "3 2018-06-30 00:15:00+00:00        1495.933333   \n",
       "4 2018-06-30 00:20:00+00:00        1740.300000   \n",
       "\n",
       "                                   output_power_list   tid  windspeed_mps  \n",
       "0  [4549, 3890, 1974, 1506, 1017, 1521, 1772, 102...  t007       1.863636  \n",
       "1  [957, 1124, 2295, 3253, 3073, 2366, 1592, 2020...  t007       1.863636  \n",
       "2  [1095, 286, 400, 271, 462, 275, 291, 153, 2397...  t007       1.449495  \n",
       "3  [966, 856, 882, 535, 539, 3131, 1868, 1318, 17...  t007       1.449495  \n",
       "4  [2543, 2119, 880, 1731, 2749, 1717, 921, 818, ...  t007       1.656566  "
      ]
     },
     "execution_count": 101,
     "metadata": {},
     "output_type": "execute_result"
    }
   ],
   "source": [
    "# Apply to full turbine data - note divide by 1000 to convert Watts to kW\n",
    "\n",
    "# Note we are not specifically dealing with cases where power is beyond the power curve or below the minimum\n",
    "\n",
    "# Sampling two hundred points from the interpolated function\n",
    "# allows us to invert with an approximate accuracy of 20.5/200 or 0.1\n",
    "ws2 = np.linspace(0, 20.5, num=100)\n",
    "pc2 = powercurve_intrp(ws2)\n",
    "bergey_data[\"windspeed_mps\"] = (bergey_data[\"output_power_mean\"]/1000).map(lambda x: ws2[np.abs(pc2 - x).argmin()] )\n",
    "bergey_data.head()"
   ]
  },
  {
   "cell_type": "code",
   "execution_count": 105,
   "id": "c7c8df23",
   "metadata": {},
   "outputs": [],
   "source": [
    "# Save out compressed CSV as a checkpoint\n",
    "bergey_data[[\"tid\",\"packet_date\",\"output_power_mean\",\"windspeed_mps\"]].\\\n",
    "    to_csv(\"01 Bergey Turbine Data/prepared_and_combined.csv.bz2\",index=False)"
   ]
  },
  {
   "cell_type": "markdown",
   "id": "af4c1c0a",
   "metadata": {},
   "source": [
    "### Fetch Corresponding Wind Toolkit Data and Merge\n",
    "\n",
    "Todo"
   ]
  }
 ],
 "metadata": {
  "kernelspec": {
   "display_name": "Python 3 (ipykernel)",
   "language": "python",
   "name": "python3"
  },
  "language_info": {
   "codemirror_mode": {
    "name": "ipython",
    "version": 3
   },
   "file_extension": ".py",
   "mimetype": "text/x-python",
   "name": "python",
   "nbconvert_exporter": "python",
   "pygments_lexer": "ipython3",
   "version": "3.8.16"
  }
 },
 "nbformat": 4,
 "nbformat_minor": 5
}
