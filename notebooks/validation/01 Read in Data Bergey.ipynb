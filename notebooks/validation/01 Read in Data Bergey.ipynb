{
 "cells": [
  {
   "cell_type": "markdown",
   "id": "8a171759-498a-4764-a6af-1db425889016",
   "metadata": {},
   "source": [
    "Jenna Ruzekowicz (jenna.ruzekowicz@nrel.gov) and Caleb Phillips (caleb.phillips@nrel.gov)\n",
    "\n",
    "The purpose of this notebook is to read in two sets of data over the same time period for comparison:\n",
    "1) WTK-LED data\n",
    "2) Either: \n",
    "    a) power output and/or wind speed data from turbine(s) \n",
    "    b) wind speed measurements from met tower(s)\n",
    "\n",
    "Data sets are matched on location and time stamp.\n",
    "\n",
    "A combined and labeled dataframe will be exported to a csv file in the \"01Data\" folder. The naming convention for the csv file will be as follows: source_lat_lon_startdate_enddate.csv\n",
    "where source is either \"bergey\", \"oneenergy\"..."
   ]
  },
  {
   "cell_type": "markdown",
   "id": "5e55fa66-f649-44db-af06-9dd49f941cf9",
   "metadata": {},
   "source": [
    "Notes: \n",
    "Might need to install Rex if it isn't installed already:\n",
    "conda install nrel-rex --channel=nrel\n",
    "\n",
    "More about rex: https://github.com/NREL/rex\n",
    "2018 5-min monthly h5 (the file you referenced on the 21st):\n",
    "/campaign/tap/CONUS/wtk/5min/2018/{month}/conus_2018-{month}.h5\n",
    " \n",
    "2018 5-min yearly h5 slices:\n",
    "/shared-projects/wtk-led/CONUS/wtk/2018/yearly_h5/conus_2018_{height}m.h5\n",
    " \n",
    "2019 60-min yearly h5:\n",
    "/campaign/tap/CONUS/wtk/60min/2019/conus_2019.h5"
   ]
  },
  {
   "cell_type": "code",
   "execution_count": 1,
   "id": "8eb19799-e2a7-41e5-89ef-ca1f2d546735",
   "metadata": {},
   "outputs": [],
   "source": [
    "import numpy as np\n",
    "import pandas as pd\n",
    "import geopandas as gpd\n",
    "from rex.resource_extraction import MultiYearWindX\n",
    "from dw_tap.data_fetching import get_data_wtk_led_on_eagle"
   ]
  },
  {
   "cell_type": "code",
   "execution_count": null,
   "id": "37c41f4f-fbc7-44ec-873d-0b62ec1485e0",
   "metadata": {},
   "outputs": [],
   "source": []
  }
 ],
 "metadata": {
  "kernelspec": {
   "display_name": "dw-tap",
   "language": "python",
   "name": "dw-tap"
  },
  "language_info": {
   "codemirror_mode": {
    "name": "ipython",
    "version": 3
   },
   "file_extension": ".py",
   "mimetype": "text/x-python",
   "name": "python",
   "nbconvert_exporter": "python",
   "pygments_lexer": "ipython3",
   "version": "3.8.16"
  }
 },
 "nbformat": 4,
 "nbformat_minor": 5
}
