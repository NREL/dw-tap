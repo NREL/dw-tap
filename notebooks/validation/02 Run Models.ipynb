{
 "cells": [
  {
   "cell_type": "markdown",
   "id": "66d3dde6",
   "metadata": {},
   "source": [
    "## Compute Metrics\n",
    "\n",
    "Jenna Ruzekowicz (jenna.ruzekowicz@nrel.gov) and Caleb Phillips (caleb.phillips@nrel.gov)\n",
    "\n",
    "The purpose of this notebook is to read in inflow data and run the various models we are testing for the same time\n",
    "period and frequency as that of the observational data.\n",
    "\n",
    "Step 2 will read the data from step 1, run the models and produce corresponding files as output, e.g.:\n",
    "\n",
    " > anl_[bergey|oneenergy]_site_{x}_[h]m.csv\n",
    "  \n",
    " > datetime_yyyymmddhhmmss,windspeed_mps,winddir_deg"
   ]
  },
  {
   "cell_type": "code",
   "execution_count": 1,
   "id": "532eb696",
   "metadata": {},
   "outputs": [
    {
     "ename": "ModuleNotFoundError",
     "evalue": "No module named 'tqdm'",
     "output_type": "error",
     "traceback": [
      "\u001b[0;31m---------------------------------------------------------------------------\u001b[0m",
      "\u001b[0;31mModuleNotFoundError\u001b[0m                       Traceback (most recent call last)",
      "Cell \u001b[0;32mIn[1], line 4\u001b[0m\n\u001b[1;32m      2\u001b[0m \u001b[38;5;28;01mimport\u001b[39;00m \u001b[38;5;21;01mperera\u001b[39;00m\n\u001b[1;32m      3\u001b[0m \u001b[38;5;28;01mimport\u001b[39;00m \u001b[38;5;21;01mpandas\u001b[39;00m \u001b[38;5;28;01mas\u001b[39;00m \u001b[38;5;21;01mpd\u001b[39;00m\n\u001b[0;32m----> 4\u001b[0m \u001b[38;5;28;01mfrom\u001b[39;00m \u001b[38;5;21;01mtqdm\u001b[39;00m \u001b[38;5;28;01mimport\u001b[39;00m tqdm\n",
      "\u001b[0;31mModuleNotFoundError\u001b[0m: No module named 'tqdm'"
     ]
    }
   ],
   "source": [
    "import common\n",
    "import perera\n",
    "import pandas as pd\n",
    "from tqdm import tqdm"
   ]
  }
 ],
 "metadata": {
  "kernelspec": {
   "display_name": "Python 3 (ipykernel)",
   "language": "python",
   "name": "python3"
  },
  "language_info": {
   "codemirror_mode": {
    "name": "ipython",
    "version": 3
   },
   "file_extension": ".py",
   "mimetype": "text/x-python",
   "name": "python",
   "nbconvert_exporter": "python",
   "pygments_lexer": "ipython3",
   "version": "3.8.16"
  }
 },
 "nbformat": 4,
 "nbformat_minor": 5
}
