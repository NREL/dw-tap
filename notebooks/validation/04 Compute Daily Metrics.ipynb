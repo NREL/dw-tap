{
 "cells": [
  {
   "cell_type": "markdown",
   "id": "1f59f1c2",
   "metadata": {},
   "source": [
    "## Performance Analysis for Daily Energy Production\n",
    "\n",
    "Caleb Phillips (caleb.phillips@nrel.gov)\n",
    "\n",
    "The purpose of this notebook is to read in computed predictions and compare them to actual observations, computing metrics. "
   ]
  },
  {
   "cell_type": "code",
   "execution_count": null,
   "id": "9c63dbfe",
   "metadata": {},
   "outputs": [],
   "source": [
    "from common import *\n",
    "import pandas as pd\n",
    "import numpy as np\n",
    "from tqdm import tqdm\n",
    "import glob\n",
    "import re\n",
    "from dw_tap.power_output import estimate_power_output\n",
    "import os.path\n",
    "import importlib\n",
    "import power_output\n",
    "import site_index\n",
    "import plotly.express as px\n",
    "plotly.offline.init_notebook_mode()"
   ]
  },
  {
   "cell_type": "code",
   "execution_count": null,
   "id": "af6a44ac",
   "metadata": {},
   "outputs": [],
   "source": [
    "index = site_index.SiteIndex()"
   ]
  },
  {
   "cell_type": "markdown",
   "id": "766d6704",
   "metadata": {},
   "source": [
    "### Load Ground Truth (Bergey Daily Data)"
   ]
  },
  {
   "cell_type": "code",
   "execution_count": null,
   "id": "ee86bc62",
   "metadata": {},
   "outputs": [],
   "source": [
    "daily_bergey = pd.read_csv(\"01 Bergey Turbine Data/daily_summaries.csv.bz2\")\n",
    "daily_bergey = daily_bergey.merge(index.index[['APRS ID','AID']].rename(columns={'APRS ID':'tid'}))\n",
    "daily_bergey['date'] = pd.to_datetime(daily_bergey['date'],utc=True).dt.date\n",
    "daily_bergey.head()"
   ]
  },
  {
   "cell_type": "markdown",
   "id": "25acb8a8",
   "metadata": {},
   "source": [
    "#### Evaluate faults"
   ]
  },
  {
   "cell_type": "code",
   "execution_count": null,
   "id": "9ad927a6",
   "metadata": {},
   "outputs": [],
   "source": [
    "pd.set_option('display.max_rows', 500)\n",
    "daily_bergey[['soft_grid']].drop_duplicates().head(500)"
   ]
  },
  {
   "cell_type": "code",
   "execution_count": null,
   "id": "6ab41968",
   "metadata": {},
   "outputs": [],
   "source": [
    "daily_bergey[\"fault\"] = \"None\"\n",
    "daily_bergey.loc[daily_bergey['faults'].str.contains(\"FAULT\"),\"fault\"] = \"Fault\"\n",
    "daily_bergey.loc[daily_bergey['faults'].str.contains(\"WAITING INITIALIZING\"),\"fault\"] = \"Reset\"\n",
    "daily_bergey.loc[daily_bergey['faults'].str.contains(\"MANUAL STOP\"),\"fault\"] = \"Stopped\"\n",
    "daily_bergey.loc[daily_bergey['soft_grid'].str.contains(\"%\"),\"fault\"] = \"Curtailed\"\n",
    "daily_bergey[\"fault\"].value_counts()"
   ]
  },
  {
   "cell_type": "markdown",
   "id": "df73a62c",
   "metadata": {},
   "source": [
    "### Load Prediction Data for all Models/Sites"
   ]
  },
  {
   "cell_type": "code",
   "execution_count": null,
   "id": "827f1a58",
   "metadata": {},
   "outputs": [],
   "source": [
    "providers = [\"bergey\"]\n",
    "models = [\"perera\",\"anl\"]\n",
    "wind_sources = [\"wtk\",\"wtk_bc\",\"wtk_led_2018\",\"wtk_led_2019\",\"wtk_led_bc\"]\n",
    "obs_groups = [\"all\",\"bldgsonly\",\"treesasbldgs\"]\n",
    "\n",
    "dfs = []\n",
    "\n",
    "for provider in providers:\n",
    "    for model in models:\n",
    "        for wind_source in wind_sources:\n",
    "            for og in obs_groups:\n",
    "                for tid in index.tids(True):\n",
    "                    fname = f\"03 Model Outputs/{provider}_{model}_{tid}_{wind_source}_{og}.csv.bz2\"\n",
    "                \n",
    "                    if not os.path.exists(fname):\n",
    "                        continue\n",
    "\n",
    "                    print(fname)\n",
    "\n",
    "                    d = pd.read_csv(fname)\n",
    "                    d[\"model\"] = model\n",
    "                    d[\"wind_source\"] = wind_source\n",
    "                    d[\"provider\"] = provider\n",
    "                    d[\"tid\"] = tid\n",
    "                    d[\"obsgroup\"] = og\n",
    "                    dfs.append(d[[\"model\",\"obsgroup\",\"wind_source\",\"provider\",\"tid\",\"datetime\",\"ws-adjusted\"]])\n",
    "\n",
    "                    if model == \"perera\":\n",
    "                        d2 = d.copy()\n",
    "                        d2[\"ws-adjusted\"] = d2[\"ws-adjusted-2\"]\n",
    "                        d2[\"model\"] = \"shelter\"\n",
    "                        d2[\"obsgroup\"] = og\n",
    "                        dfs.append(d2[[\"model\",\"obsgroup\",\"wind_source\",\"provider\",\"tid\",\"datetime\",\"ws-adjusted\"]])\n",
    "\n",
    "                        d3 = d.copy()\n",
    "                        d3[\"ws-adjusted\"] = d3[\"ws-adjusted-3\"]\n",
    "                        d3[\"model\"] = \"shelter+\"\n",
    "                        d3[\"obsgroup\"] = og\n",
    "                        dfs.append(d3[[\"model\",\"obsgroup\",\"wind_source\",\"provider\",\"tid\",\"datetime\",\"ws-adjusted\"]])"
   ]
  },
  {
   "cell_type": "code",
   "execution_count": null,
   "id": "b4c68ae1",
   "metadata": {},
   "outputs": [],
   "source": [
    "# No model data\n",
    "for provider in providers:\n",
    "    for wind_source in tqdm(wind_sources):\n",
    "        if wind_source == \"wtk\":\n",
    "            d = pd.read_csv(\"01 Bergey Turbine Data/wtk.csv.bz2\")\n",
    "            d.rename(columns={\"ws\":\"ws-adjusted\"},inplace=True)\n",
    "            \n",
    "        elif wind_source == \"wtk_led_2018\":\n",
    "            d = pd.read_csv(\"01 Bergey Turbine Data/wtk_led_2018.csv.bz2\")\n",
    "            d.rename(columns={\"ws\":\"ws-adjusted\",\"packet_date\":\"datetime\"},inplace=True)\n",
    "            \n",
    "        elif wind_source == \"wtk_led_2019\":\n",
    "            d = pd.read_csv(\"01 Bergey Turbine Data/wtk_led_2019.csv.bz2\")\n",
    "            d.rename(columns={\"ws\":\"ws-adjusted\",\"packet_date\":\"datetime\"},inplace=True)\n",
    "            \n",
    "        elif wind_source == \"wtk_bc\":\n",
    "            d = pd.read_csv(\"02 Bias Correction/wtk_bc.csv.bz2\")\n",
    "            d.rename(columns={\"ws_bc\":\"ws-adjusted\"},inplace=True)\n",
    "            \n",
    "        elif wind_source == \"wtk_led_bc\":\n",
    "            d = pd.read_csv(\"02 Bias Correction/wtk_led_bc.csv.bz2\")\n",
    "            d.rename(columns={\"ws_bc\":\"ws-adjusted\"},inplace=True)\n",
    "            \n",
    "        else:\n",
    "            print(\"Unsupported wind source\")\n",
    "            \n",
    "        d[\"wind_source\"] = wind_source\n",
    "        d[\"model\"] = \"none\"\n",
    "        d[\"provider\"] = provider\n",
    "        d[\"obsgroup\"] = \"none\"\n",
    "        dfs.append(d[[\"model\",\"obsgroup\",\"wind_source\",\"provider\",\"tid\",\"datetime\",\"ws-adjusted\"]])"
   ]
  },
  {
   "cell_type": "code",
   "execution_count": null,
   "id": "95422103",
   "metadata": {},
   "outputs": [],
   "source": [
    "bigdf = pd.concat(dfs)\n",
    "bigdf.head()"
   ]
  },
  {
   "cell_type": "code",
   "execution_count": null,
   "id": "deea8924",
   "metadata": {},
   "outputs": [],
   "source": [
    "bigdf[\"power_kw\"] = power_output.Bergey10.windspeed_to_kw(bigdf,'ws-adjusted')\n",
    "bigdf['datetime'] = pd.to_datetime(bigdf['datetime'],format=\"%Y-%m-%d %H:%M:%S\",utc=True) # this is slow\n",
    "bigdf['date'] = bigdf['datetime'].dt.date\n",
    "bigdf.head()"
   ]
  },
  {
   "cell_type": "code",
   "execution_count": null,
   "id": "f858fbc4",
   "metadata": {},
   "outputs": [],
   "source": [
    "daily_summaries = bigdf[['model','obsgroup','wind_source','provider','tid','date','power_kw','ws-adjusted']]\\\n",
    "    .groupby(['model','obsgroup','wind_source','provider','tid','date']).agg({ 'power_kw': ['count','sum'], \n",
    "                                                                    'ws-adjusted': ['mean','max','min','median'] })\n",
    "daily_summaries.columns = ['_'.join(col) for col in daily_summaries.columns.values]\n",
    "daily_summaries = daily_summaries.reset_index()\n",
    "# scale the 5 min data so that it is kwh (too)\n",
    "daily_summaries[\"power_kw_sum\"] = daily_summaries[\"power_kw_sum\"]/(daily_summaries[\"power_kw_count\"]/24)\n",
    "daily_summaries.head()"
   ]
  },
  {
   "cell_type": "markdown",
   "id": "67b4992a",
   "metadata": {},
   "source": [
    "### Create Merged Dataframe"
   ]
  },
  {
   "cell_type": "code",
   "execution_count": null,
   "id": "f6877a32",
   "metadata": {},
   "outputs": [],
   "source": [
    "merged_df = daily_summaries.merge(daily_bergey[['date','tid','energy_kwh','fault']],on=['tid','date'])\n",
    "merged_df = merged_df.dropna() # omit days where we are missing data\n",
    "merged_df.head()"
   ]
  },
  {
   "cell_type": "code",
   "execution_count": null,
   "id": "40c75578",
   "metadata": {},
   "outputs": [],
   "source": [
    "# error percent compared to actual generation\n",
    "merged_df[\"relative_error_pct\"] = ((merged_df[\"power_kw_sum\"] - merged_df[\"energy_kwh\"])/merged_df[\"energy_kwh\"])*100 \n",
    "# error percent of max generation\n",
    "merged_df[\"relative_error_pct_of_max\"] = ((merged_df[\"power_kw_sum\"] - merged_df[\"energy_kwh\"])/300)*100 \n",
    "\n",
    "merged_df['date'] = pd.to_datetime(merged_df['date'])\n",
    "merged_df['month'] = merged_df['date'].dt.month\n",
    "merged_df['year'] = merged_df['date'].dt.year\n",
    "merged_df['moyr'] = merged_df['date'].dt.year.astype(str)+\"-\"+merged_df['date'].dt.month.astype(str)"
   ]
  },
  {
   "cell_type": "markdown",
   "id": "a892085d",
   "metadata": {},
   "source": [
    "### Performance Plots: Overall"
   ]
  },
  {
   "cell_type": "code",
   "execution_count": null,
   "id": "dabbf374",
   "metadata": {},
   "outputs": [],
   "source": [
    "filtered_merged_df = merged_df[(merged_df[\"fault\"] == \"None\")]"
   ]
  },
  {
   "cell_type": "code",
   "execution_count": null,
   "id": "dd706a92",
   "metadata": {},
   "outputs": [],
   "source": [
    "fig = px.scatter(filtered_merged_df[filtered_merged_df.obsgroup.isin([\"treesasbldgs\",\"none\"])],\n",
    "                 x=\"energy_kwh\",y=\"power_kw_sum\",\n",
    "                 facet_row=\"model\",facet_col=\"wind_source\",\n",
    "                 labels={\"power_kw_sum\":\"Pred(kwh)\",\"energy_kwh\":\"Obs(kwh)\"})\n",
    "fig.for_each_annotation(lambda a: a.update(text=a.text.split(\"=\")[-1]))\n",
    "fig.show()"
   ]
  },
  {
   "cell_type": "code",
   "execution_count": null,
   "id": "be9a9d3b",
   "metadata": {},
   "outputs": [],
   "source": [
    "fig = px.scatter(filtered_merged_df[filtered_merged_df.obsgroup.isin([\"treesasbldgs\",\"none\"])],\n",
    "                 x=\"energy_kwh\",y=\"power_kw_sum\",\n",
    "                 facet_row=\"model\",facet_col=\"wind_source\",color=\"fault\",\n",
    "                 labels={\"power_kw_sum\":\"Pred(kwh)\",\"energy_kwh\":\"Obs(kwh)\"})\n",
    "fig.update_yaxes(matches=None)\n",
    "fig.update_xaxes(matches=None)\n",
    "fig.for_each_annotation(lambda a: a.update(text=a.text.split(\"=\")[-1]))\n",
    "fig.show()"
   ]
  },
  {
   "cell_type": "code",
   "execution_count": null,
   "id": "ba700b96",
   "metadata": {},
   "outputs": [],
   "source": [
    "fig = px.density_contour(filtered_merged_df[filtered_merged_df.obsgroup.isin([\"treesasbldgs\",\"none\"])],\n",
    "                         x=\"energy_kwh\",y=\"power_kw_sum\",\n",
    "                         facet_row=\"model\",facet_col=\"wind_source\",\n",
    "                         labels={\"power_kw_sum\":\"Pred(kwh)\",\"energy_kwh\":\"Obs(kwh)\"})\n",
    "fig.update_xaxes(range=[0, 40])\n",
    "fig.update_yaxes(range=[0, 40])\n",
    "fig.update_traces(contours_coloring=\"fill\", contours_showlabels = True)\n",
    "fig.for_each_annotation(lambda a: a.update(text=a.text.split(\"=\")[-1]))\n",
    "fig.show()"
   ]
  },
  {
   "cell_type": "code",
   "execution_count": null,
   "id": "bffc48bc",
   "metadata": {},
   "outputs": [],
   "source": [
    "fig = px.box(filtered_merged_df,x=\"model\",y=\"relative_error_pct_of_max\",color=\"wind_source\",\n",
    "             labels={\"relative_error_pct_of_max\":\"Relative Error (%)\",\"model\":\"Model\"},\n",
    "             points=False,title=\"Daily Relative Error (% of Max Production)\")\n",
    "fig.show()"
   ]
  },
  {
   "cell_type": "code",
   "execution_count": null,
   "id": "b61d2e82",
   "metadata": {},
   "outputs": [],
   "source": [
    "fig = px.box(filtered_merged_df,x=\"wind_source\",y=\"relative_error_pct_of_max\",color=\"model\",\n",
    "             labels={\"relative_error_pct_of_max\":\"Relative Error (%)\",\"wind_source\":\"Wind Source\"},\n",
    "             points=False,title=\"Daily Relative Error (% of Max Production)\")\n",
    "fig.show()"
   ]
  },
  {
   "cell_type": "code",
   "execution_count": null,
   "id": "c9034172",
   "metadata": {},
   "outputs": [],
   "source": [
    "# Defining function for 50th Percentile\n",
    "p25 = lambda x: x.quantile(0.25)\n",
    "p75 = lambda x: x.quantile(0.75)\n",
    "safemean = lambda x: np.mean([0 if np.isnan(y) else y for y in x])\n",
    "\n",
    "daily_perf_summary = filtered_merged_df.groupby([\"model\",\"obsgroup\",\"wind_source\"]).\\\n",
    "    agg({ \"relative_error_pct_of_max\": [\"mean\",\"median\",p25,p75] }).\\\n",
    "    rename(columns={\"<lambda_0>\":'25%ile',\"<lambda_1>\":'75%ile'})\n",
    "\n",
    "daily_perf_summary"
   ]
  },
  {
   "cell_type": "code",
   "execution_count": null,
   "id": "c3691dcc",
   "metadata": {},
   "outputs": [],
   "source": [
    "daily_perf_summary.columns = ['_'.join(col) for col in daily_perf_summary.columns.values]\n",
    "daily_perf_summary.reset_index(inplace=True)\n",
    "daily_perf_summary.to_csv(\"04 Error Metrics/bergey_daily_relative_error.csv.bz2\",index=False)"
   ]
  },
  {
   "cell_type": "markdown",
   "id": "ee2e9d1b",
   "metadata": {},
   "source": [
    "#### Daily Results By Site"
   ]
  },
  {
   "cell_type": "code",
   "execution_count": null,
   "id": "25ddaa4f",
   "metadata": {},
   "outputs": [],
   "source": [
    "daily_bysite = filtered_merged_df.groupby([\"model\",\"obsgroup\",\"wind_source\",\"tid\"]).\\\n",
    "    agg({ \"relative_error_pct_of_max\": [\"mean\",\"median\",p25,p75] }).\\\n",
    "    rename(columns={\"<lambda_0>\":'25%ile',\"<lambda_1>\":'75%ile'})\n",
    "daily_bysite.columns = ['_'.join(col) for col in daily_bysite.columns.values]\n",
    "daily_bysite.reset_index(inplace=True)\n",
    "daily_bysite.head()"
   ]
  },
  {
   "cell_type": "code",
   "execution_count": null,
   "id": "7a8e7def",
   "metadata": {},
   "outputs": [],
   "source": [
    "fig = px.bar(daily_bysite[daily_bysite['wind_source'].isin([\"wtk\",\"wtk_bc\"])],x=\"tid\",\n",
    "             y=\"relative_error_pct_of_max_mean\",color=\"model\",facet_col=\"wind_source\",\n",
    "             facet_row=\"obsgroup\",barmode='group',\n",
    "             labels={\"relative_error_pct_of_max_mean\":\"Relative Error (%)\",\n",
    "                     \"tid\":\"Site\",\"model\":\"Model\"},\n",
    "             title=\"Mean Relative Error in Daily Energy Estimate (% of kwh) by Model/Site\")\n",
    "fig.for_each_annotation(lambda a: a.update(text=a.text.split(\"=\")[-1]))\n",
    "fig.show()"
   ]
  },
  {
   "cell_type": "code",
   "execution_count": null,
   "id": "96c88902",
   "metadata": {},
   "outputs": [],
   "source": [
    "fig = px.bar(daily_bysite[daily_bysite['wind_source'].isin([\"wtk\"]) & daily_bysite['model'].isin([\"anl\",\"none\"])],x=\"tid\",\n",
    "             y=\"relative_error_pct_of_max_mean\",color=\"obsgroup\",barmode='group',\n",
    "             labels={\"relative_error_pct_of_max_mean\":\"Relative Error (%)\",\n",
    "                     \"tid\":\"Site\",\"model\":\"Model\",\"obsgroup\":\"Obstacles\"},\n",
    "             title=\"Mean Relative Error in Daily Energy Estimate (% of kwh) by Model/Site\")\n",
    "fig.for_each_annotation(lambda a: a.update(text=a.text.split(\"=\")[-1]))\n",
    "fig.show()"
   ]
  },
  {
   "cell_type": "code",
   "execution_count": null,
   "id": "dfebd41e",
   "metadata": {},
   "outputs": [],
   "source": [
    "fig = px.box(filtered_merged_df[filtered_merged_df['wind_source'].isin([\"wtk\",\"wtk_bc\"])],x=\"tid\",\n",
    "             y=\"relative_error_pct_of_max\",color=\"model\",facet_row=\"wind_source\",facet_col=\"obsgroup\",\n",
    "             labels={\"relative_error_pct_of_max\":\"Relative Error (%)\",\n",
    "                     \"tid\":\"Site\",\"model\":\"Model\"},points=False,\n",
    "             title=\"Mean Relative Error in Daily Energy Estimate (% of kwh) by Model/Site\")\n",
    "fig.for_each_annotation(lambda a: a.update(text=a.text.split(\"=\")[-1]))\n",
    "fig.show()"
   ]
  },
  {
   "cell_type": "code",
   "execution_count": null,
   "id": "0c8f6d83",
   "metadata": {},
   "outputs": [],
   "source": [
    "fig = px.violin(filtered_merged_df[filtered_merged_df['wind_source'].isin([\"wtk\"]) & filtered_merged_df['model'].isin([\"anl\",\"none\"])],\n",
    "             y=\"tid\",color='obsgroup',\n",
    "             x=\"relative_error_pct_of_max\",facet_row=\"wind_source\",\n",
    "             labels={\"relative_error_pct_of_max\":\"Relative Error (%)\",\n",
    "                     \"tid\":\"Site\",\"obsgroup\":\"Obstacles\"},points=False,\n",
    "             width=700,height=1000,\n",
    "             title=\"Mean Relative Error in Daily Energy Estimate (% of kwh) by Model/Site (WTK Wind Source)\")\n",
    "fig.for_each_annotation(lambda a: a.update(text=a.text.split(\"=\")[-1]))\n",
    "fig.show()"
   ]
  },
  {
   "cell_type": "code",
   "execution_count": null,
   "id": "196d1c4f",
   "metadata": {},
   "outputs": [],
   "source": [
    "fig = px.histogram(filtered_merged_df[filtered_merged_df['wind_source'].isin([\"wtk\"]) & filtered_merged_df['model'].isin([\"anl\",\"none\"])],\n",
    "             x=\"power_kw_sum\",color=\"obsgroup\",facet_col=\"tid\",\n",
    "             labels={\"power_kw_sum\":\"Energy (kwh)\",\n",
    "                     \"tid\":\"Site\",\"obsgroup\":\"Obstacles\"},facet_col_wrap=4)\n",
    "fig.update_yaxes(matches=None)\n",
    "# Overlay both histograms\n",
    "fig.update_layout(barmode='overlay')\n",
    "# Reduce opacity to see both histograms\n",
    "fig.update_traces(opacity=0.75)\n",
    "fig.for_each_annotation(lambda a: a.update(text=a.text.split(\"=\")[-1]))\n",
    "\n",
    "fig.show()"
   ]
  },
  {
   "cell_type": "code",
   "execution_count": null,
   "id": "7c5e9ca6",
   "metadata": {},
   "outputs": [],
   "source": [
    "fig = px.box(filtered_merged_df[filtered_merged_df['wind_source'].isin([\"wtk\"]) & filtered_merged_df['model'].isin([\"anl\",\"none\"])],\n",
    "             x=\"power_kw_sum\",color=\"obsgroup\",y=\"tid\",\n",
    "             labels={\"relative_error_pct_of_max\":\"Relative Error (%)\",\n",
    "                     \"tid\":\"Site\",\"obsgroup\":\"Obstacles\",\n",
    "                     \"power_kw_sum\":\"Daily Energy Estimate (kwh)\"},height=750,points=False)\n",
    "fig.show()"
   ]
  },
  {
   "cell_type": "markdown",
   "id": "f37ca5d7",
   "metadata": {},
   "source": [
    "#### Overall Results by Month and Site"
   ]
  },
  {
   "cell_type": "code",
   "execution_count": null,
   "id": "0875e50a",
   "metadata": {},
   "outputs": [],
   "source": [
    "# Note this includes days with faults, so curtailment, etc. is included\n",
    "bysitebymonth = merged_df.groupby([\"model\",\"obsgroup\",\"wind_source\",\"tid\",\"moyr\",\"month\"]).\\\n",
    "    agg({ \"power_kw_sum\": \"sum\", \"energy_kwh\": \"sum\" })\n",
    "#bysitebymonth.columns = ['_'.join(col) for col in bysitebymonth.columns.values]\n",
    "bysitebymonth.reset_index(inplace=True)\n",
    "# Using 300kwh * 30 days for maximum production in calculation of relative error\n",
    "bysitebymonth[\"relative_error_pct_of_max\"] = ((bysitebymonth[\"power_kw_sum\"] - bysitebymonth[\"energy_kwh\"])/(300*30))*100 \n",
    "bysitebymonth[\"relative_error_pct\"] = ((bysitebymonth[\"power_kw_sum\"] - bysitebymonth[\"energy_kwh\"])/bysitebymonth[\"energy_kwh\"])*100 \n",
    "bysitebymonth"
   ]
  },
  {
   "cell_type": "code",
   "execution_count": null,
   "id": "ee801f62",
   "metadata": {},
   "outputs": [],
   "source": [
    "fig = px.box(bysitebymonth[bysitebymonth['wind_source'].isin([\"wtk\",\"wtk_bc\"]) & bysitebymonth['model'].isin([\"anl\",\"none\"])],x=\"tid\",\n",
    "             y=\"relative_error_pct_of_max\",color=\"obsgroup\",facet_row=\"wind_source\",\n",
    "             labels={\"relative_error_pct_of_max\":\"Relative Error (%)\",\n",
    "                     \"tid\":\"Site\",\"obsgroup\":\"Obstacles\"})\n",
    "fig.for_each_annotation(lambda a: a.update(text=a.text.split(\"=\")[-1]))\n",
    "fig.show()"
   ]
  },
  {
   "cell_type": "code",
   "execution_count": null,
   "id": "4d9df207",
   "metadata": {},
   "outputs": [],
   "source": [
    "fig = px.box(bysitebymonth[bysitebymonth['wind_source'].isin([\"wtk\",\"wtk_bc\"]) & bysitebymonth['model'].isin([\"perera\",\"none\"])],x=\"tid\",\n",
    "             y=\"relative_error_pct_of_max\",color=\"obsgroup\",facet_row=\"wind_source\",\n",
    "             labels={\"relative_error_pct_of_max\":\"Relative Error (%)\",\n",
    "                     \"tid\":\"Site\",\"obsgroup\":\"Obstacles\"})\n",
    "fig.for_each_annotation(lambda a: a.update(text=a.text.split(\"=\")[-1]))\n",
    "fig.show()"
   ]
  },
  {
   "cell_type": "code",
   "execution_count": null,
   "id": "0b6e01bf",
   "metadata": {},
   "outputs": [],
   "source": [
    "p25 = lambda x: x.quantile(0.25)\n",
    "p75 = lambda x: x.quantile(0.75)\n",
    "safemean = lambda x: np.mean([0 if np.isnan(y) else y for y in x])\n",
    "\n",
    "monthly_perf_summary = bysitebymonth[['model','wind_source','obsgroup','relative_error_pct_of_max']].groupby(['model','wind_source','obsgroup']).\\\n",
    "    agg({ \"relative_error_pct_of_max\": [\"mean\",\"median\",p25,p75] }).\\\n",
    "    rename(columns={\"<lambda_0>\":'25%ile',\"<lambda_1>\":'75%ile'})\n",
    "\n",
    "monthly_perf_summary"
   ]
  },
  {
   "cell_type": "code",
   "execution_count": null,
   "id": "9100a71f",
   "metadata": {},
   "outputs": [],
   "source": [
    "monthly_perf_summary.columns = ['_'.join(col) for col in monthly_perf_summary.columns.values]\n",
    "monthly_perf_summary.reset_index(inplace=True)\n",
    "monthly_perf_summary.to_csv(\"04 Error Metrics/bergey_monthly_relative_error.csv.bz2\",index=False)"
   ]
  },
  {
   "cell_type": "markdown",
   "id": "80f0457b",
   "metadata": {},
   "source": [
    "#### Overall Results by Year"
   ]
  },
  {
   "cell_type": "code",
   "execution_count": null,
   "id": "c29d8212",
   "metadata": {},
   "outputs": [],
   "source": [
    "# Note this includes days with faults, so curtailment, etc. is included\n",
    "bysitebyyear = merged_df.groupby([\"model\",\"obsgroup\",\"wind_source\",\"tid\",\"year\"]).\\\n",
    "    agg({ \"power_kw_sum\": \"sum\", \"energy_kwh\": \"sum\" })\n",
    "#bysitebymonth.columns = ['_'.join(col) for col in bysitebymonth.columns.values]\n",
    "bysitebyyear.reset_index(inplace=True)\n",
    "# Using 300kwh * 30 days for maximum production in calculation of relative error\n",
    "bysitebyyear[\"relative_error_pct_of_max\"] = ((bysitebyyear[\"power_kw_sum\"] - bysitebyyear[\"energy_kwh\"])/(300*30))*100 \n",
    "bysitebyyear[\"relative_error_pct\"] = ((bysitebyyear[\"power_kw_sum\"] - bysitebyyear[\"energy_kwh\"])/bysitebyyear[\"energy_kwh\"])*100 \n",
    "bysitebyyear"
   ]
  },
  {
   "cell_type": "code",
   "execution_count": null,
   "id": "256935a2",
   "metadata": {},
   "outputs": [],
   "source": [
    "fig = px.box(bysitebyyear,y=\"relative_error_pct_of_max\",x=\"wind_source\",color=\"model\",facet_row=\"obsgroup\",\n",
    "            labels={\"relative_error_pct_of_max\":\"Error(%)\",\"wind_source\":\"Wind Source\",\"model\":\"Model\"})\n",
    "fig.for_each_annotation(lambda a: a.update(text=a.text.split(\"=\")[-1]))\n",
    "fig.show()"
   ]
  },
  {
   "cell_type": "code",
   "execution_count": null,
   "id": "5891839c",
   "metadata": {},
   "outputs": [],
   "source": [
    "fig = px.box(bysitebyyear[(bysitebyyear[\"wind_source\"].isin([\"wtk\",\"wtk_bc\"]))],y=\"relative_error_pct_of_max\",x=\"wind_source\",color=\"model\",\n",
    "       labels={\"wind_source\":\"Wind Source\",\"pct\": \"Annualized Error Percentage (%)\",\"model\":\"Model\"},\n",
    "      facet_row=\"obsgroup\")\n",
    "fig.for_each_annotation(lambda a: a.update(text=a.text.split(\"=\")[-1]))\n",
    "fig.show()"
   ]
  },
  {
   "cell_type": "code",
   "execution_count": null,
   "id": "05a68e16",
   "metadata": {},
   "outputs": [],
   "source": [
    "p25 = lambda x: x.quantile(0.25)\n",
    "p75 = lambda x: x.quantile(0.75)\n",
    "safemean = lambda x: np.mean([0 if np.isnan(y) else y for y in x])\n",
    "\n",
    "yearly_perf_summary = bysitebyyear[['model','wind_source','obsgroup','relative_error_pct_of_max']].groupby(['model','wind_source','obsgroup']).\\\n",
    "    agg({ \"relative_error_pct_of_max\": [\"mean\",\"median\",p25,p75] }).\\\n",
    "    rename(columns={\"<lambda_0>\":'25%ile',\"<lambda_1>\":'75%ile'})\n",
    "yearly_perf_summary"
   ]
  },
  {
   "cell_type": "code",
   "execution_count": null,
   "id": "750b4dc4",
   "metadata": {},
   "outputs": [],
   "source": [
    "yearly_perf_summary.columns = ['_'.join(col) for col in yearly_perf_summary.columns.values]\n",
    "yearly_perf_summary.reset_index(inplace=True)\n",
    "yearly_perf_summary.to_csv(\"04 Error Metrics/bergey_annual_relative_error.csv.bz2\",index=False)"
   ]
  },
  {
   "cell_type": "markdown",
   "id": "f66cb0a2",
   "metadata": {},
   "source": [
    "#### Performance Drill Down: ANL"
   ]
  },
  {
   "cell_type": "code",
   "execution_count": null,
   "id": "a2fed4b6",
   "metadata": {},
   "outputs": [],
   "source": [
    "fig = px.box(bysitebymonth.where(bysitebymonth.model == \"anl\").dropna(),x=\"month\",y=\"relative_error_pct_of_max\",\n",
    "        facet_col=\"wind_source\",facet_row=\"obsgroup\",\n",
    "        labels={\"relative_error_pct_of_max\":\"Error (%)\",\"month\":\"Month\"},\n",
    "        title=\"Median performance of ANL Model vs. Month of Year (all sites)\")\n",
    "fig.for_each_annotation(lambda a: a.update(text=a.text.split(\"=\")[-1]))\n",
    "fig.show()"
   ]
  },
  {
   "cell_type": "code",
   "execution_count": null,
   "id": "d99e6e7e",
   "metadata": {},
   "outputs": [],
   "source": [
    "dc = merged_df[(merged_df[\"model\"] == \"anl\") & (merged_df[\"wind_source\"] == \"wtk\") & (merged_df['obsgroup'] == \"bldgsonly\")].groupby([\"tid\",\"month\"]).agg({\"relative_error_pct_of_max\": \"median\"}).reset_index()\n",
    "px.imshow(dc.pivot(index=\"month\",columns=\"tid\")[\"relative_error_pct_of_max\"],\n",
    "          title=\"Median Error by Site and Month for ANL/WTK\",\n",
    "          color_continuous_scale='Portland')"
   ]
  },
  {
   "cell_type": "code",
   "execution_count": null,
   "id": "a9515453",
   "metadata": {},
   "outputs": [],
   "source": [
    "dc = merged_df[(merged_df[\"model\"] == \"anl\") & (merged_df[\"wind_source\"] == \"wtk_bc\") & (merged_df['obsgroup'] == \"bldgsonly\")].groupby([\"tid\",\"month\"]).agg({\"relative_error_pct_of_max\": \"median\"}).reset_index()\n",
    "px.imshow(dc.pivot(index=\"month\",columns=\"tid\")[\"relative_error_pct_of_max\"],\n",
    "          title=\"Median Error by Site and Month for ANL/WTK-Bias\",\n",
    "          color_continuous_scale='Portland')"
   ]
  },
  {
   "cell_type": "markdown",
   "id": "1f48a9ce",
   "metadata": {},
   "source": [
    "#### Performance Drill Down: Perera"
   ]
  },
  {
   "cell_type": "code",
   "execution_count": null,
   "id": "cb5fee34",
   "metadata": {},
   "outputs": [],
   "source": [
    "px.box(bysitebymonth.where(bysitebymonth.model == \"perera\").dropna(),x=\"month\",y=\"relative_error_pct_of_max\",facet_col=\"wind_source\",facet_col_wrap=3,\n",
    "        labels={\"relative_error_pct\":\"Median Relative Error (%)\",\"month\":\"Month\"},\n",
    "        title=\"Median performance of Perera Model vs. Month of Year (all sites)\")"
   ]
  },
  {
   "cell_type": "code",
   "execution_count": null,
   "id": "9b5f2175",
   "metadata": {},
   "outputs": [],
   "source": [
    "dc = merged_df[(merged_df[\"model\"] == \"perera\") & (merged_df[\"wind_source\"] == \"wtk\")].groupby([\"tid\",\"month\"]).agg({\"relative_error_pct_of_max\": \"median\"}).reset_index()\n",
    "px.imshow(dc.pivot(index=\"month\",columns=\"tid\")[\"relative_error_pct_of_max\"],\n",
    "          title=\"Median Error by Site and Month for Perera/WTK\",\n",
    "          color_continuous_scale='Portland')"
   ]
  },
  {
   "cell_type": "code",
   "execution_count": null,
   "id": "6fac5ab8",
   "metadata": {},
   "outputs": [],
   "source": [
    "dc = merged_df[(merged_df[\"model\"] == \"perera\") & (merged_df[\"wind_source\"] == \"wtk_bc\")].groupby([\"tid\",\"month\"]).agg({\"relative_error_pct_of_max\": \"median\"}).reset_index()\n",
    "px.imshow(dc.pivot(index=\"month\",columns=\"tid\")[\"relative_error_pct_of_max\"],\n",
    "          title=\"Median Error by Site and Month for Perera/WTK-Bias\",\n",
    "          color_continuous_scale='Portland')"
   ]
  },
  {
   "cell_type": "markdown",
   "id": "deaf14fc",
   "metadata": {},
   "source": [
    "#### Performance Drill Down: No Model"
   ]
  },
  {
   "cell_type": "code",
   "execution_count": null,
   "id": "3da64c3b",
   "metadata": {},
   "outputs": [],
   "source": [
    "px.box(bysitebymonth.where(bysitebymonth.model == \"none\").dropna(),x=\"month\",y=\"relative_error_pct_of_max\",facet_col=\"wind_source\",facet_col_wrap=3,\n",
    "        labels={\"relative_error_pct\":\"Median Relative Error (%)\",\"month\":\"Month\"},\n",
    "        title=\"Median performance of No Model vs. Month of Year (all sites)\")"
   ]
  },
  {
   "cell_type": "code",
   "execution_count": null,
   "id": "344d6ab1",
   "metadata": {},
   "outputs": [],
   "source": [
    "dc = merged_df[(merged_df[\"model\"] == \"none\") & (merged_df[\"wind_source\"] == \"wtk\")].groupby([\"tid\",\"month\"]).agg({\"relative_error_pct_of_max\": \"median\"}).reset_index()\n",
    "px.imshow(dc.pivot(index=\"month\",columns=\"tid\")[\"relative_error_pct_of_max\"],\n",
    "          title=\"Median Error by Site and Month for None/WTK\",\n",
    "          color_continuous_scale='Portland')"
   ]
  },
  {
   "cell_type": "code",
   "execution_count": null,
   "id": "3698b74e",
   "metadata": {},
   "outputs": [],
   "source": [
    "dc = merged_df[(merged_df[\"model\"] == \"none\") & (merged_df[\"wind_source\"] == \"wtk_bc\")].groupby([\"tid\",\"month\"]).agg({\"relative_error_pct_of_max\": \"median\"}).reset_index()\n",
    "px.imshow(dc.pivot(index=\"month\",columns=\"tid\")[\"relative_error_pct_of_max\"],\n",
    "          title=\"Median Error by Site and Month for None/WTK-Bias\",\n",
    "          color_continuous_scale='Portland')"
   ]
  },
  {
   "cell_type": "markdown",
   "id": "5ee08681",
   "metadata": {},
   "source": [
    "#### Summary\n",
    "\n",
    " - All models produce high errors sometimes, but the bulk of errors (IQR) are within +/- 10%\n",
    " - WTK LED 2018 has very high bias, 2019 appears better\n",
    " - Bias correction makes a very large difference, especially for WTK LED\n",
    " - The Perera suite of models produces extremely high estimates in some cases, which is likely a bug\n",
    " - Overall Perera outperforms ANL (!)\n",
    " - When resource is not bias corrected, the resource data error dominates, when corrected, the obstacle model error dominates. Residual errors in the resource tend to propagate through the models.\n",
    " - Sites 34 and 183 have a high residual bias (resource is overestimated), sites 170 and 28 have low residual bias (resource is underestimated). Curiously, ANL manages to \"fix\" 183, but not 34. Perera fixes neither. For underestimates, the models seem ill-equipped to fix the problem.\n",
    "   - Site 34: on southern coast of lake ontario, many trees (wind from SW and SE)\n",
    "   - Site 183: by lakeland college, large building to the NE, otherwise open (wind primarily from S, sometimes NW)\n",
    "   - Site 170: jackson college, built environment to the S (wind varies, predominately SW)\n",
    "   - Site 28: stagecoach rd, rural/suburban but many mature trees around turbine (wind mostly W and NE)"
   ]
  },
  {
   "cell_type": "markdown",
   "id": "974ba149",
   "metadata": {},
   "source": [
    "#### Wind Roses"
   ]
  },
  {
   "cell_type": "code",
   "execution_count": null,
   "id": "8fc131d7",
   "metadata": {},
   "outputs": [],
   "source": [
    "wtk = pd.read_csv(\"01 Bergey Turbine Data/wtk.csv.bz2\")\n",
    "wtk.head()"
   ]
  },
  {
   "cell_type": "code",
   "execution_count": null,
   "id": "3c68a74c",
   "metadata": {},
   "outputs": [],
   "source": [
    "wtk[\"ws_rounded\"] = wtk[\"ws\"].round()\n",
    "wtk[\"wd_rounded\"] = 10*(wtk[\"wd\"]/10).astype(int)\n",
    "dc = wtk.copy()[[\"tid\",\"wd_rounded\",\"ws_rounded\"]]\n",
    "dc[\"n\"] = 1\n",
    "dc = dc.groupby([\"tid\",\"wd_rounded\",\"ws_rounded\"]).sum()\n",
    "dc = dc.reset_index()\n",
    "dc['p'] = np.round(100*dc['n']/61368,1)"
   ]
  },
  {
   "cell_type": "code",
   "execution_count": null,
   "id": "301d7c08",
   "metadata": {},
   "outputs": [],
   "source": [
    "for tid in index.tids():\n",
    "    fig = px.bar_polar(dc[dc[\"tid\"] == tid], r=\"p\", theta=\"wd_rounded\",\n",
    "                   color=\"ws_rounded\",\n",
    "                   color_continuous_scale= 'Jet',\n",
    "                   labels={\"ws_rounded\": \"Windspeed (m/s)\",\"p\": \"Percent (%)\"},\n",
    "                   title=tid)\n",
    "    fig.show()"
   ]
  }
 ],
 "metadata": {
  "kernelspec": {
   "display_name": "Python 3 (ipykernel)",
   "language": "python",
   "name": "python3"
  },
  "language_info": {
   "codemirror_mode": {
    "name": "ipython",
    "version": 3
   },
   "file_extension": ".py",
   "mimetype": "text/x-python",
   "name": "python",
   "nbconvert_exporter": "python",
   "pygments_lexer": "ipython3",
   "version": "3.8.16"
  },
  "vscode": {
   "interpreter": {
    "hash": "31f2aee4e71d21fbe5cf8b01ff0e069b9275f58929596ceb00d14d90e3e16cd6"
   }
  }
 },
 "nbformat": 4,
 "nbformat_minor": 5
}
