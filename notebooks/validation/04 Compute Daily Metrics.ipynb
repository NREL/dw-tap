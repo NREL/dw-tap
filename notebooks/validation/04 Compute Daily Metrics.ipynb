{
 "cells": [
  {
   "cell_type": "markdown",
   "id": "1f59f1c2",
   "metadata": {},
   "source": [
    "## Performance Analysis for Daily Energy Production\n",
    "\n",
    "Caleb Phillips (caleb.phillips@nrel.gov)\n",
    "\n",
    "The purpose of this notebook is to read in computed predictions and compare them to actual observations, computing metrics. "
   ]
  },
  {
   "cell_type": "code",
   "execution_count": null,
   "id": "9c63dbfe",
   "metadata": {},
   "outputs": [],
   "source": [
    "from common import *\n",
    "import pandas as pd\n",
    "import numpy as np\n",
    "from tqdm import tqdm\n",
    "import glob\n",
    "import re\n",
    "from dw_tap.power_output import estimate_power_output\n",
    "import os.path\n",
    "import importlib\n",
    "import power_output\n",
    "import site_index\n",
    "import plotly.express as px"
   ]
  },
  {
   "cell_type": "code",
   "execution_count": null,
   "id": "af6a44ac",
   "metadata": {},
   "outputs": [],
   "source": [
    "index = site_index.SiteIndex()"
   ]
  },
  {
   "cell_type": "markdown",
   "id": "766d6704",
   "metadata": {},
   "source": [
    "### Load Ground Truth (Bergey Daily Data)"
   ]
  },
  {
   "cell_type": "code",
   "execution_count": null,
   "id": "ee86bc62",
   "metadata": {},
   "outputs": [],
   "source": [
    "daily_bergey = pd.read_csv(\"01 Bergey Turbine Data/daily_summaries.csv.bz2\")\n",
    "daily_bergey = daily_bergey.merge(index.index[['APRS ID','AID']].rename(columns={'APRS ID':'tid'}))\n",
    "daily_bergey['date'] = pd.to_datetime(daily_bergey['date'],utc=True).dt.date\n",
    "daily_bergey.head()"
   ]
  },
  {
   "cell_type": "markdown",
   "id": "25acb8a8",
   "metadata": {},
   "source": [
    "#### Evaluate faults"
   ]
  },
  {
   "cell_type": "code",
   "execution_count": null,
   "id": "9ad927a6",
   "metadata": {},
   "outputs": [],
   "source": [
    "pd.set_option('display.max_rows', 500)\n",
    "daily_bergey[['soft_grid']].drop_duplicates().head(500)"
   ]
  },
  {
   "cell_type": "code",
   "execution_count": null,
   "id": "6ab41968",
   "metadata": {},
   "outputs": [],
   "source": [
    "daily_bergey[\"fault\"] = \"None\"\n",
    "daily_bergey.loc[daily_bergey['faults'].str.contains(\"FAULT\"),\"fault\"] = \"Fault\"\n",
    "daily_bergey.loc[daily_bergey['faults'].str.contains(\"WAITING INITIALIZING\"),\"fault\"] = \"Reset\"\n",
    "daily_bergey.loc[daily_bergey['faults'].str.contains(\"MANUAL STOP\"),\"fault\"] = \"Stopped\"\n",
    "daily_bergey.loc[daily_bergey['soft_grid'].str.contains(\"%\"),\"fault\"] = \"Curtailed\"\n",
    "daily_bergey[\"fault\"].value_counts()"
   ]
  },
  {
   "cell_type": "markdown",
   "id": "df73a62c",
   "metadata": {},
   "source": [
    "### Load Prediction Data for all Models/Sites"
   ]
  },
  {
   "cell_type": "code",
   "execution_count": null,
   "id": "827f1a58",
   "metadata": {},
   "outputs": [],
   "source": [
    "providers = [\"bergey\"]\n",
    "models = [\"perera\",\"anl\"]\n",
    "wind_sources = [\"wtk\",\"wtk_bc\",\"wtk_led_2018\",\"wtk_led_2019\",\"wtk_led_bc\"]\n",
    "\n",
    "dfs = []\n",
    "\n",
    "for provider in providers:\n",
    "    for model in models:\n",
    "        for wind_source in wind_sources:\n",
    "            for tid in index.tids(True):\n",
    "                fname = f\"03 Model Outputs/{provider}_{model}_{tid}_{wind_source}.csv.bz2\"\n",
    "                if not os.path.exists(fname):\n",
    "                    continue\n",
    "                \n",
    "                print(fname)\n",
    "                \n",
    "                d = pd.read_csv(fname)\n",
    "                d[\"model\"] = model\n",
    "                d[\"wind_source\"] = wind_source\n",
    "                d[\"provider\"] = provider\n",
    "                d[\"tid\"] = tid\n",
    "                dfs.append(d[[\"model\",\"wind_source\",\"provider\",\"tid\",\"datetime\",\"ws-adjusted\"]])\n",
    "                \n",
    "                if model == \"perera\":\n",
    "                    d2 = d.copy()\n",
    "                    d2[\"ws-adjusted\"] = d2[\"ws-adjusted-2\"]\n",
    "                    d2[\"model\"] = \"shelter\"\n",
    "                    dfs.append(d2[[\"model\",\"wind_source\",\"provider\",\"tid\",\"datetime\",\"ws-adjusted\"]])\n",
    "                    \n",
    "                    d3 = d.copy()\n",
    "                    d3[\"ws-adjusted\"] = d3[\"ws-adjusted-3\"]\n",
    "                    d3[\"model\"] = \"shelter+\"\n",
    "                    dfs.append(d3[[\"model\",\"wind_source\",\"provider\",\"tid\",\"datetime\",\"ws-adjusted\"]])"
   ]
  },
  {
   "cell_type": "code",
   "execution_count": null,
   "id": "b4c68ae1",
   "metadata": {},
   "outputs": [],
   "source": [
    "# No model data\n",
    "for provider in providers:\n",
    "    for wind_source in tqdm(wind_sources):\n",
    "        if wind_source == \"wtk\":\n",
    "            d = pd.read_csv(\"01 Bergey Turbine Data/wtk.csv.bz2\")\n",
    "            d.rename(columns={\"ws\":\"ws-adjusted\"},inplace=True)\n",
    "            \n",
    "        elif wind_source == \"wtk_led_2018\":\n",
    "            d = pd.read_csv(\"01 Bergey Turbine Data/wtk_led_2018.csv.bz2\")\n",
    "            d.rename(columns={\"ws\":\"ws-adjusted\",\"packet_date\":\"datetime\"},inplace=True)\n",
    "            \n",
    "        elif wind_source == \"wtk_led_2019\":\n",
    "            d = pd.read_csv(\"01 Bergey Turbine Data/wtk_led_2019.csv.bz2\")\n",
    "            d.rename(columns={\"ws\":\"ws-adjusted\",\"packet_date\":\"datetime\"},inplace=True)\n",
    "            \n",
    "        elif wind_source == \"wtk_bc\":\n",
    "            d = pd.read_csv(\"02 Bias Correction/wtk_bc.csv.bz2\")\n",
    "            d.rename(columns={\"ws_bc\":\"ws-adjusted\"},inplace=True)\n",
    "            \n",
    "        elif wind_source == \"wtk_led_bc\":\n",
    "            d = pd.read_csv(\"02 Bias Correction/wtk_led_bc.csv.bz2\")\n",
    "            d.rename(columns={\"ws_bc\":\"ws-adjusted\"},inplace=True)\n",
    "            \n",
    "        else:\n",
    "            print(\"Unsupported wind source\")\n",
    "            \n",
    "        d[\"wind_source\"] = wind_source\n",
    "        d[\"model\"] = \"none\"\n",
    "        d[\"provider\"] = provider\n",
    "        dfs.append(d[[\"model\",\"wind_source\",\"provider\",\"tid\",\"datetime\",\"ws-adjusted\"]])"
   ]
  },
  {
   "cell_type": "code",
   "execution_count": null,
   "id": "95422103",
   "metadata": {},
   "outputs": [],
   "source": [
    "bigdf = pd.concat(dfs)\n",
    "bigdf.head()"
   ]
  },
  {
   "cell_type": "code",
   "execution_count": null,
   "id": "deea8924",
   "metadata": {},
   "outputs": [],
   "source": [
    "bigdf[\"power_kw\"] = power_output.Bergey10.windspeed_to_kw(bigdf,'ws-adjusted')\n",
    "bigdf['datetime'] = pd.to_datetime(bigdf['datetime'],format=\"%Y-%m-%d %H:%M:%S\",utc=True) # this is slow\n",
    "bigdf['date'] = bigdf['datetime'].dt.date\n",
    "bigdf.head()"
   ]
  },
  {
   "cell_type": "code",
   "execution_count": null,
   "id": "f858fbc4",
   "metadata": {},
   "outputs": [],
   "source": [
    "daily_summaries = bigdf[['model','wind_source','provider','tid','date','power_kw','ws-adjusted']]\\\n",
    "    .groupby(['model','wind_source','provider','tid','date']).agg({ 'power_kw': ['count','sum'], \n",
    "                                                                    'ws-adjusted': ['mean','max','min','median'] })\n",
    "daily_summaries.columns = ['_'.join(col) for col in daily_summaries.columns.values]\n",
    "daily_summaries = daily_summaries.reset_index()\n",
    "# scale the 5 min data so that it is kwh (too)\n",
    "daily_summaries[\"power_kw_sum\"] = daily_summaries[\"power_kw_sum\"]*(daily_summaries[\"power_kw_count\"]/24)\n",
    "daily_summaries.head()"
   ]
  },
  {
   "cell_type": "markdown",
   "id": "67b4992a",
   "metadata": {},
   "source": [
    "### Create Merged Dataframe"
   ]
  },
  {
   "cell_type": "code",
   "execution_count": null,
   "id": "f6877a32",
   "metadata": {},
   "outputs": [],
   "source": [
    "merged_df = daily_summaries.merge(daily_bergey[['date','tid','energy_kwh','fault']],on=['tid','date'])\n",
    "merged_df.head()"
   ]
  },
  {
   "cell_type": "code",
   "execution_count": null,
   "id": "40c75578",
   "metadata": {},
   "outputs": [],
   "source": [
    "# using 300 kwh as the maximum daily production\n",
    "merged_df[\"relative_error_pct\"] = ((merged_df[\"power_kw_sum\"] - merged_df[\"energy_kwh\"])/300)*100 \n",
    "\n",
    "merged_df['date'] = pd.to_datetime(merged_df['date'])\n",
    "merged_df['month'] = merged_df['date'].dt.month"
   ]
  },
  {
   "cell_type": "markdown",
   "id": "d7db1eff",
   "metadata": {},
   "source": [
    "#### Over-predictions (impossibly high energy values)\n",
    "\n",
    "Seems to imply something is wrong with the Perera model -- need to investigate..."
   ]
  },
  {
   "cell_type": "code",
   "execution_count": null,
   "id": "884b4756",
   "metadata": {},
   "outputs": [],
   "source": [
    "# Percentage of predicted energy values that appear bogus (>300 kwh)\n",
    "merged_df.loc[merged_df[\"power_kw_sum\"] > 300,\"model\"].value_counts()*100/merged_df[\"model\"].value_counts()"
   ]
  },
  {
   "cell_type": "code",
   "execution_count": null,
   "id": "1ff3c525",
   "metadata": {},
   "outputs": [],
   "source": [
    "merged_df.loc[(merged_df[\"power_kw_sum\"] > 300) & (merged_df[\"model\"] == \"perera\"),\"tid\"].value_counts()"
   ]
  },
  {
   "cell_type": "code",
   "execution_count": null,
   "id": "b1567ee9",
   "metadata": {},
   "outputs": [],
   "source": [
    "merged_df.loc[(merged_df[\"power_kw_sum\"] > 300) & (merged_df[\"model\"] == \"anl\"),\"tid\"].value_counts()"
   ]
  },
  {
   "cell_type": "markdown",
   "id": "a892085d",
   "metadata": {},
   "source": [
    "### Performance Plots: Overall"
   ]
  },
  {
   "cell_type": "code",
   "execution_count": null,
   "id": "dabbf374",
   "metadata": {},
   "outputs": [],
   "source": [
    "filtered_merged_df = merged_df[(merged_df[\"fault\"] == \"None\") & (merged_df[\"power_kw_sum\"] <= 300)]"
   ]
  },
  {
   "cell_type": "code",
   "execution_count": null,
   "id": "dd706a92",
   "metadata": {},
   "outputs": [],
   "source": [
    "fig = px.scatter(filtered_merged_df,x=\"energy_kwh\",y=\"power_kw_sum\",\n",
    "                 facet_row=\"model\",facet_col=\"wind_source\",\n",
    "                 labels={\"power_kw_sum\":\"Pred(kwh)\",\"energy_kwh\":\"Obs(kwh)\"})\n",
    "fig.show()"
   ]
  },
  {
   "cell_type": "code",
   "execution_count": null,
   "id": "be9a9d3b",
   "metadata": {},
   "outputs": [],
   "source": [
    "fig = px.scatter(merged_df,x=\"energy_kwh\",y=\"power_kw_sum\",\n",
    "                 facet_row=\"model\",facet_col=\"wind_source\",color=\"fault\",\n",
    "                 labels={\"power_kw_sum\":\"Pred(kwh)\",\"energy_kwh\":\"Obs(kwh)\"})\n",
    "fig.update_yaxes(matches=None)\n",
    "fig.update_xaxes(matches=None)\n",
    "fig.for_each_annotation(lambda a: a.update(text=a.text.split(\"=\")[-1]))\n",
    "fig.show()"
   ]
  },
  {
   "cell_type": "code",
   "execution_count": null,
   "id": "ba700b96",
   "metadata": {},
   "outputs": [],
   "source": [
    "fig = px.density_contour(filtered_merged_df,x=\"energy_kwh\",y=\"power_kw_sum\",\n",
    "                         facet_row=\"model\",facet_col=\"wind_source\",\n",
    "                         labels={\"power_kw_sum\":\"Pred(kwh)\",\"energy_kwh\":\"Obs(kwh)\"})\n",
    "fig.update_xaxes(range=[0, 40])\n",
    "fig.update_yaxes(range=[0, 40])\n",
    "fig.update_traces(contours_coloring=\"fill\", contours_showlabels = True)\n",
    "fig.for_each_annotation(lambda a: a.update(text=a.text.split(\"=\")[-1]))\n",
    "fig.show()"
   ]
  },
  {
   "cell_type": "code",
   "execution_count": null,
   "id": "c9034172",
   "metadata": {},
   "outputs": [],
   "source": [
    "# Defining function for 50th Percentile\n",
    "p25 = lambda x: x.quantile(0.25)\n",
    "p75 = lambda x: x.quantile(0.75)\n",
    "\n",
    "perf_summary = filtered_merged_df.groupby([\"model\",\"wind_source\"]).\\\n",
    "    agg({ \"relative_error_pct\": [\"mean\",\"median\",p25,p75] }).\\\n",
    "    rename(columns={\"<lambda_0>\":'25%ile',\"<lambda_1>\":'75%ile'})\n",
    "perf_summary"
   ]
  },
  {
   "cell_type": "code",
   "execution_count": null,
   "id": "bffc48bc",
   "metadata": {},
   "outputs": [],
   "source": [
    "fig = px.box(filtered_merged_df,x=\"model\",y=\"relative_error_pct\",color=\"wind_source\",\n",
    "             labels={\"relative_error_pct\":\"Relative Error (%)\",\"model\":\"Model\"},\n",
    "             points=False)\n",
    "fig.show()"
   ]
  },
  {
   "cell_type": "code",
   "execution_count": null,
   "id": "b61d2e82",
   "metadata": {},
   "outputs": [],
   "source": [
    "fig = px.box(filtered_merged_df,x=\"wind_source\",y=\"relative_error_pct\",color=\"model\",\n",
    "             labels={\"relative_error_pct\":\"Relative Error (%)\",\"wind_source\":\"Wind Source\"},\n",
    "             points=False)\n",
    "fig.show()"
   ]
  },
  {
   "cell_type": "code",
   "execution_count": null,
   "id": "c29d8212",
   "metadata": {},
   "outputs": [],
   "source": [
    "byyear = filtered_merged_df.copy()\n",
    "byyear['year'] = byyear['date'].dt.year\n",
    "byyear['error'] = byyear['power_kw_sum'] - byyear['energy_kwh']\n",
    "byyear = byyear[['model','wind_source','year','error','energy_kwh']].groupby(['model','wind_source','year']).sum().reset_index()\n",
    "byyear['pct'] = 100*byyear[\"error\"]/byyear['energy_kwh']\n",
    "byyear"
   ]
  },
  {
   "cell_type": "code",
   "execution_count": null,
   "id": "256935a2",
   "metadata": {},
   "outputs": [],
   "source": [
    "px.box(byyear,y=\"pct\",x=\"wind_source\",color=\"model\")"
   ]
  },
  {
   "cell_type": "code",
   "execution_count": null,
   "id": "5891839c",
   "metadata": {},
   "outputs": [],
   "source": [
    "px.box(byyear[(byyear[\"wind_source\"].isin([\"wtk\",\"wtk_bc\"]))],y=\"pct\",x=\"wind_source\",color=\"model\",\n",
    "       labels={\"wind_source\":\"Wind Source\",\"pct\": \"Annualized Error Percentage (%)\",\"model\":\"Model\"})"
   ]
  },
  {
   "cell_type": "markdown",
   "id": "f66cb0a2",
   "metadata": {},
   "source": [
    "#### Performance Drill Down: ANL"
   ]
  },
  {
   "cell_type": "code",
   "execution_count": null,
   "id": "a2fed4b6",
   "metadata": {},
   "outputs": [],
   "source": [
    "dc = filtered_merged_df[filtered_merged_df[\"model\"] == \"anl\"].groupby([\"wind_source\",\"month\"]).agg({\"relative_error_pct\": \"median\"}).reset_index()\n",
    "px.line(dc,x=\"month\",y=\"relative_error_pct\",color=\"wind_source\",markers=True,\n",
    "        labels={\"relative_error_pct\":\"Median Relative Error (%)\",\"month\":\"Month\"},\n",
    "        title=\"Median performance of ANL Model vs. Month of Year (all sites)\")"
   ]
  },
  {
   "cell_type": "code",
   "execution_count": null,
   "id": "d99e6e7e",
   "metadata": {},
   "outputs": [],
   "source": [
    "dc = filtered_merged_df[(filtered_merged_df[\"model\"] == \"anl\") & (filtered_merged_df[\"wind_source\"] == \"wtk\")].groupby([\"tid\",\"month\"]).agg({\"relative_error_pct\": \"median\"}).reset_index()\n",
    "px.imshow(dc.pivot(index=\"month\",columns=\"tid\")[\"relative_error_pct\"],\n",
    "          title=\"Median Error by Site and Month for ANL/WTK Corrected\",\n",
    "          color_continuous_scale='Portland')"
   ]
  },
  {
   "cell_type": "code",
   "execution_count": null,
   "id": "a9515453",
   "metadata": {},
   "outputs": [],
   "source": [
    "dc = filtered_merged_df[(filtered_merged_df[\"model\"] == \"anl\") & (filtered_merged_df[\"wind_source\"] == \"wtk_bc\")].groupby([\"tid\",\"month\"]).agg({\"relative_error_pct\": \"median\"}).reset_index()\n",
    "px.imshow(dc.pivot(index=\"month\",columns=\"tid\")[\"relative_error_pct\"],\n",
    "          title=\"Median Error by Site and Month for ANL/WTK-Bias Corrected\",\n",
    "          color_continuous_scale='Portland')"
   ]
  },
  {
   "cell_type": "markdown",
   "id": "1f48a9ce",
   "metadata": {},
   "source": [
    "#### Performance Drill Down: Perera"
   ]
  },
  {
   "cell_type": "code",
   "execution_count": null,
   "id": "cb5fee34",
   "metadata": {},
   "outputs": [],
   "source": [
    "dc = filtered_merged_df[filtered_merged_df[\"model\"] == \"perera\"].groupby([\"wind_source\",\"month\"]).agg({\"relative_error_pct\": \"median\"}).reset_index()\n",
    "px.line(dc,x=\"month\",y=\"relative_error_pct\",color=\"wind_source\",markers=True,\n",
    "        labels={\"relative_error_pct\":\"Median Relative Error (%)\",\"month\":\"Month\"},\n",
    "        title=\"Median performance of Perera vs. Month of Year (all sites)\")"
   ]
  },
  {
   "cell_type": "code",
   "execution_count": null,
   "id": "9a4e3d27",
   "metadata": {},
   "outputs": [],
   "source": [
    "dc = filtered_merged_df[filtered_merged_df[\"model\"] == \"perera\"].groupby([\"wind_source\",\"month\"]).agg({\"relative_error_pct\": \"median\"}).reset_index()\n",
    "px.line(dc[dc[\"wind_source\"] != 'wtk_led_2018'],x=\"month\",y=\"relative_error_pct\",color=\"wind_source\",markers=True,\n",
    "        labels={\"relative_error_pct\":\"Median Relative Error (%)\",\"month\":\"Month\"},\n",
    "        title=\"Median performance of Perera vs. Month of Year (all sites)\")"
   ]
  },
  {
   "cell_type": "code",
   "execution_count": null,
   "id": "9b5f2175",
   "metadata": {},
   "outputs": [],
   "source": [
    "dc = filtered_merged_df[(filtered_merged_df[\"model\"] == \"perera\") & (filtered_merged_df[\"wind_source\"] == \"wtk\")].groupby([\"tid\",\"month\"]).agg({\"relative_error_pct\": \"median\"}).reset_index()\n",
    "px.imshow(dc.pivot(index=\"month\",columns=\"tid\")[\"relative_error_pct\"],\n",
    "          title=\"Median Error by Site and Month for Perera/WTK Corrected\",\n",
    "          color_continuous_scale='Portland')"
   ]
  },
  {
   "cell_type": "code",
   "execution_count": null,
   "id": "6fac5ab8",
   "metadata": {},
   "outputs": [],
   "source": [
    "dc = filtered_merged_df[(filtered_merged_df[\"model\"] == \"perera\") & (filtered_merged_df[\"wind_source\"] == \"wtk_bc\")].groupby([\"tid\",\"month\"]).agg({\"relative_error_pct\": \"median\"}).reset_index()\n",
    "px.imshow(dc.pivot(index=\"month\",columns=\"tid\")[\"relative_error_pct\"],\n",
    "          title=\"Median Error by Site and Month for Perera/WTK Corrected\",\n",
    "          color_continuous_scale='Portland')"
   ]
  },
  {
   "cell_type": "markdown",
   "id": "deaf14fc",
   "metadata": {},
   "source": [
    "#### Performance Drill Down: No Model"
   ]
  },
  {
   "cell_type": "code",
   "execution_count": null,
   "id": "3da64c3b",
   "metadata": {},
   "outputs": [],
   "source": [
    "dc = filtered_merged_df[filtered_merged_df[\"model\"] == \"none\"].groupby([\"wind_source\",\"month\"]).agg({\"relative_error_pct\": \"median\"}).reset_index()\n",
    "px.line(dc,x=\"month\",y=\"relative_error_pct\",color=\"wind_source\",markers=True,\n",
    "        labels={\"relative_error_pct\":\"Median Relative Error (%)\",\"month\":\"Month\"},\n",
    "        title=\"Median performance of Wind Resource (no Model) vs. Month of Year (all sites)\")"
   ]
  },
  {
   "cell_type": "code",
   "execution_count": null,
   "id": "344d6ab1",
   "metadata": {},
   "outputs": [],
   "source": [
    "dc = filtered_merged_df[(filtered_merged_df[\"model\"] == \"none\") & (filtered_merged_df[\"wind_source\"] == \"wtk\")].groupby([\"tid\",\"month\"]).agg({\"relative_error_pct\": \"median\"}).reset_index()\n",
    "px.imshow(dc.pivot(index=\"month\",columns=\"tid\")[\"relative_error_pct\"],\n",
    "          title=\"Median Error by Site and Month for No-Model/WTK\",\n",
    "          color_continuous_scale='Portland')"
   ]
  },
  {
   "cell_type": "code",
   "execution_count": null,
   "id": "3698b74e",
   "metadata": {},
   "outputs": [],
   "source": [
    "dc = filtered_merged_df[(filtered_merged_df[\"model\"] == \"none\") & (filtered_merged_df[\"wind_source\"] == \"wtk_bc\")].groupby([\"tid\",\"month\"]).agg({\"relative_error_pct\": \"median\"}).reset_index()\n",
    "px.imshow(dc.pivot(index=\"month\",columns=\"tid\")[\"relative_error_pct\"],\n",
    "          title=\"Median Error by Site and Month for No-Model/WTK-Bias Corrected\",\n",
    "          color_continuous_scale='Portland')"
   ]
  },
  {
   "cell_type": "markdown",
   "id": "5ee08681",
   "metadata": {},
   "source": [
    "#### Summary\n",
    "\n",
    " - All models produce high errors sometimes, but the bulk of errors (IQR) are within +/- 10%\n",
    " - WTK LED 2018 has very high bias, 2019 appears better\n",
    " - Bias correction makes a very large difference, especially for WTK LED\n",
    " - The Perera suite of models produces extremely high estimates in some cases, which is likely a bug\n",
    " - Overall Perera outperforms ANL (!)\n",
    " - When resource is not bias corrected, the resource data error dominates, when corrected, the obstacle model error dominates. Residual errors in the resource tend to propagate through the models.\n",
    " - Sites 34 and 183 have a high residual bias (resource is overestimated), sites 170 and 28 have low residual bias (resource is underestimated). Curiously, ANL manages to \"fix\" 183, but not 34. Perera fixes neither. For underestimates, the models seem ill-equipped to fix the problem.\n",
    "   - Site 34: on southern coast of lake ontario, many trees (wind from SW and SE)\n",
    "   - Site 183: by lakeland college, large building to the NE, otherwise open (wind primarily from S, sometimes NW)\n",
    "   - Site 170: jackson college, built environment to the S (wind varies, predominately SW)\n",
    "   - Site 28: stagecoach rd, rural/suburban but many mature trees around turbine (wind mostly W and NE)"
   ]
  },
  {
   "cell_type": "markdown",
   "id": "974ba149",
   "metadata": {},
   "source": [
    "#### Wind Roses"
   ]
  },
  {
   "cell_type": "code",
   "execution_count": null,
   "id": "64c4dcce",
   "metadata": {},
   "outputs": [],
   "source": [
    "px.data.wind()"
   ]
  },
  {
   "cell_type": "code",
   "execution_count": null,
   "id": "8fc131d7",
   "metadata": {},
   "outputs": [],
   "source": [
    "wtk = pd.read_csv(\"01 Bergey Turbine Data/wtk.csv.bz2\")\n",
    "wtk.head()"
   ]
  },
  {
   "cell_type": "code",
   "execution_count": null,
   "id": "3c68a74c",
   "metadata": {},
   "outputs": [],
   "source": [
    "wtk[\"ws_rounded\"] = wtk[\"ws\"].round()\n",
    "wtk[\"wd_rounded\"] = 10*(wtk[\"wd\"]/10).astype(int)\n",
    "dc = wtk.copy()[[\"tid\",\"wd_rounded\",\"ws_rounded\"]]\n",
    "dc[\"n\"] = 1\n",
    "dc = dc.groupby([\"tid\",\"wd_rounded\",\"ws_rounded\"]).sum()\n",
    "dc = dc.reset_index()\n",
    "dc['p'] = np.round(100*dc['n']/61368,1)"
   ]
  },
  {
   "cell_type": "code",
   "execution_count": null,
   "id": "2805740e",
   "metadata": {},
   "outputs": [],
   "source": [
    "dc"
   ]
  },
  {
   "cell_type": "code",
   "execution_count": null,
   "id": "301d7c08",
   "metadata": {},
   "outputs": [],
   "source": [
    "for tid in index.tids():\n",
    "    fig = px.bar_polar(dc[dc[\"tid\"] == tid], r=\"p\", theta=\"wd_rounded\",\n",
    "                   color=\"ws_rounded\",\n",
    "                   color_continuous_scale= 'Jet',\n",
    "                   labels={\"ws_rounded\": \"Windspeed (m/s)\",\"p\": \"Percent (%)\"},\n",
    "                   title=tid)\n",
    "    fig.show()"
   ]
  }
 ],
 "metadata": {
  "kernelspec": {
   "display_name": "Python 3 (ipykernel)",
   "language": "python",
   "name": "python3"
  },
  "language_info": {
   "codemirror_mode": {
    "name": "ipython",
    "version": 3
   },
   "file_extension": ".py",
   "mimetype": "text/x-python",
   "name": "python",
   "nbconvert_exporter": "python",
   "pygments_lexer": "ipython3",
   "version": "3.8.16"
  },
  "vscode": {
   "interpreter": {
    "hash": "31f2aee4e71d21fbe5cf8b01ff0e069b9275f58929596ceb00d14d90e3e16cd6"
   }
  }
 },
 "nbformat": 4,
 "nbformat_minor": 5
}
