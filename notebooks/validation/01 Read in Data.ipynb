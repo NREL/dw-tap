{
 "cells": [
  {
   "cell_type": "markdown",
   "id": "3bab8044-dc83-4f81-bf09-696e98e65ebc",
   "metadata": {},
   "source": [
    "Jenna Ruzekowicz (jenna.ruzekowicz@nrel.gov) and Caleb Phillips (caleb.phillips@nrel.gov)\n",
    "\n",
    "The purpose of this notebook is to read in two sets of data over the same time period for comparison:\n",
    "1) WTK-LED data\n",
    "2) Either: \n",
    "    a) power output and/or wind speed data from turbine(s) \n",
    "    b) wind speed measurements from met tower(s)\n",
    "\n",
    "Data sets are matched on location and time stamp.\n",
    "\n",
    "A combined and labeled dataframe will be exported to a csv file in the \"01Data\" folder. The naming convention for the csv file will be as follows: source_lat_lon_startdate_enddate.csv\n",
    "where source is either \"bergey\", \"oneenergy\"...\n",
    "\n",
    "Notes: \n",
    "- really long string potential issue\n",
    "- simple naming, numbering? \n",
    "- number cases with file as reference sheet\n",
    "- metadata global view dataframe\n",
    "- lat lon heights stag of analysis\n",
    "- what's processed and what is not? "
   ]
  },
  {
   "cell_type": "markdown",
   "id": "a7937986-f0b1-43df-b67f-8dca30581326",
   "metadata": {},
   "source": [
    "Notes: \n",
    "Might need to install Rex if it isn't installed already:\n",
    "conda install nrel-rex --channel=nrel\n",
    "\n",
    "More about rex: https://github.com/NREL/rex\n",
    "2018 5-min monthly h5 (the file you referenced on the 21st):\n",
    "/campaign/tap/CONUS/wtk/5min/2018/{month}/conus_2018-{month}.h5\n",
    " \n",
    "2018 5-min yearly h5 slices:\n",
    "/shared-projects/wtk-led/CONUS/wtk/2018/yearly_h5/conus_2018_{height}m.h5\n",
    " \n",
    "2019 60-min yearly h5:\n",
    "/campaign/tap/CONUS/wtk/60min/2019/conus_2019.h5"
   ]
  },
  {
   "cell_type": "code",
   "execution_count": 1,
   "id": "fe7c4a33-9905-4972-976c-ad8889aee0e9",
   "metadata": {},
   "outputs": [],
   "source": [
    "import numpy as np\n",
    "import pandas as pd\n",
    "import geopandas as gpd\n",
    "from rex.resource_extraction import MultiYearWindX\n",
    "from dw_tap.data_fetching import get_data_wtk_led_on_eagle"
   ]
  },
  {
   "cell_type": "markdown",
   "id": "3ecdf16c-33f8-43e9-bc76-b14aaa0e857b",
   "metadata": {},
   "source": [
    "Step 1) Read in either power output/wind speed data for wind turbine(s) or wind speed data from met tower(s)"
   ]
  },
  {
   "cell_type": "code",
   "execution_count": 14,
   "id": "7fcbd578-ccd1-440d-b92e-273806f6bd71",
   "metadata": {},
   "outputs": [],
   "source": [
    "#Reading in data from W1 turbine at Marion OH location (oneenergy turbine), 2018\n",
    "power_output_df = pd.read_excel(\"../../data/marionw1/turbine.oneenergy.00.20180131.000000.marion.w1.xlsx\", header=0, usecols=\"B, C, M\")\n",
    "power_output_df = pd.concat([power_output_df, pd.read_excel(\"../../data/marionw1/turbine.oneenergy.00.20180228.000000.marion.w1.xlsx\", header=0, usecols=\"B, C, M\")])\n",
    "power_output_df = pd.concat([power_output_df, pd.read_excel(\"../../data/marionw1/turbine.oneenergy.00.20180331.000000.marion.w1.xlsx\", header=0, usecols=\"B, C, M\")])\n",
    "#power_output_df = pd.concat([power_output_df, pd.read_excel(\"../../data/marionw1/turbine.oneenergy.00.20180430.000000.marion.w1.xlsx\", header=0, usecols=\"B, C, M\")])\n",
    "#power_output_df = pd.concat([power_output_df, pd.read_excel(\"../../data/marionw1/turbine.oneenergy.00.20180531.000000.marion.w1.xlsx\", header=0, usecols=\"B, C, M\")])\n",
    "#power_output_df = pd.concat([power_output_df, pd.read_excel(\"../../data/marionw1/turbine.oneenergy.00.20180630.000000.marion.w1.xlsx\", header=0, usecols=\"B, C, M\")])\n",
    "#power_output_df = pd.concat([power_output_df, pd.read_excel(\"../../data/marionw1/turbine.oneenergy.00.20180731.000000.marion.w1.xlsx\", header=0, usecols=\"B, C, M\")])\n",
    "#power_output_df = pd.concat([power_output_df, pd.read_excel(\"../../data/marionw1/turbine.oneenergy.00.20180831.000000.marion.w1.xlsx\", header=0, usecols=\"B, C, M\")])\n",
    "#power_output_df = pd.concat([power_output_df, pd.read_excel(\"../../data/marionw1/turbine.oneenergy.00.20180930.000000.marion.w1.xlsx\", header=0, usecols=\"B, C, M\")])\n",
    "#power_output_df = pd.concat([power_output_df, pd.read_excel(\"../../data/marionw1/turbine.oneenergy.00.20181031.000000.marion.w1.xlsx\", header=0, usecols=\"B, C, M\")])\n",
    "#power_output_df = pd.concat([power_output_df, pd.read_excel(\"../../data/marionw1/turbine.oneenergy.00.20181130.000000.marion.w1.xlsx\", header=0, usecols=\"B, C, M\")])\n",
    "#power_output_df = pd.concat([power_output_df, pd.read_excel(\"../../data/marionw1/turbine.oneenergy.00.20181231.000000.marion.w1.xlsx\", header=0, usecols=\"B, C, M\")])\n",
    "power_output_df.rename(columns={'Time':'datetime', 'WindTurbineEnergyYield_kWh_':'measured_production', 'AvgWindSpeed_m_s_':'measured_ws'}, inplace=True)\n",
    "#Below line is required time conversion, only run once\n",
    "power_output_df['datetime'] = power_output_df['datetime'].dt.tz_localize('UTC')"
   ]
  },
  {
   "cell_type": "code",
   "execution_count": 15,
   "id": "66bd99b9-ddde-4070-a5f5-529b6b92563d",
   "metadata": {},
   "outputs": [
    {
     "name": "stdout",
     "output_type": "stream",
     "text": [
      "                      datetime  measured_ws  measured_production\n",
      "0    2018-01-01 05:00:00+00:00         5.92                   52\n",
      "1    2018-01-01 05:10:00+00:00         6.01                   58\n",
      "2    2018-01-01 05:20:00+00:00         5.96                   56\n",
      "3    2018-01-01 05:30:00+00:00         6.01                   58\n",
      "4    2018-01-01 05:40:00+00:00         5.82                   52\n",
      "...                        ...          ...                  ...\n",
      "4455 2018-04-01 04:10:00+00:00         9.47                  221\n",
      "4456 2018-04-01 04:20:00+00:00         8.98                  209\n",
      "4457 2018-04-01 04:30:00+00:00         8.75                  200\n",
      "4458 2018-04-01 04:40:00+00:00         8.69                  180\n",
      "4459 2018-04-01 04:50:00+00:00         8.50                  178\n",
      "\n",
      "[12647 rows x 3 columns]\n"
     ]
    }
   ],
   "source": [
    "print(power_output_df)"
   ]
  },
  {
   "cell_type": "code",
   "execution_count": 8,
   "id": "10ae43cc-2578-4b34-a84b-da820166d94f",
   "metadata": {},
   "outputs": [
    {
     "name": "stdout",
     "output_type": "stream",
     "text": [
      "<class 'pandas.core.frame.DataFrame'>\n",
      "Int64Index: 12647 entries, 0 to 4459\n",
      "Data columns (total 3 columns):\n",
      " #   Column               Non-Null Count  Dtype         \n",
      "---  ------               --------------  -----         \n",
      " 0   datetime             12647 non-null  datetime64[ns]\n",
      " 1   measured_ws          12647 non-null  float64       \n",
      " 2   measured_production  12647 non-null  int64         \n",
      "dtypes: datetime64[ns](1), float64(1), int64(1)\n",
      "memory usage: 395.2 KB\n"
     ]
    }
   ],
   "source": [
    "power_output_df.info()"
   ]
  },
  {
   "cell_type": "markdown",
   "id": "c344fca5-869d-4e7e-abff-06710952a0dc",
   "metadata": {},
   "source": [
    "Step 2) Read in WTK-LED data for 2018 at the same location"
   ]
  },
  {
   "cell_type": "code",
   "execution_count": 16,
   "id": "902843ad-8876-424a-b0c8-524dccabae67",
   "metadata": {},
   "outputs": [
    {
     "name": "stdout",
     "output_type": "stream",
     "text": [
      "                      datetime        ws          wd\n",
      "0    2018-01-01 00:00:00+00:00  2.001774  122.668775\n",
      "1    2018-01-01 00:05:00+00:00  2.062723  127.272024\n",
      "2    2018-01-01 00:10:00+00:00  2.184248  130.633885\n",
      "3    2018-01-01 00:15:00+00:00  2.288770  132.435883\n",
      "4    2018-01-01 00:20:00+00:00  2.342875  132.914820\n",
      "...                        ...       ...         ...\n",
      "8059 2018-02-28 23:35:00+00:00  7.192879  255.850598\n",
      "8060 2018-02-28 23:40:00+00:00  7.556836  254.577095\n",
      "8061 2018-02-28 23:45:00+00:00  7.594353  254.661698\n",
      "8062 2018-02-28 23:50:00+00:00  7.593395  255.673829\n",
      "8063 2018-02-28 23:55:00+00:00  7.443811  257.438752\n",
      "\n",
      "[16992 rows x 3 columns]\n"
     ]
    }
   ],
   "source": [
    "z_turbine = 80\n",
    "lat, lon = 40.591555, -83.182092\n",
    "#change 13 for 3 here until I have accesss to all data\n",
    "files = ['/campaign/tap/CONUS/wtk/5min/2018/%s/conus_2018-%s.h5' % (str(i).zfill(2), str(i).zfill(2)) for i in range(1,3)]\n",
    "\n",
    "atmospheric_df = pd.DataFrame()\n",
    "for file in files:\n",
    "\n",
    "    myr = MultiYearWindX(file, hsds=False)\n",
    "\n",
    "    d = get_data_wtk_led_on_eagle(myr, \n",
    "                                  lat, lon, z_turbine, \"IDW\", \n",
    "                                  power_estimate=False,\n",
    "                                  start_time_idx=None, \n",
    "                                  end_time_idx=None,\n",
    "                                  time_stride=None)\n",
    "    atmospheric_df = pd.concat([atmospheric_df, d])\n",
    "print(atmospheric_df)"
   ]
  },
  {
   "cell_type": "code",
   "execution_count": 9,
   "id": "aff29d08-117d-43c5-8bcd-e6b935a48555",
   "metadata": {},
   "outputs": [
    {
     "name": "stdout",
     "output_type": "stream",
     "text": [
      "<class 'pandas.core.frame.DataFrame'>\n",
      "Int64Index: 16992 entries, 0 to 8063\n",
      "Data columns (total 3 columns):\n",
      " #   Column    Non-Null Count  Dtype              \n",
      "---  ------    --------------  -----              \n",
      " 0   datetime  16992 non-null  datetime64[ns, UTC]\n",
      " 1   ws        16992 non-null  float64            \n",
      " 2   wd        16992 non-null  float64            \n",
      "dtypes: datetime64[ns, UTC](1), float64(2)\n",
      "memory usage: 531.0 KB\n"
     ]
    }
   ],
   "source": [
    "atmospheric_df.info()"
   ]
  },
  {
   "cell_type": "markdown",
   "id": "41f040b1-7b39-44f3-ade6-3c8e30ff1973",
   "metadata": {},
   "source": [
    "Step 3) Merge the two dataframes"
   ]
  },
  {
   "cell_type": "code",
   "execution_count": 17,
   "id": "cba20331-33e9-4d97-b9d2-707ff32fb0f6",
   "metadata": {},
   "outputs": [],
   "source": [
    "analysis_df = atmospheric_df.merge(power_output_df[['datetime', 'measured_production', 'measured_ws']], on='datetime', how='left')"
   ]
  },
  {
   "cell_type": "code",
   "execution_count": 19,
   "id": "25501f15-3c34-41d7-9c0e-b48801447c88",
   "metadata": {},
   "outputs": [
    {
     "ename": "AttributeError",
     "evalue": "'DataFrame' object has no attribute 'drop_na'",
     "output_type": "error",
     "traceback": [
      "\u001b[0;31m---------------------------------------------------------------------------\u001b[0m",
      "\u001b[0;31mAttributeError\u001b[0m                            Traceback (most recent call last)",
      "Cell \u001b[0;32mIn[19], line 1\u001b[0m\n\u001b[0;32m----> 1\u001b[0m analysis_df \u001b[38;5;241m=\u001b[39m \u001b[43manalysis_df\u001b[49m\u001b[38;5;241;43m.\u001b[39;49m\u001b[43mdrop_na\u001b[49m()\n",
      "File \u001b[0;32m~/miniconda3/envs/dw-tap/lib/python3.8/site-packages/pandas/core/generic.py:5902\u001b[0m, in \u001b[0;36mNDFrame.__getattr__\u001b[0;34m(self, name)\u001b[0m\n\u001b[1;32m   5895\u001b[0m \u001b[38;5;28;01mif\u001b[39;00m (\n\u001b[1;32m   5896\u001b[0m     name \u001b[38;5;129;01mnot\u001b[39;00m \u001b[38;5;129;01min\u001b[39;00m \u001b[38;5;28mself\u001b[39m\u001b[38;5;241m.\u001b[39m_internal_names_set\n\u001b[1;32m   5897\u001b[0m     \u001b[38;5;129;01mand\u001b[39;00m name \u001b[38;5;129;01mnot\u001b[39;00m \u001b[38;5;129;01min\u001b[39;00m \u001b[38;5;28mself\u001b[39m\u001b[38;5;241m.\u001b[39m_metadata\n\u001b[1;32m   5898\u001b[0m     \u001b[38;5;129;01mand\u001b[39;00m name \u001b[38;5;129;01mnot\u001b[39;00m \u001b[38;5;129;01min\u001b[39;00m \u001b[38;5;28mself\u001b[39m\u001b[38;5;241m.\u001b[39m_accessors\n\u001b[1;32m   5899\u001b[0m     \u001b[38;5;129;01mand\u001b[39;00m \u001b[38;5;28mself\u001b[39m\u001b[38;5;241m.\u001b[39m_info_axis\u001b[38;5;241m.\u001b[39m_can_hold_identifiers_and_holds_name(name)\n\u001b[1;32m   5900\u001b[0m ):\n\u001b[1;32m   5901\u001b[0m     \u001b[38;5;28;01mreturn\u001b[39;00m \u001b[38;5;28mself\u001b[39m[name]\n\u001b[0;32m-> 5902\u001b[0m \u001b[38;5;28;01mreturn\u001b[39;00m \u001b[38;5;28;43mobject\u001b[39;49m\u001b[38;5;241;43m.\u001b[39;49m\u001b[38;5;21;43m__getattribute__\u001b[39;49m\u001b[43m(\u001b[49m\u001b[38;5;28;43mself\u001b[39;49m\u001b[43m,\u001b[49m\u001b[43m \u001b[49m\u001b[43mname\u001b[49m\u001b[43m)\u001b[49m\n",
      "\u001b[0;31mAttributeError\u001b[0m: 'DataFrame' object has no attribute 'drop_na'"
     ]
    }
   ],
   "source": [
    "analysis_df = analysis_df."
   ]
  },
  {
   "cell_type": "code",
   "execution_count": 21,
   "id": "a1c4e212-6e15-4f55-ae8d-ba49d126ebec",
   "metadata": {},
   "outputs": [
    {
     "data": {
      "text/html": [
       "<div>\n",
       "<style scoped>\n",
       "    .dataframe tbody tr th:only-of-type {\n",
       "        vertical-align: middle;\n",
       "    }\n",
       "\n",
       "    .dataframe tbody tr th {\n",
       "        vertical-align: top;\n",
       "    }\n",
       "\n",
       "    .dataframe thead th {\n",
       "        text-align: right;\n",
       "    }\n",
       "</style>\n",
       "<table border=\"1\" class=\"dataframe\">\n",
       "  <thead>\n",
       "    <tr style=\"text-align: right;\">\n",
       "      <th></th>\n",
       "      <th>datetime</th>\n",
       "      <th>ws</th>\n",
       "      <th>wd</th>\n",
       "      <th>measured_production</th>\n",
       "      <th>measured_ws</th>\n",
       "    </tr>\n",
       "  </thead>\n",
       "  <tbody>\n",
       "    <tr>\n",
       "      <th>60</th>\n",
       "      <td>2018-01-01 05:00:00+00:00</td>\n",
       "      <td>6.555662</td>\n",
       "      <td>197.591424</td>\n",
       "      <td>52.0</td>\n",
       "      <td>5.92</td>\n",
       "    </tr>\n",
       "    <tr>\n",
       "      <th>62</th>\n",
       "      <td>2018-01-01 05:10:00+00:00</td>\n",
       "      <td>6.121590</td>\n",
       "      <td>198.373360</td>\n",
       "      <td>58.0</td>\n",
       "      <td>6.01</td>\n",
       "    </tr>\n",
       "    <tr>\n",
       "      <th>64</th>\n",
       "      <td>2018-01-01 05:20:00+00:00</td>\n",
       "      <td>5.774725</td>\n",
       "      <td>199.061868</td>\n",
       "      <td>56.0</td>\n",
       "      <td>5.96</td>\n",
       "    </tr>\n",
       "    <tr>\n",
       "      <th>66</th>\n",
       "      <td>2018-01-01 05:30:00+00:00</td>\n",
       "      <td>5.540386</td>\n",
       "      <td>201.817458</td>\n",
       "      <td>58.0</td>\n",
       "      <td>6.01</td>\n",
       "    </tr>\n",
       "    <tr>\n",
       "      <th>68</th>\n",
       "      <td>2018-01-01 05:40:00+00:00</td>\n",
       "      <td>5.292899</td>\n",
       "      <td>208.860196</td>\n",
       "      <td>52.0</td>\n",
       "      <td>5.82</td>\n",
       "    </tr>\n",
       "    <tr>\n",
       "      <th>...</th>\n",
       "      <td>...</td>\n",
       "      <td>...</td>\n",
       "      <td>...</td>\n",
       "      <td>...</td>\n",
       "      <td>...</td>\n",
       "    </tr>\n",
       "    <tr>\n",
       "      <th>16982</th>\n",
       "      <td>2018-02-28 23:10:00+00:00</td>\n",
       "      <td>5.352271</td>\n",
       "      <td>264.625933</td>\n",
       "      <td>55.0</td>\n",
       "      <td>5.91</td>\n",
       "    </tr>\n",
       "    <tr>\n",
       "      <th>16984</th>\n",
       "      <td>2018-02-28 23:20:00+00:00</td>\n",
       "      <td>5.937176</td>\n",
       "      <td>260.259899</td>\n",
       "      <td>80.0</td>\n",
       "      <td>6.73</td>\n",
       "    </tr>\n",
       "    <tr>\n",
       "      <th>16986</th>\n",
       "      <td>2018-02-28 23:30:00+00:00</td>\n",
       "      <td>6.383798</td>\n",
       "      <td>258.244048</td>\n",
       "      <td>85.0</td>\n",
       "      <td>6.61</td>\n",
       "    </tr>\n",
       "    <tr>\n",
       "      <th>16988</th>\n",
       "      <td>2018-02-28 23:40:00+00:00</td>\n",
       "      <td>7.556836</td>\n",
       "      <td>254.577095</td>\n",
       "      <td>88.0</td>\n",
       "      <td>6.82</td>\n",
       "    </tr>\n",
       "    <tr>\n",
       "      <th>16990</th>\n",
       "      <td>2018-02-28 23:50:00+00:00</td>\n",
       "      <td>7.593395</td>\n",
       "      <td>255.673829</td>\n",
       "      <td>94.0</td>\n",
       "      <td>6.99</td>\n",
       "    </tr>\n",
       "  </tbody>\n",
       "</table>\n",
       "<p>8157 rows × 5 columns</p>\n",
       "</div>"
      ],
      "text/plain": [
       "                       datetime        ws          wd  measured_production  \\\n",
       "60    2018-01-01 05:00:00+00:00  6.555662  197.591424                 52.0   \n",
       "62    2018-01-01 05:10:00+00:00  6.121590  198.373360                 58.0   \n",
       "64    2018-01-01 05:20:00+00:00  5.774725  199.061868                 56.0   \n",
       "66    2018-01-01 05:30:00+00:00  5.540386  201.817458                 58.0   \n",
       "68    2018-01-01 05:40:00+00:00  5.292899  208.860196                 52.0   \n",
       "...                         ...       ...         ...                  ...   \n",
       "16982 2018-02-28 23:10:00+00:00  5.352271  264.625933                 55.0   \n",
       "16984 2018-02-28 23:20:00+00:00  5.937176  260.259899                 80.0   \n",
       "16986 2018-02-28 23:30:00+00:00  6.383798  258.244048                 85.0   \n",
       "16988 2018-02-28 23:40:00+00:00  7.556836  254.577095                 88.0   \n",
       "16990 2018-02-28 23:50:00+00:00  7.593395  255.673829                 94.0   \n",
       "\n",
       "       measured_ws  \n",
       "60            5.92  \n",
       "62            6.01  \n",
       "64            5.96  \n",
       "66            6.01  \n",
       "68            5.82  \n",
       "...            ...  \n",
       "16982         5.91  \n",
       "16984         6.73  \n",
       "16986         6.61  \n",
       "16988         6.82  \n",
       "16990         6.99  \n",
       "\n",
       "[8157 rows x 5 columns]"
      ]
     },
     "execution_count": 21,
     "metadata": {},
     "output_type": "execute_result"
    }
   ],
   "source": [
    "analysis_df[~analysis_df['measured_ws'].isna()]"
   ]
  },
  {
   "cell_type": "markdown",
   "id": "6ccf0f74-be8c-4075-942c-95e369d3132f",
   "metadata": {},
   "source": [
    "Notes: \n",
    "Lots of different inputs\n",
    "naming convention\n",
    "file checking\n",
    "function in package\n",
    "check validation case (function) -> gets path dir, checks for all variables? \n",
    "does it have atmo. obstacles. \n",
    "checker within the for loop\n",
    "\n",
    "before we read the data\n",
    "what do we do with no obstacles? \n",
    "\n",
    "in each dir (each analysis case)-> lat, lon, and height\n",
    "some type of checking\n",
    "\n",
    "tangent: \n",
    "notebooks to always save intermediate results! \n",
    "have a naming convention \n",
    "organize the intermediate steps"
   ]
  }
 ],
 "metadata": {
  "kernelspec": {
   "display_name": "dw-tap",
   "language": "python",
   "name": "dw-tap"
  },
  "language_info": {
   "codemirror_mode": {
    "name": "ipython",
    "version": 3
   },
   "file_extension": ".py",
   "mimetype": "text/x-python",
   "name": "python",
   "nbconvert_exporter": "python",
   "pygments_lexer": "ipython3",
   "version": "3.8.16"
  }
 },
 "nbformat": 4,
 "nbformat_minor": 5
}
