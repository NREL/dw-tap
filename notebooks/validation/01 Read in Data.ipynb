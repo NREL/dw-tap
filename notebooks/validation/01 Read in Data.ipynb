{
 "cells": [
  {
   "cell_type": "markdown",
   "id": "3bab8044-dc83-4f81-bf09-696e98e65ebc",
   "metadata": {},
   "source": [
    "Jenna Ruzekowicz (jenna.ruzekowicz@nrel.gov) and Caleb Phillips (caleb.phillips@nrel.gov)\n",
    "\n",
    "The purpose of this notebook is to read in two sets of data over the same time period for comparison:\n",
    "1) WTK-LED data\n",
    "2) Either: \n",
    "    a) power output and/or wind speed data from turbine(s) \n",
    "    b) wind speed measurements from met tower(s)\n",
    "\n",
    "Data sets are matched on location and time stamp.\n",
    "\n",
    "A combined and labeled dataframe will be exported to a csv file in the \"01Data\" folder. The naming convention for the csv file will be as follows: source_lat_lon_startdate_enddate.csv\n",
    "where source is either \"bergey\", \"oneenergy\"..."
   ]
  },
  {
   "cell_type": "markdown",
   "id": "a7937986-f0b1-43df-b67f-8dca30581326",
   "metadata": {},
   "source": [
    "Notes: \n",
    "Might need to install Rex if it isn't installed already:\n",
    "conda install nrel-rex --channel=nrel\n",
    "\n",
    "More about rex: https://github.com/NREL/rex\n",
    "2018 5-min monthly h5 (the file you referenced on the 21st):\n",
    "/campaign/tap/CONUS/wtk/5min/2018/{month}/conus_2018-{month}.h5\n",
    " \n",
    "2018 5-min yearly h5 slices:\n",
    "/shared-projects/wtk-led/CONUS/wtk/2018/yearly_h5/conus_2018_{height}m.h5\n",
    " \n",
    "2019 60-min yearly h5:\n",
    "/campaign/tap/CONUS/wtk/60min/2019/conus_2019.h5"
   ]
  },
  {
   "cell_type": "code",
   "execution_count": 1,
   "id": "fe7c4a33-9905-4972-976c-ad8889aee0e9",
   "metadata": {},
   "outputs": [],
   "source": [
    "import numpy as np\n",
    "import pandas as pd\n",
    "import geopandas as gpd\n",
    "from rex.resource_extraction import MultiYearWindX\n",
    "from dw_tap.data_fetching import get_data_wtk_led_on_eagle"
   ]
  },
  {
   "cell_type": "markdown",
   "id": "3ecdf16c-33f8-43e9-bc76-b14aaa0e857b",
   "metadata": {},
   "source": [
    "Step 1) Read in either power output/wind speed data for wind turbine(s) or wind speed data from met tower(s)"
   ]
  },
  {
   "cell_type": "code",
   "execution_count": 18,
   "id": "7fcbd578-ccd1-440d-b92e-273806f6bd71",
   "metadata": {},
   "outputs": [],
   "source": [
    "#Reading in data from W1 turbine at Marion OH location (oneenergy turbine), 2018\n",
    "power_output_df = pd.read_excel(\"../../data/marion/turbine.oneenergy.00.20180131.000000.marion.w1.xlsx\", header=1, usecols=\"B, C, M\")\n",
    "power_output_df = pd.concat([power_output_df, pd.read_excel(\"../../data/marion/turbine.oneenergy.00.20180228.000000.marion.w1.xlsx\", header=1, usecols=\"B, C, M\")])\n",
    "power_output_df = pd.concat([power_output_df, pd.read_excel(\"../../data/marion/turbine.oneenergy.00.20180331.000000.marion.w1.xlsx\", header=1, usecols=\"B, C, M\")])\n",
    "power_output_df = pd.concat([power_output_df, pd.read_excel(\"../../data/marion/turbine.oneenergy.00.20180430.000000.marion.w1.xlsx\", header=1, usecols=\"B, C, M\")])\n",
    "power_output_df = pd.concat([power_output_df, pd.read_excel(\"../../data/marion/turbine.oneenergy.00.20180531.000000.marion.w1.xlsx\", header=1, usecols=\"B, C, M\")])\n",
    "power_output_df = pd.concat([power_output_df, pd.read_excel(\"../../data/marion/turbine.oneenergy.00.20180630.000000.marion.w1.xlsx\", header=1, usecols=\"B, C, M\")])\n",
    "power_output_df = pd.concat([power_output_df, pd.read_excel(\"../../data/marion/turbine.oneenergy.00.20180731.000000.marion.w1.xlsx\", header=1, usecols=\"B, C, M\")])\n",
    "power_output_df = pd.concat([power_output_df, pd.read_excel(\"../../data/marion/turbine.oneenergy.00.20180831.000000.marion.w1.xlsx\", header=1, usecols=\"B, C, M\")])\n",
    "power_output_df = pd.concat([power_output_df, pd.read_excel(\"../../data/marion/turbine.oneenergy.00.20180930.000000.marion.w1.xlsx\", header=1, usecols=\"B, C, M\")])\n",
    "power_output_df = pd.concat([power_output_df, pd.read_excel(\"../../data/marion/turbine.oneenergy.00.20181031.000000.marion.w1.xlsx\", header=1, usecols=\"B, C, M\")])\n",
    "power_output_df = pd.concat([power_output_df, pd.read_excel(\"../../data/marion/turbine.oneenergy.00.20181130.000000.marion.w1.xlsx\", header=1, usecols=\"B, C, M\")])\n",
    "power_output_df = pd.concat([power_output_df, pd.read_excel(\"../../data/marion/turbine.oneenergy.00.20181231.000000.marion.w1.xlsx\", header=1, usecols=\"B, C, M\")])\n",
    "power_output_df.rename(columns={'Time':'timestamp', 'Wind Turbine Energy yield(kWh)':'measured_production', 'Avg Wind Speed(m/s)':'measured_ws'}, inplace=True)"
   ]
  },
  {
   "cell_type": "code",
   "execution_count": 19,
   "id": "66bd99b9-ddde-4070-a5f5-529b6b92563d",
   "metadata": {},
   "outputs": [
    {
     "name": "stdout",
     "output_type": "stream",
     "text": [
      "               timestamp  measured_ws  measured_production\n",
      "0    2018-01-01 00:00:00         5.92                   52\n",
      "1    2018-01-01 00:10:00         6.01                   58\n",
      "2    2018-01-01 00:20:00         5.96                   56\n",
      "3    2018-01-01 00:30:00         6.01                   58\n",
      "4    2018-01-01 00:40:00         5.82                   52\n",
      "...                  ...          ...                  ...\n",
      "4459 2018-12-31 23:10:00        15.02                    0\n",
      "4460 2018-12-31 23:20:00        12.81                    0\n",
      "4461 2018-12-31 23:30:00        13.63                    0\n",
      "4462 2018-12-31 23:40:00        11.48                    0\n",
      "4463 2018-12-31 23:50:00        11.10                    0\n",
      "\n",
      "[51417 rows x 3 columns]\n"
     ]
    }
   ],
   "source": [
    "print(power_output_df)"
   ]
  },
  {
   "cell_type": "code",
   "execution_count": null,
   "id": "30eed2ae-6b20-4837-aa3a-4c7b5e74d0ea",
   "metadata": {},
   "outputs": [],
   "source": []
  }
 ],
 "metadata": {
  "kernelspec": {
   "display_name": "dw-tap",
   "language": "python",
   "name": "dw-tap"
  },
  "language_info": {
   "codemirror_mode": {
    "name": "ipython",
    "version": 3
   },
   "file_extension": ".py",
   "mimetype": "text/x-python",
   "name": "python",
   "nbconvert_exporter": "python",
   "pygments_lexer": "ipython3",
   "version": "3.8.16"
  }
 },
 "nbformat": 4,
 "nbformat_minor": 5
}
