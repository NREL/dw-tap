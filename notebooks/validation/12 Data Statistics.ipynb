{
 "cells": [
  {
   "cell_type": "markdown",
   "id": "1f59f1c2",
   "metadata": {},
   "source": [
    "## Data Statistics\n",
    "\n",
    "Caleb Phillips (caleb.phillips@nrel.gov)\n",
    "\n",
    "Some statistics on our datasets for the data table in the paper"
   ]
  },
  {
   "cell_type": "code",
   "execution_count": 1,
   "id": "9c63dbfe",
   "metadata": {},
   "outputs": [],
   "source": [
    "from common import *\n",
    "import pandas as pd\n",
    "import site_index"
   ]
  },
  {
   "cell_type": "markdown",
   "id": "8b5caf10",
   "metadata": {},
   "source": [
    "## Bergey"
   ]
  },
  {
   "cell_type": "code",
   "execution_count": 2,
   "id": "af6a44ac",
   "metadata": {},
   "outputs": [
    {
     "data": {
      "text/plain": [
       "19"
      ]
     },
     "execution_count": 2,
     "metadata": {},
     "output_type": "execute_result"
    }
   ],
   "source": [
    "index = site_index.SiteIndex()\n",
    "len(index.index)"
   ]
  },
  {
   "cell_type": "code",
   "execution_count": 4,
   "id": "e5b48452",
   "metadata": {},
   "outputs": [
    {
     "data": {
      "text/plain": [
       "67189"
      ]
     },
     "execution_count": 4,
     "metadata": {},
     "output_type": "execute_result"
    }
   ],
   "source": [
    "daily_bergey = pd.read_csv(\"01 Bergey Turbine Data/daily_summaries.csv.bz2\")\n",
    "len(daily_bergey)"
   ]
  },
  {
   "cell_type": "code",
   "execution_count": 5,
   "id": "b63dc9e4",
   "metadata": {},
   "outputs": [
    {
     "data": {
      "text/plain": [
       "6408068"
      ]
     },
     "execution_count": 5,
     "metadata": {},
     "output_type": "execute_result"
    }
   ],
   "source": [
    "bergey_ts = pd.read_csv(\"01 Bergey Turbine Data/prepared_and_combined.csv.bz2\")\n",
    "len(bergey_ts)"
   ]
  },
  {
   "cell_type": "code",
   "execution_count": 6,
   "id": "131dd3c6",
   "metadata": {},
   "outputs": [
    {
     "data": {
      "text/plain": [
       "'2010-04-01'"
      ]
     },
     "execution_count": 6,
     "metadata": {},
     "output_type": "execute_result"
    }
   ],
   "source": [
    "daily_bergey['date'].min()"
   ]
  },
  {
   "cell_type": "code",
   "execution_count": 7,
   "id": "abb97bb3",
   "metadata": {},
   "outputs": [
    {
     "data": {
      "text/plain": [
       "'2023-03-28'"
      ]
     },
     "execution_count": 7,
     "metadata": {},
     "output_type": "execute_result"
    }
   ],
   "source": [
    "daily_bergey['date'].max()"
   ]
  },
  {
   "cell_type": "markdown",
   "id": "b6bc3f63",
   "metadata": {},
   "source": [
    "## 3D Buildings"
   ]
  },
  {
   "cell_type": "code",
   "execution_count": 38,
   "id": "7135d83c",
   "metadata": {},
   "outputs": [
    {
     "data": {
      "text/plain": [
       "2463"
      ]
     },
     "execution_count": 38,
     "metadata": {},
     "output_type": "execute_result"
    }
   ],
   "source": [
    "import fiona\n",
    "obstacle_data_dir = \"01 Bergey Turbine Data/3dbuildings_geojson\"\n",
    "n_buildings = 0\n",
    "n_vertices = 0\n",
    "all_buildings = []\n",
    "for tid in index.tids():\n",
    "    buildings = fiona.open(\"%s/%s.json\" % (obstacle_data_dir,tid))\n",
    "    n_buildings = n_buildings + len(buildings)\n",
    "    for b in buildings:\n",
    "        n_vertices = n_vertices + np.sum([len(x) for x in b['geometry']['coordinates']])\n",
    "    all_buildings.append(buildings)\n",
    "    \n",
    "n_buildings"
   ]
  },
  {
   "cell_type": "code",
   "execution_count": 39,
   "id": "479f5c07",
   "metadata": {},
   "outputs": [
    {
     "data": {
      "text/plain": [
       "17068"
      ]
     },
     "execution_count": 39,
     "metadata": {},
     "output_type": "execute_result"
    }
   ],
   "source": [
    "n_vertices"
   ]
  },
  {
   "cell_type": "code",
   "execution_count": 21,
   "id": "65c3d834",
   "metadata": {},
   "outputs": [
    {
     "data": {
      "text/plain": [
       "187"
      ]
     },
     "execution_count": 21,
     "metadata": {},
     "output_type": "execute_result"
    }
   ],
   "source": [
    "annotated_buildings = fiona.open(\"%s/all_obstacles.json\" % (obstacle_data_dir))\n",
    "len(annotated_buildings) - n_buildings"
   ]
  },
  {
   "cell_type": "code",
   "execution_count": 37,
   "id": "cbf3aecf",
   "metadata": {},
   "outputs": [
    {
     "data": {
      "text/plain": [
       "17"
      ]
     },
     "execution_count": 37,
     "metadata": {},
     "output_type": "execute_result"
    }
   ],
   "source": [
    "np.sum([len(x) for x in annotated_buildings[0]['geometry']['coordinates']])"
   ]
  },
  {
   "cell_type": "markdown",
   "id": "2f16bd00",
   "metadata": {},
   "source": [
    "## Met Tower Data"
   ]
  },
  {
   "cell_type": "code",
   "execution_count": 55,
   "id": "4b28d8a3",
   "metadata": {},
   "outputs": [
    {
     "name": "stdout",
     "output_type": "stream",
     "text": [
      "Skip\n",
      "Skip\n",
      "Skip\n",
      "Skip\n",
      "Skip\n",
      "Skip\n",
      "Skip\n",
      "Skip\n",
      "Skip\n",
      "Skip\n"
     ]
    },
    {
     "data": {
      "text/plain": [
       "9"
      ]
     },
     "execution_count": 55,
     "metadata": {},
     "output_type": "execute_result"
    }
   ],
   "source": [
    "n_bc_sites = 0\n",
    "n_bc_datapoints = 0\n",
    "min_time = None\n",
    "max_time = None\n",
    "\n",
    "for tid in index.tids():\n",
    "    minfo = index.lookup_by_tid(tid)\n",
    "    mfile = minfo[\"Met Tower\"]\n",
    "    try:\n",
    "        mdf = pd.read_csv(\"02 Bias Correction/%s\" % mfile)\n",
    "        n_bc_sites += 1\n",
    "        n_bc_datapoints += len(mdf)\n",
    "        dt = pd.to_datetime(mdf['Time'])\n",
    "        if (min_time is None) or (dt.min() < min_time):\n",
    "            min_time = dt.min()\n",
    "        if (max_time is None) or (dt.max() > max_time):\n",
    "            max_time = dt.max()\n",
    "    except:\n",
    "        print(\"Skip\")\n",
    "\n",
    "n_bc_sites"
   ]
  },
  {
   "cell_type": "code",
   "execution_count": 52,
   "id": "1ff19b0a",
   "metadata": {},
   "outputs": [
    {
     "data": {
      "text/plain": [
       "1529931"
      ]
     },
     "execution_count": 52,
     "metadata": {},
     "output_type": "execute_result"
    }
   ],
   "source": [
    "n_bc_datapoints"
   ]
  },
  {
   "cell_type": "code",
   "execution_count": 56,
   "id": "301a8e06",
   "metadata": {},
   "outputs": [
    {
     "data": {
      "text/plain": [
       "[Timestamp('2005-01-01 04:00:00'), Timestamp('2021-12-31 23:00:00')]"
      ]
     },
     "execution_count": 56,
     "metadata": {},
     "output_type": "execute_result"
    }
   ],
   "source": [
    "[min_time,max_time]"
   ]
  },
  {
   "cell_type": "markdown",
   "id": "b24ad3e2",
   "metadata": {},
   "source": [
    "## WTK"
   ]
  },
  {
   "cell_type": "code",
   "execution_count": 57,
   "id": "44b613bc",
   "metadata": {},
   "outputs": [
    {
     "data": {
      "text/plain": [
       "1165992"
      ]
     },
     "execution_count": 57,
     "metadata": {},
     "output_type": "execute_result"
    }
   ],
   "source": [
    "wtk = pd.read_csv(\"01 Bergey Turbine Data/wtk.csv.bz2\")\n",
    "len(wtk)"
   ]
  },
  {
   "cell_type": "code",
   "execution_count": 58,
   "id": "4285e928",
   "metadata": {},
   "outputs": [
    {
     "data": {
      "text/plain": [
       "2163720"
      ]
     },
     "execution_count": 58,
     "metadata": {},
     "output_type": "execute_result"
    }
   ],
   "source": [
    "wtk_led_2018 = pd.read_csv(\"01 Bergey Turbine Data/wtk_led_2018.csv.bz2\")\n",
    "wtk_led_2019 = pd.read_csv(\"01 Bergey Turbine Data/wtk_led_2019.csv.bz2\")\n",
    "len(wtk_led_2018) + len(wtk_led_2019)"
   ]
  },
  {
   "cell_type": "code",
   "execution_count": 60,
   "id": "1e459b4a",
   "metadata": {},
   "outputs": [
    {
     "data": {
      "text/plain": [
       "613680"
      ]
     },
     "execution_count": 60,
     "metadata": {},
     "output_type": "execute_result"
    }
   ],
   "source": [
    "wtk_bc = pd.read_csv(\"02 Bias Correction/wtk_met.csv.bz2\")\n",
    "len(wtk_bc)"
   ]
  },
  {
   "cell_type": "code",
   "execution_count": 61,
   "id": "00095120",
   "metadata": {},
   "outputs": [
    {
     "data": {
      "text/plain": [
       "1024920"
      ]
     },
     "execution_count": 61,
     "metadata": {},
     "output_type": "execute_result"
    }
   ],
   "source": [
    "wtk_led2018_bc = pd.read_csv(\"02 Bias Correction/wtk_led_2018_met.csv.bz2\")\n",
    "wtk_led2019_bc = pd.read_csv(\"02 Bias Correction/wtk_led_2019_met.csv.bz2\")\n",
    "len(wtk_led2018_bc) + len(wtk_led2019_bc)"
   ]
  },
  {
   "cell_type": "code",
   "execution_count": 62,
   "id": "6f9877f4",
   "metadata": {},
   "outputs": [
    {
     "data": {
      "text/plain": [
       "['2007-01-01 00:00:00', '2013-12-31 23:00:00']"
      ]
     },
     "execution_count": 62,
     "metadata": {},
     "output_type": "execute_result"
    }
   ],
   "source": [
    "[wtk['datetime'].min(),wtk['datetime'].max()]"
   ]
  }
 ],
 "metadata": {
  "kernelspec": {
   "display_name": "Python 3 (ipykernel)",
   "language": "python",
   "name": "python3"
  },
  "language_info": {
   "codemirror_mode": {
    "name": "ipython",
    "version": 3
   },
   "file_extension": ".py",
   "mimetype": "text/x-python",
   "name": "python",
   "nbconvert_exporter": "python",
   "pygments_lexer": "ipython3",
   "version": "3.8.16"
  },
  "vscode": {
   "interpreter": {
    "hash": "31f2aee4e71d21fbe5cf8b01ff0e069b9275f58929596ceb00d14d90e3e16cd6"
   }
  }
 },
 "nbformat": 4,
 "nbformat_minor": 5
}
